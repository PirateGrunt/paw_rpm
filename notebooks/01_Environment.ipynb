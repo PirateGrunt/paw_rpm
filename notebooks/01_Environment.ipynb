{
 "cells": [
  {
   "cell_type": "markdown",
   "metadata": {},
   "source": [
    "# Environment, First Steps"
   ]
  },
  {
   "cell_type": "markdown",
   "metadata": {},
   "source": [
    "https://docs.python.org/3/\n",
    "\n",
    "https://docs.python.org/3/library/functions.html"
   ]
  },
  {
   "cell_type": "markdown",
   "metadata": {},
   "source": [
    "\n",
    "## Built-in Functions\n",
    "\n",
    "| 1 to 14       | 15 to 28    | 29 to 42     | 56 to 70     | 71 to 83       |\n",
    "|:--------------|:------------|:-------------|:-------------|:---------------|\n",
    "| abs()         | delattr()   | hash()       | memoryview() | set()          |\n",
    "| all()         | dict()      | help()       | min()        | setattr()      |\n",
    "| any()         | dir()       | hex()        | next()       | slice()        |\n",
    "| ascii()       | divmod()    | id()         | object()     | sorted()       |\n",
    "| bin()         | enumerate() | input()      | oct()        | staticmethod() |\n",
    "| bool()        | eval()      | int()        | open()       | str()          |\n",
    "| breakpoint()  | exec()      | isinstance() | ord()        | sum()          |\n",
    "| bytearray()   | filter()    | issubclass() | pow()        | super()        |\n",
    "| bytes()       | float()     | iter()       | print()      | tuple()        |\n",
    "| callable()    | format()    | len()        | property()   | type()         |\n",
    "| chr()         | frozenset() | list()       | range()      | vars()         |\n",
    "| classmethod() | getattr()   | locals()     | repr()       | zip()          |\n",
    "| compile()     | globals()   | map()        | reversed()   | __import__()   |\n",
    "| complex()     | hasattr()   | max()        | round()      |                |\n",
    " "
   ]
  },
  {
   "cell_type": "markdown",
   "metadata": {},
   "source": [
    "## The most useful function \n",
    "* ```help()```\n",
    "\n",
    "Access in Jupyter via ?\n",
    "\n",
    "    ?print\n",
    "    \n",
    "    Docstring:\n",
    "    print(value, ..., sep=' ', end='\\n', file=sys.stdout, flush=False)\n",
    "\n",
    "    Prints the values to a stream, or to sys.stdout by default.\n",
    "    Optional keyword arguments:\n",
    "    file:  a file-like object (stream); defaults to the current sys.stdout.\n",
    "    sep:   string inserted between values, default a space.\n",
    "    end:   string appended after the last value, default a newline.\n",
    "    flush: whether to forcibly flush the stream.\n",
    "    Type:      builtin_function_or_method"
   ]
  },
  {
   "cell_type": "markdown",
   "metadata": {},
   "source": [
    "## Expected...math related functions \n",
    "* ```abs()```\n",
    "* ```divmod()```\n",
    "* ```max()```\n",
    "* ```min()```\n",
    "* ```round()```\n",
    "* ```pow()```\n",
    "* ```sum()```\n",
    "\n",
    "Surprising there is no ```exp```, ```log```, ```sin```, etc. "
   ]
  },
  {
   "cell_type": "markdown",
   "metadata": {},
   "source": [
    "## Logical operators \n",
    "* ```all()```\n",
    "* ```any()```\n",
    "* ```bool()```\n",
    "* ```filter()```"
   ]
  },
  {
   "cell_type": "markdown",
   "metadata": {},
   "source": [
    "## Types and type conversion \n",
    "* ```ascii()```\n",
    "* ```bin()```\n",
    "* ```bytearray()```\n",
    "* ```bytes()```\n",
    "* ```chr()```\n",
    "* ```complex()```\n",
    "* ```float()```\n",
    "* ```format()```\n",
    "* ```hex()```\n",
    "* ```int()```\n",
    "* ```oct()```\n",
    "* ```ord()```\n",
    "* ```str()```"
   ]
  },
  {
   "cell_type": "markdown",
   "metadata": {},
   "source": [
    "## Python special types \n",
    "\n",
    "* ```dict()```\n",
    "* ```dir()```\n",
    "* ```len()```\n",
    "* ```list()```\n",
    "* ```range()```\n",
    "* ```reversed()```\n",
    "* ```set()```\n",
    "* ```slice()```\n",
    "* ```sorted()```\n",
    "* ```tuple()```"
   ]
  },
  {
   "cell_type": "markdown",
   "metadata": {},
   "source": [
    "## Who knows? \n",
    "* ```breakpoint()```\n",
    "* ```callable()```\n",
    "* ```classmethod()```\n",
    "* ```compile()```\n",
    "* ```delattr()```\n",
    "* ```enumerate()```\n",
    "* ```eval()```\n",
    "* ```exec()```\n",
    "* ```getattr()```\n",
    "* ```globals()```\n",
    "* ```frozenset()```\n",
    "* ```hasattr()```\n",
    "* ```hash()```\n",
    "* ```id()```\n",
    "* ```isinstance()```\n",
    "* ```issubclass()```\n",
    "* ```iter()```\n",
    "* ```input()```\n",
    "* ```locals()```\n",
    "* ```map()```\n",
    "* ```memoryview()```\n",
    "* ```next()```\n",
    "* ```object()```\n",
    "* ```open()```\n",
    "* ```print()```\n",
    "* ```property()```\n",
    "* ```repr()```\n",
    "* ```setattr()```\n",
    "* ```staticmethod()```\n",
    "* ```super()```\n",
    "* ```type()```\n",
    "* ```vars()```\n",
    "* ```zip()```\n",
    "* ```__import__()```"
   ]
  },
  {
   "cell_type": "code",
   "execution_count": null,
   "metadata": {},
   "outputs": [],
   "source": []
  },
  {
   "cell_type": "code",
   "execution_count": null,
   "metadata": {},
   "outputs": [],
   "source": []
  }
 ],
 "metadata": {
  "kernelspec": {
   "display_name": "Python 3",
   "language": "python",
   "name": "python3"
  },
  "language_info": {
   "codemirror_mode": {
    "name": "ipython",
    "version": 3
   },
   "file_extension": ".py",
   "mimetype": "text/x-python",
   "name": "python",
   "nbconvert_exporter": "python",
   "pygments_lexer": "ipython3",
   "version": "3.6.3"
  }
 },
 "nbformat": 4,
 "nbformat_minor": 2
}
