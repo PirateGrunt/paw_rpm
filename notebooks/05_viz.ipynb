{
 "cells": [
  {
   "cell_type": "markdown",
   "metadata": {},
   "source": [
    "# Data visualization"
   ]
  },
  {
   "cell_type": "code",
   "execution_count": 28,
   "metadata": {},
   "outputs": [],
   "source": [
    "import pandas as pd\n",
    "url_ca = 'https://www.casact.org/research/reserve_data/comauto_pos.csv'\n",
    "\n",
    "df_ca = pd.read_csv(url_ca)"
   ]
  },
  {
   "cell_type": "code",
   "execution_count": 29,
   "metadata": {},
   "outputs": [],
   "source": [
    "# Get some prior amounts and incrementals\n",
    "df_ca_gb = df_ca.sort_values(\n",
    "        by = ['GRNAME', 'AccidentYear', 'DevelopmentLag']\n",
    "    ).groupby(\n",
    "        ['AccidentYear', 'GRNAME']\n",
    "    )\n",
    "df_ca['prior_paid'] = df_ca_gb['CumPaidLoss_C'].shift(1)\n",
    "df_ca['prior_incurred'] = df_ca_gb['IncurLoss_C'].shift(1)\n",
    "\n",
    "df_ca['incremental_paid'] = df_ca['CumPaidLoss_C'] - df_ca['prior_paid']\n",
    "df_ca['incremental_incurred'] = df_ca['IncurLoss_C'] - df_ca['prior_incurred']"
   ]
  },
  {
   "cell_type": "code",
   "execution_count": 34,
   "metadata": {},
   "outputs": [
    {
     "data": {
      "text/plain": [
       "(100, 17)"
      ]
     },
     "execution_count": 34,
     "metadata": {},
     "output_type": "execute_result"
    }
   ],
   "source": [
    "df_one = df_ca.query(\n",
    "      'GRNAME.str.contains(\"State Farm\")'\n",
    "    , engine = 'python'\n",
    ")\n",
    "\n",
    "df_one.shape"
   ]
  },
  {
   "cell_type": "code",
   "execution_count": null,
   "metadata": {},
   "outputs": [],
   "source": [
    "df_one"
   ]
  },
  {
   "cell_type": "markdown",
   "metadata": {},
   "source": [
    "## Matplotlib\n",
    "\n",
    "* Very common library, good starting point\n",
    "* Comparable to base R\n",
    "* Gets the job done, lets you get on with your life\n",
    "* Not super pretty"
   ]
  },
  {
   "cell_type": "code",
   "execution_count": null,
   "metadata": {},
   "outputs": [],
   "source": [
    "from matplotlib import pyplot as plt"
   ]
  },
  {
   "cell_type": "markdown",
   "metadata": {},
   "source": [
    "### Magic commands\n",
    "\n",
    "https://ipython.readthedocs.io/en/stable/interactive/magics.html#magic-matplotlib"
   ]
  },
  {
   "cell_type": "code",
   "execution_count": null,
   "metadata": {},
   "outputs": [],
   "source": [
    "# tell Jupyter to plot graphs\n",
    "# %matplotlib inline"
   ]
  },
  {
   "cell_type": "markdown",
   "metadata": {},
   "source": [
    "### Scatterplot"
   ]
  },
  {
   "cell_type": "code",
   "execution_count": null,
   "metadata": {},
   "outputs": [],
   "source": [
    "df_1988 = df_one[df_one['AccidentYear'] == 1988]"
   ]
  },
  {
   "cell_type": "code",
   "execution_count": null,
   "metadata": {},
   "outputs": [],
   "source": [
    "plt.plot(\n",
    "      df_1988['DevelopmentLag']\n",
    "    , df_1988['BulkLoss_C']\n",
    ")"
   ]
  },
  {
   "cell_type": "code",
   "execution_count": null,
   "metadata": {},
   "outputs": [],
   "source": [
    "plt.plot(\n",
    "      'DevelopmentLag'\n",
    "    , 'BulkLoss_C'\n",
    "    , data = df_1988\n",
    ")"
   ]
  },
  {
   "cell_type": "markdown",
   "metadata": {},
   "source": [
    "Change some visual characteristics with function arguments.\n",
    "\n",
    "Decorate the plot with functions like `title()` and `ylabel()`"
   ]
  },
  {
   "cell_type": "code",
   "execution_count": null,
   "metadata": {
    "scrolled": true
   },
   "outputs": [],
   "source": [
    "plt.plot(\n",
    "      'DevelopmentLag'\n",
    "    , 'BulkLoss_C'\n",
    "    , data = df_1988\n",
    "    , color = 'red'\n",
    "    , marker = 'o'\n",
    "    , linestyle = 'dashed'\n",
    ")\n"
   ]
  },
  {
   "cell_type": "code",
   "execution_count": null,
   "metadata": {},
   "outputs": [],
   "source": [
    "plt.plot(\n",
    "      'DevelopmentLag'\n",
    "    , 'BulkLoss_C'\n",
    "    , 'ro--'\n",
    "    , data = df_1988\n",
    ")"
   ]
  },
  {
   "cell_type": "code",
   "execution_count": null,
   "metadata": {},
   "outputs": [],
   "source": [
    "plt.plot(\n",
    "      'DevelopmentLag'\n",
    "    , 'BulkLoss_C'\n",
    "    , 'ro--'\n",
    "    , data = df_1988\n",
    ")\n",
    "plt.title('IBNR by AY')\n",
    "plt.xlabel('Accident Year')\n",
    "plt.ylabel(\"IBNR ($000s)\")"
   ]
  },
  {
   "cell_type": "markdown",
   "metadata": {},
   "source": [
    "### Multiple series"
   ]
  },
  {
   "cell_type": "code",
   "execution_count": null,
   "metadata": {},
   "outputs": [],
   "source": [
    "plt.plot(\n",
    "      df_1988['DevelopmentLag']\n",
    "    , df_1988['incremental_paid']\n",
    "    , 'ro'\n",
    "    , df_1988['DevelopmentLag']\n",
    "    , df_1988['incremental_incurred']\n",
    "    , 'bo'\n",
    ")"
   ]
  },
  {
   "cell_type": "code",
   "execution_count": null,
   "metadata": {},
   "outputs": [],
   "source": [
    "plt.plot(\n",
    "      'DevelopmentLag'\n",
    "    , 'incremental_paid'\n",
    "    , 'ro'\n",
    "    , data = df_1988\n",
    ")\n",
    "plt.plot(\n",
    "      'DevelopmentLag'\n",
    "    , 'incremental_incurred'\n",
    "    , 'bo'\n",
    "    , data = df_1988\n",
    ")"
   ]
  },
  {
   "cell_type": "markdown",
   "metadata": {},
   "source": [
    "### Styling"
   ]
  },
  {
   "cell_type": "code",
   "execution_count": null,
   "metadata": {},
   "outputs": [],
   "source": [
    "plt.style.use('ggplot')\n",
    "plt.plot(\n",
    "      'DevelopmentLag'\n",
    "    , 'BulkLoss_C'\n",
    "    , data = df_1988\n",
    ")"
   ]
  },
  {
   "cell_type": "code",
   "execution_count": null,
   "metadata": {},
   "outputs": [],
   "source": [
    "plt.style.available"
   ]
  },
  {
   "cell_type": "code",
   "execution_count": null,
   "metadata": {},
   "outputs": [],
   "source": [
    "plt.style.use('fivethirtyeight')\n",
    "plt.plot(\n",
    "      'DevelopmentLag'\n",
    "    , 'BulkLoss_C'\n",
    "    , data = df_1988\n",
    ")\n",
    "\n",
    "plt.style.use('default')"
   ]
  },
  {
   "cell_type": "code",
   "execution_count": null,
   "metadata": {},
   "outputs": [],
   "source": [
    "# if you like TeX\n",
    "import numpy as np\n",
    "xs = np.linspace(1/10000, .5, 10000)\n",
    "ys = np.sin(1/xs)\n",
    "plt.plot(xs, ys, linewidth=0.5, label='For legend')\n",
    "plt.gca().set(title='Graph of $\\sin(x^{-1})$)')\n",
    "plt.legend(title='Legend Title')"
   ]
  },
  {
   "cell_type": "markdown",
   "metadata": {},
   "source": [
    "## Other Options\n",
    "\n",
    "Task | Solution | \n",
    ":--|:--|\n",
    "Format axis labels | Tough\n",
    "Control y-axis limits | xlim, ylim | \n",
    "suppress line | linestyle='' \n",
    "multiple series | plot(x,y, a, b) etc. or sequential plots \n",
    "suppress marker |  marker=''\n",
    "marker labels | label='asdf' and add plt.legend()"
   ]
  },
  {
   "cell_type": "markdown",
   "metadata": {},
   "source": [
    "## Seaborn\n",
    "\n",
    "* Wrapper around matplotlib to make life easier\n",
    "* Smells a little like ggplot2\n",
    "* Nice support for basic statistical visualization\n",
    "\n",
    "> If matplotlib tries to make easy things easy and hard things possible, seaborn tries to make a well-defined set of hard things easy too. \n",
    "  (Michael Waskom, *Introduction to Seaborn*)"
   ]
  },
  {
   "cell_type": "code",
   "execution_count": null,
   "metadata": {},
   "outputs": [],
   "source": [
    "import seaborn as sns\n",
    "# need searborn 0.9.0 or later for relplot\n",
    "\n",
    "sns.set()\n",
    "sns.relplot(\n",
    "      x = \"DevelopmentLag\"\n",
    "    , y = \"CumPaidLoss_C\"\n",
    "    , hue = \"AccidentYear\"\n",
    "    , data = df_one\n",
    "    , kind = 'line'\n",
    ")"
   ]
  },
  {
   "cell_type": "code",
   "execution_count": null,
   "metadata": {},
   "outputs": [],
   "source": [
    "sns.relplot(\n",
    "      x = \"DevelopmentLag\"\n",
    "    , y = \"CumPaidLoss_C\"\n",
    "    , hue = \"AccidentYear\"\n",
    "    , markers = True\n",
    "    , kind = 'line'\n",
    "    , data = df_one\n",
    ")"
   ]
  },
  {
   "cell_type": "code",
   "execution_count": null,
   "metadata": {},
   "outputs": [],
   "source": [
    "sns.relplot(\n",
    "      x = \"DevelopmentLag\"\n",
    "    , y = \"CumPaidLoss_C\"\n",
    "    , units = \"AccidentYear\"\n",
    "    , markers = True\n",
    "    , kind = 'line'\n",
    "    , data = df_one\n",
    "    , estimator = None\n",
    ")"
   ]
  },
  {
   "cell_type": "code",
   "execution_count": null,
   "metadata": {},
   "outputs": [],
   "source": [
    "sns.relplot(\n",
    "      x = \"DevelopmentLag\"\n",
    "    , y = \"CumPaidLoss_C\"\n",
    "    , data = df_one\n",
    "    , kind = 'line'\n",
    "    , col = \"AccidentYear\"\n",
    "    , col_wrap = 3\n",
    ")"
   ]
  },
  {
   "cell_type": "code",
   "execution_count": null,
   "metadata": {},
   "outputs": [],
   "source": [
    "sns.lmplot(\n",
    "      x = \"prior_paid\"\n",
    "    , y = \"incremental_paid\"\n",
    "    , data = df_one\n",
    ")"
   ]
  },
  {
   "cell_type": "code",
   "execution_count": null,
   "metadata": {},
   "outputs": [],
   "source": [
    "sns.lmplot(\n",
    "      x = \"prior_paid\"\n",
    "    , y = \"incremental_paid\"\n",
    "    , hue = 'DevelopmentLag'\n",
    "    , data = df_one\n",
    ")"
   ]
  },
  {
   "cell_type": "code",
   "execution_count": null,
   "metadata": {},
   "outputs": [],
   "source": [
    "sns.lmplot(\n",
    "      x = \"prior_paid\"\n",
    "    , y = \"incremental_paid\"\n",
    "    , hue = 'DevelopmentLag'\n",
    "    , data = df_one\n",
    "    , col = \"DevelopmentLag\"\n",
    "    , col_wrap = 3\n",
    ")"
   ]
  },
  {
   "cell_type": "code",
   "execution_count": null,
   "metadata": {},
   "outputs": [],
   "source": [
    "sns.residplot(\n",
    "      x = \"DevelopmentLag\"\n",
    "    , y = \"incremental_paid\"\n",
    "    , data = df_one)"
   ]
  },
  {
   "cell_type": "markdown",
   "metadata": {},
   "source": [
    "histogram?\n",
    "\n",
    "density plots?\n"
   ]
  },
  {
   "cell_type": "code",
   "execution_count": 43,
   "metadata": {},
   "outputs": [],
   "source": [
    "import numpy as np\n",
    "\n",
    "norms = np.random.normal(10, 1, 1000)"
   ]
  },
  {
   "cell_type": "code",
   "execution_count": 38,
   "metadata": {},
   "outputs": [
    {
     "name": "stderr",
     "output_type": "stream",
     "text": [
      "C:\\Users\\bfannin\\AppData\\Local\\Continuum\\anaconda3\\lib\\site-packages\\scipy\\stats\\stats.py:1713: FutureWarning: Using a non-tuple sequence for multidimensional indexing is deprecated; use `arr[tuple(seq)]` instead of `arr[seq]`. In the future this will be interpreted as an array index, `arr[np.array(seq)]`, which will result either in an error or a different result.\n",
      "  return np.add.reduce(sorted[indexer] * weights, axis=axis) / sumval\n"
     ]
    },
    {
     "data": {
      "text/plain": [
       "<matplotlib.axes._subplots.AxesSubplot at 0x254d447c4a8>"
      ]
     },
     "execution_count": 38,
     "metadata": {},
     "output_type": "execute_result"
    },
    {
     "data": {
      "image/png": "[encoded data removed]",
      "text/plain": [
       "<Figure size 640x480 with 1 Axes>"
      ]
     },
     "metadata": {},
     "output_type": "display_data"
    }
   ],
   "source": [
    "sns.distplot(norms)"
   ]
  },
  {
   "cell_type": "code",
   "execution_count": 44,
   "metadata": {},
   "outputs": [],
   "source": [
    "from math import exp\n",
    "\n",
    "exp_vec = np.vectorize(exp)\n",
    "log_norms = exp_vec(norms)"
   ]
  },
  {
   "cell_type": "code",
   "execution_count": 45,
   "metadata": {},
   "outputs": [
    {
     "data": {
      "text/plain": [
       "<matplotlib.axes._subplots.AxesSubplot at 0x254d447c668>"
      ]
     },
     "execution_count": 45,
     "metadata": {},
     "output_type": "execute_result"
    },
    {
     "data": {
      "image/png": "[encoded data removed]",
      "text/plain": [
       "<Figure size 640x480 with 1 Axes>"
      ]
     },
     "metadata": {},
     "output_type": "display_data"
    }
   ],
   "source": [
    "sns.distplot(log_norms)"
   ]
  },
  {
   "cell_type": "code",
   "execution_count": 50,
   "metadata": {},
   "outputs": [
    {
     "data": {
      "text/plain": [
       "<matplotlib.axes._subplots.AxesSubplot at 0x254d48050b8>"
      ]
     },
     "execution_count": 50,
     "metadata": {},
     "output_type": "execute_result"
    },
    {
     "data": {
      "image/png": "[encoded data removed]",
      "text/plain": [
       "<Figure size 640x480 with 1 Axes>"
      ]
     },
     "metadata": {},
     "output_type": "display_data"
    }
   ],
   "source": [
    "from scipy import stats\n",
    "\n",
    "sns.distplot(log_norms, kde = False, fit=stats.gamma)"
   ]
  },
  {
   "cell_type": "code",
   "execution_count": 52,
   "metadata": {},
   "outputs": [
    {
     "data": {
      "text/plain": [
       "<matplotlib.axes._subplots.AxesSubplot at 0x254d46b49b0>"
      ]
     },
     "execution_count": 52,
     "metadata": {},
     "output_type": "execute_result"
    },
    {
     "data": {
      "image/png": "[encoded data removed]",
      "text/plain": [
       "<Figure size 640x480 with 1 Axes>"
      ]
     },
     "metadata": {},
     "output_type": "display_data"
    }
   ],
   "source": [
    "sns.distplot(log_norms, kde = False, fit=stats.lognorm)"
   ]
  }
 ],
 "metadata": {
  "kernelspec": {
   "display_name": "Python 3",
   "language": "python",
   "name": "python3"
  },
  "language_info": {
   "codemirror_mode": {
    "name": "ipython",
    "version": 3
   },
   "file_extension": ".py",
   "mimetype": "text/x-python",
   "name": "python",
   "nbconvert_exporter": "python",
   "pygments_lexer": "ipython3",
   "version": "3.7.1"
  }
 },
 "nbformat": 4,
 "nbformat_minor": 2
}
