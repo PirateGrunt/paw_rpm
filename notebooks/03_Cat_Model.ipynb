{
 "cells": [
  {
   "cell_type": "markdown",
   "metadata": {
    "colab_type": "text",
    "id": "8pPVhJe1M1ZG"
   },
   "source": [
    "# US Hurricane Catastrophe Model\n",
    "\n",
    "A very simple model of US hurricane exposure parameterized to observed event frequency 1851-2017 and a smattering of losses 1970-2017.\n",
    "\n",
    "* Frequency: Poisson(1.74)\n",
    "* Severity: lognormal($\\mu=19.595, \\sigma=2.581$)\n",
    "\n",
    "## Model Algorithm I \n",
    "\n",
    "    for year = 1 to N\n",
    "        simulate number of events E from Poisson(1.74)\n",
    "        for event_num = 1 to E\n",
    "            simulate loss L from Lognormal(mu, sigma)\n",
    "            store year, event_num, L\n",
    "\n",
    "## Model Algorithm II \n",
    "\n",
    "This method is more suited to a spreadsheet implementation. \n",
    "\n",
    "    time = 0\n",
    "    event_id = 0\n",
    "    last_year = 0\n",
    "    for event = 1 to N\n",
    "        simulate waiting time for event t from Exponential(1.74)\n",
    "        time = time + t\n",
    "        year = integer part of time\n",
    "        if year > last_year then event_id = 0, last_year = year\n",
    "        simulate loss L from Lognormal(mu, sigma)\n",
    "        store year, event_id, L\n",
    "        event_id = event_id + 1\n"
   ]
  },
  {
   "cell_type": "code",
   "execution_count": 18,
   "metadata": {
    "colab": {},
    "colab_type": "code",
    "id": "V-EHaF14--kx"
   },
   "outputs": [],
   "source": [
    "import numpy as np\n",
    "import scipy.stats as ss\n",
    "import matplotlib.pyplot as plt\n",
    "import pandas as pd\n",
    "import seaborn as sns\n",
    "%matplotlib inline\n",
    "sns.set(context='paper', style='darkgrid', font='sans')"
   ]
  },
  {
   "cell_type": "markdown",
   "metadata": {
    "colab_type": "text",
    "id": "omR7vzyQMtHn"
   },
   "source": [
    "## Claim Count Component\n",
    "\n",
    "Based on an analysis of landfalling hurricanes since 1851 we selected a Poisson(1.74) to model the number of hurricanes making landfall in the Continental US each year. \n",
    "\n",
    "The next few commands create a variable to represent this random variable. "
   ]
  },
  {
   "cell_type": "code",
   "execution_count": 15,
   "metadata": {
    "colab": {},
    "colab_type": "code",
    "id": "SjHzweX5_Cbq"
   },
   "outputs": [],
   "source": [
    "freq = 290 / 167\n",
    "poi = ss.poisson(freq)"
   ]
  },
  {
   "cell_type": "code",
   "execution_count": 16,
   "metadata": {
    "colab": {
     "base_uri": "https://localhost:8080/",
     "height": 34
    },
    "colab_type": "code",
    "id": "HbRa2YIo_F5e",
    "outputId": "2fee81b3-baac-47bf-b413-7034e93814cb"
   },
   "outputs": [
    {
     "data": {
      "text/plain": [
       "array([3, 1, 0, 2, 2, 0, 1, 3, 2, 1])"
      ]
     },
     "execution_count": 16,
     "metadata": {},
     "output_type": "execute_result"
    }
   ],
   "source": [
    "# simulate 10 random draws\n",
    "poi.rvs(10)"
   ]
  },
  {
   "cell_type": "code",
   "execution_count": 20,
   "metadata": {
    "colab": {
     "base_uri": "https://localhost:8080/",
     "height": 379
    },
    "colab_type": "code",
    "id": "UFQ5TNaE_Kg1",
    "outputId": "25a5a890-199a-4e8d-e5fd-09daeaa6a71f"
   },
   "outputs": [
    {
     "data": {
      "image/png": "[encoded data removed]",
      "text/plain": [
       "<Figure size 432x288 with 1 Axes>"
      ]
     },
     "metadata": {},
     "output_type": "display_data"
    }
   ],
   "source": [
    "# generate 100,000 draws and creates a histogram\n",
    "N = 100000\n",
    "temp = poi.rvs(N)\n",
    "plt.hist(temp, bins=np.arange(12), density=True)\n",
    "plt.title('Histogram of Model Frequency');"
   ]
  },
  {
   "cell_type": "code",
   "execution_count": 21,
   "metadata": {
    "colab": {
     "base_uri": "https://localhost:8080/",
     "height": 68
    },
    "colab_type": "code",
    "id": "CVHPzMifZ-gH",
    "outputId": "65afc7ae-dff0-4f63-9e78-4352e783f964"
   },
   "outputs": [
    {
     "data": {
      "text/plain": [
       "(array([0, 1, 2, 3, 4, 5, 6, 7, 8, 9]),\n",
       " array([17479, 30447, 26677, 15346,  6791,  2312,   707,   186,    44,\n",
       "           11], dtype=int64))"
      ]
     },
     "execution_count": 21,
     "metadata": {},
     "output_type": "execute_result"
    }
   ],
   "source": [
    "# can compute frequencies by hand \n",
    "unq = np.unique(temp, return_counts=True)\n",
    "unq"
   ]
  },
  {
   "cell_type": "code",
   "execution_count": 36,
   "metadata": {
    "colab": {},
    "colab_type": "code",
    "id": "a4Z0TQVA_Ngm"
   },
   "outputs": [],
   "source": [
    "# can compare with actual \n",
    "model = [np.exp(-freq)]\n",
    "for i in range(1,len(unq[0])):\n",
    "    model.append(model[i-1] * freq / i)\n",
    "model = np.array(model)"
   ]
  },
  {
   "cell_type": "code",
   "execution_count": 38,
   "metadata": {
    "colab": {
     "base_uri": "https://localhost:8080/",
     "height": 221
    },
    "colab_type": "code",
    "id": "YnXmuROvcUwb",
    "outputId": "7410e371-61ff-4b27-af17-b37b768546e4"
   },
   "outputs": [
    {
     "name": "stdout",
     "output_type": "stream",
     "text": [
      "    N Simulation           Model         Error\n",
      "    0\t  17,479\t17,613.1\t-0.008\n",
      "    1\t  30,447\t30,585.6\t-0.005\n",
      "    2\t  26,677\t26,556.4\t 0.005\n",
      "    3\t  15,346\t15,372.0\t-0.002\n",
      "    4\t   6,791\t 6,673.5\t 0.018\n",
      "    5\t   2,312\t 2,317.7\t-0.002\n",
      "    6\t     707\t   670.8\t 0.054\n",
      "    7\t     186\t   166.4\t 0.118\n",
      "    8\t      44\t    36.1\t 0.218\n",
      "    9\t      11\t     7.0\t 0.578\n"
     ]
    }
   ],
   "source": [
    "# compare with freqs\n",
    "print('    N Simulation           Model         Error')\n",
    "for i, s, m in zip(unq[0], unq[1], N*model):\n",
    "    print(f'{i:5d}\\t{s:8,d}\\t{m:8,.1f}\\t{s/m-1:6.3f}')\n"
   ]
  },
  {
   "cell_type": "code",
   "execution_count": 39,
   "metadata": {
    "colab": {
     "base_uri": "https://localhost:8080/",
     "height": 421
    },
    "colab_type": "code",
    "id": "bpxr_5C9F1Jr",
    "outputId": "1ea53ec5-79f9-40b4-aec7-20b91098e1b5"
   },
   "outputs": [
    {
     "data": {
      "text/html": [
       "<div>\n",
       "<style scoped>\n",
       "    .dataframe tbody tr th:only-of-type {\n",
       "        vertical-align: middle;\n",
       "    }\n",
       "\n",
       "    .dataframe tbody tr th {\n",
       "        vertical-align: top;\n",
       "    }\n",
       "\n",
       "    .dataframe thead th {\n",
       "        text-align: right;\n",
       "    }\n",
       "</style>\n",
       "<table border=\"1\" class=\"dataframe\">\n",
       "  <thead>\n",
       "    <tr style=\"text-align: right;\">\n",
       "      <th></th>\n",
       "      <th>Simulation</th>\n",
       "      <th>Model</th>\n",
       "      <th>Error</th>\n",
       "    </tr>\n",
       "    <tr>\n",
       "      <th>N</th>\n",
       "      <th></th>\n",
       "      <th></th>\n",
       "      <th></th>\n",
       "    </tr>\n",
       "  </thead>\n",
       "  <tbody>\n",
       "    <tr>\n",
       "      <th>0</th>\n",
       "      <td>0.17479</td>\n",
       "      <td>0.176131</td>\n",
       "      <td>-0.007614</td>\n",
       "    </tr>\n",
       "    <tr>\n",
       "      <th>1</th>\n",
       "      <td>0.30447</td>\n",
       "      <td>0.305856</td>\n",
       "      <td>-0.004533</td>\n",
       "    </tr>\n",
       "    <tr>\n",
       "      <th>2</th>\n",
       "      <td>0.26677</td>\n",
       "      <td>0.265564</td>\n",
       "      <td>0.004542</td>\n",
       "    </tr>\n",
       "    <tr>\n",
       "      <th>3</th>\n",
       "      <td>0.15346</td>\n",
       "      <td>0.153720</td>\n",
       "      <td>-0.001689</td>\n",
       "    </tr>\n",
       "    <tr>\n",
       "      <th>4</th>\n",
       "      <td>0.06791</td>\n",
       "      <td>0.066735</td>\n",
       "      <td>0.017614</td>\n",
       "    </tr>\n",
       "    <tr>\n",
       "      <th>5</th>\n",
       "      <td>0.02312</td>\n",
       "      <td>0.023177</td>\n",
       "      <td>-0.002471</td>\n",
       "    </tr>\n",
       "    <tr>\n",
       "      <th>6</th>\n",
       "      <td>0.00707</td>\n",
       "      <td>0.006708</td>\n",
       "      <td>0.053967</td>\n",
       "    </tr>\n",
       "    <tr>\n",
       "      <th>7</th>\n",
       "      <td>0.00186</td>\n",
       "      <td>0.001664</td>\n",
       "      <td>0.117730</td>\n",
       "    </tr>\n",
       "    <tr>\n",
       "      <th>8</th>\n",
       "      <td>0.00044</td>\n",
       "      <td>0.000361</td>\n",
       "      <td>0.218106</td>\n",
       "    </tr>\n",
       "    <tr>\n",
       "      <th>9</th>\n",
       "      <td>0.00011</td>\n",
       "      <td>0.000070</td>\n",
       "      <td>0.578287</td>\n",
       "    </tr>\n",
       "  </tbody>\n",
       "</table>\n",
       "</div>"
      ],
      "text/plain": [
       "   Simulation     Model     Error\n",
       "N                                \n",
       "0     0.17479  0.176131 -0.007614\n",
       "1     0.30447  0.305856 -0.004533\n",
       "2     0.26677  0.265564  0.004542\n",
       "3     0.15346  0.153720 -0.001689\n",
       "4     0.06791  0.066735  0.017614\n",
       "5     0.02312  0.023177 -0.002471\n",
       "6     0.00707  0.006708  0.053967\n",
       "7     0.00186  0.001664  0.117730\n",
       "8     0.00044  0.000361  0.218106\n",
       "9     0.00011  0.000070  0.578287"
      ]
     },
     "execution_count": 39,
     "metadata": {},
     "output_type": "execute_result"
    }
   ],
   "source": [
    "# or the same thing using pandas\n",
    "df = pd.DataFrame(dict(N=unq[0], Simulation=unq[1]/N, Model=model))\n",
    "df['Error'] = df.Simulation / df.Model - 1\n",
    "df = df.set_index(\"N\")\n",
    "df.index.name=\"N\"\n",
    "df"
   ]
  },
  {
   "cell_type": "code",
   "execution_count": 40,
   "metadata": {
    "colab": {
     "base_uri": "https://localhost:8080/",
     "height": 379
    },
    "colab_type": "code",
    "id": "2yzSmuZ6GgjK",
    "outputId": "3676134f-ad06-4861-9581-dc75abacb144"
   },
   "outputs": [
    {
     "data": {
      "text/plain": [
       "<matplotlib.axes._subplots.AxesSubplot at 0x2e88a89c748>"
      ]
     },
     "execution_count": 40,
     "metadata": {},
     "output_type": "execute_result"
    },
    {
     "data": {
      "image/png": "[encoded data removed]",
      "text/plain": [
       "<Figure size 432x288 with 1 Axes>"
      ]
     },
     "metadata": {},
     "output_type": "display_data"
    }
   ],
   "source": [
    "df[['Model', 'Simulation']].plot(kind='bar')"
   ]
  },
  {
   "cell_type": "markdown",
   "metadata": {
    "colab_type": "text",
    "id": "tTmKt3DYM7kp"
   },
   "source": [
    "## Severity Component\n",
    "\n",
    "Lognormal(mu, sigma)\n"
   ]
  },
  {
   "cell_type": "code",
   "execution_count": 41,
   "metadata": {
    "colab": {},
    "colab_type": "code",
    "id": "9u2vwfRUM8sj"
   },
   "outputs": [],
   "source": [
    "mu = 19.595\n",
    "sigma = 2.581"
   ]
  },
  {
   "cell_type": "code",
   "execution_count": 42,
   "metadata": {
    "colab": {},
    "colab_type": "code",
    "id": "NMGPA_A_M9Za"
   },
   "outputs": [],
   "source": [
    "# variable to simulate lognormals\n",
    "ln = ss.lognorm(sigma, scale=np.exp(mu))"
   ]
  },
  {
   "cell_type": "code",
   "execution_count": 43,
   "metadata": {
    "colab": {
     "base_uri": "https://localhost:8080/",
     "height": 34
    },
    "colab_type": "code",
    "id": "hIfhY0QydmY4",
    "outputId": "211100ac-1537-449d-9585-05984fca61d2"
   },
   "outputs": [
    {
     "data": {
      "text/plain": [
       "(array(9.04773693e+09), array(6.39150642e+22))"
      ]
     },
     "execution_count": 43,
     "metadata": {},
     "output_type": "execute_result"
    }
   ],
   "source": [
    "# mean and variance\n",
    "ln.stats('mv')"
   ]
  },
  {
   "cell_type": "code",
   "execution_count": 44,
   "metadata": {
    "colab": {},
    "colab_type": "code",
    "id": "BkJ4UWT4NvRK"
   },
   "outputs": [],
   "source": [
    "sample = ln.rvs(N)"
   ]
  },
  {
   "cell_type": "code",
   "execution_count": 45,
   "metadata": {
    "colab": {
     "base_uri": "https://localhost:8080/",
     "height": 34
    },
    "colab_type": "code",
    "id": "9M5lSaPMNx1r",
    "outputId": "8f992f28-242d-4170-bd06-5107f0cbbea4"
   },
   "outputs": [
    {
     "data": {
      "text/plain": [
       "array([8.27616927, 9.04773693, 9.04773693])"
      ]
     },
     "execution_count": 45,
     "metadata": {},
     "output_type": "execute_result"
    }
   ],
   "source": [
    "# compare sample mean with known mean of lognormal\n",
    "np.array((sample.mean(), np.exp(mu + sigma**2 / 2), ln.stats('m'))) / 1e9"
   ]
  },
  {
   "cell_type": "code",
   "execution_count": 46,
   "metadata": {
    "colab": {
     "base_uri": "https://localhost:8080/",
     "height": 349
    },
    "colab_type": "code",
    "id": "wz5l9f7LNvTa",
    "outputId": "8e82b811-54b5-42bb-f3d0-38a0ff9d669d"
   },
   "outputs": [
    {
     "data": {
      "image/png": "[encoded data removed]",
      "text/plain": [
       "<Figure size 432x288 with 1 Axes>"
      ]
     },
     "metadata": {},
     "output_type": "display_data"
    }
   ],
   "source": [
    "# histogram of log losses \n",
    "plt.hist(np.log(sample), density=True, bins=30);"
   ]
  },
  {
   "cell_type": "code",
   "execution_count": 47,
   "metadata": {
    "colab": {
     "base_uri": "https://localhost:8080/",
     "height": 461
    },
    "colab_type": "code",
    "id": "opxRKsN2NvVq",
    "outputId": "b0c0a004-3927-4ebd-ecb6-130595de06c8"
   },
   "outputs": [
    {
     "data": {
      "text/plain": [
       "((array([-4.34602155, -4.14724578, -4.03913009, ...,  4.03913009,\n",
       "          4.14724578,  4.34602155]),\n",
       "  array([ 8.7366026 ,  8.954153  ,  9.34696193, ..., 29.86270142,\n",
       "         29.98499209, 30.22495251])),\n",
       " (2.583064883002095, 19.590804896367704, 0.9999908845078628))"
      ]
     },
     "execution_count": 47,
     "metadata": {},
     "output_type": "execute_result"
    },
    {
     "data": {
      "image/png": "[encoded data removed]",
      "text/plain": [
       "<Figure size 432x288 with 1 Axes>"
      ]
     },
     "metadata": {},
     "output_type": "display_data"
    }
   ],
   "source": [
    "# probability plot = perfect\n",
    "ss.probplot(np.log(sample), plot=plt)"
   ]
  },
  {
   "cell_type": "markdown",
   "metadata": {
    "colab_type": "text",
    "id": "beAvmigMM9sL"
   },
   "source": [
    "# Aggregate Losses\n",
    "\n",
    "## Model Algorithm I \n",
    "\n",
    "    for year = 1 to N\n",
    "        simulate number of events E from Poisson(1.74)\n",
    "        for event_num = 1 to E\n",
    "            simulate loss L from Lognormal(mu, sigma)\n",
    "            store year, event_num, L"
   ]
  },
  {
   "cell_type": "code",
   "execution_count": 48,
   "metadata": {
    "colab": {},
    "colab_type": "code",
    "id": "lVAg7AHuM_Ea"
   },
   "outputs": [],
   "source": [
    "# setup  variables \n",
    "# N = number of simulation years\n",
    "N = 100000\n",
    "freq = 290 / 167\n",
    "freq_dist = ss.poisson(freq)\n",
    "mu = 19.595\n",
    "sigma = 2.581\n",
    "sev_dist = ss.lognorm(sigma, scale=np.exp(mu))"
   ]
  },
  {
   "cell_type": "code",
   "execution_count": 49,
   "metadata": {
    "colab": {
     "base_uri": "https://localhost:8080/",
     "height": 34
    },
    "colab_type": "code",
    "id": "kozdVtVQcGej",
    "outputId": "b37f72b6-ef8e-4fde-a1a4-ccf3bc65b295"
   },
   "outputs": [
    {
     "data": {
      "text/plain": [
       "(173271, 173652.69461077845)"
      ]
     },
     "execution_count": 49,
     "metadata": {},
     "output_type": "execute_result"
    }
   ],
   "source": [
    "# simulate annual event founds \n",
    "event_counts = freq_dist.rvs(N)\n",
    "num_events = event_counts.sum()\n",
    "num_events, N * freq"
   ]
  },
  {
   "cell_type": "markdown",
   "metadata": {
    "colab_type": "text",
    "id": "yLI_kaU4fVyR"
   },
   "source": [
    "## ELT and YLT\n",
    "\n",
    "Event Loss Table, ELT, will have columns\n",
    "\n",
    "* Event ID\n",
    "* Simulated Year\n",
    "* Event Loss\n",
    "\n",
    "Yearly Loss Table, YLT, will have columns \n",
    "\n",
    "* Year\n",
    "* Event count, the number of events in the year\n",
    "* Sum = total loss in the year (for Agg PMLs)\n",
    "* Max = largest loss in the year (for occ PMLs)"
   ]
  },
  {
   "cell_type": "code",
   "execution_count": 50,
   "metadata": {
    "colab": {},
    "colab_type": "code",
    "id": "EH9PspnBeyw9"
   },
   "outputs": [],
   "source": [
    "# container for YLT\n",
    "ylt = np.zeros((N, 4))"
   ]
  },
  {
   "cell_type": "code",
   "execution_count": 51,
   "metadata": {
    "colab": {},
    "colab_type": "code",
    "id": "wUEgOqN7ez6x"
   },
   "outputs": [],
   "source": [
    "# fill in year ID and event count, arrays are 0 based\n",
    "ylt[:, 0] = np.arange(N)\n",
    "ylt[:, 1] = event_counts"
   ]
  },
  {
   "cell_type": "code",
   "execution_count": 52,
   "metadata": {
    "colab": {
     "base_uri": "https://localhost:8080/",
     "height": 187
    },
    "colab_type": "code",
    "id": "KMjxSWNofqhd",
    "outputId": "5905f9c5-c7b4-49a5-fa40-2b11d794dc1f"
   },
   "outputs": [
    {
     "data": {
      "text/plain": [
       "array([[0., 3., 0., 0.],\n",
       "       [1., 0., 0., 0.],\n",
       "       [2., 2., 0., 0.],\n",
       "       [3., 4., 0., 0.],\n",
       "       [4., 2., 0., 0.],\n",
       "       [5., 3., 0., 0.],\n",
       "       [6., 2., 0., 0.],\n",
       "       [7., 0., 0., 0.],\n",
       "       [8., 3., 0., 0.],\n",
       "       [9., 3., 0., 0.]])"
      ]
     },
     "execution_count": 52,
     "metadata": {},
     "output_type": "execute_result"
    }
   ],
   "source": [
    "# look at the top ten rows (:10) and all columns (:)\n",
    "ylt[:10,:]"
   ]
  },
  {
   "cell_type": "code",
   "execution_count": 53,
   "metadata": {
    "colab": {},
    "colab_type": "code",
    "id": "0YSufDL2frld"
   },
   "outputs": [],
   "source": [
    "# container for ELT, now we know number of rows - sum of num events from YLT\n",
    "elt = np.zeros((num_events, 3))\n",
    "# add event ID, counter 0, 1, ...\n",
    "elt[:, 0] = np.arange(num_events)"
   ]
  },
  {
   "cell_type": "code",
   "execution_count": 54,
   "metadata": {
    "colab": {
     "base_uri": "https://localhost:8080/",
     "height": 34
    },
    "colab_type": "code",
    "id": "l72kHw_If8RT",
    "outputId": "3aa8d2c7-9769-4704-d6d3-359d75b47ea1"
   },
   "outputs": [
    {
     "data": {
      "text/plain": [
       "((173271, 3), 173271, 173652.69461077845, 1.7365269461077844, 173271, 100000)"
      ]
     },
     "execution_count": 54,
     "metadata": {},
     "output_type": "execute_result"
    }
   ],
   "source": [
    "# how big is ylt: should be freq x N rows, can use shape or len:\n",
    "elt.shape,  len(elt), freq * N, freq, num_events, N"
   ]
  },
  {
   "cell_type": "code",
   "execution_count": 55,
   "metadata": {
    "colab": {},
    "colab_type": "code",
    "id": "rNVbcBwHf9Ll"
   },
   "outputs": [],
   "source": [
    "# simulate individual event losses\n",
    "elt[:, 2] = sev_dist.rvs(num_events)"
   ]
  },
  {
   "cell_type": "code",
   "execution_count": 56,
   "metadata": {
    "colab": {
     "base_uri": "https://localhost:8080/",
     "height": 187
    },
    "colab_type": "code",
    "id": "c2OqXVnrlnZG",
    "outputId": "5d828bf0-2cbf-48a3-fb69-916512c81507"
   },
   "outputs": [
    {
     "data": {
      "text/plain": [
       "array([[0.00000000e+00, 0.00000000e+00, 4.90312025e+08],\n",
       "       [1.00000000e+00, 0.00000000e+00, 1.98054412e+10],\n",
       "       [2.00000000e+00, 0.00000000e+00, 3.70007018e+07],\n",
       "       [3.00000000e+00, 0.00000000e+00, 7.26591831e+07],\n",
       "       [4.00000000e+00, 0.00000000e+00, 2.48869009e+10],\n",
       "       [5.00000000e+00, 0.00000000e+00, 2.27705412e+07],\n",
       "       [6.00000000e+00, 0.00000000e+00, 5.05163746e+07],\n",
       "       [7.00000000e+00, 0.00000000e+00, 7.38380853e+07],\n",
       "       [8.00000000e+00, 0.00000000e+00, 5.35563404e+09],\n",
       "       [9.00000000e+00, 0.00000000e+00, 3.93118664e+08]])"
      ]
     },
     "execution_count": 56,
     "metadata": {},
     "output_type": "execute_result"
    }
   ],
   "source": [
    "# look at answer\n",
    "elt[:10, :]"
   ]
  },
  {
   "cell_type": "code",
   "execution_count": null,
   "metadata": {
    "colab": {},
    "colab_type": "code",
    "id": "AfHO4QyAgRdw"
   },
   "outputs": [],
   "source": [
    "# tricky part...need to fill in the event years in the YLT\n",
    "# make an array showing starting and ending number of events for each year\n",
    "event_boundaries = event_counts.cumsum()\n",
    "# start at zero\n",
    "event_boundaries = np.hstack((0, event_boundaries))"
   ]
  },
  {
   "cell_type": "code",
   "execution_count": null,
   "metadata": {
    "colab": {
     "base_uri": "https://localhost:8080/",
     "height": 51
    },
    "colab_type": "code",
    "id": "2iVWnsfinbhQ",
    "outputId": "3de20e7e-0dd6-43c2-e018-7d95a151b952"
   },
   "outputs": [
    {
     "data": {
      "text/plain": [
       "(array([5., 1., 0., 1., 1., 1., 3., 0., 2., 1.]),\n",
       " array([ 0,  5,  6,  6,  7,  8,  9, 12, 12, 14]))"
      ]
     },
     "execution_count": 27,
     "metadata": {
      "tags": []
     },
     "output_type": "execute_result"
    }
   ],
   "source": [
    "ylt[:10, 1], event_boundaries[:10]"
   ]
  },
  {
   "cell_type": "code",
   "execution_count": null,
   "metadata": {
    "colab": {},
    "colab_type": "code",
    "id": "6kKqaAsPikVu"
   },
   "outputs": [],
   "source": [
    "# non pythonic \n",
    "# %%timeit\n",
    "for i in range(N):\n",
    "    if event_boundaries[i] < event_boundaries[i+1]:\n",
    "        elt[event_boundaries[i]:event_boundaries[i+1], 1] = i"
   ]
  },
  {
   "cell_type": "code",
   "execution_count": null,
   "metadata": {
    "colab": {
     "base_uri": "https://localhost:8080/",
     "height": 204
    },
    "colab_type": "code",
    "id": "OqrgtVj7lqgl",
    "outputId": "6bee4550-b383-40b8-8ebd-8cf2357d5cc4"
   },
   "outputs": [
    {
     "data": {
      "text/plain": [
       "(array([5., 1., 0., 1., 1., 1., 3., 0., 2., 1.]),\n",
       " array([[0.00000000e+00, 0.00000000e+00, 3.80516126e+08],\n",
       "        [1.00000000e+00, 0.00000000e+00, 8.51402423e+07],\n",
       "        [2.00000000e+00, 0.00000000e+00, 1.62254771e+09],\n",
       "        [3.00000000e+00, 0.00000000e+00, 3.57940987e+10],\n",
       "        [4.00000000e+00, 0.00000000e+00, 3.24507687e+08],\n",
       "        [5.00000000e+00, 1.00000000e+00, 7.74423221e+09],\n",
       "        [6.00000000e+00, 3.00000000e+00, 9.51692448e+09],\n",
       "        [7.00000000e+00, 4.00000000e+00, 1.28294746e+07],\n",
       "        [8.00000000e+00, 5.00000000e+00, 1.45585602e+07],\n",
       "        [9.00000000e+00, 6.00000000e+00, 8.06740030e+07]]))"
      ]
     },
     "execution_count": 29,
     "metadata": {
      "tags": []
     },
     "output_type": "execute_result"
    }
   ],
   "source": [
    "# num events per year and the created year IDs\n",
    "ylt[:10,1], elt[:10, :]"
   ]
  },
  {
   "cell_type": "code",
   "execution_count": null,
   "metadata": {
    "colab": {},
    "colab_type": "code",
    "id": "7FwUy6xWgiaD"
   },
   "outputs": [],
   "source": [
    "# maybe more pythonic\n",
    "# %%timeit\n",
    "for i, (b, e) in enumerate(zip(event_boundaries[:-1], event_boundaries[1:])):\n",
    "    if e > b:\n",
    "        elt[b:e, 1] = i"
   ]
  },
  {
   "cell_type": "code",
   "execution_count": null,
   "metadata": {
    "colab": {
     "base_uri": "https://localhost:8080/",
     "height": 357
    },
    "colab_type": "code",
    "id": "_lXjKBX_g4bf",
    "outputId": "49072649-72a8-45da-ebf0-b992376ffcd6"
   },
   "outputs": [
    {
     "data": {
      "text/plain": [
       "(array([[0., 5., 0., 0.],\n",
       "        [1., 1., 0., 0.],\n",
       "        [2., 0., 0., 0.],\n",
       "        [3., 1., 0., 0.],\n",
       "        [4., 1., 0., 0.],\n",
       "        [5., 1., 0., 0.],\n",
       "        [6., 3., 0., 0.],\n",
       "        [7., 0., 0., 0.],\n",
       "        [8., 2., 0., 0.],\n",
       "        [9., 1., 0., 0.]]),\n",
       " array([[0.00000000e+00, 0.00000000e+00, 3.80516126e+08],\n",
       "        [1.00000000e+00, 0.00000000e+00, 8.51402423e+07],\n",
       "        [2.00000000e+00, 0.00000000e+00, 1.62254771e+09],\n",
       "        [3.00000000e+00, 0.00000000e+00, 3.57940987e+10],\n",
       "        [4.00000000e+00, 0.00000000e+00, 3.24507687e+08],\n",
       "        [5.00000000e+00, 1.00000000e+00, 7.74423221e+09],\n",
       "        [6.00000000e+00, 3.00000000e+00, 9.51692448e+09],\n",
       "        [7.00000000e+00, 4.00000000e+00, 1.28294746e+07],\n",
       "        [8.00000000e+00, 5.00000000e+00, 1.45585602e+07],\n",
       "        [9.00000000e+00, 6.00000000e+00, 8.06740030e+07]]))"
      ]
     },
     "execution_count": 31,
     "metadata": {
      "tags": []
     },
     "output_type": "execute_result"
    }
   ],
   "source": [
    "# top 10 rows of ylt and elt\n",
    "ylt[:10, :], elt[:10, :]"
   ]
  },
  {
   "cell_type": "code",
   "execution_count": null,
   "metadata": {
    "colab": {
     "base_uri": "https://localhost:8080/",
     "height": 34
    },
    "colab_type": "code",
    "id": "fFMj8ycNhgy1",
    "outputId": "243bb28d-a710-41d2-81d9-4b70a61bafbc"
   },
   "outputs": [
    {
     "name": "stdout",
     "output_type": "stream",
     "text": [
      "1 loop, best of 3: 590 ms per loop\n"
     ]
    }
   ],
   "source": [
    "# combine: add losses to ELT and summarize back to the YLT, non pythonic\n",
    "%%timeit\n",
    "for i in range(N-1):\n",
    "    if event_boundaries[i] < event_boundaries[i+1]:\n",
    "        elt[event_boundaries[i]:event_boundaries[i+1], 1] = i\n",
    "        ylt[i, 2] = elt[event_boundaries[i]:event_boundaries[i+1], 2].sum()\n",
    "        ylt[i, 3] = elt[event_boundaries[i]:event_boundaries[i+1], 2].max()"
   ]
  },
  {
   "cell_type": "code",
   "execution_count": null,
   "metadata": {
    "colab": {
     "base_uri": "https://localhost:8080/",
     "height": 357
    },
    "colab_type": "code",
    "id": "sv381pvDpG-0",
    "outputId": "ea8c7509-6e39-4174-aab0-d5e7bc866eac"
   },
   "outputs": [
    {
     "data": {
      "text/plain": [
       "(array([[0.00000000e+00, 5.00000000e+00, 3.82068105e+10, 3.57940987e+10],\n",
       "        [1.00000000e+00, 1.00000000e+00, 7.74423221e+09, 7.74423221e+09],\n",
       "        [2.00000000e+00, 0.00000000e+00, 0.00000000e+00, 0.00000000e+00],\n",
       "        [3.00000000e+00, 1.00000000e+00, 9.51692448e+09, 9.51692448e+09],\n",
       "        [4.00000000e+00, 1.00000000e+00, 1.28294746e+07, 1.28294746e+07],\n",
       "        [5.00000000e+00, 1.00000000e+00, 1.45585602e+07, 1.45585602e+07],\n",
       "        [6.00000000e+00, 3.00000000e+00, 1.22982754e+09, 1.14896466e+09],\n",
       "        [7.00000000e+00, 0.00000000e+00, 0.00000000e+00, 0.00000000e+00],\n",
       "        [8.00000000e+00, 2.00000000e+00, 5.06273239e+08, 5.04389496e+08],\n",
       "        [9.00000000e+00, 1.00000000e+00, 9.80374834e+08, 9.80374834e+08]]),\n",
       " array([[0.00000000e+00, 0.00000000e+00, 3.80516126e+08],\n",
       "        [1.00000000e+00, 0.00000000e+00, 8.51402423e+07],\n",
       "        [2.00000000e+00, 0.00000000e+00, 1.62254771e+09],\n",
       "        [3.00000000e+00, 0.00000000e+00, 3.57940987e+10],\n",
       "        [4.00000000e+00, 0.00000000e+00, 3.24507687e+08],\n",
       "        [5.00000000e+00, 1.00000000e+00, 7.74423221e+09],\n",
       "        [6.00000000e+00, 3.00000000e+00, 9.51692448e+09],\n",
       "        [7.00000000e+00, 4.00000000e+00, 1.28294746e+07],\n",
       "        [8.00000000e+00, 5.00000000e+00, 1.45585602e+07],\n",
       "        [9.00000000e+00, 6.00000000e+00, 8.06740030e+07]]))"
      ]
     },
     "execution_count": 33,
     "metadata": {
      "tags": []
     },
     "output_type": "execute_result"
    }
   ],
   "source": [
    "# top 10 rows of ylt and elt\n",
    "ylt[:10, :], elt[:10, :]"
   ]
  },
  {
   "cell_type": "code",
   "execution_count": null,
   "metadata": {
    "colab": {},
    "colab_type": "code",
    "id": "baeLfRJkhotA"
   },
   "outputs": [],
   "source": [
    "# combine: add losses to ELT and summarize back to the YLT, pythonic\n",
    "%%timeit\n",
    "for i, (b, e) in enumerate(zip(event_boundaries[:-1], event_boundaries[1:])):\n",
    "    if e > b:\n",
    "        elt[b:e, 1] = i\n",
    "        ylt[i, 2] = elt[b:e, 2].sum()\n",
    "        ylt[i, 3] = elt[b:e, 2].max()"
   ]
  },
  {
   "cell_type": "code",
   "execution_count": null,
   "metadata": {
    "colab": {},
    "colab_type": "code",
    "id": "9OA3gCK6opx5"
   },
   "outputs": [],
   "source": [
    "# top 10 rows of ylt and elt\n",
    "ylt[:10, :], elt[:10, :]"
   ]
  },
  {
   "cell_type": "code",
   "execution_count": null,
   "metadata": {
    "colab": {},
    "colab_type": "code",
    "id": "876Tb5U4tUKV"
   },
   "outputs": [],
   "source": []
  },
  {
   "cell_type": "markdown",
   "metadata": {
    "colab_type": "text",
    "id": "rX3NHRJ9tU1P"
   },
   "source": [
    "### Use data types and name columns"
   ]
  },
  {
   "cell_type": "code",
   "execution_count": null,
   "metadata": {
    "colab": {},
    "colab_type": "code",
    "id": "YdpxlmxSsqPF"
   },
   "outputs": [],
   "source": [
    "def simulate1(N, freq, mu, sigma):\n",
    "    \"\"\"\n",
    "    Simulate ELT and YLT with N years, Poisson(freq) and lognormal(mu, sigma)\n",
    "    severity\n",
    "    \n",
    "    \"\"\"\n",
    "    freq_dist = ss.poisson(freq)\n",
    "    sev_dist = ss.lognorm(sigma, scale=np.exp(mu))\n",
    "\n",
    "    # simulate events per year, figure number of events \n",
    "    event_counts = freq_dist.rvs(N)\n",
    "    num_events = event_counts.sum()\n",
    "    num_events, N * freq\n",
    "    \n",
    "    # make YLT\n",
    "    ylt = np.zeros(N, dtype=[('year_id', 'int32'), ('num_events', 'int32'), \n",
    "                         ('sum_loss', 'float64'), \n",
    "                         ('max_loss', 'float64')])\n",
    "    \n",
    "    # fill in year ID and event count, arrays are 0 based\n",
    "    ylt['year_id'] = np.arange(N)\n",
    "    ylt['num_events'] = event_counts\n",
    "    \n",
    "    # container for ELT, now we know number of rows - sum of num events from YLT\n",
    "    elt = np.zeros(num_events, dtype=[('event_id', 'int32'), ('year_id', 'int32'), \n",
    "                         ('loss', 'float64')])\n",
    "    # add event ID, counter 0, 1, ...\n",
    "    elt['event_id'] = np.arange(num_events)\n",
    "    \n",
    "    \n",
    "    event_boundaries = event_counts.cumsum()\n",
    "    event_boundaries = np.hstack((0, event_boundaries))\n",
    "    elt['loss'] = sev_dist.rvs(num_events)\n",
    "    \n",
    "    # combine: add losses to ELT and summarize back to the YLT, non pythonic\n",
    "    for i in range(N-1):\n",
    "        if event_boundaries[i] < event_boundaries[i+1]:\n",
    "            elt[event_boundaries[i]:event_boundaries[i+1]]['year_id'] = i\n",
    "            ylt[i]['sum_loss'] = elt[event_boundaries[i]:event_boundaries[i+1]]['loss'].sum()\n",
    "            ylt[i]['max_loss'] = elt[event_boundaries[i]:event_boundaries[i+1]]['loss'].max()\n",
    "            \n",
    "    # sort YLT by loss \n",
    "    ylt.sort(order='sum_loss')\n",
    "    \n",
    "    # return answer\n",
    "    return elt, ylt"
   ]
  },
  {
   "cell_type": "code",
   "execution_count": null,
   "metadata": {
    "colab": {},
    "colab_type": "code",
    "id": "-hgULUh1uzC9"
   },
   "outputs": [],
   "source": [
    "%timeit elt, ylt = simulate1(100000, 290/167, mu, sigma)"
   ]
  },
  {
   "cell_type": "code",
   "execution_count": null,
   "metadata": {
    "colab": {},
    "colab_type": "code",
    "id": "V2eAaYuyv4vw"
   },
   "outputs": [],
   "source": [
    "def simulate2(N, freq, mu, sigma):\n",
    "    \"\"\"\n",
    "    Simulate ELT and YLT with N years, Poisson(freq) and lognormal(mu, sigma)\n",
    "    severity. Alternative aggregation to YLT.\n",
    "\n",
    "    \"\"\"\n",
    "    freq_dist = ss.poisson(freq)\n",
    "    sev_dist = ss.lognorm(sigma, scale=np.exp(mu))\n",
    "\n",
    "    # simulate events per year, figure number of events \n",
    "    event_counts = freq_dist.rvs(N)\n",
    "    num_events = event_counts.sum()\n",
    "    num_events, N * freq\n",
    "    \n",
    "    # make YLT\n",
    "    ylt = np.zeros(N, dtype=[('year_id', 'int32'), ('num_events', 'int32'), \n",
    "                         ('sum_loss', 'float64'), \n",
    "                         ('max_loss', 'float64')])\n",
    "   \n",
    "    # fill in year ID and event count, arrays are 0 based\n",
    "    ylt['year_id'] = np.arange(N)\n",
    "    ylt['num_events'] = event_counts\n",
    "    \n",
    "    # container for ELT, now we know number of rows - sum of num events from YLT\n",
    "    elt = np.zeros(num_events, dtype=[('event_id', 'int32'), ('year_id', 'int32'), \n",
    "                         ('loss', 'float64')])\n",
    "    # add event ID, counter 0, 1, ...\n",
    "    elt['event_id'] = np.arange(num_events)\n",
    "    \n",
    "    \n",
    "    event_boundaries = event_counts.cumsum()\n",
    "    event_boundaries = np.hstack((0, event_boundaries))\n",
    "    elt['loss'] = sev_dist.rvs(num_events)\n",
    "    \n",
    "    # combine: add losses to ELT and summarize back to the YLT, non pythonic\n",
    "    for i in range(N-1):\n",
    "        if event_boundaries[i] < event_boundaries[i+1]:\n",
    "            temp = elt[event_boundaries[i]:event_boundaries[i+1]]\n",
    "            temp['year_id'] = i\n",
    "            ylt[i]['sum_loss'] = temp['loss'].sum()\n",
    "            ylt[i]['max_loss'] = temp['loss'].max()\n",
    "            \n",
    "    # sort YLT by loss \n",
    "    ylt.sort(order='sum_loss')\n",
    "    \n",
    "    # return answer\n",
    "    return elt, ylt"
   ]
  },
  {
   "cell_type": "code",
   "execution_count": null,
   "metadata": {
    "colab": {},
    "colab_type": "code",
    "id": "wqERayVEx9xW"
   },
   "outputs": [],
   "source": [
    "%timeit elt, ylt = simulate2(100000, 290/167, mu, sigma)"
   ]
  },
  {
   "cell_type": "code",
   "execution_count": null,
   "metadata": {
    "colab": {},
    "colab_type": "code",
    "id": "SXDrdC2xx_LK"
   },
   "outputs": [],
   "source": [
    "def simulate3(num_events, freq, mu, sigma):\n",
    "    \"\"\"\n",
    "    Simulate ELT and YLT with num_events events, Poisson(freq) and lognormal(mu, sigma)\n",
    "    severity. Method II exponential waiting time approach. Use Pandas.\n",
    "\n",
    "    \"\"\"\n",
    "    \n",
    "    freq_dist = ss.poisson(freq)\n",
    "    sev_dist = ss.lognorm(sigma, scale=np.exp(mu))\n",
    "\n",
    "    # simulate event years\n",
    "    e = ss.expon(scale=1/freq)\n",
    "    event_times = np.array(e.rvs(num_events).cumsum(), dtype=int)\n",
    "    N = event_times[-1]\n",
    "\n",
    "    # container for ELT, given number of rows \n",
    "    elt = np.zeros(num_events, dtype=[('event_id', 'int32'), ('year_id', 'int32'), \n",
    "                         ('loss', 'float64')])\n",
    "    elt = pd.DataFrame(elt)\n",
    "    # add event ID, counter 0, 1, ...\n",
    "    elt['event_id'] = np.arange(num_events)\n",
    "    elt['year_id'] = event_times\n",
    "    elt['loss'] = sev_dist.rvs(num_events)\n",
    "    elt = elt.set_index('event_id')\n",
    "    \n",
    "    # make YLT\n",
    "    ylt = np.zeros(N, dtype=[('year_id', 'int32'), ('num_events', 'int32'), \n",
    "                         ('sum_loss', 'float64'), \n",
    "                         ('max_loss', 'float64')])\n",
    "    ylt = pd.DataFrame(ylt)\n",
    "    # fill in year ID and event count, arrays are 0 based\n",
    "    ylt['year_id'] = np.arange(N)\n",
    "    ylt = ylt.set_index('year_id')\n",
    "    \n",
    "    g = elt.groupby('year_id')['loss'].agg([np.sum, np.max, np.size])   \n",
    "    ylt['sum_loss'] = g['sum']\n",
    "    ylt['max_loss'] = g['amax']\n",
    "    ylt['num_events'] = g['size']\n",
    "    ylt = ylt.fillna(0)\n",
    "    \n",
    "    # sort YLT by loss \n",
    "    ylt = ylt.sort_values('sum_loss', ascending=False)\n",
    "    \n",
    "    # return answer\n",
    "    return elt, ylt"
   ]
  },
  {
   "cell_type": "code",
   "execution_count": null,
   "metadata": {
    "colab": {},
    "colab_type": "code",
    "id": "WYHeNB8OJNYh"
   },
   "outputs": [],
   "source": [
    "%timeit elt, ylt = simulate3(100000, 290/167, mu, sigma)"
   ]
  },
  {
   "cell_type": "code",
   "execution_count": null,
   "metadata": {
    "colab": {},
    "colab_type": "code",
    "id": "C1_FyhYULcjO"
   },
   "outputs": [],
   "source": [
    "elt, ylt = simulate3(100000, 290/167, mu, sigma)"
   ]
  },
  {
   "cell_type": "code",
   "execution_count": null,
   "metadata": {
    "colab": {},
    "colab_type": "code",
    "id": "OC57NOQPMxt8"
   },
   "outputs": [],
   "source": [
    "ylt.head()"
   ]
  },
  {
   "cell_type": "code",
   "execution_count": null,
   "metadata": {
    "colab": {},
    "colab_type": "code",
    "id": "H77e61dOUxMC"
   },
   "outputs": [],
   "source": [
    "ylt[['sum_loss', 'max_loss']].reset_index(drop=True).plot(logy=True, subplots=True, figsize=(6,10));"
   ]
  },
  {
   "cell_type": "code",
   "execution_count": null,
   "metadata": {
    "colab": {},
    "colab_type": "code",
    "id": "9cAkuvCvVZUz"
   },
   "outputs": [],
   "source": []
  }
 ],
 "metadata": {
  "colab": {
   "collapsed_sections": [],
   "name": "CatModel1.ipynb",
   "provenance": [],
   "toc_visible": true,
   "version": "0.3.2"
  },
  "kernelspec": {
   "display_name": "Python 3",
   "language": "python",
   "name": "python3"
  },
  "language_info": {
   "codemirror_mode": {
    "name": "ipython",
    "version": 3
   },
   "file_extension": ".py",
   "mimetype": "text/x-python",
   "name": "python",
   "nbconvert_exporter": "python",
   "pygments_lexer": "ipython3",
   "version": "3.6.3"
  }
 },
 "nbformat": 4,
 "nbformat_minor": 2
}
