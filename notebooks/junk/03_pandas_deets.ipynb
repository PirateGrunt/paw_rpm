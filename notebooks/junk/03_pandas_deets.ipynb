{
 "cells": [
  {
   "cell_type": "code",
   "execution_count": null,
   "metadata": {
    "slideshow": {
     "slide_type": "skip"
    }
   },
   "outputs": [],
   "source": [
    "import numpy as np\n",
    "import pandas as pd\n",
    "import matplotlib.pyplot as plt\n",
    "from IPython.display import display, HTML\n",
    "%matplotlib inline\n",
    "import textwrap \n",
    "import warnings # current version of seaborn generates a bunch of warnings that we'll ignore\n",
    "warnings.filterwarnings(\"ignore\")\n",
    "\n",
    "\n",
    "def wdid(ob):\n",
    "    ''' what does object do? \n",
    "    '''\n",
    "    print('\\n'.join(textwrap.wrap(' '.join([i for i in dir(ob) if i[0] != '_']), 80)))\n",
    "    # optional pause for something more advanced... \n",
    "#     for m in [ i for i in dir(np) if i[0] >= 'a' and i[0]<='z']:\n",
    "#         print(f'\\n\\n{m}\\n{\"=\"*len(m)}\\n')\n",
    "#         print(np.__getattribute__(m).__doc__)"
   ]
  },
  {
   "cell_type": "markdown",
   "metadata": {
    "slideshow": {
     "slide_type": "slide"
    }
   },
   "source": [
    "## Real world example\n",
    "\n",
    "Building a multi-dimensional IBNR model in numpy"
   ]
  },
  {
   "cell_type": "markdown",
   "metadata": {
    "slideshow": {
     "slide_type": "slide"
    }
   },
   "source": [
    "### Create Initial multi-dimensional array"
   ]
  },
  {
   "cell_type": "code",
   "execution_count": null,
   "metadata": {
    "slideshow": {
     "slide_type": "slide"
    }
   },
   "outputs": [],
   "source": [
    "import pandas as pd\n",
    "cas = pd.read_csv(r'http://www.casact.org/research/reserve_data/wkcomp_pos.csv')\n",
    "# Let's make the pandas dataframe look more triangle like\n",
    "triangle_frame = pd.pivot_table(cas[cas['DevelopmentYear']<=1997], \n",
    "                                values='CumPaidLoss_D', \n",
    "                                index=['GRNAME','AccidentYear'], \n",
    "                                columns='DevelopmentLag')\n",
    "# Let's use the reshape method to create a 3-D Matrix of triangles\n",
    "triangle_array = np.array(triangle_frame).reshape(len(cas['GRNAME'].unique()),\n",
    "                                                  len(cas['AccidentYear'].unique()),\n",
    "                                                  len(cas['DevelopmentLag'].unique()))"
   ]
  },
  {
   "cell_type": "code",
   "execution_count": null,
   "metadata": {},
   "outputs": [],
   "source": [
    "cas.head()"
   ]
  },
  {
   "cell_type": "code",
   "execution_count": null,
   "metadata": {},
   "outputs": [],
   "source": [
    "triangle_frame.head(30)"
   ]
  },
  {
   "cell_type": "code",
   "execution_count": null,
   "metadata": {},
   "outputs": [],
   "source": [
    "triangle_array[-1,:,:]"
   ]
  },
  {
   "cell_type": "code",
   "execution_count": null,
   "metadata": {},
   "outputs": [],
   "source": [
    "# triangle array is a set 10x10 triangles for more than 100 companies.\n",
    "triangle_array.shape"
   ]
  },
  {
   "cell_type": "markdown",
   "metadata": {
    "slideshow": {
     "slide_type": "slide"
    }
   },
   "source": [
    "### Clean up missing and zero values"
   ]
  },
  {
   "cell_type": "code",
   "execution_count": null,
   "metadata": {
    "slideshow": {
     "slide_type": "slide"
    }
   },
   "outputs": [],
   "source": [
    "# Let's get rid of completely empty triangles\n",
    "triangle_sum = np.nansum(np.nansum(triangle_array, axis=1),axis=1)\n",
    "triangle_sum==0"
   ]
  },
  {
   "cell_type": "code",
   "execution_count": null,
   "metadata": {
    "slideshow": {
     "slide_type": "slide"
    }
   },
   "outputs": [],
   "source": [
    "triangle_array = triangle_array[triangle_sum!=0,:,:]\n",
    "# let's turn 0's to nan - this will alleviate issues around dividing by zero\n",
    "triangle_array[triangle_array==0]=np.nan"
   ]
  },
  {
   "cell_type": "code",
   "execution_count": null,
   "metadata": {},
   "outputs": [],
   "source": [
    "triangle_frame = triangle_frame.groupby(level=0).filter(lambda x : np.nansum(x)  > 0)\n",
    "triangle_frame.iloc[10:20, :]"
   ]
  },
  {
   "cell_type": "code",
   "execution_count": null,
   "metadata": {},
   "outputs": [],
   "source": [
    "triangle_frame.iloc[-10:, :]"
   ]
  },
  {
   "cell_type": "markdown",
   "metadata": {
    "slideshow": {
     "slide_type": "slide"
    }
   },
   "source": [
    "### Age-to-age factors"
   ]
  },
  {
   "cell_type": "code",
   "execution_count": null,
   "metadata": {},
   "outputs": [],
   "source": [
    "?display"
   ]
  },
  {
   "cell_type": "code",
   "execution_count": null,
   "metadata": {
    "slideshow": {
     "slide_type": "slide"
    }
   },
   "outputs": [],
   "source": [
    "# Let's use slicing to create age-to-age factors\n",
    "%timeit ata_array = triangle_array[:,:-1,1:]/triangle_array[:,:-1,:-1]"
   ]
  },
  {
   "cell_type": "code",
   "execution_count": null,
   "metadata": {
    "slideshow": {
     "slide_type": "slide"
    }
   },
   "outputs": [],
   "source": [
    "display(pd.DataFrame(ata_array[1, :, :]))\n",
    "ata_array"
   ]
  },
  {
   "cell_type": "code",
   "execution_count": null,
   "metadata": {},
   "outputs": [],
   "source": [
    "triangle_frame.iloc[0:20, :]"
   ]
  },
  {
   "cell_type": "code",
   "execution_count": null,
   "metadata": {},
   "outputs": [],
   "source": [
    "triangle_frame.iloc[0:20, 1:] / triangle_frame.iloc[0:20, :-1]"
   ]
  },
  {
   "cell_type": "code",
   "execution_count": null,
   "metadata": {},
   "outputs": [],
   "source": [
    "triangle_frame.iloc[0:20, 1:].values / triangle_frame.iloc[0:20, :-1].values"
   ]
  },
  {
   "cell_type": "code",
   "execution_count": null,
   "metadata": {},
   "outputs": [],
   "source": [
    "%timeit pd.DataFrame(triangle_frame.iloc[:, 1:].values / triangle_frame.iloc[:, :-1].values, index=triangle_frame.index, columns=range(1,10))"
   ]
  },
  {
   "cell_type": "code",
   "execution_count": null,
   "metadata": {},
   "outputs": [],
   "source": [
    "ata_df = pd.DataFrame(triangle_frame.iloc[:, 1:].values / triangle_frame.iloc[:, :-1].values, index=triangle_frame.index, columns=range(1,10))\n",
    "ata_df.head(20)"
   ]
  },
  {
   "cell_type": "code",
   "execution_count": null,
   "metadata": {
    "slideshow": {
     "slide_type": "slide"
    }
   },
   "outputs": [],
   "source": [
    "# Let's default the completely blank age-to-age columns to 1.0\n",
    "accident_periods = len(cas['DevelopmentLag'].unique())\n",
    "ata_array_defaults = np.expand_dims(np.all(np.isnan(ata_array),axis=1),axis=1)\n",
    "# pd.DataFrame(ata_array_defaults[:, 0 ,:])\n",
    "ata_array_defaults, ata_array_defaults.shape"
   ]
  },
  {
   "cell_type": "code",
   "execution_count": null,
   "metadata": {},
   "outputs": [],
   "source": [
    "np.set_printoptions(linewidth =  160)"
   ]
  },
  {
   "cell_type": "code",
   "execution_count": null,
   "metadata": {},
   "outputs": [],
   "source": [
    "ata_array[0:3, :, :]"
   ]
  },
  {
   "cell_type": "code",
   "execution_count": null,
   "metadata": {
    "slideshow": {
     "slide_type": "slide"
    }
   },
   "outputs": [],
   "source": [
    "ata_array[np.repeat(ata_array_defaults,accident_periods-1,axis=1)]=1.0"
   ]
  },
  {
   "cell_type": "code",
   "execution_count": null,
   "metadata": {},
   "outputs": [],
   "source": [
    "ata_array[0:3, :, :]"
   ]
  },
  {
   "cell_type": "markdown",
   "metadata": {
    "slideshow": {
     "slide_type": "slide"
    }
   },
   "source": [
    "### LDFs and CDFs"
   ]
  },
  {
   "cell_type": "code",
   "execution_count": null,
   "metadata": {
    "slideshow": {
     "slide_type": "slide"
    }
   },
   "outputs": [],
   "source": [
    "# Let's create an array of LDFs, by taking simple averages of the age-to-age factors.\n",
    "ldf_array = np.nanmean(ata_array, axis=1)\n",
    "ldf_array[np.isnan(ldf_array)]=1.0\n",
    "# Let's create an array of CDFs with a tail factor from our LDFs\n",
    "cdf_array = ldf_array[:,::-1].cumprod(axis=1)[:,::-1]\n",
    "tail_factor = 1.0\n",
    "cdf_array = np.append(cdf_array,np.expand_dims(np.repeat(tail_factor,cdf_array.shape[0]),1),axis=1)"
   ]
  },
  {
   "cell_type": "code",
   "execution_count": null,
   "metadata": {},
   "outputs": [],
   "source": [
    "pd.DataFrame(ldf_array).head(20)"
   ]
  },
  {
   "cell_type": "code",
   "execution_count": null,
   "metadata": {},
   "outputs": [],
   "source": [
    "ldf_df = ata_df.groupby(level=0).mean().fillna(1.)"
   ]
  },
  {
   "cell_type": "code",
   "execution_count": null,
   "metadata": {},
   "outputs": [],
   "source": [
    "ldf_df.head(20)"
   ]
  },
  {
   "cell_type": "code",
   "execution_count": null,
   "metadata": {},
   "outputs": [],
   "source": [
    "cdf_df = ldf_df.sort_index(axis=1, ascending=False).cumprod(axis=1).sort_index(axis=1)\n",
    "cdf_df[10] = 1.\n",
    "cdf_df.head()"
   ]
  },
  {
   "cell_type": "code",
   "execution_count": null,
   "metadata": {},
   "outputs": [],
   "source": [
    "pd.DataFrame(cdf_array).head(5)"
   ]
  },
  {
   "cell_type": "code",
   "execution_count": null,
   "metadata": {},
   "outputs": [],
   "source": [
    "cdf_df.shape, cdf_array.shape"
   ]
  },
  {
   "cell_type": "code",
   "execution_count": null,
   "metadata": {},
   "outputs": [],
   "source": [
    "cdf_df.head(20)"
   ]
  },
  {
   "cell_type": "code",
   "execution_count": null,
   "metadata": {},
   "outputs": [],
   "source": [
    "cdf_array[:20, :]"
   ]
  },
  {
   "cell_type": "markdown",
   "metadata": {
    "slideshow": {
     "slide_type": "slide"
    }
   },
   "source": [
    "### Ultimates and IBNR"
   ]
  },
  {
   "cell_type": "code",
   "execution_count": null,
   "metadata": {},
   "outputs": [],
   "source": [
    "triangle_frame.head(30)"
   ]
  },
  {
   "cell_type": "code",
   "execution_count": null,
   "metadata": {},
   "outputs": [],
   "source": [
    "cdf_df.head(10)"
   ]
  },
  {
   "cell_type": "code",
   "execution_count": null,
   "metadata": {},
   "outputs": [],
   "source": [
    "diag_df = triangle_frame.groupby(level=0).apply(lambda x : pd.Series(np.diagonal(x.values[:, ::-1])[::-1], index=range(1,11)))\n",
    "diag_df.head(10)"
   ]
  },
  {
   "cell_type": "code",
   "execution_count": null,
   "metadata": {},
   "outputs": [],
   "source": [
    "ult_df = (diag_df * cdf_df).fillna(0)\n",
    "ibnr_df = ult_df - diag_df\n",
    "ult.head(10)"
   ]
  },
  {
   "cell_type": "code",
   "execution_count": null,
   "metadata": {},
   "outputs": [],
   "source": [
    "ibnr_df.head()"
   ]
  },
  {
   "cell_type": "code",
   "execution_count": null,
   "metadata": {
    "slideshow": {
     "slide_type": "slide"
    }
   },
   "outputs": [],
   "source": [
    "latest_diagonal = np.nan_to_num(np.diagonal(triangle_array[:,::-1,],axis1=1,axis2=2)[:,::-1])\n",
    "ultimate = latest_diagonal * cdf_array[:,::-1]\n",
    "ibnr = ultimate - latest_diagonal\n",
    "ibnr[:10,::-1]"
   ]
  },
  {
   "cell_type": "code",
   "execution_count": null,
   "metadata": {},
   "outputs": [],
   "source": [
    "ibnr.shape, ibnr_df.shape"
   ]
  },
  {
   "cell_type": "markdown",
   "metadata": {},
   "source": [
    "### The business questions answered by our model"
   ]
  },
  {
   "cell_type": "code",
   "execution_count": null,
   "metadata": {
    "slideshow": {
     "slide_type": "slide"
    }
   },
   "outputs": [],
   "source": [
    "companies = np.array(triangle_frame.index.levels[0])[triangle_sum!=0]\n",
    "print('How much IBNR does the entire industry need according to this model?')\n",
    "print(np.sum(ibnr).round(0))\n",
    "print()\n",
    "print('What is the average ultimate to paid ratio across the industry?')\n",
    "print((np.sum(ultimate)/np.sum(latest_diagonal)).round(3))\n",
    "print()\n",
    "print('Which company has the highest 12-Ultimate CDF?')\n",
    "print(companies[np.argmax(cdf_array[:,0])])\n",
    "print()\n",
    "print('Which company has the lowest 12-24 LDF?')\n",
    "print(companies[np.argmin(ldf_array[:,1])])\n",
    "print()\n",
    "print('What is the 95% confidence interval on the estimate of 12-Ultimate CDF?')\n",
    "print((np.sort(cdf_array[:,1])[int(.025*len(cdf_array[:,1]))],cdf_array[:,1][int(.975*len(cdf_array[:,1]))]))"
   ]
  },
  {
   "cell_type": "markdown",
   "metadata": {},
   "source": [
    "Performance test of the above code "
   ]
  },
  {
   "cell_type": "code",
   "execution_count": null,
   "metadata": {},
   "outputs": [],
   "source": [
    "# start from cas\n",
    "triangle_frame = pd.pivot_table(cas[cas['DevelopmentYear']<=1997], \n",
    "                                values='CumPaidLoss_D', \n",
    "                                index=['GRNAME','AccidentYear'], \n",
    "                                columns='DevelopmentLag')"
   ]
  },
  {
   "cell_type": "code",
   "execution_count": null,
   "metadata": {},
   "outputs": [],
   "source": [
    "# simplify index to maximum possible extent... \n",
    "triangle_frame.index = [j for j in range(132) for i in range(10)]"
   ]
  },
  {
   "cell_type": "code",
   "execution_count": 456,
   "metadata": {
    "slideshow": {
     "slide_type": "slide"
    }
   },
   "outputs": [
    {
     "name": "stdout",
     "output_type": "stream",
     "text": [
      "1.56 ms ± 15.7 µs per loop (mean ± std. dev. of 7 runs, 100 loops each)\n"
     ]
    }
   ],
   "source": [
    "%%timeit\n",
    "#%%prun -s \"time\" -l 20\n",
    "# %%timeit\n",
    "triangle_array = np.array(triangle_frame).reshape(\n",
    "    len(cas['GRNAME'].unique()),len(cas['AccidentYear'].unique()),len(cas['DevelopmentLag'].unique()))\n",
    "triangle_sum = np.nansum(np.nansum(triangle_array, axis=1),axis=1)\n",
    "triangle_array = triangle_array[triangle_sum!=0,:,:]\n",
    "triangle_array[triangle_array==0]=np.nan\n",
    "\n",
    "ata_array = triangle_array[:,:-1,1:]/triangle_array[:,:-1,:-1]\n",
    "accident_periods = len(cas['DevelopmentLag'].unique())\n",
    "ata_array_defaults = np.expand_dims(np.all(np.isnan(ata_array),axis=1),axis=1)\n",
    "ata_array[np.repeat(ata_array_defaults,accident_periods-1,axis=1)]=1.0\n",
    "\n",
    "ldf_array = np.nanmean(ata_array, axis=1)\n",
    "ldf_array[np.isnan(ldf_array)]=1.0\n",
    "\n",
    "cdf_array = ldf_array[:,::-1].cumprod(axis=1)[:,::-1]\n",
    "tail_factor = 1.0\n",
    "cdf_array = np.append(cdf_array,np.expand_dims(np.repeat(tail_factor,cdf_array.shape[0]),1),axis=1)[:,::-1]\n",
    "\n",
    "latest_diagonal = np.nan_to_num(np.diagonal(triangle_array[:,::-1,],axis1=1,axis2=2)[:, ::-1])\n",
    "ultimate = latest_diagonal * cdf_array\n",
    "ibnr = ultimate - latest_diagonal"
   ]
  },
  {
   "cell_type": "markdown",
   "metadata": {},
   "source": [
    "# Using Pandas"
   ]
  },
  {
   "cell_type": "code",
   "execution_count": 428,
   "metadata": {},
   "outputs": [
    {
     "data": {
      "text/html": [
       "<div>\n",
       "<style scoped>\n",
       "    .dataframe tbody tr th:only-of-type {\n",
       "        vertical-align: middle;\n",
       "    }\n",
       "\n",
       "    .dataframe tbody tr th {\n",
       "        vertical-align: top;\n",
       "    }\n",
       "\n",
       "    .dataframe thead th {\n",
       "        text-align: right;\n",
       "    }\n",
       "</style>\n",
       "<table border=\"1\" class=\"dataframe\">\n",
       "  <thead>\n",
       "    <tr style=\"text-align: right;\">\n",
       "      <th></th>\n",
       "      <th>DevelopmentLag</th>\n",
       "      <th>1</th>\n",
       "      <th>2</th>\n",
       "      <th>3</th>\n",
       "      <th>4</th>\n",
       "      <th>5</th>\n",
       "      <th>6</th>\n",
       "      <th>7</th>\n",
       "      <th>8</th>\n",
       "      <th>9</th>\n",
       "      <th>10</th>\n",
       "    </tr>\n",
       "    <tr>\n",
       "      <th>GRNAME</th>\n",
       "      <th>AccidentYear</th>\n",
       "      <th></th>\n",
       "      <th></th>\n",
       "      <th></th>\n",
       "      <th></th>\n",
       "      <th></th>\n",
       "      <th></th>\n",
       "      <th></th>\n",
       "      <th></th>\n",
       "      <th></th>\n",
       "      <th></th>\n",
       "    </tr>\n",
       "  </thead>\n",
       "  <tbody>\n",
       "    <tr>\n",
       "      <th rowspan=\"5\" valign=\"top\">Agway Ins Co</th>\n",
       "      <th>1988</th>\n",
       "      <td>1.0</td>\n",
       "      <td>0.0</td>\n",
       "      <td>0.0</td>\n",
       "      <td>0.0</td>\n",
       "      <td>0.0</td>\n",
       "      <td>0.0</td>\n",
       "      <td>0.0</td>\n",
       "      <td>0.0</td>\n",
       "      <td>0.0</td>\n",
       "      <td>0.0</td>\n",
       "    </tr>\n",
       "    <tr>\n",
       "      <th>1989</th>\n",
       "      <td>0.0</td>\n",
       "      <td>0.0</td>\n",
       "      <td>0.0</td>\n",
       "      <td>0.0</td>\n",
       "      <td>0.0</td>\n",
       "      <td>0.0</td>\n",
       "      <td>23.0</td>\n",
       "      <td>23.0</td>\n",
       "      <td>31.0</td>\n",
       "      <td>NaN</td>\n",
       "    </tr>\n",
       "    <tr>\n",
       "      <th>1990</th>\n",
       "      <td>0.0</td>\n",
       "      <td>2.0</td>\n",
       "      <td>2.0</td>\n",
       "      <td>2.0</td>\n",
       "      <td>2.0</td>\n",
       "      <td>16.0</td>\n",
       "      <td>16.0</td>\n",
       "      <td>23.0</td>\n",
       "      <td>NaN</td>\n",
       "      <td>NaN</td>\n",
       "    </tr>\n",
       "    <tr>\n",
       "      <th>1991</th>\n",
       "      <td>8.0</td>\n",
       "      <td>17.0</td>\n",
       "      <td>25.0</td>\n",
       "      <td>31.0</td>\n",
       "      <td>26.0</td>\n",
       "      <td>29.0</td>\n",
       "      <td>38.0</td>\n",
       "      <td>NaN</td>\n",
       "      <td>NaN</td>\n",
       "      <td>NaN</td>\n",
       "    </tr>\n",
       "    <tr>\n",
       "      <th>1992</th>\n",
       "      <td>0.0</td>\n",
       "      <td>0.0</td>\n",
       "      <td>0.0</td>\n",
       "      <td>0.0</td>\n",
       "      <td>0.0</td>\n",
       "      <td>0.0</td>\n",
       "      <td>NaN</td>\n",
       "      <td>NaN</td>\n",
       "      <td>NaN</td>\n",
       "      <td>NaN</td>\n",
       "    </tr>\n",
       "  </tbody>\n",
       "</table>\n",
       "</div>"
      ],
      "text/plain": [
       "DevelopmentLag              1     2     3     4     5     6     7     8   \\\n",
       "GRNAME       AccidentYear                                                  \n",
       "Agway Ins Co 1988          1.0   0.0   0.0   0.0   0.0   0.0   0.0   0.0   \n",
       "             1989          0.0   0.0   0.0   0.0   0.0   0.0  23.0  23.0   \n",
       "             1990          0.0   2.0   2.0   2.0   2.0  16.0  16.0  23.0   \n",
       "             1991          8.0  17.0  25.0  31.0  26.0  29.0  38.0   NaN   \n",
       "             1992          0.0   0.0   0.0   0.0   0.0   0.0   NaN   NaN   \n",
       "\n",
       "DevelopmentLag               9    10  \n",
       "GRNAME       AccidentYear             \n",
       "Agway Ins Co 1988           0.0  0.0  \n",
       "             1989          31.0  NaN  \n",
       "             1990           NaN  NaN  \n",
       "             1991           NaN  NaN  \n",
       "             1992           NaN  NaN  "
      ]
     },
     "execution_count": 428,
     "metadata": {},
     "output_type": "execute_result"
    }
   ],
   "source": [
    "triangle_frame1 = triangle_frame.groupby(level=0).filter(lambda x : np.nansum(x)  > 0)\n",
    "triangle_frame1.head()"
   ]
  },
  {
   "cell_type": "code",
   "execution_count": 431,
   "metadata": {},
   "outputs": [
    {
     "data": {
      "text/html": [
       "<div>\n",
       "<style scoped>\n",
       "    .dataframe tbody tr th:only-of-type {\n",
       "        vertical-align: middle;\n",
       "    }\n",
       "\n",
       "    .dataframe tbody tr th {\n",
       "        vertical-align: top;\n",
       "    }\n",
       "\n",
       "    .dataframe thead th {\n",
       "        text-align: right;\n",
       "    }\n",
       "</style>\n",
       "<table border=\"1\" class=\"dataframe\">\n",
       "  <thead>\n",
       "    <tr style=\"text-align: right;\">\n",
       "      <th></th>\n",
       "      <th>DevelopmentLag</th>\n",
       "      <th>1</th>\n",
       "      <th>2</th>\n",
       "      <th>3</th>\n",
       "      <th>4</th>\n",
       "      <th>5</th>\n",
       "      <th>6</th>\n",
       "      <th>7</th>\n",
       "      <th>8</th>\n",
       "      <th>9</th>\n",
       "    </tr>\n",
       "    <tr>\n",
       "      <th>GRNAME</th>\n",
       "      <th>AccidentYear</th>\n",
       "      <th></th>\n",
       "      <th></th>\n",
       "      <th></th>\n",
       "      <th></th>\n",
       "      <th></th>\n",
       "      <th></th>\n",
       "      <th></th>\n",
       "      <th></th>\n",
       "      <th></th>\n",
       "    </tr>\n",
       "  </thead>\n",
       "  <tbody>\n",
       "    <tr>\n",
       "      <th rowspan=\"10\" valign=\"top\">Alaska Nat Ins Co</th>\n",
       "      <th>1988</th>\n",
       "      <td>1.803922</td>\n",
       "      <td>1.221941</td>\n",
       "      <td>1.086264</td>\n",
       "      <td>1.037041</td>\n",
       "      <td>1.026627</td>\n",
       "      <td>1.014131</td>\n",
       "      <td>1.007320</td>\n",
       "      <td>1.006216</td>\n",
       "      <td>1.00174</td>\n",
       "    </tr>\n",
       "    <tr>\n",
       "      <th>1989</th>\n",
       "      <td>1.921255</td>\n",
       "      <td>1.189670</td>\n",
       "      <td>1.073097</td>\n",
       "      <td>1.037085</td>\n",
       "      <td>1.014703</td>\n",
       "      <td>1.014126</td>\n",
       "      <td>1.006749</td>\n",
       "      <td>1.006133</td>\n",
       "      <td>NaN</td>\n",
       "    </tr>\n",
       "    <tr>\n",
       "      <th>1990</th>\n",
       "      <td>2.218639</td>\n",
       "      <td>1.276572</td>\n",
       "      <td>1.097087</td>\n",
       "      <td>1.034778</td>\n",
       "      <td>1.013287</td>\n",
       "      <td>1.011827</td>\n",
       "      <td>1.008957</td>\n",
       "      <td>NaN</td>\n",
       "      <td>NaN</td>\n",
       "    </tr>\n",
       "    <tr>\n",
       "      <th>1991</th>\n",
       "      <td>2.254197</td>\n",
       "      <td>1.222632</td>\n",
       "      <td>1.099240</td>\n",
       "      <td>1.042958</td>\n",
       "      <td>1.028682</td>\n",
       "      <td>1.015861</td>\n",
       "      <td>NaN</td>\n",
       "      <td>NaN</td>\n",
       "      <td>NaN</td>\n",
       "    </tr>\n",
       "    <tr>\n",
       "      <th>1992</th>\n",
       "      <td>2.059459</td>\n",
       "      <td>1.174339</td>\n",
       "      <td>1.049215</td>\n",
       "      <td>1.029666</td>\n",
       "      <td>1.014614</td>\n",
       "      <td>NaN</td>\n",
       "      <td>NaN</td>\n",
       "      <td>NaN</td>\n",
       "      <td>NaN</td>\n",
       "    </tr>\n",
       "    <tr>\n",
       "      <th>1993</th>\n",
       "      <td>1.989665</td>\n",
       "      <td>1.180176</td>\n",
       "      <td>1.075695</td>\n",
       "      <td>1.054239</td>\n",
       "      <td>NaN</td>\n",
       "      <td>NaN</td>\n",
       "      <td>NaN</td>\n",
       "      <td>NaN</td>\n",
       "      <td>NaN</td>\n",
       "    </tr>\n",
       "    <tr>\n",
       "      <th>1994</th>\n",
       "      <td>2.048829</td>\n",
       "      <td>1.189760</td>\n",
       "      <td>1.084901</td>\n",
       "      <td>NaN</td>\n",
       "      <td>NaN</td>\n",
       "      <td>NaN</td>\n",
       "      <td>NaN</td>\n",
       "      <td>NaN</td>\n",
       "      <td>NaN</td>\n",
       "    </tr>\n",
       "    <tr>\n",
       "      <th>1995</th>\n",
       "      <td>2.076105</td>\n",
       "      <td>1.212061</td>\n",
       "      <td>NaN</td>\n",
       "      <td>NaN</td>\n",
       "      <td>NaN</td>\n",
       "      <td>NaN</td>\n",
       "      <td>NaN</td>\n",
       "      <td>NaN</td>\n",
       "      <td>NaN</td>\n",
       "    </tr>\n",
       "    <tr>\n",
       "      <th>1996</th>\n",
       "      <td>1.950295</td>\n",
       "      <td>NaN</td>\n",
       "      <td>NaN</td>\n",
       "      <td>NaN</td>\n",
       "      <td>NaN</td>\n",
       "      <td>NaN</td>\n",
       "      <td>NaN</td>\n",
       "      <td>NaN</td>\n",
       "      <td>NaN</td>\n",
       "    </tr>\n",
       "    <tr>\n",
       "      <th>1997</th>\n",
       "      <td>NaN</td>\n",
       "      <td>NaN</td>\n",
       "      <td>NaN</td>\n",
       "      <td>NaN</td>\n",
       "      <td>NaN</td>\n",
       "      <td>NaN</td>\n",
       "      <td>NaN</td>\n",
       "      <td>NaN</td>\n",
       "      <td>NaN</td>\n",
       "    </tr>\n",
       "  </tbody>\n",
       "</table>\n",
       "</div>"
      ],
      "text/plain": [
       "DevelopmentLag                         1         2         3         4  \\\n",
       "GRNAME            AccidentYear                                           \n",
       "Alaska Nat Ins Co 1988          1.803922  1.221941  1.086264  1.037041   \n",
       "                  1989          1.921255  1.189670  1.073097  1.037085   \n",
       "                  1990          2.218639  1.276572  1.097087  1.034778   \n",
       "                  1991          2.254197  1.222632  1.099240  1.042958   \n",
       "                  1992          2.059459  1.174339  1.049215  1.029666   \n",
       "                  1993          1.989665  1.180176  1.075695  1.054239   \n",
       "                  1994          2.048829  1.189760  1.084901       NaN   \n",
       "                  1995          2.076105  1.212061       NaN       NaN   \n",
       "                  1996          1.950295       NaN       NaN       NaN   \n",
       "                  1997               NaN       NaN       NaN       NaN   \n",
       "\n",
       "DevelopmentLag                         5         6         7         8  \\\n",
       "GRNAME            AccidentYear                                           \n",
       "Alaska Nat Ins Co 1988          1.026627  1.014131  1.007320  1.006216   \n",
       "                  1989          1.014703  1.014126  1.006749  1.006133   \n",
       "                  1990          1.013287  1.011827  1.008957       NaN   \n",
       "                  1991          1.028682  1.015861       NaN       NaN   \n",
       "                  1992          1.014614       NaN       NaN       NaN   \n",
       "                  1993               NaN       NaN       NaN       NaN   \n",
       "                  1994               NaN       NaN       NaN       NaN   \n",
       "                  1995               NaN       NaN       NaN       NaN   \n",
       "                  1996               NaN       NaN       NaN       NaN   \n",
       "                  1997               NaN       NaN       NaN       NaN   \n",
       "\n",
       "DevelopmentLag                        9  \n",
       "GRNAME            AccidentYear           \n",
       "Alaska Nat Ins Co 1988          1.00174  \n",
       "                  1989              NaN  \n",
       "                  1990              NaN  \n",
       "                  1991              NaN  \n",
       "                  1992              NaN  \n",
       "                  1993              NaN  \n",
       "                  1994              NaN  \n",
       "                  1995              NaN  \n",
       "                  1996              NaN  \n",
       "                  1997              NaN  "
      ]
     },
     "execution_count": 431,
     "metadata": {},
     "output_type": "execute_result"
    }
   ],
   "source": [
    "ata_df = triangle_frame1.iloc[:, 1:].values / triangle_frame1.iloc[:, :-1] \n",
    "ata_df.iloc[10:20, :]"
   ]
  },
  {
   "cell_type": "code",
   "execution_count": 430,
   "metadata": {},
   "outputs": [
    {
     "data": {
      "text/html": [
       "<div>\n",
       "<style scoped>\n",
       "    .dataframe tbody tr th:only-of-type {\n",
       "        vertical-align: middle;\n",
       "    }\n",
       "\n",
       "    .dataframe tbody tr th {\n",
       "        vertical-align: top;\n",
       "    }\n",
       "\n",
       "    .dataframe thead th {\n",
       "        text-align: right;\n",
       "    }\n",
       "</style>\n",
       "<table border=\"1\" class=\"dataframe\">\n",
       "  <thead>\n",
       "    <tr style=\"text-align: right;\">\n",
       "      <th></th>\n",
       "      <th></th>\n",
       "      <th>1</th>\n",
       "      <th>2</th>\n",
       "      <th>3</th>\n",
       "      <th>4</th>\n",
       "      <th>5</th>\n",
       "      <th>6</th>\n",
       "      <th>7</th>\n",
       "      <th>8</th>\n",
       "      <th>9</th>\n",
       "    </tr>\n",
       "    <tr>\n",
       "      <th>GRNAME</th>\n",
       "      <th>AccidentYear</th>\n",
       "      <th></th>\n",
       "      <th></th>\n",
       "      <th></th>\n",
       "      <th></th>\n",
       "      <th></th>\n",
       "      <th></th>\n",
       "      <th></th>\n",
       "      <th></th>\n",
       "      <th></th>\n",
       "    </tr>\n",
       "  </thead>\n",
       "  <tbody>\n",
       "    <tr>\n",
       "      <th rowspan=\"10\" valign=\"top\">Alaska Nat Ins Co</th>\n",
       "      <th>1988</th>\n",
       "      <td>1.803922</td>\n",
       "      <td>1.221941</td>\n",
       "      <td>1.086264</td>\n",
       "      <td>1.037041</td>\n",
       "      <td>1.026627</td>\n",
       "      <td>1.014131</td>\n",
       "      <td>1.007320</td>\n",
       "      <td>1.006216</td>\n",
       "      <td>1.00174</td>\n",
       "    </tr>\n",
       "    <tr>\n",
       "      <th>1989</th>\n",
       "      <td>1.921255</td>\n",
       "      <td>1.189670</td>\n",
       "      <td>1.073097</td>\n",
       "      <td>1.037085</td>\n",
       "      <td>1.014703</td>\n",
       "      <td>1.014126</td>\n",
       "      <td>1.006749</td>\n",
       "      <td>1.006133</td>\n",
       "      <td>NaN</td>\n",
       "    </tr>\n",
       "    <tr>\n",
       "      <th>1990</th>\n",
       "      <td>2.218639</td>\n",
       "      <td>1.276572</td>\n",
       "      <td>1.097087</td>\n",
       "      <td>1.034778</td>\n",
       "      <td>1.013287</td>\n",
       "      <td>1.011827</td>\n",
       "      <td>1.008957</td>\n",
       "      <td>NaN</td>\n",
       "      <td>NaN</td>\n",
       "    </tr>\n",
       "    <tr>\n",
       "      <th>1991</th>\n",
       "      <td>2.254197</td>\n",
       "      <td>1.222632</td>\n",
       "      <td>1.099240</td>\n",
       "      <td>1.042958</td>\n",
       "      <td>1.028682</td>\n",
       "      <td>1.015861</td>\n",
       "      <td>NaN</td>\n",
       "      <td>NaN</td>\n",
       "      <td>NaN</td>\n",
       "    </tr>\n",
       "    <tr>\n",
       "      <th>1992</th>\n",
       "      <td>2.059459</td>\n",
       "      <td>1.174339</td>\n",
       "      <td>1.049215</td>\n",
       "      <td>1.029666</td>\n",
       "      <td>1.014614</td>\n",
       "      <td>NaN</td>\n",
       "      <td>NaN</td>\n",
       "      <td>NaN</td>\n",
       "      <td>NaN</td>\n",
       "    </tr>\n",
       "    <tr>\n",
       "      <th>1993</th>\n",
       "      <td>1.989665</td>\n",
       "      <td>1.180176</td>\n",
       "      <td>1.075695</td>\n",
       "      <td>1.054239</td>\n",
       "      <td>NaN</td>\n",
       "      <td>NaN</td>\n",
       "      <td>NaN</td>\n",
       "      <td>NaN</td>\n",
       "      <td>NaN</td>\n",
       "    </tr>\n",
       "    <tr>\n",
       "      <th>1994</th>\n",
       "      <td>2.048829</td>\n",
       "      <td>1.189760</td>\n",
       "      <td>1.084901</td>\n",
       "      <td>NaN</td>\n",
       "      <td>NaN</td>\n",
       "      <td>NaN</td>\n",
       "      <td>NaN</td>\n",
       "      <td>NaN</td>\n",
       "      <td>NaN</td>\n",
       "    </tr>\n",
       "    <tr>\n",
       "      <th>1995</th>\n",
       "      <td>2.076105</td>\n",
       "      <td>1.212061</td>\n",
       "      <td>NaN</td>\n",
       "      <td>NaN</td>\n",
       "      <td>NaN</td>\n",
       "      <td>NaN</td>\n",
       "      <td>NaN</td>\n",
       "      <td>NaN</td>\n",
       "      <td>NaN</td>\n",
       "    </tr>\n",
       "    <tr>\n",
       "      <th>1996</th>\n",
       "      <td>1.950295</td>\n",
       "      <td>NaN</td>\n",
       "      <td>NaN</td>\n",
       "      <td>NaN</td>\n",
       "      <td>NaN</td>\n",
       "      <td>NaN</td>\n",
       "      <td>NaN</td>\n",
       "      <td>NaN</td>\n",
       "      <td>NaN</td>\n",
       "    </tr>\n",
       "    <tr>\n",
       "      <th>1997</th>\n",
       "      <td>NaN</td>\n",
       "      <td>NaN</td>\n",
       "      <td>NaN</td>\n",
       "      <td>NaN</td>\n",
       "      <td>NaN</td>\n",
       "      <td>NaN</td>\n",
       "      <td>NaN</td>\n",
       "      <td>NaN</td>\n",
       "      <td>NaN</td>\n",
       "    </tr>\n",
       "  </tbody>\n",
       "</table>\n",
       "</div>"
      ],
      "text/plain": [
       "                                       1         2         3         4  \\\n",
       "GRNAME            AccidentYear                                           \n",
       "Alaska Nat Ins Co 1988          1.803922  1.221941  1.086264  1.037041   \n",
       "                  1989          1.921255  1.189670  1.073097  1.037085   \n",
       "                  1990          2.218639  1.276572  1.097087  1.034778   \n",
       "                  1991          2.254197  1.222632  1.099240  1.042958   \n",
       "                  1992          2.059459  1.174339  1.049215  1.029666   \n",
       "                  1993          1.989665  1.180176  1.075695  1.054239   \n",
       "                  1994          2.048829  1.189760  1.084901       NaN   \n",
       "                  1995          2.076105  1.212061       NaN       NaN   \n",
       "                  1996          1.950295       NaN       NaN       NaN   \n",
       "                  1997               NaN       NaN       NaN       NaN   \n",
       "\n",
       "                                       5         6         7         8  \\\n",
       "GRNAME            AccidentYear                                           \n",
       "Alaska Nat Ins Co 1988          1.026627  1.014131  1.007320  1.006216   \n",
       "                  1989          1.014703  1.014126  1.006749  1.006133   \n",
       "                  1990          1.013287  1.011827  1.008957       NaN   \n",
       "                  1991          1.028682  1.015861       NaN       NaN   \n",
       "                  1992          1.014614       NaN       NaN       NaN   \n",
       "                  1993               NaN       NaN       NaN       NaN   \n",
       "                  1994               NaN       NaN       NaN       NaN   \n",
       "                  1995               NaN       NaN       NaN       NaN   \n",
       "                  1996               NaN       NaN       NaN       NaN   \n",
       "                  1997               NaN       NaN       NaN       NaN   \n",
       "\n",
       "                                      9  \n",
       "GRNAME            AccidentYear           \n",
       "Alaska Nat Ins Co 1988          1.00174  \n",
       "                  1989              NaN  \n",
       "                  1990              NaN  \n",
       "                  1991              NaN  \n",
       "                  1992              NaN  \n",
       "                  1993              NaN  \n",
       "                  1994              NaN  \n",
       "                  1995              NaN  \n",
       "                  1996              NaN  \n",
       "                  1997              NaN  "
      ]
     },
     "execution_count": 430,
     "metadata": {},
     "output_type": "execute_result"
    }
   ],
   "source": [
    "ata_df = triangle_frame1.iloc[:, 1:].values / triangle_frame1.iloc[:, :-1] \n",
    "ata_df.iloc[10:20, :]"
   ]
  },
  {
   "cell_type": "code",
   "execution_count": 439,
   "metadata": {},
   "outputs": [
    {
     "name": "stdout",
     "output_type": "stream",
     "text": [
      "28.4 ms ± 1.38 ms per loop (mean ± std. dev. of 7 runs, 10 loops each)\n"
     ]
    }
   ],
   "source": [
    "%timeit diag_df = triangle_frame1.groupby(level=0).apply(lambda x : pd.Series(np.diagonal(x.values[:, ::-1])[::-1], index=range(1,11)))\n"
   ]
  },
  {
   "cell_type": "code",
   "execution_count": 445,
   "metadata": {},
   "outputs": [
    {
     "name": "stdout",
     "output_type": "stream",
     "text": [
      "27.6 ms ± 542 µs per loop (mean ± std. dev. of 7 runs, 10 loops each)\n"
     ]
    }
   ],
   "source": [
    "%timeit diag_df = triangle_frame1.groupby(level=0).apply(lambda x : pd.Series(np.diagonal(x.values[:, ::-1]), index=range(11,1,-1)))\n"
   ]
  },
  {
   "cell_type": "code",
   "execution_count": 442,
   "metadata": {},
   "outputs": [
    {
     "data": {
      "text/html": [
       "<div>\n",
       "<style scoped>\n",
       "    .dataframe tbody tr th:only-of-type {\n",
       "        vertical-align: middle;\n",
       "    }\n",
       "\n",
       "    .dataframe tbody tr th {\n",
       "        vertical-align: top;\n",
       "    }\n",
       "\n",
       "    .dataframe thead th {\n",
       "        text-align: right;\n",
       "    }\n",
       "</style>\n",
       "<table border=\"1\" class=\"dataframe\">\n",
       "  <thead>\n",
       "    <tr style=\"text-align: right;\">\n",
       "      <th>DevelopmentLag</th>\n",
       "      <th>10</th>\n",
       "      <th>9</th>\n",
       "      <th>8</th>\n",
       "      <th>7</th>\n",
       "      <th>6</th>\n",
       "      <th>5</th>\n",
       "      <th>4</th>\n",
       "      <th>3</th>\n",
       "      <th>2</th>\n",
       "      <th>1</th>\n",
       "    </tr>\n",
       "    <tr>\n",
       "      <th>GRNAME</th>\n",
       "      <th></th>\n",
       "      <th></th>\n",
       "      <th></th>\n",
       "      <th></th>\n",
       "      <th></th>\n",
       "      <th></th>\n",
       "      <th></th>\n",
       "      <th></th>\n",
       "      <th></th>\n",
       "      <th></th>\n",
       "    </tr>\n",
       "  </thead>\n",
       "  <tbody>\n",
       "    <tr>\n",
       "      <th>Agway Ins Co</th>\n",
       "      <td>0.0</td>\n",
       "      <td>31.0</td>\n",
       "      <td>23.0</td>\n",
       "      <td>38.0</td>\n",
       "      <td>0.0</td>\n",
       "      <td>0.0</td>\n",
       "      <td>0.0</td>\n",
       "      <td>0.0</td>\n",
       "      <td>0.0</td>\n",
       "      <td>0.0</td>\n",
       "    </tr>\n",
       "    <tr>\n",
       "      <th>Alaska Nat Ins Co</th>\n",
       "      <td>11513.0</td>\n",
       "      <td>14108.0</td>\n",
       "      <td>15882.0</td>\n",
       "      <td>22225.0</td>\n",
       "      <td>24299.0</td>\n",
       "      <td>22158.0</td>\n",
       "      <td>18631.0</td>\n",
       "      <td>18450.0</td>\n",
       "      <td>12870.0</td>\n",
       "      <td>7048.0</td>\n",
       "    </tr>\n",
       "    <tr>\n",
       "      <th>Alaska Timber Ins Exchange</th>\n",
       "      <td>6146.0</td>\n",
       "      <td>6921.0</td>\n",
       "      <td>9387.0</td>\n",
       "      <td>6242.0</td>\n",
       "      <td>4354.0</td>\n",
       "      <td>4610.0</td>\n",
       "      <td>5392.0</td>\n",
       "      <td>5559.0</td>\n",
       "      <td>4342.0</td>\n",
       "      <td>1778.0</td>\n",
       "    </tr>\n",
       "    <tr>\n",
       "      <th>Allstate Ins Co Grp</th>\n",
       "      <td>325322.0</td>\n",
       "      <td>273873.0</td>\n",
       "      <td>256788.0</td>\n",
       "      <td>239195.0</td>\n",
       "      <td>159496.0</td>\n",
       "      <td>87215.0</td>\n",
       "      <td>91077.0</td>\n",
       "      <td>87311.0</td>\n",
       "      <td>44916.0</td>\n",
       "      <td>691.0</td>\n",
       "    </tr>\n",
       "    <tr>\n",
       "      <th>American Contractors Ins Grp</th>\n",
       "      <td>0.0</td>\n",
       "      <td>0.0</td>\n",
       "      <td>689.0</td>\n",
       "      <td>555.0</td>\n",
       "      <td>414.0</td>\n",
       "      <td>835.0</td>\n",
       "      <td>264.0</td>\n",
       "      <td>764.0</td>\n",
       "      <td>3295.0</td>\n",
       "      <td>787.0</td>\n",
       "    </tr>\n",
       "  </tbody>\n",
       "</table>\n",
       "</div>"
      ],
      "text/plain": [
       "DevelopmentLag                      10        9         8         7   \\\n",
       "GRNAME                                                                 \n",
       "Agway Ins Co                       0.0      31.0      23.0      38.0   \n",
       "Alaska Nat Ins Co              11513.0   14108.0   15882.0   22225.0   \n",
       "Alaska Timber Ins Exchange      6146.0    6921.0    9387.0    6242.0   \n",
       "Allstate Ins Co Grp           325322.0  273873.0  256788.0  239195.0   \n",
       "American Contractors Ins Grp       0.0       0.0     689.0     555.0   \n",
       "\n",
       "DevelopmentLag                      6        5        4        3        2   \\\n",
       "GRNAME                                                                       \n",
       "Agway Ins Co                       0.0      0.0      0.0      0.0      0.0   \n",
       "Alaska Nat Ins Co              24299.0  22158.0  18631.0  18450.0  12870.0   \n",
       "Alaska Timber Ins Exchange      4354.0   4610.0   5392.0   5559.0   4342.0   \n",
       "Allstate Ins Co Grp           159496.0  87215.0  91077.0  87311.0  44916.0   \n",
       "American Contractors Ins Grp     414.0    835.0    264.0    764.0   3295.0   \n",
       "\n",
       "DevelopmentLag                    1   \n",
       "GRNAME                                \n",
       "Agway Ins Co                     0.0  \n",
       "Alaska Nat Ins Co             7048.0  \n",
       "Alaska Timber Ins Exchange    1778.0  \n",
       "Allstate Ins Co Grp            691.0  \n",
       "American Contractors Ins Grp   787.0  "
      ]
     },
     "execution_count": 442,
     "metadata": {},
     "output_type": "execute_result"
    }
   ],
   "source": [
    "diag_df = triangle_frame1.groupby(level=0).apply(lambda x : pd.Series(np.diagonal(x.values[:, ::-1]), index=x.columns[::-1]))\n",
    "diag_df.head()    "
   ]
  },
  {
   "cell_type": "code",
   "execution_count": 453,
   "metadata": {},
   "outputs": [
    {
     "data": {
      "text/html": [
       "<div>\n",
       "<style scoped>\n",
       "    .dataframe tbody tr th:only-of-type {\n",
       "        vertical-align: middle;\n",
       "    }\n",
       "\n",
       "    .dataframe tbody tr th {\n",
       "        vertical-align: top;\n",
       "    }\n",
       "\n",
       "    .dataframe thead th {\n",
       "        text-align: right;\n",
       "    }\n",
       "</style>\n",
       "<table border=\"1\" class=\"dataframe\">\n",
       "  <thead>\n",
       "    <tr style=\"text-align: right;\">\n",
       "      <th></th>\n",
       "      <th>DevelopmentLag</th>\n",
       "      <th>1</th>\n",
       "      <th>2</th>\n",
       "      <th>3</th>\n",
       "      <th>4</th>\n",
       "      <th>5</th>\n",
       "      <th>6</th>\n",
       "      <th>7</th>\n",
       "      <th>8</th>\n",
       "      <th>9</th>\n",
       "      <th>10</th>\n",
       "    </tr>\n",
       "    <tr>\n",
       "      <th>GRNAME</th>\n",
       "      <th>AccidentYear</th>\n",
       "      <th></th>\n",
       "      <th></th>\n",
       "      <th></th>\n",
       "      <th></th>\n",
       "      <th></th>\n",
       "      <th></th>\n",
       "      <th></th>\n",
       "      <th></th>\n",
       "      <th></th>\n",
       "      <th></th>\n",
       "    </tr>\n",
       "  </thead>\n",
       "  <tbody>\n",
       "    <tr>\n",
       "      <th rowspan=\"10\" valign=\"top\">Agway Ins Co</th>\n",
       "      <th>1988</th>\n",
       "      <td>1.0</td>\n",
       "      <td>0.0</td>\n",
       "      <td>0.0</td>\n",
       "      <td>0.0</td>\n",
       "      <td>0.0</td>\n",
       "      <td>0.0</td>\n",
       "      <td>0.0</td>\n",
       "      <td>0.0</td>\n",
       "      <td>0.0</td>\n",
       "      <td>0.0</td>\n",
       "    </tr>\n",
       "    <tr>\n",
       "      <th>1989</th>\n",
       "      <td>0.0</td>\n",
       "      <td>0.0</td>\n",
       "      <td>0.0</td>\n",
       "      <td>0.0</td>\n",
       "      <td>0.0</td>\n",
       "      <td>0.0</td>\n",
       "      <td>23.0</td>\n",
       "      <td>23.0</td>\n",
       "      <td>31.0</td>\n",
       "      <td>NaN</td>\n",
       "    </tr>\n",
       "    <tr>\n",
       "      <th>1990</th>\n",
       "      <td>0.0</td>\n",
       "      <td>2.0</td>\n",
       "      <td>2.0</td>\n",
       "      <td>2.0</td>\n",
       "      <td>2.0</td>\n",
       "      <td>16.0</td>\n",
       "      <td>16.0</td>\n",
       "      <td>23.0</td>\n",
       "      <td>NaN</td>\n",
       "      <td>NaN</td>\n",
       "    </tr>\n",
       "    <tr>\n",
       "      <th>1991</th>\n",
       "      <td>8.0</td>\n",
       "      <td>17.0</td>\n",
       "      <td>25.0</td>\n",
       "      <td>31.0</td>\n",
       "      <td>26.0</td>\n",
       "      <td>29.0</td>\n",
       "      <td>38.0</td>\n",
       "      <td>NaN</td>\n",
       "      <td>NaN</td>\n",
       "      <td>NaN</td>\n",
       "    </tr>\n",
       "    <tr>\n",
       "      <th>1992</th>\n",
       "      <td>0.0</td>\n",
       "      <td>0.0</td>\n",
       "      <td>0.0</td>\n",
       "      <td>0.0</td>\n",
       "      <td>0.0</td>\n",
       "      <td>0.0</td>\n",
       "      <td>NaN</td>\n",
       "      <td>NaN</td>\n",
       "      <td>NaN</td>\n",
       "      <td>NaN</td>\n",
       "    </tr>\n",
       "    <tr>\n",
       "      <th>1993</th>\n",
       "      <td>0.0</td>\n",
       "      <td>0.0</td>\n",
       "      <td>0.0</td>\n",
       "      <td>0.0</td>\n",
       "      <td>0.0</td>\n",
       "      <td>NaN</td>\n",
       "      <td>NaN</td>\n",
       "      <td>NaN</td>\n",
       "      <td>NaN</td>\n",
       "      <td>NaN</td>\n",
       "    </tr>\n",
       "    <tr>\n",
       "      <th>1994</th>\n",
       "      <td>0.0</td>\n",
       "      <td>0.0</td>\n",
       "      <td>0.0</td>\n",
       "      <td>0.0</td>\n",
       "      <td>NaN</td>\n",
       "      <td>NaN</td>\n",
       "      <td>NaN</td>\n",
       "      <td>NaN</td>\n",
       "      <td>NaN</td>\n",
       "      <td>NaN</td>\n",
       "    </tr>\n",
       "    <tr>\n",
       "      <th>1995</th>\n",
       "      <td>0.0</td>\n",
       "      <td>0.0</td>\n",
       "      <td>0.0</td>\n",
       "      <td>NaN</td>\n",
       "      <td>NaN</td>\n",
       "      <td>NaN</td>\n",
       "      <td>NaN</td>\n",
       "      <td>NaN</td>\n",
       "      <td>NaN</td>\n",
       "      <td>NaN</td>\n",
       "    </tr>\n",
       "    <tr>\n",
       "      <th>1996</th>\n",
       "      <td>0.0</td>\n",
       "      <td>0.0</td>\n",
       "      <td>NaN</td>\n",
       "      <td>NaN</td>\n",
       "      <td>NaN</td>\n",
       "      <td>NaN</td>\n",
       "      <td>NaN</td>\n",
       "      <td>NaN</td>\n",
       "      <td>NaN</td>\n",
       "      <td>NaN</td>\n",
       "    </tr>\n",
       "    <tr>\n",
       "      <th>1997</th>\n",
       "      <td>0.0</td>\n",
       "      <td>NaN</td>\n",
       "      <td>NaN</td>\n",
       "      <td>NaN</td>\n",
       "      <td>NaN</td>\n",
       "      <td>NaN</td>\n",
       "      <td>NaN</td>\n",
       "      <td>NaN</td>\n",
       "      <td>NaN</td>\n",
       "      <td>NaN</td>\n",
       "    </tr>\n",
       "    <tr>\n",
       "      <th rowspan=\"10\" valign=\"top\">Alaska Nat Ins Co</th>\n",
       "      <th>1988</th>\n",
       "      <td>4386.0</td>\n",
       "      <td>7912.0</td>\n",
       "      <td>9668.0</td>\n",
       "      <td>10502.0</td>\n",
       "      <td>10891.0</td>\n",
       "      <td>11181.0</td>\n",
       "      <td>11339.0</td>\n",
       "      <td>11422.0</td>\n",
       "      <td>11493.0</td>\n",
       "      <td>11513.0</td>\n",
       "    </tr>\n",
       "    <tr>\n",
       "      <th>1989</th>\n",
       "      <td>5321.0</td>\n",
       "      <td>10223.0</td>\n",
       "      <td>12162.0</td>\n",
       "      <td>13051.0</td>\n",
       "      <td>13535.0</td>\n",
       "      <td>13734.0</td>\n",
       "      <td>13928.0</td>\n",
       "      <td>14022.0</td>\n",
       "      <td>14108.0</td>\n",
       "      <td>NaN</td>\n",
       "    </tr>\n",
       "    <tr>\n",
       "      <th>1990</th>\n",
       "      <td>4775.0</td>\n",
       "      <td>10594.0</td>\n",
       "      <td>13524.0</td>\n",
       "      <td>14837.0</td>\n",
       "      <td>15353.0</td>\n",
       "      <td>15557.0</td>\n",
       "      <td>15741.0</td>\n",
       "      <td>15882.0</td>\n",
       "      <td>NaN</td>\n",
       "      <td>NaN</td>\n",
       "    </tr>\n",
       "    <tr>\n",
       "      <th>1991</th>\n",
       "      <td>6731.0</td>\n",
       "      <td>15173.0</td>\n",
       "      <td>18551.0</td>\n",
       "      <td>20392.0</td>\n",
       "      <td>21268.0</td>\n",
       "      <td>21878.0</td>\n",
       "      <td>22225.0</td>\n",
       "      <td>NaN</td>\n",
       "      <td>NaN</td>\n",
       "      <td>NaN</td>\n",
       "    </tr>\n",
       "    <tr>\n",
       "      <th>1992</th>\n",
       "      <td>9166.0</td>\n",
       "      <td>18877.0</td>\n",
       "      <td>22168.0</td>\n",
       "      <td>23259.0</td>\n",
       "      <td>23949.0</td>\n",
       "      <td>24299.0</td>\n",
       "      <td>NaN</td>\n",
       "      <td>NaN</td>\n",
       "      <td>NaN</td>\n",
       "      <td>NaN</td>\n",
       "    </tr>\n",
       "    <tr>\n",
       "      <th>1993</th>\n",
       "      <td>8321.0</td>\n",
       "      <td>16556.0</td>\n",
       "      <td>19539.0</td>\n",
       "      <td>21018.0</td>\n",
       "      <td>22158.0</td>\n",
       "      <td>NaN</td>\n",
       "      <td>NaN</td>\n",
       "      <td>NaN</td>\n",
       "      <td>NaN</td>\n",
       "      <td>NaN</td>\n",
       "    </tr>\n",
       "    <tr>\n",
       "      <th>1994</th>\n",
       "      <td>7045.0</td>\n",
       "      <td>14434.0</td>\n",
       "      <td>17173.0</td>\n",
       "      <td>18631.0</td>\n",
       "      <td>NaN</td>\n",
       "      <td>NaN</td>\n",
       "      <td>NaN</td>\n",
       "      <td>NaN</td>\n",
       "      <td>NaN</td>\n",
       "      <td>NaN</td>\n",
       "    </tr>\n",
       "    <tr>\n",
       "      <th>1995</th>\n",
       "      <td>7332.0</td>\n",
       "      <td>15222.0</td>\n",
       "      <td>18450.0</td>\n",
       "      <td>NaN</td>\n",
       "      <td>NaN</td>\n",
       "      <td>NaN</td>\n",
       "      <td>NaN</td>\n",
       "      <td>NaN</td>\n",
       "      <td>NaN</td>\n",
       "      <td>NaN</td>\n",
       "    </tr>\n",
       "    <tr>\n",
       "      <th>1996</th>\n",
       "      <td>6599.0</td>\n",
       "      <td>12870.0</td>\n",
       "      <td>NaN</td>\n",
       "      <td>NaN</td>\n",
       "      <td>NaN</td>\n",
       "      <td>NaN</td>\n",
       "      <td>NaN</td>\n",
       "      <td>NaN</td>\n",
       "      <td>NaN</td>\n",
       "      <td>NaN</td>\n",
       "    </tr>\n",
       "    <tr>\n",
       "      <th>1997</th>\n",
       "      <td>7048.0</td>\n",
       "      <td>NaN</td>\n",
       "      <td>NaN</td>\n",
       "      <td>NaN</td>\n",
       "      <td>NaN</td>\n",
       "      <td>NaN</td>\n",
       "      <td>NaN</td>\n",
       "      <td>NaN</td>\n",
       "      <td>NaN</td>\n",
       "      <td>NaN</td>\n",
       "    </tr>\n",
       "  </tbody>\n",
       "</table>\n",
       "</div>"
      ],
      "text/plain": [
       "DevelopmentLag                      1        2        3        4        5   \\\n",
       "GRNAME            AccidentYear                                               \n",
       "Agway Ins Co      1988             1.0      0.0      0.0      0.0      0.0   \n",
       "                  1989             0.0      0.0      0.0      0.0      0.0   \n",
       "                  1990             0.0      2.0      2.0      2.0      2.0   \n",
       "                  1991             8.0     17.0     25.0     31.0     26.0   \n",
       "                  1992             0.0      0.0      0.0      0.0      0.0   \n",
       "                  1993             0.0      0.0      0.0      0.0      0.0   \n",
       "                  1994             0.0      0.0      0.0      0.0      NaN   \n",
       "                  1995             0.0      0.0      0.0      NaN      NaN   \n",
       "                  1996             0.0      0.0      NaN      NaN      NaN   \n",
       "                  1997             0.0      NaN      NaN      NaN      NaN   \n",
       "Alaska Nat Ins Co 1988          4386.0   7912.0   9668.0  10502.0  10891.0   \n",
       "                  1989          5321.0  10223.0  12162.0  13051.0  13535.0   \n",
       "                  1990          4775.0  10594.0  13524.0  14837.0  15353.0   \n",
       "                  1991          6731.0  15173.0  18551.0  20392.0  21268.0   \n",
       "                  1992          9166.0  18877.0  22168.0  23259.0  23949.0   \n",
       "                  1993          8321.0  16556.0  19539.0  21018.0  22158.0   \n",
       "                  1994          7045.0  14434.0  17173.0  18631.0      NaN   \n",
       "                  1995          7332.0  15222.0  18450.0      NaN      NaN   \n",
       "                  1996          6599.0  12870.0      NaN      NaN      NaN   \n",
       "                  1997          7048.0      NaN      NaN      NaN      NaN   \n",
       "\n",
       "DevelopmentLag                       6        7        8        9        10  \n",
       "GRNAME            AccidentYear                                               \n",
       "Agway Ins Co      1988              0.0      0.0      0.0      0.0      0.0  \n",
       "                  1989              0.0     23.0     23.0     31.0      NaN  \n",
       "                  1990             16.0     16.0     23.0      NaN      NaN  \n",
       "                  1991             29.0     38.0      NaN      NaN      NaN  \n",
       "                  1992              0.0      NaN      NaN      NaN      NaN  \n",
       "                  1993              NaN      NaN      NaN      NaN      NaN  \n",
       "                  1994              NaN      NaN      NaN      NaN      NaN  \n",
       "                  1995              NaN      NaN      NaN      NaN      NaN  \n",
       "                  1996              NaN      NaN      NaN      NaN      NaN  \n",
       "                  1997              NaN      NaN      NaN      NaN      NaN  \n",
       "Alaska Nat Ins Co 1988          11181.0  11339.0  11422.0  11493.0  11513.0  \n",
       "                  1989          13734.0  13928.0  14022.0  14108.0      NaN  \n",
       "                  1990          15557.0  15741.0  15882.0      NaN      NaN  \n",
       "                  1991          21878.0  22225.0      NaN      NaN      NaN  \n",
       "                  1992          24299.0      NaN      NaN      NaN      NaN  \n",
       "                  1993              NaN      NaN      NaN      NaN      NaN  \n",
       "                  1994              NaN      NaN      NaN      NaN      NaN  \n",
       "                  1995              NaN      NaN      NaN      NaN      NaN  \n",
       "                  1996              NaN      NaN      NaN      NaN      NaN  \n",
       "                  1997              NaN      NaN      NaN      NaN      NaN  "
      ]
     },
     "execution_count": 453,
     "metadata": {},
     "output_type": "execute_result"
    }
   ],
   "source": [
    "triangle_frame1.head(20)"
   ]
  },
  {
   "cell_type": "code",
   "execution_count": 471,
   "metadata": {},
   "outputs": [],
   "source": [
    "# %%timeit\n",
    "# %%prun -l 20\n",
    "# %%timeit\n",
    "# remove zero rows\n",
    "triangle_frame1 = triangle_frame.groupby(level=0).filter(lambda x : np.nansum(x)  > 0)\n",
    "\n",
    "# ata factors, picks up index from second data frame \n",
    "ata_df = triangle_frame1.iloc[:, 1:].values / triangle_frame1.iloc[:, :-1] \n",
    "\n",
    "# ldfs with default 1 and tail factor.... \n",
    "ldf_df = ata_df.groupby(level=0).mean().fillna(1.)\n",
    "ldf_df[10] = 1.0\n",
    "\n",
    "# cdfs and add 1 for oldest year \n",
    "cdf_df = ldf_df.iloc[:, ::-1].cumprod(axis=1).iloc[:, ::-1]\n",
    "# cdf_df[10] = 1.0\n",
    "\n",
    "# diagonal\n",
    "diag_df = triangle_frame1.groupby(level=0).apply(lambda x : pd.Series(np.diagonal(x.values[:, ::-1])[::-1], index=x.columns))\n",
    "\n",
    "# ultimate and ibnr\n",
    "ult_df = (diag_df * cdf_df).fillna(0)\n",
    "ibnr_df = ult_df - diag_df\n",
    "ibnr_df['Tot'] = ibnr_df.sum(1)"
   ]
  },
  {
   "cell_type": "code",
   "execution_count": 474,
   "metadata": {},
   "outputs": [
    {
     "data": {
      "text/html": [
       "<style  type=\"text/css\" >\n",
       "</style>  \n",
       "<table id=\"T_69131526_46d0_11e9_89fe_c49ded152ae4\" > \n",
       "<thead>    <tr> \n",
       "        <th class=\"index_name level0\" >DevelopmentLag</th> \n",
       "        <th class=\"col_heading level0 col0\" >1</th> \n",
       "        <th class=\"col_heading level0 col1\" >2</th> \n",
       "        <th class=\"col_heading level0 col2\" >3</th> \n",
       "        <th class=\"col_heading level0 col3\" >4</th> \n",
       "        <th class=\"col_heading level0 col4\" >5</th> \n",
       "        <th class=\"col_heading level0 col5\" >6</th> \n",
       "        <th class=\"col_heading level0 col6\" >7</th> \n",
       "        <th class=\"col_heading level0 col7\" >8</th> \n",
       "        <th class=\"col_heading level0 col8\" >9</th> \n",
       "        <th class=\"col_heading level0 col9\" >10</th> \n",
       "        <th class=\"col_heading level0 col10\" >Tot</th> \n",
       "    </tr>    <tr> \n",
       "        <th class=\"index_name level0\" >GRNAME</th> \n",
       "        <th class=\"blank\" ></th> \n",
       "        <th class=\"blank\" ></th> \n",
       "        <th class=\"blank\" ></th> \n",
       "        <th class=\"blank\" ></th> \n",
       "        <th class=\"blank\" ></th> \n",
       "        <th class=\"blank\" ></th> \n",
       "        <th class=\"blank\" ></th> \n",
       "        <th class=\"blank\" ></th> \n",
       "        <th class=\"blank\" ></th> \n",
       "        <th class=\"blank\" ></th> \n",
       "        <th class=\"blank\" ></th> \n",
       "    </tr></thead> \n",
       "<tbody>    <tr> \n",
       "        <th id=\"T_69131526_46d0_11e9_89fe_c49ded152ae4level0_row0\" class=\"row_heading level0 row0\" >Dowa Fire & Marine Ins Co Ltd Us Br</th> \n",
       "        <td id=\"T_69131526_46d0_11e9_89fe_c49ded152ae4row0_col0\" class=\"data row0 col0\" >inf</td> \n",
       "        <td id=\"T_69131526_46d0_11e9_89fe_c49ded152ae4row0_col1\" class=\"data row0 col1\" >81.886</td> \n",
       "        <td id=\"T_69131526_46d0_11e9_89fe_c49ded152ae4row0_col2\" class=\"data row0 col2\" >33.9627</td> \n",
       "        <td id=\"T_69131526_46d0_11e9_89fe_c49ded152ae4row0_col3\" class=\"data row0 col3\" >7.71429</td> \n",
       "        <td id=\"T_69131526_46d0_11e9_89fe_c49ded152ae4row0_col4\" class=\"data row0 col4\" >0</td> \n",
       "        <td id=\"T_69131526_46d0_11e9_89fe_c49ded152ae4row0_col5\" class=\"data row0 col5\" >0</td> \n",
       "        <td id=\"T_69131526_46d0_11e9_89fe_c49ded152ae4row0_col6\" class=\"data row0 col6\" >0</td> \n",
       "        <td id=\"T_69131526_46d0_11e9_89fe_c49ded152ae4row0_col7\" class=\"data row0 col7\" >0</td> \n",
       "        <td id=\"T_69131526_46d0_11e9_89fe_c49ded152ae4row0_col8\" class=\"data row0 col8\" >0</td> \n",
       "        <td id=\"T_69131526_46d0_11e9_89fe_c49ded152ae4row0_col9\" class=\"data row0 col9\" >0</td> \n",
       "        <td id=\"T_69131526_46d0_11e9_89fe_c49ded152ae4row0_col10\" class=\"data row0 col10\" >inf</td> \n",
       "    </tr>    <tr> \n",
       "        <th id=\"T_69131526_46d0_11e9_89fe_c49ded152ae4level0_row1\" class=\"row_heading level0 row1\" >Dorinco Rein Co</th> \n",
       "        <td id=\"T_69131526_46d0_11e9_89fe_c49ded152ae4row1_col0\" class=\"data row1 col0\" >inf</td> \n",
       "        <td id=\"T_69131526_46d0_11e9_89fe_c49ded152ae4row1_col1\" class=\"data row1 col1\" >0</td> \n",
       "        <td id=\"T_69131526_46d0_11e9_89fe_c49ded152ae4row1_col2\" class=\"data row1 col2\" >inf</td> \n",
       "        <td id=\"T_69131526_46d0_11e9_89fe_c49ded152ae4row1_col3\" class=\"data row1 col3\" >inf</td> \n",
       "        <td id=\"T_69131526_46d0_11e9_89fe_c49ded152ae4row1_col4\" class=\"data row1 col4\" >20.2002</td> \n",
       "        <td id=\"T_69131526_46d0_11e9_89fe_c49ded152ae4row1_col5\" class=\"data row1 col5\" >336.654</td> \n",
       "        <td id=\"T_69131526_46d0_11e9_89fe_c49ded152ae4row1_col6\" class=\"data row1 col6\" >24.2135</td> \n",
       "        <td id=\"T_69131526_46d0_11e9_89fe_c49ded152ae4row1_col7\" class=\"data row1 col7\" >194.921</td> \n",
       "        <td id=\"T_69131526_46d0_11e9_89fe_c49ded152ae4row1_col8\" class=\"data row1 col8\" >2.48115</td> \n",
       "        <td id=\"T_69131526_46d0_11e9_89fe_c49ded152ae4row1_col9\" class=\"data row1 col9\" >0</td> \n",
       "        <td id=\"T_69131526_46d0_11e9_89fe_c49ded152ae4row1_col10\" class=\"data row1 col10\" >inf</td> \n",
       "    </tr>    <tr> \n",
       "        <th id=\"T_69131526_46d0_11e9_89fe_c49ded152ae4level0_row2\" class=\"row_heading level0 row2\" >Rainier Ins Co</th> \n",
       "        <td id=\"T_69131526_46d0_11e9_89fe_c49ded152ae4row2_col0\" class=\"data row2 col0\" >0</td> \n",
       "        <td id=\"T_69131526_46d0_11e9_89fe_c49ded152ae4row2_col1\" class=\"data row2 col1\" >inf</td> \n",
       "        <td id=\"T_69131526_46d0_11e9_89fe_c49ded152ae4row2_col2\" class=\"data row2 col2\" >0</td> \n",
       "        <td id=\"T_69131526_46d0_11e9_89fe_c49ded152ae4row2_col3\" class=\"data row2 col3\" >937.991</td> \n",
       "        <td id=\"T_69131526_46d0_11e9_89fe_c49ded152ae4row2_col4\" class=\"data row2 col4\" >20.721</td> \n",
       "        <td id=\"T_69131526_46d0_11e9_89fe_c49ded152ae4row2_col5\" class=\"data row2 col5\" >30.3297</td> \n",
       "        <td id=\"T_69131526_46d0_11e9_89fe_c49ded152ae4row2_col6\" class=\"data row2 col6\" >0</td> \n",
       "        <td id=\"T_69131526_46d0_11e9_89fe_c49ded152ae4row2_col7\" class=\"data row2 col7\" >0</td> \n",
       "        <td id=\"T_69131526_46d0_11e9_89fe_c49ded152ae4row2_col8\" class=\"data row2 col8\" >0</td> \n",
       "        <td id=\"T_69131526_46d0_11e9_89fe_c49ded152ae4row2_col9\" class=\"data row2 col9\" >0</td> \n",
       "        <td id=\"T_69131526_46d0_11e9_89fe_c49ded152ae4row2_col10\" class=\"data row2 col10\" >inf</td> \n",
       "    </tr>    <tr> \n",
       "        <th id=\"T_69131526_46d0_11e9_89fe_c49ded152ae4level0_row3\" class=\"row_heading level0 row3\" >Red Shield Ins Co</th> \n",
       "        <td id=\"T_69131526_46d0_11e9_89fe_c49ded152ae4row3_col0\" class=\"data row3 col0\" >0</td> \n",
       "        <td id=\"T_69131526_46d0_11e9_89fe_c49ded152ae4row3_col1\" class=\"data row3 col1\" >inf</td> \n",
       "        <td id=\"T_69131526_46d0_11e9_89fe_c49ded152ae4row3_col2\" class=\"data row3 col2\" >0</td> \n",
       "        <td id=\"T_69131526_46d0_11e9_89fe_c49ded152ae4row3_col3\" class=\"data row3 col3\" >150.368</td> \n",
       "        <td id=\"T_69131526_46d0_11e9_89fe_c49ded152ae4row3_col4\" class=\"data row3 col4\" >34.9112</td> \n",
       "        <td id=\"T_69131526_46d0_11e9_89fe_c49ded152ae4row3_col5\" class=\"data row3 col5\" >77.6159</td> \n",
       "        <td id=\"T_69131526_46d0_11e9_89fe_c49ded152ae4row3_col6\" class=\"data row3 col6\" >113.191</td> \n",
       "        <td id=\"T_69131526_46d0_11e9_89fe_c49ded152ae4row3_col7\" class=\"data row3 col7\" >3.90645</td> \n",
       "        <td id=\"T_69131526_46d0_11e9_89fe_c49ded152ae4row3_col8\" class=\"data row3 col8\" >88.07</td> \n",
       "        <td id=\"T_69131526_46d0_11e9_89fe_c49ded152ae4row3_col9\" class=\"data row3 col9\" >0</td> \n",
       "        <td id=\"T_69131526_46d0_11e9_89fe_c49ded152ae4row3_col10\" class=\"data row3 col10\" >inf</td> \n",
       "    </tr>    <tr> \n",
       "        <th id=\"T_69131526_46d0_11e9_89fe_c49ded152ae4level0_row4\" class=\"row_heading level0 row4\" >Hyundai Marine & Fire Ins Co Ltd</th> \n",
       "        <td id=\"T_69131526_46d0_11e9_89fe_c49ded152ae4row4_col0\" class=\"data row4 col0\" >inf</td> \n",
       "        <td id=\"T_69131526_46d0_11e9_89fe_c49ded152ae4row4_col1\" class=\"data row4 col1\" >inf</td> \n",
       "        <td id=\"T_69131526_46d0_11e9_89fe_c49ded152ae4row4_col2\" class=\"data row4 col2\" >inf</td> \n",
       "        <td id=\"T_69131526_46d0_11e9_89fe_c49ded152ae4row4_col3\" class=\"data row4 col3\" >0</td> \n",
       "        <td id=\"T_69131526_46d0_11e9_89fe_c49ded152ae4row4_col4\" class=\"data row4 col4\" >0</td> \n",
       "        <td id=\"T_69131526_46d0_11e9_89fe_c49ded152ae4row4_col5\" class=\"data row4 col5\" >0</td> \n",
       "        <td id=\"T_69131526_46d0_11e9_89fe_c49ded152ae4row4_col6\" class=\"data row4 col6\" >0</td> \n",
       "        <td id=\"T_69131526_46d0_11e9_89fe_c49ded152ae4row4_col7\" class=\"data row4 col7\" >0</td> \n",
       "        <td id=\"T_69131526_46d0_11e9_89fe_c49ded152ae4row4_col8\" class=\"data row4 col8\" >0</td> \n",
       "        <td id=\"T_69131526_46d0_11e9_89fe_c49ded152ae4row4_col9\" class=\"data row4 col9\" >0</td> \n",
       "        <td id=\"T_69131526_46d0_11e9_89fe_c49ded152ae4row4_col10\" class=\"data row4 col10\" >inf</td> \n",
       "    </tr>    <tr> \n",
       "        <th id=\"T_69131526_46d0_11e9_89fe_c49ded152ae4level0_row5\" class=\"row_heading level0 row5\" >Homestead Ins Co</th> \n",
       "        <td id=\"T_69131526_46d0_11e9_89fe_c49ded152ae4row5_col0\" class=\"data row5 col0\" >inf</td> \n",
       "        <td id=\"T_69131526_46d0_11e9_89fe_c49ded152ae4row5_col1\" class=\"data row5 col1\" >inf</td> \n",
       "        <td id=\"T_69131526_46d0_11e9_89fe_c49ded152ae4row5_col2\" class=\"data row5 col2\" >-0</td> \n",
       "        <td id=\"T_69131526_46d0_11e9_89fe_c49ded152ae4row5_col3\" class=\"data row5 col3\" >-64.9147</td> \n",
       "        <td id=\"T_69131526_46d0_11e9_89fe_c49ded152ae4row5_col4\" class=\"data row5 col4\" >0</td> \n",
       "        <td id=\"T_69131526_46d0_11e9_89fe_c49ded152ae4row5_col5\" class=\"data row5 col5\" >0</td> \n",
       "        <td id=\"T_69131526_46d0_11e9_89fe_c49ded152ae4row5_col6\" class=\"data row5 col6\" >0</td> \n",
       "        <td id=\"T_69131526_46d0_11e9_89fe_c49ded152ae4row5_col7\" class=\"data row5 col7\" >0</td> \n",
       "        <td id=\"T_69131526_46d0_11e9_89fe_c49ded152ae4row5_col8\" class=\"data row5 col8\" >0</td> \n",
       "        <td id=\"T_69131526_46d0_11e9_89fe_c49ded152ae4row5_col9\" class=\"data row5 col9\" >0</td> \n",
       "        <td id=\"T_69131526_46d0_11e9_89fe_c49ded152ae4row5_col10\" class=\"data row5 col10\" >inf</td> \n",
       "    </tr>    <tr> \n",
       "        <th id=\"T_69131526_46d0_11e9_89fe_c49ded152ae4level0_row6\" class=\"row_heading level0 row6\" >Pacific Ind Ins Co</th> \n",
       "        <td id=\"T_69131526_46d0_11e9_89fe_c49ded152ae4row6_col0\" class=\"data row6 col0\" >inf</td> \n",
       "        <td id=\"T_69131526_46d0_11e9_89fe_c49ded152ae4row6_col1\" class=\"data row6 col1\" >176.027</td> \n",
       "        <td id=\"T_69131526_46d0_11e9_89fe_c49ded152ae4row6_col2\" class=\"data row6 col2\" >125.837</td> \n",
       "        <td id=\"T_69131526_46d0_11e9_89fe_c49ded152ae4row6_col3\" class=\"data row6 col3\" >26.097</td> \n",
       "        <td id=\"T_69131526_46d0_11e9_89fe_c49ded152ae4row6_col4\" class=\"data row6 col4\" >0</td> \n",
       "        <td id=\"T_69131526_46d0_11e9_89fe_c49ded152ae4row6_col5\" class=\"data row6 col5\" >0</td> \n",
       "        <td id=\"T_69131526_46d0_11e9_89fe_c49ded152ae4row6_col6\" class=\"data row6 col6\" >0</td> \n",
       "        <td id=\"T_69131526_46d0_11e9_89fe_c49ded152ae4row6_col7\" class=\"data row6 col7\" >0</td> \n",
       "        <td id=\"T_69131526_46d0_11e9_89fe_c49ded152ae4row6_col8\" class=\"data row6 col8\" >0</td> \n",
       "        <td id=\"T_69131526_46d0_11e9_89fe_c49ded152ae4row6_col9\" class=\"data row6 col9\" >0</td> \n",
       "        <td id=\"T_69131526_46d0_11e9_89fe_c49ded152ae4row6_col10\" class=\"data row6 col10\" >inf</td> \n",
       "    </tr>    <tr> \n",
       "        <th id=\"T_69131526_46d0_11e9_89fe_c49ded152ae4level0_row7\" class=\"row_heading level0 row7\" >British Amer Ins Co</th> \n",
       "        <td id=\"T_69131526_46d0_11e9_89fe_c49ded152ae4row7_col0\" class=\"data row7 col0\" >inf</td> \n",
       "        <td id=\"T_69131526_46d0_11e9_89fe_c49ded152ae4row7_col1\" class=\"data row7 col1\" >0</td> \n",
       "        <td id=\"T_69131526_46d0_11e9_89fe_c49ded152ae4row7_col2\" class=\"data row7 col2\" >0</td> \n",
       "        <td id=\"T_69131526_46d0_11e9_89fe_c49ded152ae4row7_col3\" class=\"data row7 col3\" >222.146</td> \n",
       "        <td id=\"T_69131526_46d0_11e9_89fe_c49ded152ae4row7_col4\" class=\"data row7 col4\" >53.1504</td> \n",
       "        <td id=\"T_69131526_46d0_11e9_89fe_c49ded152ae4row7_col5\" class=\"data row7 col5\" >4.48129</td> \n",
       "        <td id=\"T_69131526_46d0_11e9_89fe_c49ded152ae4row7_col6\" class=\"data row7 col6\" >19.6794</td> \n",
       "        <td id=\"T_69131526_46d0_11e9_89fe_c49ded152ae4row7_col7\" class=\"data row7 col7\" >12.2358</td> \n",
       "        <td id=\"T_69131526_46d0_11e9_89fe_c49ded152ae4row7_col8\" class=\"data row7 col8\" >4.36983</td> \n",
       "        <td id=\"T_69131526_46d0_11e9_89fe_c49ded152ae4row7_col9\" class=\"data row7 col9\" >0</td> \n",
       "        <td id=\"T_69131526_46d0_11e9_89fe_c49ded152ae4row7_col10\" class=\"data row7 col10\" >inf</td> \n",
       "    </tr>    <tr> \n",
       "        <th id=\"T_69131526_46d0_11e9_89fe_c49ded152ae4level0_row8\" class=\"row_heading level0 row8\" >GA Resaurant Mut Captive Ins Co</th> \n",
       "        <td id=\"T_69131526_46d0_11e9_89fe_c49ded152ae4row8_col0\" class=\"data row8 col0\" >inf</td> \n",
       "        <td id=\"T_69131526_46d0_11e9_89fe_c49ded152ae4row8_col1\" class=\"data row8 col1\" >inf</td> \n",
       "        <td id=\"T_69131526_46d0_11e9_89fe_c49ded152ae4row8_col2\" class=\"data row8 col2\" >inf</td> \n",
       "        <td id=\"T_69131526_46d0_11e9_89fe_c49ded152ae4row8_col3\" class=\"data row8 col3\" >inf</td> \n",
       "        <td id=\"T_69131526_46d0_11e9_89fe_c49ded152ae4row8_col4\" class=\"data row8 col4\" >0</td> \n",
       "        <td id=\"T_69131526_46d0_11e9_89fe_c49ded152ae4row8_col5\" class=\"data row8 col5\" >0</td> \n",
       "        <td id=\"T_69131526_46d0_11e9_89fe_c49ded152ae4row8_col6\" class=\"data row8 col6\" >0</td> \n",
       "        <td id=\"T_69131526_46d0_11e9_89fe_c49ded152ae4row8_col7\" class=\"data row8 col7\" >0</td> \n",
       "        <td id=\"T_69131526_46d0_11e9_89fe_c49ded152ae4row8_col8\" class=\"data row8 col8\" >0</td> \n",
       "        <td id=\"T_69131526_46d0_11e9_89fe_c49ded152ae4row8_col9\" class=\"data row8 col9\" >0</td> \n",
       "        <td id=\"T_69131526_46d0_11e9_89fe_c49ded152ae4row8_col10\" class=\"data row8 col10\" >inf</td> \n",
       "    </tr>    <tr> \n",
       "        <th id=\"T_69131526_46d0_11e9_89fe_c49ded152ae4level0_row9\" class=\"row_heading level0 row9\" >New Jersey Manufacturers Grp</th> \n",
       "        <td id=\"T_69131526_46d0_11e9_89fe_c49ded152ae4row9_col0\" class=\"data row9 col0\" >106145</td> \n",
       "        <td id=\"T_69131526_46d0_11e9_89fe_c49ded152ae4row9_col1\" class=\"data row9 col1\" >81059</td> \n",
       "        <td id=\"T_69131526_46d0_11e9_89fe_c49ded152ae4row9_col2\" class=\"data row9 col2\" >60029.2</td> \n",
       "        <td id=\"T_69131526_46d0_11e9_89fe_c49ded152ae4row9_col3\" class=\"data row9 col3\" >45643.1</td> \n",
       "        <td id=\"T_69131526_46d0_11e9_89fe_c49ded152ae4row9_col4\" class=\"data row9 col4\" >31695.1</td> \n",
       "        <td id=\"T_69131526_46d0_11e9_89fe_c49ded152ae4row9_col5\" class=\"data row9 col5\" >22571.2</td> \n",
       "        <td id=\"T_69131526_46d0_11e9_89fe_c49ded152ae4row9_col6\" class=\"data row9 col6\" >14549.1</td> \n",
       "        <td id=\"T_69131526_46d0_11e9_89fe_c49ded152ae4row9_col7\" class=\"data row9 col7\" >8154.31</td> \n",
       "        <td id=\"T_69131526_46d0_11e9_89fe_c49ded152ae4row9_col8\" class=\"data row9 col8\" >3397.67</td> \n",
       "        <td id=\"T_69131526_46d0_11e9_89fe_c49ded152ae4row9_col9\" class=\"data row9 col9\" >0</td> \n",
       "        <td id=\"T_69131526_46d0_11e9_89fe_c49ded152ae4row9_col10\" class=\"data row9 col10\" >373243</td> \n",
       "    </tr>    <tr> \n",
       "        <th id=\"T_69131526_46d0_11e9_89fe_c49ded152ae4level0_row10\" class=\"row_heading level0 row10\" >State Farm Mut Grp</th> \n",
       "        <td id=\"T_69131526_46d0_11e9_89fe_c49ded152ae4row10_col0\" class=\"data row10 col0\" >104859</td> \n",
       "        <td id=\"T_69131526_46d0_11e9_89fe_c49ded152ae4row10_col1\" class=\"data row10 col1\" >60378.3</td> \n",
       "        <td id=\"T_69131526_46d0_11e9_89fe_c49ded152ae4row10_col2\" class=\"data row10 col2\" >46942.6</td> \n",
       "        <td id=\"T_69131526_46d0_11e9_89fe_c49ded152ae4row10_col3\" class=\"data row10 col3\" >34543</td> \n",
       "        <td id=\"T_69131526_46d0_11e9_89fe_c49ded152ae4row10_col4\" class=\"data row10 col4\" >26101.9</td> \n",
       "        <td id=\"T_69131526_46d0_11e9_89fe_c49ded152ae4row10_col5\" class=\"data row10 col5\" >17098.7</td> \n",
       "        <td id=\"T_69131526_46d0_11e9_89fe_c49ded152ae4row10_col6\" class=\"data row10 col6\" >10687</td> \n",
       "        <td id=\"T_69131526_46d0_11e9_89fe_c49ded152ae4row10_col7\" class=\"data row10 col7\" >4953.63</td> \n",
       "        <td id=\"T_69131526_46d0_11e9_89fe_c49ded152ae4row10_col8\" class=\"data row10 col8\" >1857.91</td> \n",
       "        <td id=\"T_69131526_46d0_11e9_89fe_c49ded152ae4row10_col9\" class=\"data row10 col9\" >0</td> \n",
       "        <td id=\"T_69131526_46d0_11e9_89fe_c49ded152ae4row10_col10\" class=\"data row10 col10\" >307422</td> \n",
       "    </tr>    <tr> \n",
       "        <th id=\"T_69131526_46d0_11e9_89fe_c49ded152ae4level0_row11\" class=\"row_heading level0 row11\" >Federal Ins Co Grp</th> \n",
       "        <td id=\"T_69131526_46d0_11e9_89fe_c49ded152ae4row11_col0\" class=\"data row11 col0\" >131832</td> \n",
       "        <td id=\"T_69131526_46d0_11e9_89fe_c49ded152ae4row11_col1\" class=\"data row11 col1\" >46080.8</td> \n",
       "        <td id=\"T_69131526_46d0_11e9_89fe_c49ded152ae4row11_col2\" class=\"data row11 col2\" >21460.1</td> \n",
       "        <td id=\"T_69131526_46d0_11e9_89fe_c49ded152ae4row11_col3\" class=\"data row11 col3\" >12858.8</td> \n",
       "        <td id=\"T_69131526_46d0_11e9_89fe_c49ded152ae4row11_col4\" class=\"data row11 col4\" >6627.4</td> \n",
       "        <td id=\"T_69131526_46d0_11e9_89fe_c49ded152ae4row11_col5\" class=\"data row11 col5\" >4179.69</td> \n",
       "        <td id=\"T_69131526_46d0_11e9_89fe_c49ded152ae4row11_col6\" class=\"data row11 col6\" >1810.29</td> \n",
       "        <td id=\"T_69131526_46d0_11e9_89fe_c49ded152ae4row11_col7\" class=\"data row11 col7\" >-727.846</td> \n",
       "        <td id=\"T_69131526_46d0_11e9_89fe_c49ded152ae4row11_col8\" class=\"data row11 col8\" >-682.567</td> \n",
       "        <td id=\"T_69131526_46d0_11e9_89fe_c49ded152ae4row11_col9\" class=\"data row11 col9\" >0</td> \n",
       "        <td id=\"T_69131526_46d0_11e9_89fe_c49ded152ae4row11_col10\" class=\"data row11 col10\" >223439</td> \n",
       "    </tr>    <tr> \n",
       "        <th id=\"T_69131526_46d0_11e9_89fe_c49ded152ae4level0_row12\" class=\"row_heading level0 row12\" >Allstate Ins Co Grp</th> \n",
       "        <td id=\"T_69131526_46d0_11e9_89fe_c49ded152ae4row12_col0\" class=\"data row12 col0\" >2732.79</td> \n",
       "        <td id=\"T_69131526_46d0_11e9_89fe_c49ded152ae4row12_col1\" class=\"data row12 col1\" >48344.8</td> \n",
       "        <td id=\"T_69131526_46d0_11e9_89fe_c49ded152ae4row12_col2\" class=\"data row12 col2\" >45755.6</td> \n",
       "        <td id=\"T_69131526_46d0_11e9_89fe_c49ded152ae4row12_col3\" class=\"data row12 col3\" >27543.4</td> \n",
       "        <td id=\"T_69131526_46d0_11e9_89fe_c49ded152ae4row12_col4\" class=\"data row12 col4\" >16983.9</td> \n",
       "        <td id=\"T_69131526_46d0_11e9_89fe_c49ded152ae4row12_col5\" class=\"data row12 col5\" >20633.3</td> \n",
       "        <td id=\"T_69131526_46d0_11e9_89fe_c49ded152ae4row12_col6\" class=\"data row12 col6\" >19032.1</td> \n",
       "        <td id=\"T_69131526_46d0_11e9_89fe_c49ded152ae4row12_col7\" class=\"data row12 col7\" >11847</td> \n",
       "        <td id=\"T_69131526_46d0_11e9_89fe_c49ded152ae4row12_col8\" class=\"data row12 col8\" >2990.57</td> \n",
       "        <td id=\"T_69131526_46d0_11e9_89fe_c49ded152ae4row12_col9\" class=\"data row12 col9\" >0</td> \n",
       "        <td id=\"T_69131526_46d0_11e9_89fe_c49ded152ae4row12_col10\" class=\"data row12 col10\" >195863</td> \n",
       "    </tr>    <tr> \n",
       "        <th id=\"T_69131526_46d0_11e9_89fe_c49ded152ae4level0_row13\" class=\"row_heading level0 row13\" >Erie Ins Exchange Grp</th> \n",
       "        <td id=\"T_69131526_46d0_11e9_89fe_c49ded152ae4row13_col0\" class=\"data row13 col0\" >61381.4</td> \n",
       "        <td id=\"T_69131526_46d0_11e9_89fe_c49ded152ae4row13_col1\" class=\"data row13 col1\" >35227.7</td> \n",
       "        <td id=\"T_69131526_46d0_11e9_89fe_c49ded152ae4row13_col2\" class=\"data row13 col2\" >23262.1</td> \n",
       "        <td id=\"T_69131526_46d0_11e9_89fe_c49ded152ae4row13_col3\" class=\"data row13 col3\" >14322.4</td> \n",
       "        <td id=\"T_69131526_46d0_11e9_89fe_c49ded152ae4row13_col4\" class=\"data row13 col4\" >8830.73</td> \n",
       "        <td id=\"T_69131526_46d0_11e9_89fe_c49ded152ae4row13_col5\" class=\"data row13 col5\" >4869.68</td> \n",
       "        <td id=\"T_69131526_46d0_11e9_89fe_c49ded152ae4row13_col6\" class=\"data row13 col6\" >1974.67</td> \n",
       "        <td id=\"T_69131526_46d0_11e9_89fe_c49ded152ae4row13_col7\" class=\"data row13 col7\" >615.332</td> \n",
       "        <td id=\"T_69131526_46d0_11e9_89fe_c49ded152ae4row13_col8\" class=\"data row13 col8\" >180.469</td> \n",
       "        <td id=\"T_69131526_46d0_11e9_89fe_c49ded152ae4row13_col9\" class=\"data row13 col9\" >0</td> \n",
       "        <td id=\"T_69131526_46d0_11e9_89fe_c49ded152ae4row13_col10\" class=\"data row13 col10\" >150664</td> \n",
       "    </tr>    <tr> \n",
       "        <th id=\"T_69131526_46d0_11e9_89fe_c49ded152ae4level0_row14\" class=\"row_heading level0 row14\" >California Cas Grp</th> \n",
       "        <td id=\"T_69131526_46d0_11e9_89fe_c49ded152ae4row14_col0\" class=\"data row14 col0\" >41544.3</td> \n",
       "        <td id=\"T_69131526_46d0_11e9_89fe_c49ded152ae4row14_col1\" class=\"data row14 col1\" >37672.8</td> \n",
       "        <td id=\"T_69131526_46d0_11e9_89fe_c49ded152ae4row14_col2\" class=\"data row14 col2\" >22978.2</td> \n",
       "        <td id=\"T_69131526_46d0_11e9_89fe_c49ded152ae4row14_col3\" class=\"data row14 col3\" >11585.9</td> \n",
       "        <td id=\"T_69131526_46d0_11e9_89fe_c49ded152ae4row14_col4\" class=\"data row14 col4\" >6884.83</td> \n",
       "        <td id=\"T_69131526_46d0_11e9_89fe_c49ded152ae4row14_col5\" class=\"data row14 col5\" >4377.71</td> \n",
       "        <td id=\"T_69131526_46d0_11e9_89fe_c49ded152ae4row14_col6\" class=\"data row14 col6\" >2637.15</td> \n",
       "        <td id=\"T_69131526_46d0_11e9_89fe_c49ded152ae4row14_col7\" class=\"data row14 col7\" >978.516</td> \n",
       "        <td id=\"T_69131526_46d0_11e9_89fe_c49ded152ae4row14_col8\" class=\"data row14 col8\" >113.315</td> \n",
       "        <td id=\"T_69131526_46d0_11e9_89fe_c49ded152ae4row14_col9\" class=\"data row14 col9\" >0</td> \n",
       "        <td id=\"T_69131526_46d0_11e9_89fe_c49ded152ae4row14_col10\" class=\"data row14 col10\" >128773</td> \n",
       "    </tr>    <tr> \n",
       "        <th id=\"T_69131526_46d0_11e9_89fe_c49ded152ae4level0_row15\" class=\"row_heading level0 row15\" >Pennsylvania Natl Ins Grp</th> \n",
       "        <td id=\"T_69131526_46d0_11e9_89fe_c49ded152ae4row15_col0\" class=\"data row15 col0\" >39546.3</td> \n",
       "        <td id=\"T_69131526_46d0_11e9_89fe_c49ded152ae4row15_col1\" class=\"data row15 col1\" >25713.7</td> \n",
       "        <td id=\"T_69131526_46d0_11e9_89fe_c49ded152ae4row15_col2\" class=\"data row15 col2\" >22191.6</td> \n",
       "        <td id=\"T_69131526_46d0_11e9_89fe_c49ded152ae4row15_col3\" class=\"data row15 col3\" >17603</td> \n",
       "        <td id=\"T_69131526_46d0_11e9_89fe_c49ded152ae4row15_col4\" class=\"data row15 col4\" >10166</td> \n",
       "        <td id=\"T_69131526_46d0_11e9_89fe_c49ded152ae4row15_col5\" class=\"data row15 col5\" >6157.22</td> \n",
       "        <td id=\"T_69131526_46d0_11e9_89fe_c49ded152ae4row15_col6\" class=\"data row15 col6\" >3800.75</td> \n",
       "        <td id=\"T_69131526_46d0_11e9_89fe_c49ded152ae4row15_col7\" class=\"data row15 col7\" >2353.75</td> \n",
       "        <td id=\"T_69131526_46d0_11e9_89fe_c49ded152ae4row15_col8\" class=\"data row15 col8\" >740.32</td> \n",
       "        <td id=\"T_69131526_46d0_11e9_89fe_c49ded152ae4row15_col9\" class=\"data row15 col9\" >0</td> \n",
       "        <td id=\"T_69131526_46d0_11e9_89fe_c49ded152ae4row15_col10\" class=\"data row15 col10\" >128273</td> \n",
       "    </tr>    <tr> \n",
       "        <th id=\"T_69131526_46d0_11e9_89fe_c49ded152ae4level0_row16\" class=\"row_heading level0 row16\" >Florida Hospitality Mut Ins Co</th> \n",
       "        <td id=\"T_69131526_46d0_11e9_89fe_c49ded152ae4row16_col0\" class=\"data row16 col0\" >25031.8</td> \n",
       "        <td id=\"T_69131526_46d0_11e9_89fe_c49ded152ae4row16_col1\" class=\"data row16 col1\" >18373.8</td> \n",
       "        <td id=\"T_69131526_46d0_11e9_89fe_c49ded152ae4row16_col2\" class=\"data row16 col2\" >14310.4</td> \n",
       "        <td id=\"T_69131526_46d0_11e9_89fe_c49ded152ae4row16_col3\" class=\"data row16 col3\" >8667.53</td> \n",
       "        <td id=\"T_69131526_46d0_11e9_89fe_c49ded152ae4row16_col4\" class=\"data row16 col4\" >6554.01</td> \n",
       "        <td id=\"T_69131526_46d0_11e9_89fe_c49ded152ae4row16_col5\" class=\"data row16 col5\" >4823.6</td> \n",
       "        <td id=\"T_69131526_46d0_11e9_89fe_c49ded152ae4row16_col6\" class=\"data row16 col6\" >2117.91</td> \n",
       "        <td id=\"T_69131526_46d0_11e9_89fe_c49ded152ae4row16_col7\" class=\"data row16 col7\" >1522.9</td> \n",
       "        <td id=\"T_69131526_46d0_11e9_89fe_c49ded152ae4row16_col8\" class=\"data row16 col8\" >510.513</td> \n",
       "        <td id=\"T_69131526_46d0_11e9_89fe_c49ded152ae4row16_col9\" class=\"data row16 col9\" >0</td> \n",
       "        <td id=\"T_69131526_46d0_11e9_89fe_c49ded152ae4row16_col10\" class=\"data row16 col10\" >81912.4</td> \n",
       "    </tr>    <tr> \n",
       "        <th id=\"T_69131526_46d0_11e9_89fe_c49ded152ae4level0_row17\" class=\"row_heading level0 row17\" >State Fund Mut Ins Co</th> \n",
       "        <td id=\"T_69131526_46d0_11e9_89fe_c49ded152ae4row17_col0\" class=\"data row17 col0\" >30776.7</td> \n",
       "        <td id=\"T_69131526_46d0_11e9_89fe_c49ded152ae4row17_col1\" class=\"data row17 col1\" >18892.3</td> \n",
       "        <td id=\"T_69131526_46d0_11e9_89fe_c49ded152ae4row17_col2\" class=\"data row17 col2\" >9457.45</td> \n",
       "        <td id=\"T_69131526_46d0_11e9_89fe_c49ded152ae4row17_col3\" class=\"data row17 col3\" >6222.45</td> \n",
       "        <td id=\"T_69131526_46d0_11e9_89fe_c49ded152ae4row17_col4\" class=\"data row17 col4\" >3995.14</td> \n",
       "        <td id=\"T_69131526_46d0_11e9_89fe_c49ded152ae4row17_col5\" class=\"data row17 col5\" >3789.63</td> \n",
       "        <td id=\"T_69131526_46d0_11e9_89fe_c49ded152ae4row17_col6\" class=\"data row17 col6\" >3068.01</td> \n",
       "        <td id=\"T_69131526_46d0_11e9_89fe_c49ded152ae4row17_col7\" class=\"data row17 col7\" >1659.08</td> \n",
       "        <td id=\"T_69131526_46d0_11e9_89fe_c49ded152ae4row17_col8\" class=\"data row17 col8\" >709.707</td> \n",
       "        <td id=\"T_69131526_46d0_11e9_89fe_c49ded152ae4row17_col9\" class=\"data row17 col9\" >0</td> \n",
       "        <td id=\"T_69131526_46d0_11e9_89fe_c49ded152ae4row17_col10\" class=\"data row17 col10\" >78570.5</td> \n",
       "    </tr>    <tr> \n",
       "        <th id=\"T_69131526_46d0_11e9_89fe_c49ded152ae4level0_row18\" class=\"row_heading level0 row18\" >Amerisafe Grp</th> \n",
       "        <td id=\"T_69131526_46d0_11e9_89fe_c49ded152ae4row18_col0\" class=\"data row18 col0\" >32905.2</td> \n",
       "        <td id=\"T_69131526_46d0_11e9_89fe_c49ded152ae4row18_col1\" class=\"data row18 col1\" >8948.03</td> \n",
       "        <td id=\"T_69131526_46d0_11e9_89fe_c49ded152ae4row18_col2\" class=\"data row18 col2\" >2610.98</td> \n",
       "        <td id=\"T_69131526_46d0_11e9_89fe_c49ded152ae4row18_col3\" class=\"data row18 col3\" >946.401</td> \n",
       "        <td id=\"T_69131526_46d0_11e9_89fe_c49ded152ae4row18_col4\" class=\"data row18 col4\" >763.597</td> \n",
       "        <td id=\"T_69131526_46d0_11e9_89fe_c49ded152ae4row18_col5\" class=\"data row18 col5\" >489.839</td> \n",
       "        <td id=\"T_69131526_46d0_11e9_89fe_c49ded152ae4row18_col6\" class=\"data row18 col6\" >310.177</td> \n",
       "        <td id=\"T_69131526_46d0_11e9_89fe_c49ded152ae4row18_col7\" class=\"data row18 col7\" >216.989</td> \n",
       "        <td id=\"T_69131526_46d0_11e9_89fe_c49ded152ae4row18_col8\" class=\"data row18 col8\" >90.6044</td> \n",
       "        <td id=\"T_69131526_46d0_11e9_89fe_c49ded152ae4row18_col9\" class=\"data row18 col9\" >0</td> \n",
       "        <td id=\"T_69131526_46d0_11e9_89fe_c49ded152ae4row18_col10\" class=\"data row18 col10\" >47281.8</td> \n",
       "    </tr>    <tr> \n",
       "        <th id=\"T_69131526_46d0_11e9_89fe_c49ded152ae4level0_row19\" class=\"row_heading level0 row19\" >Beacon Mut Ins Co</th> \n",
       "        <td id=\"T_69131526_46d0_11e9_89fe_c49ded152ae4row19_col0\" class=\"data row19 col0\" >26018.2</td> \n",
       "        <td id=\"T_69131526_46d0_11e9_89fe_c49ded152ae4row19_col1\" class=\"data row19 col1\" >12191.4</td> \n",
       "        <td id=\"T_69131526_46d0_11e9_89fe_c49ded152ae4row19_col2\" class=\"data row19 col2\" >5142</td> \n",
       "        <td id=\"T_69131526_46d0_11e9_89fe_c49ded152ae4row19_col3\" class=\"data row19 col3\" >1799.88</td> \n",
       "        <td id=\"T_69131526_46d0_11e9_89fe_c49ded152ae4row19_col4\" class=\"data row19 col4\" >0</td> \n",
       "        <td id=\"T_69131526_46d0_11e9_89fe_c49ded152ae4row19_col5\" class=\"data row19 col5\" >0</td> \n",
       "        <td id=\"T_69131526_46d0_11e9_89fe_c49ded152ae4row19_col6\" class=\"data row19 col6\" >0</td> \n",
       "        <td id=\"T_69131526_46d0_11e9_89fe_c49ded152ae4row19_col7\" class=\"data row19 col7\" >0</td> \n",
       "        <td id=\"T_69131526_46d0_11e9_89fe_c49ded152ae4row19_col8\" class=\"data row19 col8\" >0</td> \n",
       "        <td id=\"T_69131526_46d0_11e9_89fe_c49ded152ae4row19_col9\" class=\"data row19 col9\" >0</td> \n",
       "        <td id=\"T_69131526_46d0_11e9_89fe_c49ded152ae4row19_col10\" class=\"data row19 col10\" >45151.5</td> \n",
       "    </tr>    <tr> \n",
       "        <th id=\"T_69131526_46d0_11e9_89fe_c49ded152ae4level0_row20\" class=\"row_heading level0 row20\" >Lumber Ins Cos</th> \n",
       "        <td id=\"T_69131526_46d0_11e9_89fe_c49ded152ae4row20_col0\" class=\"data row20 col0\" >22868.1</td> \n",
       "        <td id=\"T_69131526_46d0_11e9_89fe_c49ded152ae4row20_col1\" class=\"data row20 col1\" >11934</td> \n",
       "        <td id=\"T_69131526_46d0_11e9_89fe_c49ded152ae4row20_col2\" class=\"data row20 col2\" >4803.65</td> \n",
       "        <td id=\"T_69131526_46d0_11e9_89fe_c49ded152ae4row20_col3\" class=\"data row20 col3\" >2570.39</td> \n",
       "        <td id=\"T_69131526_46d0_11e9_89fe_c49ded152ae4row20_col4\" class=\"data row20 col4\" >1322.64</td> \n",
       "        <td id=\"T_69131526_46d0_11e9_89fe_c49ded152ae4row20_col5\" class=\"data row20 col5\" >480.546</td> \n",
       "        <td id=\"T_69131526_46d0_11e9_89fe_c49ded152ae4row20_col6\" class=\"data row20 col6\" >143.659</td> \n",
       "        <td id=\"T_69131526_46d0_11e9_89fe_c49ded152ae4row20_col7\" class=\"data row20 col7\" >91.731</td> \n",
       "        <td id=\"T_69131526_46d0_11e9_89fe_c49ded152ae4row20_col8\" class=\"data row20 col8\" >63.4401</td> \n",
       "        <td id=\"T_69131526_46d0_11e9_89fe_c49ded152ae4row20_col9\" class=\"data row20 col9\" >0</td> \n",
       "        <td id=\"T_69131526_46d0_11e9_89fe_c49ded152ae4row20_col10\" class=\"data row20 col10\" >44278.1</td> \n",
       "    </tr>    <tr> \n",
       "        <th id=\"T_69131526_46d0_11e9_89fe_c49ded152ae4level0_row21\" class=\"row_heading level0 row21\" >Vanliner Ins Co</th> \n",
       "        <td id=\"T_69131526_46d0_11e9_89fe_c49ded152ae4row21_col0\" class=\"data row21 col0\" >17843.5</td> \n",
       "        <td id=\"T_69131526_46d0_11e9_89fe_c49ded152ae4row21_col1\" class=\"data row21 col1\" >10168.8</td> \n",
       "        <td id=\"T_69131526_46d0_11e9_89fe_c49ded152ae4row21_col2\" class=\"data row21 col2\" >6634.91</td> \n",
       "        <td id=\"T_69131526_46d0_11e9_89fe_c49ded152ae4row21_col3\" class=\"data row21 col3\" >4394.63</td> \n",
       "        <td id=\"T_69131526_46d0_11e9_89fe_c49ded152ae4row21_col4\" class=\"data row21 col4\" >2158.32</td> \n",
       "        <td id=\"T_69131526_46d0_11e9_89fe_c49ded152ae4row21_col5\" class=\"data row21 col5\" >1253.61</td> \n",
       "        <td id=\"T_69131526_46d0_11e9_89fe_c49ded152ae4row21_col6\" class=\"data row21 col6\" >752.864</td> \n",
       "        <td id=\"T_69131526_46d0_11e9_89fe_c49ded152ae4row21_col7\" class=\"data row21 col7\" >608.343</td> \n",
       "        <td id=\"T_69131526_46d0_11e9_89fe_c49ded152ae4row21_col8\" class=\"data row21 col8\" >342.666</td> \n",
       "        <td id=\"T_69131526_46d0_11e9_89fe_c49ded152ae4row21_col9\" class=\"data row21 col9\" >0</td> \n",
       "        <td id=\"T_69131526_46d0_11e9_89fe_c49ded152ae4row21_col10\" class=\"data row21 col10\" >44157.7</td> \n",
       "    </tr>    <tr> \n",
       "        <th id=\"T_69131526_46d0_11e9_89fe_c49ded152ae4level0_row22\" class=\"row_heading level0 row22\" >Associated Industries Ins Co</th> \n",
       "        <td id=\"T_69131526_46d0_11e9_89fe_c49ded152ae4row22_col0\" class=\"data row22 col0\" >11485.1</td> \n",
       "        <td id=\"T_69131526_46d0_11e9_89fe_c49ded152ae4row22_col1\" class=\"data row22 col1\" >11027.9</td> \n",
       "        <td id=\"T_69131526_46d0_11e9_89fe_c49ded152ae4row22_col2\" class=\"data row22 col2\" >7760.66</td> \n",
       "        <td id=\"T_69131526_46d0_11e9_89fe_c49ded152ae4row22_col3\" class=\"data row22 col3\" >4501.37</td> \n",
       "        <td id=\"T_69131526_46d0_11e9_89fe_c49ded152ae4row22_col4\" class=\"data row22 col4\" >2519.66</td> \n",
       "        <td id=\"T_69131526_46d0_11e9_89fe_c49ded152ae4row22_col5\" class=\"data row22 col5\" >2402.71</td> \n",
       "        <td id=\"T_69131526_46d0_11e9_89fe_c49ded152ae4row22_col6\" class=\"data row22 col6\" >2043.9</td> \n",
       "        <td id=\"T_69131526_46d0_11e9_89fe_c49ded152ae4row22_col7\" class=\"data row22 col7\" >1321.2</td> \n",
       "        <td id=\"T_69131526_46d0_11e9_89fe_c49ded152ae4row22_col8\" class=\"data row22 col8\" >270.224</td> \n",
       "        <td id=\"T_69131526_46d0_11e9_89fe_c49ded152ae4row22_col9\" class=\"data row22 col9\" >0</td> \n",
       "        <td id=\"T_69131526_46d0_11e9_89fe_c49ded152ae4row22_col10\" class=\"data row22 col10\" >43332.7</td> \n",
       "    </tr>    <tr> \n",
       "        <th id=\"T_69131526_46d0_11e9_89fe_c49ded152ae4level0_row23\" class=\"row_heading level0 row23\" >West Bend Mut Ins Grp</th> \n",
       "        <td id=\"T_69131526_46d0_11e9_89fe_c49ded152ae4row23_col0\" class=\"data row23 col0\" >21244.9</td> \n",
       "        <td id=\"T_69131526_46d0_11e9_89fe_c49ded152ae4row23_col1\" class=\"data row23 col1\" >10753.6</td> \n",
       "        <td id=\"T_69131526_46d0_11e9_89fe_c49ded152ae4row23_col2\" class=\"data row23 col2\" >5396.77</td> \n",
       "        <td id=\"T_69131526_46d0_11e9_89fe_c49ded152ae4row23_col3\" class=\"data row23 col3\" >2486</td> \n",
       "        <td id=\"T_69131526_46d0_11e9_89fe_c49ded152ae4row23_col4\" class=\"data row23 col4\" >1479.99</td> \n",
       "        <td id=\"T_69131526_46d0_11e9_89fe_c49ded152ae4row23_col5\" class=\"data row23 col5\" >802.715</td> \n",
       "        <td id=\"T_69131526_46d0_11e9_89fe_c49ded152ae4row23_col6\" class=\"data row23 col6\" >430.088</td> \n",
       "        <td id=\"T_69131526_46d0_11e9_89fe_c49ded152ae4row23_col7\" class=\"data row23 col7\" >208.806</td> \n",
       "        <td id=\"T_69131526_46d0_11e9_89fe_c49ded152ae4row23_col8\" class=\"data row23 col8\" >49.025</td> \n",
       "        <td id=\"T_69131526_46d0_11e9_89fe_c49ded152ae4row23_col9\" class=\"data row23 col9\" >0</td> \n",
       "        <td id=\"T_69131526_46d0_11e9_89fe_c49ded152ae4row23_col10\" class=\"data row23 col10\" >42851.8</td> \n",
       "    </tr>    <tr> \n",
       "        <th id=\"T_69131526_46d0_11e9_89fe_c49ded152ae4level0_row24\" class=\"row_heading level0 row24\" >FFVA Mut Ins Co</th> \n",
       "        <td id=\"T_69131526_46d0_11e9_89fe_c49ded152ae4row24_col0\" class=\"data row24 col0\" >17644.2</td> \n",
       "        <td id=\"T_69131526_46d0_11e9_89fe_c49ded152ae4row24_col1\" class=\"data row24 col1\" >10044.2</td> \n",
       "        <td id=\"T_69131526_46d0_11e9_89fe_c49ded152ae4row24_col2\" class=\"data row24 col2\" >5073.69</td> \n",
       "        <td id=\"T_69131526_46d0_11e9_89fe_c49ded152ae4row24_col3\" class=\"data row24 col3\" >2774.82</td> \n",
       "        <td id=\"T_69131526_46d0_11e9_89fe_c49ded152ae4row24_col4\" class=\"data row24 col4\" >2072.16</td> \n",
       "        <td id=\"T_69131526_46d0_11e9_89fe_c49ded152ae4row24_col5\" class=\"data row24 col5\" >1438.82</td> \n",
       "        <td id=\"T_69131526_46d0_11e9_89fe_c49ded152ae4row24_col6\" class=\"data row24 col6\" >1014.41</td> \n",
       "        <td id=\"T_69131526_46d0_11e9_89fe_c49ded152ae4row24_col7\" class=\"data row24 col7\" >636.214</td> \n",
       "        <td id=\"T_69131526_46d0_11e9_89fe_c49ded152ae4row24_col8\" class=\"data row24 col8\" >379.194</td> \n",
       "        <td id=\"T_69131526_46d0_11e9_89fe_c49ded152ae4row24_col9\" class=\"data row24 col9\" >0</td> \n",
       "        <td id=\"T_69131526_46d0_11e9_89fe_c49ded152ae4row24_col10\" class=\"data row24 col10\" >41077.8</td> \n",
       "    </tr>    <tr> \n",
       "        <th id=\"T_69131526_46d0_11e9_89fe_c49ded152ae4level0_row25\" class=\"row_heading level0 row25\" >MO Employers Mut Ins Co</th> \n",
       "        <td id=\"T_69131526_46d0_11e9_89fe_c49ded152ae4row25_col0\" class=\"data row25 col0\" >30711.2</td> \n",
       "        <td id=\"T_69131526_46d0_11e9_89fe_c49ded152ae4row25_col1\" class=\"data row25 col1\" >9166.73</td> \n",
       "        <td id=\"T_69131526_46d0_11e9_89fe_c49ded152ae4row25_col2\" class=\"data row25 col2\" >0</td> \n",
       "        <td id=\"T_69131526_46d0_11e9_89fe_c49ded152ae4row25_col3\" class=\"data row25 col3\" >0</td> \n",
       "        <td id=\"T_69131526_46d0_11e9_89fe_c49ded152ae4row25_col4\" class=\"data row25 col4\" >0</td> \n",
       "        <td id=\"T_69131526_46d0_11e9_89fe_c49ded152ae4row25_col5\" class=\"data row25 col5\" >0</td> \n",
       "        <td id=\"T_69131526_46d0_11e9_89fe_c49ded152ae4row25_col6\" class=\"data row25 col6\" >0</td> \n",
       "        <td id=\"T_69131526_46d0_11e9_89fe_c49ded152ae4row25_col7\" class=\"data row25 col7\" >0</td> \n",
       "        <td id=\"T_69131526_46d0_11e9_89fe_c49ded152ae4row25_col8\" class=\"data row25 col8\" >0</td> \n",
       "        <td id=\"T_69131526_46d0_11e9_89fe_c49ded152ae4row25_col9\" class=\"data row25 col9\" >0</td> \n",
       "        <td id=\"T_69131526_46d0_11e9_89fe_c49ded152ae4row25_col10\" class=\"data row25 col10\" >39877.9</td> \n",
       "    </tr>    <tr> \n",
       "        <th id=\"T_69131526_46d0_11e9_89fe_c49ded152ae4level0_row26\" class=\"row_heading level0 row26\" >Lumbermens Underwriting Alliance</th> \n",
       "        <td id=\"T_69131526_46d0_11e9_89fe_c49ded152ae4row26_col0\" class=\"data row26 col0\" >16339.6</td> \n",
       "        <td id=\"T_69131526_46d0_11e9_89fe_c49ded152ae4row26_col1\" class=\"data row26 col1\" >7944.44</td> \n",
       "        <td id=\"T_69131526_46d0_11e9_89fe_c49ded152ae4row26_col2\" class=\"data row26 col2\" >3859.57</td> \n",
       "        <td id=\"T_69131526_46d0_11e9_89fe_c49ded152ae4row26_col3\" class=\"data row26 col3\" >2597.16</td> \n",
       "        <td id=\"T_69131526_46d0_11e9_89fe_c49ded152ae4row26_col4\" class=\"data row26 col4\" >1457.76</td> \n",
       "        <td id=\"T_69131526_46d0_11e9_89fe_c49ded152ae4row26_col5\" class=\"data row26 col5\" >1468.06</td> \n",
       "        <td id=\"T_69131526_46d0_11e9_89fe_c49ded152ae4row26_col6\" class=\"data row26 col6\" >987.238</td> \n",
       "        <td id=\"T_69131526_46d0_11e9_89fe_c49ded152ae4row26_col7\" class=\"data row26 col7\" >795.262</td> \n",
       "        <td id=\"T_69131526_46d0_11e9_89fe_c49ded152ae4row26_col8\" class=\"data row26 col8\" >512.16</td> \n",
       "        <td id=\"T_69131526_46d0_11e9_89fe_c49ded152ae4row26_col9\" class=\"data row26 col9\" >0</td> \n",
       "        <td id=\"T_69131526_46d0_11e9_89fe_c49ded152ae4row26_col10\" class=\"data row26 col10\" >35961.3</td> \n",
       "    </tr>    <tr> \n",
       "        <th id=\"T_69131526_46d0_11e9_89fe_c49ded152ae4level0_row27\" class=\"row_heading level0 row27\" >Preferred Risk Mut Grp</th> \n",
       "        <td id=\"T_69131526_46d0_11e9_89fe_c49ded152ae4row27_col0\" class=\"data row27 col0\" >12437</td> \n",
       "        <td id=\"T_69131526_46d0_11e9_89fe_c49ded152ae4row27_col1\" class=\"data row27 col1\" >6845.2</td> \n",
       "        <td id=\"T_69131526_46d0_11e9_89fe_c49ded152ae4row27_col2\" class=\"data row27 col2\" >5510.56</td> \n",
       "        <td id=\"T_69131526_46d0_11e9_89fe_c49ded152ae4row27_col3\" class=\"data row27 col3\" >3739.71</td> \n",
       "        <td id=\"T_69131526_46d0_11e9_89fe_c49ded152ae4row27_col4\" class=\"data row27 col4\" >2410.96</td> \n",
       "        <td id=\"T_69131526_46d0_11e9_89fe_c49ded152ae4row27_col5\" class=\"data row27 col5\" >1531.18</td> \n",
       "        <td id=\"T_69131526_46d0_11e9_89fe_c49ded152ae4row27_col6\" class=\"data row27 col6\" >675.233</td> \n",
       "        <td id=\"T_69131526_46d0_11e9_89fe_c49ded152ae4row27_col7\" class=\"data row27 col7\" >396.133</td> \n",
       "        <td id=\"T_69131526_46d0_11e9_89fe_c49ded152ae4row27_col8\" class=\"data row27 col8\" >211.188</td> \n",
       "        <td id=\"T_69131526_46d0_11e9_89fe_c49ded152ae4row27_col9\" class=\"data row27 col9\" >0</td> \n",
       "        <td id=\"T_69131526_46d0_11e9_89fe_c49ded152ae4row27_col10\" class=\"data row27 col10\" >33757.1</td> \n",
       "    </tr>    <tr> \n",
       "        <th id=\"T_69131526_46d0_11e9_89fe_c49ded152ae4level0_row28\" class=\"row_heading level0 row28\" >National American Ins Co</th> \n",
       "        <td id=\"T_69131526_46d0_11e9_89fe_c49ded152ae4row28_col0\" class=\"data row28 col0\" >18272.3</td> \n",
       "        <td id=\"T_69131526_46d0_11e9_89fe_c49ded152ae4row28_col1\" class=\"data row28 col1\" >6959.33</td> \n",
       "        <td id=\"T_69131526_46d0_11e9_89fe_c49ded152ae4row28_col2\" class=\"data row28 col2\" >3901.79</td> \n",
       "        <td id=\"T_69131526_46d0_11e9_89fe_c49ded152ae4row28_col3\" class=\"data row28 col3\" >2175.52</td> \n",
       "        <td id=\"T_69131526_46d0_11e9_89fe_c49ded152ae4row28_col4\" class=\"data row28 col4\" >833.407</td> \n",
       "        <td id=\"T_69131526_46d0_11e9_89fe_c49ded152ae4row28_col5\" class=\"data row28 col5\" >371.211</td> \n",
       "        <td id=\"T_69131526_46d0_11e9_89fe_c49ded152ae4row28_col6\" class=\"data row28 col6\" >91.2105</td> \n",
       "        <td id=\"T_69131526_46d0_11e9_89fe_c49ded152ae4row28_col7\" class=\"data row28 col7\" >34.188</td> \n",
       "        <td id=\"T_69131526_46d0_11e9_89fe_c49ded152ae4row28_col8\" class=\"data row28 col8\" >0</td> \n",
       "        <td id=\"T_69131526_46d0_11e9_89fe_c49ded152ae4row28_col9\" class=\"data row28 col9\" >0</td> \n",
       "        <td id=\"T_69131526_46d0_11e9_89fe_c49ded152ae4row28_col10\" class=\"data row28 col10\" >32638.9</td> \n",
       "    </tr>    <tr> \n",
       "        <th id=\"T_69131526_46d0_11e9_89fe_c49ded152ae4level0_row29\" class=\"row_heading level0 row29\" >Church Mut Ins Co</th> \n",
       "        <td id=\"T_69131526_46d0_11e9_89fe_c49ded152ae4row29_col0\" class=\"data row29 col0\" >11609.4</td> \n",
       "        <td id=\"T_69131526_46d0_11e9_89fe_c49ded152ae4row29_col1\" class=\"data row29 col1\" >6783.05</td> \n",
       "        <td id=\"T_69131526_46d0_11e9_89fe_c49ded152ae4row29_col2\" class=\"data row29 col2\" >3269.25</td> \n",
       "        <td id=\"T_69131526_46d0_11e9_89fe_c49ded152ae4row29_col3\" class=\"data row29 col3\" >2428.5</td> \n",
       "        <td id=\"T_69131526_46d0_11e9_89fe_c49ded152ae4row29_col4\" class=\"data row29 col4\" >1427.01</td> \n",
       "        <td id=\"T_69131526_46d0_11e9_89fe_c49ded152ae4row29_col5\" class=\"data row29 col5\" >961.491</td> \n",
       "        <td id=\"T_69131526_46d0_11e9_89fe_c49ded152ae4row29_col6\" class=\"data row29 col6\" >557.418</td> \n",
       "        <td id=\"T_69131526_46d0_11e9_89fe_c49ded152ae4row29_col7\" class=\"data row29 col7\" >306.725</td> \n",
       "        <td id=\"T_69131526_46d0_11e9_89fe_c49ded152ae4row29_col8\" class=\"data row29 col8\" >175.183</td> \n",
       "        <td id=\"T_69131526_46d0_11e9_89fe_c49ded152ae4row29_col9\" class=\"data row29 col9\" >0</td> \n",
       "        <td id=\"T_69131526_46d0_11e9_89fe_c49ded152ae4row29_col10\" class=\"data row29 col10\" >27518</td> \n",
       "    </tr>    <tr> \n",
       "        <th id=\"T_69131526_46d0_11e9_89fe_c49ded152ae4level0_row30\" class=\"row_heading level0 row30\" >Lackawanna Cas Co</th> \n",
       "        <td id=\"T_69131526_46d0_11e9_89fe_c49ded152ae4row30_col0\" class=\"data row30 col0\" >6932.33</td> \n",
       "        <td id=\"T_69131526_46d0_11e9_89fe_c49ded152ae4row30_col1\" class=\"data row30 col1\" >5252.63</td> \n",
       "        <td id=\"T_69131526_46d0_11e9_89fe_c49ded152ae4row30_col2\" class=\"data row30 col2\" >4012.39</td> \n",
       "        <td id=\"T_69131526_46d0_11e9_89fe_c49ded152ae4row30_col3\" class=\"data row30 col3\" >3294.32</td> \n",
       "        <td id=\"T_69131526_46d0_11e9_89fe_c49ded152ae4row30_col4\" class=\"data row30 col4\" >3496.15</td> \n",
       "        <td id=\"T_69131526_46d0_11e9_89fe_c49ded152ae4row30_col5\" class=\"data row30 col5\" >1882.07</td> \n",
       "        <td id=\"T_69131526_46d0_11e9_89fe_c49ded152ae4row30_col6\" class=\"data row30 col6\" >954.623</td> \n",
       "        <td id=\"T_69131526_46d0_11e9_89fe_c49ded152ae4row30_col7\" class=\"data row30 col7\" >640.645</td> \n",
       "        <td id=\"T_69131526_46d0_11e9_89fe_c49ded152ae4row30_col8\" class=\"data row30 col8\" >417.303</td> \n",
       "        <td id=\"T_69131526_46d0_11e9_89fe_c49ded152ae4row30_col9\" class=\"data row30 col9\" >0</td> \n",
       "        <td id=\"T_69131526_46d0_11e9_89fe_c49ded152ae4row30_col10\" class=\"data row30 col10\" >26882.5</td> \n",
       "    </tr>    <tr> \n",
       "        <th id=\"T_69131526_46d0_11e9_89fe_c49ded152ae4level0_row31\" class=\"row_heading level0 row31\" >Alaska Nat Ins Co</th> \n",
       "        <td id=\"T_69131526_46d0_11e9_89fe_c49ded152ae4row31_col0\" class=\"data row31 col0\" >13402.1</td> \n",
       "        <td id=\"T_69131526_46d0_11e9_89fe_c49ded152ae4row31_col1\" class=\"data row31 col1\" >5472.94</td> \n",
       "        <td id=\"T_69131526_46d0_11e9_89fe_c49ded152ae4row31_col2\" class=\"data row31 col2\" >3310.96</td> \n",
       "        <td id=\"T_69131526_46d0_11e9_89fe_c49ded152ae4row31_col3\" class=\"data row31 col3\" >1700.92</td> \n",
       "        <td id=\"T_69131526_46d0_11e9_89fe_c49ded152ae4row31_col4\" class=\"data row31 col4\" >1108.67</td> \n",
       "        <td id=\"T_69131526_46d0_11e9_89fe_c49ded152ae4row31_col5\" class=\"data row31 col5\" >725.741</td> \n",
       "        <td id=\"T_69131526_46d0_11e9_89fe_c49ded152ae4row31_col6\" class=\"data row31 col6\" >348.085</td> \n",
       "        <td id=\"T_69131526_46d0_11e9_89fe_c49ded152ae4row31_col7\" class=\"data row31 col7\" >125.874</td> \n",
       "        <td id=\"T_69131526_46d0_11e9_89fe_c49ded152ae4row31_col8\" class=\"data row31 col8\" >24.5506</td> \n",
       "        <td id=\"T_69131526_46d0_11e9_89fe_c49ded152ae4row31_col9\" class=\"data row31 col9\" >0</td> \n",
       "        <td id=\"T_69131526_46d0_11e9_89fe_c49ded152ae4row31_col10\" class=\"data row31 col10\" >26219.8</td> \n",
       "    </tr>    <tr> \n",
       "        <th id=\"T_69131526_46d0_11e9_89fe_c49ded152ae4level0_row32\" class=\"row_heading level0 row32\" >Hastings Mut Ins Co</th> \n",
       "        <td id=\"T_69131526_46d0_11e9_89fe_c49ded152ae4row32_col0\" class=\"data row32 col0\" >9983.68</td> \n",
       "        <td id=\"T_69131526_46d0_11e9_89fe_c49ded152ae4row32_col1\" class=\"data row32 col1\" >5997.3</td> \n",
       "        <td id=\"T_69131526_46d0_11e9_89fe_c49ded152ae4row32_col2\" class=\"data row32 col2\" >3473.32</td> \n",
       "        <td id=\"T_69131526_46d0_11e9_89fe_c49ded152ae4row32_col3\" class=\"data row32 col3\" >1995.41</td> \n",
       "        <td id=\"T_69131526_46d0_11e9_89fe_c49ded152ae4row32_col4\" class=\"data row32 col4\" >1076.44</td> \n",
       "        <td id=\"T_69131526_46d0_11e9_89fe_c49ded152ae4row32_col5\" class=\"data row32 col5\" >639.01</td> \n",
       "        <td id=\"T_69131526_46d0_11e9_89fe_c49ded152ae4row32_col6\" class=\"data row32 col6\" >245.688</td> \n",
       "        <td id=\"T_69131526_46d0_11e9_89fe_c49ded152ae4row32_col7\" class=\"data row32 col7\" >130.151</td> \n",
       "        <td id=\"T_69131526_46d0_11e9_89fe_c49ded152ae4row32_col8\" class=\"data row32 col8\" >43.0891</td> \n",
       "        <td id=\"T_69131526_46d0_11e9_89fe_c49ded152ae4row32_col9\" class=\"data row32 col9\" >0</td> \n",
       "        <td id=\"T_69131526_46d0_11e9_89fe_c49ded152ae4row32_col10\" class=\"data row32 col10\" >23584.1</td> \n",
       "    </tr>    <tr> \n",
       "        <th id=\"T_69131526_46d0_11e9_89fe_c49ded152ae4level0_row33\" class=\"row_heading level0 row33\" >Yasuda Fire & Marine Ins Co Of Amer</th> \n",
       "        <td id=\"T_69131526_46d0_11e9_89fe_c49ded152ae4row33_col0\" class=\"data row33 col0\" >10872.8</td> \n",
       "        <td id=\"T_69131526_46d0_11e9_89fe_c49ded152ae4row33_col1\" class=\"data row33 col1\" >5162.32</td> \n",
       "        <td id=\"T_69131526_46d0_11e9_89fe_c49ded152ae4row33_col2\" class=\"data row33 col2\" >1981.06</td> \n",
       "        <td id=\"T_69131526_46d0_11e9_89fe_c49ded152ae4row33_col3\" class=\"data row33 col3\" >1112.64</td> \n",
       "        <td id=\"T_69131526_46d0_11e9_89fe_c49ded152ae4row33_col4\" class=\"data row33 col4\" >786.453</td> \n",
       "        <td id=\"T_69131526_46d0_11e9_89fe_c49ded152ae4row33_col5\" class=\"data row33 col5\" >980.624</td> \n",
       "        <td id=\"T_69131526_46d0_11e9_89fe_c49ded152ae4row33_col6\" class=\"data row33 col6\" >597.413</td> \n",
       "        <td id=\"T_69131526_46d0_11e9_89fe_c49ded152ae4row33_col7\" class=\"data row33 col7\" >240.754</td> \n",
       "        <td id=\"T_69131526_46d0_11e9_89fe_c49ded152ae4row33_col8\" class=\"data row33 col8\" >88.5355</td> \n",
       "        <td id=\"T_69131526_46d0_11e9_89fe_c49ded152ae4row33_col9\" class=\"data row33 col9\" >0</td> \n",
       "        <td id=\"T_69131526_46d0_11e9_89fe_c49ded152ae4row33_col10\" class=\"data row33 col10\" >21822.6</td> \n",
       "    </tr>    <tr> \n",
       "        <th id=\"T_69131526_46d0_11e9_89fe_c49ded152ae4level0_row34\" class=\"row_heading level0 row34\" >Grinnell Mut Grp</th> \n",
       "        <td id=\"T_69131526_46d0_11e9_89fe_c49ded152ae4row34_col0\" class=\"data row34 col0\" >10407.7</td> \n",
       "        <td id=\"T_69131526_46d0_11e9_89fe_c49ded152ae4row34_col1\" class=\"data row34 col1\" >5010.66</td> \n",
       "        <td id=\"T_69131526_46d0_11e9_89fe_c49ded152ae4row34_col2\" class=\"data row34 col2\" >2951.11</td> \n",
       "        <td id=\"T_69131526_46d0_11e9_89fe_c49ded152ae4row34_col3\" class=\"data row34 col3\" >1208.29</td> \n",
       "        <td id=\"T_69131526_46d0_11e9_89fe_c49ded152ae4row34_col4\" class=\"data row34 col4\" >651.213</td> \n",
       "        <td id=\"T_69131526_46d0_11e9_89fe_c49ded152ae4row34_col5\" class=\"data row34 col5\" >269.687</td> \n",
       "        <td id=\"T_69131526_46d0_11e9_89fe_c49ded152ae4row34_col6\" class=\"data row34 col6\" >219.356</td> \n",
       "        <td id=\"T_69131526_46d0_11e9_89fe_c49ded152ae4row34_col7\" class=\"data row34 col7\" >42.4518</td> \n",
       "        <td id=\"T_69131526_46d0_11e9_89fe_c49ded152ae4row34_col8\" class=\"data row34 col8\" >9.55546</td> \n",
       "        <td id=\"T_69131526_46d0_11e9_89fe_c49ded152ae4row34_col9\" class=\"data row34 col9\" >0</td> \n",
       "        <td id=\"T_69131526_46d0_11e9_89fe_c49ded152ae4row34_col10\" class=\"data row34 col10\" >20770.1</td> \n",
       "    </tr>    <tr> \n",
       "        <th id=\"T_69131526_46d0_11e9_89fe_c49ded152ae4level0_row35\" class=\"row_heading level0 row35\" >Farm Bureau Of MI Grp</th> \n",
       "        <td id=\"T_69131526_46d0_11e9_89fe_c49ded152ae4row35_col0\" class=\"data row35 col0\" >7524.29</td> \n",
       "        <td id=\"T_69131526_46d0_11e9_89fe_c49ded152ae4row35_col1\" class=\"data row35 col1\" >3966.31</td> \n",
       "        <td id=\"T_69131526_46d0_11e9_89fe_c49ded152ae4row35_col2\" class=\"data row35 col2\" >2815.81</td> \n",
       "        <td id=\"T_69131526_46d0_11e9_89fe_c49ded152ae4row35_col3\" class=\"data row35 col3\" >2039.91</td> \n",
       "        <td id=\"T_69131526_46d0_11e9_89fe_c49ded152ae4row35_col4\" class=\"data row35 col4\" >1140.57</td> \n",
       "        <td id=\"T_69131526_46d0_11e9_89fe_c49ded152ae4row35_col5\" class=\"data row35 col5\" >725.057</td> \n",
       "        <td id=\"T_69131526_46d0_11e9_89fe_c49ded152ae4row35_col6\" class=\"data row35 col6\" >414.631</td> \n",
       "        <td id=\"T_69131526_46d0_11e9_89fe_c49ded152ae4row35_col7\" class=\"data row35 col7\" >147.885</td> \n",
       "        <td id=\"T_69131526_46d0_11e9_89fe_c49ded152ae4row35_col8\" class=\"data row35 col8\" >46.4391</td> \n",
       "        <td id=\"T_69131526_46d0_11e9_89fe_c49ded152ae4row35_col9\" class=\"data row35 col9\" >0</td> \n",
       "        <td id=\"T_69131526_46d0_11e9_89fe_c49ded152ae4row35_col10\" class=\"data row35 col10\" >18820.9</td> \n",
       "    </tr>    <tr> \n",
       "        <th id=\"T_69131526_46d0_11e9_89fe_c49ded152ae4level0_row36\" class=\"row_heading level0 row36\" >Farmers Automobile Grp</th> \n",
       "        <td id=\"T_69131526_46d0_11e9_89fe_c49ded152ae4row36_col0\" class=\"data row36 col0\" >9084.18</td> \n",
       "        <td id=\"T_69131526_46d0_11e9_89fe_c49ded152ae4row36_col1\" class=\"data row36 col1\" >4619.55</td> \n",
       "        <td id=\"T_69131526_46d0_11e9_89fe_c49ded152ae4row36_col2\" class=\"data row36 col2\" >2383.74</td> \n",
       "        <td id=\"T_69131526_46d0_11e9_89fe_c49ded152ae4row36_col3\" class=\"data row36 col3\" >1486.36</td> \n",
       "        <td id=\"T_69131526_46d0_11e9_89fe_c49ded152ae4row36_col4\" class=\"data row36 col4\" >572.237</td> \n",
       "        <td id=\"T_69131526_46d0_11e9_89fe_c49ded152ae4row36_col5\" class=\"data row36 col5\" >230.294</td> \n",
       "        <td id=\"T_69131526_46d0_11e9_89fe_c49ded152ae4row36_col6\" class=\"data row36 col6\" >141.759</td> \n",
       "        <td id=\"T_69131526_46d0_11e9_89fe_c49ded152ae4row36_col7\" class=\"data row36 col7\" >56.3614</td> \n",
       "        <td id=\"T_69131526_46d0_11e9_89fe_c49ded152ae4row36_col8\" class=\"data row36 col8\" >24.9986</td> \n",
       "        <td id=\"T_69131526_46d0_11e9_89fe_c49ded152ae4row36_col9\" class=\"data row36 col9\" >0</td> \n",
       "        <td id=\"T_69131526_46d0_11e9_89fe_c49ded152ae4row36_col10\" class=\"data row36 col10\" >18599.5</td> \n",
       "    </tr>    <tr> \n",
       "        <th id=\"T_69131526_46d0_11e9_89fe_c49ded152ae4level0_row37\" class=\"row_heading level0 row37\" >Island Ins Cos Grp</th> \n",
       "        <td id=\"T_69131526_46d0_11e9_89fe_c49ded152ae4row37_col0\" class=\"data row37 col0\" >5892.44</td> \n",
       "        <td id=\"T_69131526_46d0_11e9_89fe_c49ded152ae4row37_col1\" class=\"data row37 col1\" >2216.22</td> \n",
       "        <td id=\"T_69131526_46d0_11e9_89fe_c49ded152ae4row37_col2\" class=\"data row37 col2\" >2546.23</td> \n",
       "        <td id=\"T_69131526_46d0_11e9_89fe_c49ded152ae4row37_col3\" class=\"data row37 col3\" >2336.2</td> \n",
       "        <td id=\"T_69131526_46d0_11e9_89fe_c49ded152ae4row37_col4\" class=\"data row37 col4\" >1271.78</td> \n",
       "        <td id=\"T_69131526_46d0_11e9_89fe_c49ded152ae4row37_col5\" class=\"data row37 col5\" >667.459</td> \n",
       "        <td id=\"T_69131526_46d0_11e9_89fe_c49ded152ae4row37_col6\" class=\"data row37 col6\" >276.848</td> \n",
       "        <td id=\"T_69131526_46d0_11e9_89fe_c49ded152ae4row37_col7\" class=\"data row37 col7\" >99.2172</td> \n",
       "        <td id=\"T_69131526_46d0_11e9_89fe_c49ded152ae4row37_col8\" class=\"data row37 col8\" >29.4507</td> \n",
       "        <td id=\"T_69131526_46d0_11e9_89fe_c49ded152ae4row37_col9\" class=\"data row37 col9\" >0</td> \n",
       "        <td id=\"T_69131526_46d0_11e9_89fe_c49ded152ae4row37_col10\" class=\"data row37 col10\" >15335.8</td> \n",
       "    </tr>    <tr> \n",
       "        <th id=\"T_69131526_46d0_11e9_89fe_c49ded152ae4level0_row38\" class=\"row_heading level0 row38\" >Martingale Natl Ins Co</th> \n",
       "        <td id=\"T_69131526_46d0_11e9_89fe_c49ded152ae4row38_col0\" class=\"data row38 col0\" >13356.5</td> \n",
       "        <td id=\"T_69131526_46d0_11e9_89fe_c49ded152ae4row38_col1\" class=\"data row38 col1\" >1006.1</td> \n",
       "        <td id=\"T_69131526_46d0_11e9_89fe_c49ded152ae4row38_col2\" class=\"data row38 col2\" >1.5691</td> \n",
       "        <td id=\"T_69131526_46d0_11e9_89fe_c49ded152ae4row38_col3\" class=\"data row38 col3\" >0</td> \n",
       "        <td id=\"T_69131526_46d0_11e9_89fe_c49ded152ae4row38_col4\" class=\"data row38 col4\" >0</td> \n",
       "        <td id=\"T_69131526_46d0_11e9_89fe_c49ded152ae4row38_col5\" class=\"data row38 col5\" >0</td> \n",
       "        <td id=\"T_69131526_46d0_11e9_89fe_c49ded152ae4row38_col6\" class=\"data row38 col6\" >0</td> \n",
       "        <td id=\"T_69131526_46d0_11e9_89fe_c49ded152ae4row38_col7\" class=\"data row38 col7\" >0</td> \n",
       "        <td id=\"T_69131526_46d0_11e9_89fe_c49ded152ae4row38_col8\" class=\"data row38 col8\" >0</td> \n",
       "        <td id=\"T_69131526_46d0_11e9_89fe_c49ded152ae4row38_col9\" class=\"data row38 col9\" >0</td> \n",
       "        <td id=\"T_69131526_46d0_11e9_89fe_c49ded152ae4row38_col10\" class=\"data row38 col10\" >14364.2</td> \n",
       "    </tr>    <tr> \n",
       "        <th id=\"T_69131526_46d0_11e9_89fe_c49ded152ae4level0_row39\" class=\"row_heading level0 row39\" >Discovery Ins Co</th> \n",
       "        <td id=\"T_69131526_46d0_11e9_89fe_c49ded152ae4row39_col0\" class=\"data row39 col0\" >8736.07</td> \n",
       "        <td id=\"T_69131526_46d0_11e9_89fe_c49ded152ae4row39_col1\" class=\"data row39 col1\" >2520.81</td> \n",
       "        <td id=\"T_69131526_46d0_11e9_89fe_c49ded152ae4row39_col2\" class=\"data row39 col2\" >1369.35</td> \n",
       "        <td id=\"T_69131526_46d0_11e9_89fe_c49ded152ae4row39_col3\" class=\"data row39 col3\" >486.207</td> \n",
       "        <td id=\"T_69131526_46d0_11e9_89fe_c49ded152ae4row39_col4\" class=\"data row39 col4\" >0</td> \n",
       "        <td id=\"T_69131526_46d0_11e9_89fe_c49ded152ae4row39_col5\" class=\"data row39 col5\" >0</td> \n",
       "        <td id=\"T_69131526_46d0_11e9_89fe_c49ded152ae4row39_col6\" class=\"data row39 col6\" >0</td> \n",
       "        <td id=\"T_69131526_46d0_11e9_89fe_c49ded152ae4row39_col7\" class=\"data row39 col7\" >0</td> \n",
       "        <td id=\"T_69131526_46d0_11e9_89fe_c49ded152ae4row39_col8\" class=\"data row39 col8\" >0</td> \n",
       "        <td id=\"T_69131526_46d0_11e9_89fe_c49ded152ae4row39_col9\" class=\"data row39 col9\" >0</td> \n",
       "        <td id=\"T_69131526_46d0_11e9_89fe_c49ded152ae4row39_col10\" class=\"data row39 col10\" >13112.4</td> \n",
       "    </tr></tbody> \n",
       "</table> "
      ],
      "text/plain": [
       "<pandas.io.formats.style.Styler at 0x194f23ab400>"
      ]
     },
     "execution_count": 474,
     "metadata": {},
     "output_type": "execute_result"
    }
   ],
   "source": [
    "ibnr_df.sort_values('Tot', ascending=False).head(40).style"
   ]
  },
  {
   "cell_type": "code",
   "execution_count": 473,
   "metadata": {},
   "outputs": [
    {
     "data": {
      "text/plain": [
       "GRNAME\n",
       "Hyundai Marine & Fire Ins Co Ltd            inf\n",
       "British Amer Ins Co                         inf\n",
       "GA Resaurant Mut Captive Ins Co             inf\n",
       "Dowa Fire & Marine Ins Co Ltd Us Br         inf\n",
       "Dorinco Rein Co                             inf\n",
       "Pacific Ind Ins Co                          inf\n",
       "Rainier Ins Co                              inf\n",
       "Red Shield Ins Co                           inf\n",
       "Homestead Ins Co                            inf\n",
       "Associated Industries Ins Co           0.000000\n",
       "Associated Loggers Exch                0.000000\n",
       "Employers Security Ins Co              0.000000\n",
       "Erie Ins Exchange Grp                  0.000000\n",
       "FFVA Mut Ins Co                        0.000000\n",
       "FL Farm Bureau Grp                     0.000000\n",
       "FM Global                              0.000000\n",
       "Farm Bureau Grp                        0.000000\n",
       "Farm Bureau Of MI Grp                  0.000000\n",
       "Farmers Alliance Mut & Affiliates      0.000000\n",
       "Farmers Automobile Grp                 0.000000\n",
       "Farmers Ins Co of Flemington           0.000000\n",
       "Federal Ins Co Grp                     0.000000\n",
       "Financial Cas & Surety Inc             0.000000\n",
       "First Mercury Ins Co                   0.000000\n",
       "First Nonprofit Mut Ins Co             0.000000\n",
       "Firstcomp Ins Co                       0.000000\n",
       "Fitchburg Mut Ins Co                   0.000000\n",
       "Florida Hospitality Mut Ins Co         0.000000\n",
       "Fremont Mut Ins Co                     0.000000\n",
       "Alaska Nat Ins Co                      0.000000\n",
       "                                         ...   \n",
       "Patrons Grp                            0.000000\n",
       "Partners Mut Ins Co                    0.000000\n",
       "Maple Valley Mut Ins Co                0.000000\n",
       "Island Ins Cos Grp                     0.000000\n",
       "Kentucky Farm Bureau Mut Ins Grp       0.000000\n",
       "Lackawanna Cas Co                      0.000000\n",
       "Laundry Owners Mut Liab Ins Asn        0.000000\n",
       "Lebanon Mut Ins Co                     0.000000\n",
       "Louisiana Pest Control Ins Co          0.000000\n",
       "Lumber Ins Cos                         0.000000\n",
       "Lumbermens Underwriting Alliance       0.000000\n",
       "MHA Ins Co                             0.000000\n",
       "MO Employers Mut Ins Co                0.000000\n",
       "Mada Ins Exchange                      0.000000\n",
       "Mapfre Reins Corp                      0.000000\n",
       "Martingale Natl Ins Co                 0.000000\n",
       "Omega Ins Co                           0.000000\n",
       "Michigan Millers Mut Ins Co            0.000000\n",
       "Midstates Rein Corp                    0.000000\n",
       "Midwest Family Mut Ins Co              0.000000\n",
       "Millers Capital Ins Co                 0.000000\n",
       "Millers Mut Ins Assoc                  0.000000\n",
       "Mutual Benefit Grp                     0.000000\n",
       "NC Farm Bureau Ins Grp                 0.000000\n",
       "NHC Ins Co                             0.000000\n",
       "NLC Mut Ins Co                         0.000000\n",
       "National American Ins Co               0.000000\n",
       "New Jersey Manufacturers Grp           0.000000\n",
       "Nissan Fire & Marine Ins Co Us Br      0.000000\n",
       "Agway Ins Co                           0.000000\n",
       "Length: 126, dtype: float64"
      ]
     },
     "execution_count": 473,
     "metadata": {},
     "output_type": "execute_result"
    }
   ],
   "source": [
    "(ibnr_df.iloc[:, 0:10] - ibnr[:, ::-1]).sum(1).sort_values(ascending=False)"
   ]
  },
  {
   "cell_type": "code",
   "execution_count": null,
   "metadata": {},
   "outputs": [],
   "source": [
    "display(ibnr_df.head(20).style)\n",
    "display(pd.DataFrame(ibnr[:,::-1]).head(20).style)"
   ]
  },
  {
   "cell_type": "code",
   "execution_count": null,
   "metadata": {},
   "outputs": [],
   "source": [
    "display(ult_df.head(10))\n",
    "display(pd.DataFrame(ultimate).iloc[0:10, ::-1])"
   ]
  },
  {
   "cell_type": "code",
   "execution_count": null,
   "metadata": {},
   "outputs": [],
   "source": [
    "sorted((ult_df - ultimate[:, ::-1]).abs().sum(1))"
   ]
  },
  {
   "cell_type": "code",
   "execution_count": null,
   "metadata": {},
   "outputs": [],
   "source": [
    "display(diag_df.head(10))\n",
    "display(pd.DataFrame(latest_diagonal).iloc[0:10, :])"
   ]
  },
  {
   "cell_type": "code",
   "execution_count": null,
   "metadata": {},
   "outputs": [],
   "source": [
    "display(cdf_df.head(10))\n",
    "display(pd.DataFrame(cdf_array).iloc[0:10, ::-1])"
   ]
  },
  {
   "cell_type": "code",
   "execution_count": null,
   "metadata": {},
   "outputs": [],
   "source": [
    "display(ldf_df.head(10))\n",
    "display(pd.DataFrame(ldf_array).head(10))"
   ]
  },
  {
   "cell_type": "code",
   "execution_count": null,
   "metadata": {},
   "outputs": [],
   "source": [
    "%load_ext line_profiler"
   ]
  },
  {
   "cell_type": "code",
   "execution_count": null,
   "metadata": {},
   "outputs": [],
   "source": [
    "%%prun -s \"time\" -l 20\n",
    "\n",
    "triangle_frame1 = triangle_frame.groupby(level=0).filter(lambda x : np.nansum(x)  > 0)\n",
    "\n",
    "# ata factors\n",
    "ata_df = pd.DataFrame(triangle_frame1.iloc[:, 1:].values / \\\n",
    "    triangle_frame1.iloc[:, :-1].values, index=triangle_frame1.index, columns=range(1,10))\n",
    "\n",
    "# ldfs with default 1\n",
    "ldf_df = ata_df.groupby(level=0).mean().fillna(1.)\n",
    "\n",
    "# cdfs\n",
    "# cdf_df = ldf_df.sort_index(axis=1, ascending=False).cumprod(axis=1).sort_index(axis=1)\n",
    "cdf_df = ldf_df.iloc[:, ::-1].cumprod(axis=1).iloc[:, ::-1]\n",
    "\n",
    "# diagonal\n",
    "diag_df = triangle_frame1.groupby(level=0).apply(\n",
    "    lambda x : pd.Series(np.diagonal(x.values[:, ::-1])[::-1], index=range(1,11)))\n",
    "# ultimate and ibnr\n",
    "ult_df = (diag_df * cdf_df).fillna(0)\n",
    "ibnr_df = ult_df - diag_df "
   ]
  },
  {
   "cell_type": "code",
   "execution_count": null,
   "metadata": {},
   "outputs": [],
   "source": [
    "%lprun -f test2()"
   ]
  },
  {
   "cell_type": "code",
   "execution_count": null,
   "metadata": {},
   "outputs": [],
   "source": [
    "(ibnr_df - ibnr[:, ::-1]).sum(1).sort_values(ascending=False)"
   ]
  },
  {
   "cell_type": "code",
   "execution_count": null,
   "metadata": {},
   "outputs": [],
   "source": []
  },
  {
   "cell_type": "code",
   "execution_count": null,
   "metadata": {},
   "outputs": [],
   "source": [
    "cas.columns"
   ]
  },
  {
   "cell_type": "code",
   "execution_count": null,
   "metadata": {},
   "outputs": [],
   "source": []
  },
  {
   "cell_type": "markdown",
   "metadata": {},
   "source": [
    "# SM Triangles"
   ]
  },
  {
   "cell_type": "code",
   "execution_count": null,
   "metadata": {},
   "outputs": [],
   "source": [
    "N1 = pd.read_csv(r'http://www.mynl.com/RPM/masterdata.csv')"
   ]
  },
  {
   "cell_type": "code",
   "execution_count": null,
   "metadata": {},
   "outputs": [],
   "source": [
    "plt.figure(figsize=(12,12))\n",
    "plt.plot(np.log(np.log(N1.PaidLoss)), np.log(np.log(N1.UltIncLoss)), 'x', alpha=0.05)"
   ]
  },
  {
   "cell_type": "code",
   "execution_count": null,
   "metadata": {},
   "outputs": [],
   "source": [
    "N2 = N1.set_index(keys=['Line', 'GRName', 'AY', 'Lag'], inplace=False)"
   ]
  },
  {
   "cell_type": "code",
   "execution_count": null,
   "metadata": {},
   "outputs": [],
   "source": [
    "N2.head()"
   ]
  },
  {
   "cell_type": "code",
   "execution_count": null,
   "metadata": {},
   "outputs": [],
   "source": [
    "pd.unique(N1.Line) # , pd.unique(N1.GRName)"
   ]
  },
  {
   "cell_type": "code",
   "execution_count": null,
   "metadata": {},
   "outputs": [],
   "source": [
    "%timeit N1[ (N1.GRName == 'Alaska Nat Ins Co') & (N1.Line=='Comm Auto')].head(5)"
   ]
  },
  {
   "cell_type": "code",
   "execution_count": null,
   "metadata": {},
   "outputs": [],
   "source": [
    "%timeit N1.query(' GRName == \"Alaska Nat Ins Co\" and Line==\"Comm Auto\" ').head(5)"
   ]
  },
  {
   "cell_type": "code",
   "execution_count": null,
   "metadata": {},
   "outputs": [],
   "source": [
    "N2.loc[(slice(None), 'FM Global'), :].head(5)"
   ]
  },
  {
   "cell_type": "code",
   "execution_count": null,
   "metadata": {},
   "outputs": [],
   "source": [
    "N2.loc['Comm Auto', :].head(5)"
   ]
  },
  {
   "cell_type": "code",
   "execution_count": null,
   "metadata": {},
   "outputs": [],
   "source": [
    "N2.loc[(slice(None), slice(None), 1990), :].head(5)"
   ]
  },
  {
   "cell_type": "code",
   "execution_count": null,
   "metadata": {},
   "outputs": [],
   "source": [
    "N2.xs(('Canal Ins Co Grp', 'Comm Auto'), level=('GRName', 'Line')).head(3)"
   ]
  },
  {
   "cell_type": "code",
   "execution_count": null,
   "metadata": {},
   "outputs": [],
   "source": [
    "N2.xs('Comm Auto', level='Line').head(3)"
   ]
  },
  {
   "cell_type": "code",
   "execution_count": null,
   "metadata": {},
   "outputs": [],
   "source": [
    "N1.query(\" GRName=='State Farm Mut Grp' and Line=='Comm Auto' \").head()\n",
    "sfm = 'State Farm Mut Grp' "
   ]
  },
  {
   "cell_type": "code",
   "execution_count": null,
   "metadata": {},
   "outputs": [],
   "source": [
    "# G = pd.pivot_table(N1.query(\" GRName=='State Farm Mut Grp' \"), values='PaidLoss', index=['GRName', 'Line', 'AY'], columns='Lag')\n",
    "G = pd.pivot_table(N1, values='PaidLoss', index=['GRName', 'Line', 'AY'], columns='Lag')\n",
    "G.head(20)"
   ]
  },
  {
   "cell_type": "code",
   "execution_count": null,
   "metadata": {},
   "outputs": [],
   "source": [
    "N1.columns"
   ]
  },
  {
   "cell_type": "code",
   "execution_count": null,
   "metadata": {},
   "outputs": [],
   "source": [
    "G = pd.pivot_table(N1.query(\" AY+Lag <= 1998 and GRName=='State Farm Mut Grp' \"), values=['PaidLoss', 'CaseIncLoss'], index=['GRName', 'Line', 'AY'], columns='Lag')\n",
    "G.head(20)"
   ]
  },
  {
   "cell_type": "code",
   "execution_count": null,
   "metadata": {},
   "outputs": [],
   "source": [
    "def meth1(G):\n",
    "    return pd.concat((G, \n",
    "                      pd.DataFrame(G.iloc[:, 1:10].values / G.iloc[:, 0:9].values, index=G.index, columns=pd.MultiIndex.from_tuples([('Inc', f'{i}_{i-1}') for i in range(2,11)])),\n",
    "                      pd.DataFrame(G.iloc[:, 11:].values / G.iloc[:, 10:-1].values, index=G.index, columns=pd.MultiIndex.from_tuples([('Pd', f'{i}_{i-1}') for i in range(2,11)]))\n",
    "                     ), axis=1)"
   ]
  },
  {
   "cell_type": "code",
   "execution_count": null,
   "metadata": {},
   "outputs": [],
   "source": [
    "G2 = meth1(G)\n"
   ]
  },
  {
   "cell_type": "code",
   "execution_count": null,
   "metadata": {},
   "outputs": [],
   "source": [
    "G2.loc['State Farm Mut Grp', 'Pd'].head(20)"
   ]
  },
  {
   "cell_type": "code",
   "execution_count": null,
   "metadata": {},
   "outputs": [],
   "source": [
    "# just the complete triangles \n",
    "comp = G2.loc[G2.groupby(['GRName', 'Line']).apply(lambda x : x.isna().sum().sum()) == 180, :]"
   ]
  },
  {
   "cell_type": "code",
   "execution_count": null,
   "metadata": {},
   "outputs": [],
   "source": [
    "bit = comp.loc[[sfm]]"
   ]
  },
  {
   "cell_type": "code",
   "execution_count": null,
   "metadata": {},
   "outputs": [],
   "source": [
    "bit"
   ]
  },
  {
   "cell_type": "code",
   "execution_count": null,
   "metadata": {},
   "outputs": [],
   "source": [
    "%timeit meth1(G)"
   ]
  },
  {
   "cell_type": "code",
   "execution_count": null,
   "metadata": {},
   "outputs": [],
   "source": [
    "def meth2(G):\n",
    "    for i in range(2,11):\n",
    "        G[str(i) + '_' + str(i-1)] = G[i] / G[i-1]\n",
    "    return G"
   ]
  },
  {
   "cell_type": "code",
   "execution_count": null,
   "metadata": {},
   "outputs": [],
   "source": [
    "%timeit meth2(G)"
   ]
  },
  {
   "cell_type": "code",
   "execution_count": null,
   "metadata": {},
   "outputs": [],
   "source": [
    "def meth3(G):\n",
    "    temp1 = G.iloc[:, 1:]\n",
    "    temp2 = G.iloc[:, :-1]\n",
    "    temp1.columns = temp2.columns = [f'{i}_{i-1}' for i in range(2,11)]\n",
    "    \n",
    "    return pd.concat((G, temp1 / temp2), axis=1)"
   ]
  },
  {
   "cell_type": "code",
   "execution_count": null,
   "metadata": {},
   "outputs": [],
   "source": [
    "%timeit meth3(G)"
   ]
  },
  {
   "cell_type": "code",
   "execution_count": null,
   "metadata": {},
   "outputs": [],
   "source": [
    "pd.DataFrame(G.iloc[:, 1:].values / G.iloc[:, :-1].values, index=G.index,columns=[f'{i}_{i-1}' for i in range(2,11)]).head()"
   ]
  },
  {
   "cell_type": "code",
   "execution_count": null,
   "metadata": {},
   "outputs": [],
   "source": [
    "pd.set_option('display.multi_sparse', False)"
   ]
  },
  {
   "cell_type": "code",
   "execution_count": null,
   "metadata": {},
   "outputs": [],
   "source": [
    "G2.loc[[sfm]].groupby(level=['GRName', 'Line']).apply(lambda x : display( pd.DataFrame({ f'str {i}' : np.nansum(x.loc[:, 'Inc'].values * mask(i, 10, 'link'), axis=0) / \\\n",
    "                                                                      np.nansum( mask(i, 10, 'link'), axis=0) for i in [3, 5, 10]})))"
   ]
  },
  {
   "cell_type": "code",
   "execution_count": null,
   "metadata": {},
   "outputs": [],
   "source": [
    "import numpy.ma as ma"
   ]
  },
  {
   "cell_type": "code",
   "execution_count": null,
   "metadata": {},
   "outputs": [],
   "source": [
    "x = comp.loc[(sfm, 'Comm Auto')]"
   ]
  },
  {
   "cell_type": "code",
   "execution_count": null,
   "metadata": {},
   "outputs": [],
   "source": [
    "np.tile(mask(2, 10, 'loss_num'), (3,1))"
   ]
  },
  {
   "cell_type": "code",
   "execution_count": null,
   "metadata": {},
   "outputs": [],
   "source": []
  },
  {
   "cell_type": "code",
   "execution_count": null,
   "metadata": {},
   "outputs": [],
   "source": [
    "mask(2,10,'link')"
   ]
  },
  {
   "cell_type": "code",
   "execution_count": null,
   "metadata": {},
   "outputs": [],
   "source": [
    "ma.masked_array(x.loc[:, 'Inc'], 1-mask(2, 10, 'link')).mean(0)"
   ]
  },
  {
   "cell_type": "code",
   "execution_count": null,
   "metadata": {},
   "outputs": [],
   "source": [
    "def mask(n, size, kind):\n",
    "    \"\"\" \n",
    "    mask for avg last n in a size x size triangle \n",
    "    \"\"\"\n",
    "    nyrs = size - 1\n",
    "    if kind=='loss_den':\n",
    "        ans = np.array([[1 if i + j < nyrs and i + j >= nyrs - n else 0 for i in range(size)] for j in range(size)])\n",
    "    elif kind=='loss_num':\n",
    "        ans = np.array([[1 if i > 0 and i + j < size and i + j >= size - n else 0 for i in range(size)] for j in range(size)])\n",
    "    else:\n",
    "        ans = np.array([[1 if i + j < nyrs and i + j >= nyrs - n else 0 for i in range(nyrs)] for j in range(size)])\n",
    "    return ans\n",
    "\n",
    "def mask2(n, size, kind):\n",
    "    \"\"\" \n",
    "    mask for avg last n in a size x size triangle \n",
    "    \"\"\"\n",
    "    nyrs = size - 1\n",
    "    if kind=='loss_den':\n",
    "        ans = np.array([[0 if i + j < nyrs and i + j >= nyrs - n else 1 for i in range(size)] for j in range(size)])\n",
    "    elif kind=='loss_num':\n",
    "        ans = np.array([[0 if i > 0 and i + j < size and i + j >= size - n else 1 for i in range(size)] for j in range(size)])\n",
    "    else:\n",
    "        ans = np.array([[0 if i + j < nyrs and i + j >= nyrs - n else 1 for i in range(nyrs)] for j in range(size)])\n",
    "    return ans\n",
    "\n",
    "def make_links(x, avg_tuple=(3, 5, 10)):\n",
    "    return pd.DataFrame({ \\\n",
    "        **{ ('Inc', f'str {i}') : np.nansum(x.loc[:, 'Inc'].values * mask(i, 10, 'link'), 0) / np.nansum( mask(i, 10, 'link'), 0) for i in avg_tuple}, \\\n",
    "        **{ ('Pd', f'str {i}') :  np.nansum(x.loc[:, 'Pd'].values * mask(i, 10, 'link'), 0) /  np.nansum( mask(i, 10, 'link'), 0) for i in avg_tuple}, \\\n",
    "        **{ ('Inc', f'wtd {i}') : np.nansum((x.loc[:, 'CaseIncLoss'].values * mask(i, 10, 'loss_num')), 0)[1:] / \\\n",
    "                                  np.nansum((x.loc[:, 'CaseIncLoss'].values * mask(i, 10, 'loss_den')), 0)[:-1] for i in avg_tuple}, \\\n",
    "        **{ ('Pd', f'wtd {i}') :  np.nansum((x.loc[:, 'PaidLoss'].values * mask(i, 10, 'loss_num')), 0)[1:] / \\\n",
    "                                  np.nansum((x.loc[:, 'PaidLoss'].values * mask(i, 10, 'loss_den')), 0)[:-1] for i in avg_tuple}, \\\n",
    "        }, \\\n",
    "        index=range(1,10)).T\n",
    "\n",
    "def make_links2(x, avg_tuple=(3, 5, 10)):\n",
    "    return pd.DataFrame({ \\\n",
    "        **{ (j, f'str {i}') : ma.masked_array(x.loc[:, j], mask2(i, 10, 'link')).mean(0) for i in avg_tuple for j in ['Inc', 'Pd']}, \\\n",
    "        **{ (j, f'wtd {i}') : ma.masked_array(x.loc[:, k], mask2(i, 10, 'loss_num')).sum(0)[1:] / ma.masked_array(x.loc[:, k], mask2(i, 10, 'loss_den')).sum(0)[:-1] \\\n",
    "           for i in avg_tuple for j, k in [('Inc', 'CaseIncLoss'), ('Pd', 'PaidLoss')]}, \\\n",
    "        }, \\\n",
    "        index=range(1,10)).T"
   ]
  },
  {
   "cell_type": "code",
   "execution_count": null,
   "metadata": {},
   "outputs": [],
   "source": [
    "links2 = comp.groupby(level=['GRName', 'Line']).apply(make_links2)"
   ]
  },
  {
   "cell_type": "code",
   "execution_count": null,
   "metadata": {},
   "outputs": [],
   "source": [
    "links = comp.groupby(level=['GRName', 'Line']).apply(make_links)"
   ]
  },
  {
   "cell_type": "code",
   "execution_count": null,
   "metadata": {},
   "outputs": [],
   "source": [
    "(links - links2).abs().sum(1).sum()"
   ]
  },
  {
   "cell_type": "code",
   "execution_count": null,
   "metadata": {},
   "outputs": [],
   "source": [
    "%timeit comp.groupby(level=['GRName', 'Line']).apply(make_links2)"
   ]
  },
  {
   "cell_type": "code",
   "execution_count": null,
   "metadata": {},
   "outputs": [],
   "source": [
    "%timeit comp.groupby(level=['GRName', 'Line']).apply(make_links)"
   ]
  },
  {
   "cell_type": "code",
   "execution_count": null,
   "metadata": {},
   "outputs": [],
   "source": [
    "links.loc[(sfm, 'Comm Auto')].T.plot()"
   ]
  },
  {
   "cell_type": "code",
   "execution_count": null,
   "metadata": {},
   "outputs": [],
   "source": [
    "links.head(30).groupby('GRName').apply(lambda x : display(x.xs('Comm Auto', level=1))) # loc[['Comm Auto']].T.plot())"
   ]
  },
  {
   "cell_type": "code",
   "execution_count": null,
   "metadata": {},
   "outputs": [],
   "source": [
    "links.to_csv('links.csv')"
   ]
  },
  {
   "cell_type": "code",
   "execution_count": null,
   "metadata": {},
   "outputs": [],
   "source": [
    "links.loc[(slice(None), 'Comm Auto'), :].head()"
   ]
  },
  {
   "cell_type": "code",
   "execution_count": null,
   "metadata": {},
   "outputs": [],
   "source": [
    "f, axs = plt.subplots(10, 6, figsize=(18,24))\n",
    "axs = axs.flatten()\n",
    "it = iter(axs)\n",
    "# links.iloc[:300, :].groupby(['Line', 'GRName']).apply(lambda x : x.reset_index(level=[0,1], drop=True).T.plot(legend=None, ax=next(it), title=' '.join(x.name) ))\n",
    "links.loc[(slice(None), 'Work Comp'), :].groupby(['GRName']).apply(lambda x : x.reset_index(level=[0], drop=True).T.plot(legend=None, ax=next(it), title=x.name) )\n",
    "# for ax in it:\n",
    "#     f.delaxes(ax)\n",
    "plt.tight_layout()"
   ]
  },
  {
   "cell_type": "code",
   "execution_count": null,
   "metadata": {},
   "outputs": [],
   "source": []
  },
  {
   "cell_type": "code",
   "execution_count": null,
   "metadata": {},
   "outputs": [],
   "source": [
    "big_cos = ['State Farm Mut Grp', 'Federal Ins Co Grp', 'Canal Ins Co Grp', 'Erie Ins Exchange Grp', \n",
    "           'Employers Mut Co Of Des Moines', 'New Jersey Manufacturers Grp', 'Pennsylvania Natl Ins Grp', \n",
    "           'Vanliner Ins Co', 'Lancer Ins Co', 'Protective Ins Grp', 'FL Farm Bureau Grp', 'Harco Natl Ins Co', \n",
    "           'Century-Natl Ins Co', 'NC Farm Bureau Ins Grp', 'National American Ins Co', 'Philadelphia Ind Ins Co & Aff', \n",
    "           'West Bend Mut Ins Grp', 'Church Mut Ins Co', 'Lumber Ins Cos', 'Farmers Automobile Grp', 'Grinnell Mut Grp']\n",
    "                    "
   ]
  },
  {
   "cell_type": "code",
   "execution_count": null,
   "metadata": {},
   "outputs": [],
   "source": [
    "def known_ctrs_ex( line_name, curr_year):\n",
    "    '''\n",
    "    add all company triangles for given line \n",
    "    '''\n",
    "    G = pd.pivot_table(N1[ (N1.AY+N1.Lag <= curr_year+1) & (N1.Line==line_name) & (N1['GRName'].isin(big_cos))], \n",
    "                       values=['PaidLoss', 'CaseIncLoss'], \n",
    "                       index=['GRName', 'AY'], columns='Lag')\n",
    "    ## add link ratios \n",
    "    for ls in ['CaseIncLoss', 'PaidLoss']:\n",
    "        for i in range(2,11):\n",
    "            G[(ls+'Link', i-1)] = G[(ls, i)] / G[(ls, i-1)]\n",
    "    G.columns.names = ['LossType', 'Lag']\n",
    "    G.sort_index(axis=1, inplace=True)\n",
    "    return G"
   ]
  },
  {
   "cell_type": "code",
   "execution_count": null,
   "metadata": {},
   "outputs": [],
   "source": [
    "H = known_ctrs_ex('Comm Auto', 1997)"
   ]
  },
  {
   "cell_type": "code",
   "execution_count": null,
   "metadata": {},
   "outputs": [],
   "source": [
    "H.loc[('Vanliner Ins Co', 1988):('Vanliner Ins Co', 1998), :]"
   ]
  },
  {
   "cell_type": "code",
   "execution_count": null,
   "metadata": {},
   "outputs": [],
   "source": [
    "def pdIncPlot(H, co_name, bins=201):\n",
    "    '''\n",
    "    bootstrap from paid and incurred and create product distribution \n",
    "    '''\n",
    "    v = {}\n",
    "    kpi = np.array(H.loc[(co_name, 1997), ('CaseIncLoss', 1)])\n",
    "    kpp = np.array(H.loc[(co_name, 1997), ('PaidLoss', 1)])\n",
    "    for i in range(1,10):\n",
    "        kpp = np.kron(kpp, H.loc[(co_name, 1988):(co_name, 1997-i), ('PaidLossLink', i)])\n",
    "        kpi = np.kron(kpi, H.loc[(co_name, 1988):(co_name, 1997-i), ('CaseIncLossLink', i)])\n",
    "\n",
    "    T = pd.DataFrame( {'inc' : kpi, 'pd' : kpp})\n",
    "    display(T.describe())\n",
    "    plt.figure()\n",
    "    bp = np.linspace(0, 1.05*max(max(kpi), max( kpp)), bins)\n",
    "    npd,  _, _ =plt.hist(kpp, bins=bp, color='b', alpha=0.5, label='pd')\n",
    "    ninc, _, _ =plt.hist(kpi, bins=bp, color='r', alpha=0.5, label='inc')\n",
    "    bay = ninc*npd / sum(ninc*npd) * sum(npd)\n",
    "    xs = (bp[1:]+bp[0:-1])/2\n",
    "    plt.plot(xs, bay, '-g', label='post')\n",
    "    plt.legend()\n",
    "    plt.title('Co: {:},  MLE = {:,.1f}'.format(co_name, xs[bay.argmax()]))"
   ]
  },
  {
   "cell_type": "code",
   "execution_count": null,
   "metadata": {},
   "outputs": [],
   "source": [
    "big_cos"
   ]
  },
  {
   "cell_type": "code",
   "execution_count": null,
   "metadata": {},
   "outputs": [],
   "source": [
    "pdIncPlot(H,   big_cos[-1])"
   ]
  },
  {
   "cell_type": "code",
   "execution_count": null,
   "metadata": {},
   "outputs": [],
   "source": []
  },
  {
   "cell_type": "code",
   "execution_count": null,
   "metadata": {},
   "outputs": [],
   "source": []
  },
  {
   "cell_type": "code",
   "execution_count": null,
   "metadata": {},
   "outputs": [],
   "source": []
  },
  {
   "cell_type": "markdown",
   "metadata": {},
   "source": [
    "# Performance"
   ]
  },
  {
   "cell_type": "code",
   "execution_count": null,
   "metadata": {},
   "outputs": [],
   "source": [
    "n = 100000000\n",
    "df = pd.DataFrame({\n",
    "    'a': np.random.randn(n),\n",
    "    'b': np.random.randn(n),\n",
    "    'c': np.random.randn(n),\n",
    "})\n",
    "a =  np.random.randn(n)"
   ]
  },
  {
   "cell_type": "code",
   "execution_count": null,
   "metadata": {},
   "outputs": [],
   "source": [
    "%timeit r = np.sin(a - 1) + 1"
   ]
  },
  {
   "cell_type": "code",
   "execution_count": null,
   "metadata": {},
   "outputs": [],
   "source": [
    "%timeit r = np.sin(df['a'] - 1) + 1"
   ]
  },
  {
   "cell_type": "code",
   "execution_count": null,
   "metadata": {},
   "outputs": [],
   "source": [
    "%timeit r = np.sin(df['a'].values - 1) + 1"
   ]
  },
  {
   "cell_type": "code",
   "execution_count": null,
   "metadata": {},
   "outputs": [],
   "source": [
    "import numexpr"
   ]
  },
  {
   "cell_type": "code",
   "execution_count": null,
   "metadata": {},
   "outputs": [],
   "source": [
    "expr = 'sin(a - 1) + 1'"
   ]
  },
  {
   "cell_type": "code",
   "execution_count": null,
   "metadata": {},
   "outputs": [],
   "source": [
    "%timeit r = numexpr.evaluate(expr)"
   ]
  },
  {
   "cell_type": "code",
   "execution_count": null,
   "metadata": {},
   "outputs": [],
   "source": [
    "def dowork(a):\n",
    "    expr = 'sin(a - 1) + 1'\n",
    "    return numexpr.evaluate(expr)"
   ]
  },
  {
   "cell_type": "code",
   "execution_count": null,
   "metadata": {},
   "outputs": [],
   "source": [
    "%timeit r = dowork(df['a'])"
   ]
  },
  {
   "cell_type": "markdown",
   "metadata": {},
   "source": [
    "# Great Supply of Datasets!"
   ]
  },
  {
   "cell_type": "code",
   "execution_count": null,
   "metadata": {},
   "outputs": [],
   "source": [
    "test = pd.read_html('https://vincentarelbundock.github.io/Rdatasets/datasets.html', header=0, attrs={\"class\" : \"dataframe\"})[0]"
   ]
  },
  {
   "cell_type": "code",
   "execution_count": null,
   "metadata": {},
   "outputs": [],
   "source": [
    "test3 = pd.read_csv('http://www.mynl.com/RPM/Datasets.csv').iloc[:, 1:]  # first column is blank"
   ]
  },
  {
   "cell_type": "code",
   "execution_count": null,
   "metadata": {},
   "outputs": [],
   "source": [
    "test3.iloc[:, 1:].head()"
   ]
  },
  {
   "cell_type": "code",
   "execution_count": null,
   "metadata": {},
   "outputs": [],
   "source": [
    "test3.head()"
   ]
  },
  {
   "cell_type": "code",
   "execution_count": null,
   "metadata": {},
   "outputs": [],
   "source": [
    "def explore(f):\n",
    "    return pd.DataFrame([('type', type(f))] + [(i, getattr(f, i).__doc__) for i in dir(f)], columns=['Method', 'Help'])"
   ]
  },
  {
   "cell_type": "code",
   "execution_count": null,
   "metadata": {},
   "outputs": [],
   "source": [
    "explore(list)"
   ]
  },
  {
   "cell_type": "code",
   "execution_count": null,
   "metadata": {},
   "outputs": [],
   "source": [
    "a = list(range(20))"
   ]
  },
  {
   "cell_type": "code",
   "execution_count": null,
   "metadata": {},
   "outputs": [],
   "source": [
    "u, v, z = a"
   ]
  },
  {
   "cell_type": "code",
   "execution_count": null,
   "metadata": {},
   "outputs": [],
   "source": [
    "u, v, w, z"
   ]
  },
  {
   "cell_type": "code",
   "execution_count": null,
   "metadata": {},
   "outputs": [],
   "source": []
  },
  {
   "cell_type": "code",
   "execution_count": null,
   "metadata": {},
   "outputs": [],
   "source": []
  },
  {
   "cell_type": "code",
   "execution_count": null,
   "metadata": {},
   "outputs": [],
   "source": [
    "N1.head(20)"
   ]
  },
  {
   "cell_type": "code",
   "execution_count": null,
   "metadata": {},
   "outputs": [],
   "source": [
    "G = pd.pivot_table(N1.query(\" AY+Lag <= 1998 \"), values=['PaidLoss', 'CaseIncLoss'], index=['GRName', 'Line', 'AY'], columns='Lag')"
   ]
  },
  {
   "cell_type": "code",
   "execution_count": null,
   "metadata": {},
   "outputs": [],
   "source": [
    "G.head(20)"
   ]
  },
  {
   "cell_type": "code",
   "execution_count": null,
   "metadata": {},
   "outputs": [],
   "source": [
    "dir(pd.MultiIndex)"
   ]
  },
  {
   "cell_type": "code",
   "execution_count": null,
   "metadata": {},
   "outputs": [],
   "source": [
    "G.index.get_level_values(0)"
   ]
  },
  {
   "cell_type": "code",
   "execution_count": null,
   "metadata": {},
   "outputs": [],
   "source": [
    "Nco = len(N1.GRName.unique())\n",
    "Nli = len(N1.Line.unique())\n",
    "NAY = len(N1.AY.unique())\n",
    "Nco, Nli, NAY"
   ]
  },
  {
   "cell_type": "code",
   "execution_count": null,
   "metadata": {},
   "outputs": [],
   "source": [
    "max(map(len, N1.Line.unique()))"
   ]
  },
  {
   "cell_type": "code",
   "execution_count": null,
   "metadata": {},
   "outputs": [],
   "source": [
    "cont = np.zeros(3, dtype=[('co_name', 'S36'), ('line', 'S13', Nli), ('paid', 'f8', (NAY, NAY)), ('inc', 'f8', (NAY, NAY))]) "
   ]
  },
  {
   "cell_type": "code",
   "execution_count": null,
   "metadata": {},
   "outputs": [],
   "source": [
    "cont"
   ]
  },
  {
   "cell_type": "code",
   "execution_count": null,
   "metadata": {},
   "outputs": [],
   "source": [
    "cont['co_name'] = sorted(N1.GRName.unique())"
   ]
  },
  {
   "cell_type": "code",
   "execution_count": null,
   "metadata": {},
   "outputs": [],
   "source": []
  },
  {
   "cell_type": "code",
   "execution_count": null,
   "metadata": {},
   "outputs": [],
   "source": [
    "G.xs('Comm Auto', level=1).index.get_level_values(0).unique()"
   ]
  },
  {
   "cell_type": "code",
   "execution_count": null,
   "metadata": {},
   "outputs": [],
   "source": [
    "cont['paid'] = G['CaseIncLoss'].values.reshape(Nco, NAY, NAY)"
   ]
  },
  {
   "cell_type": "code",
   "execution_count": null,
   "metadata": {},
   "outputs": [],
   "source": [
    "cont['paid'] = np.random.rand(300).reshape((3,10,10))"
   ]
  },
  {
   "cell_type": "code",
   "execution_count": null,
   "metadata": {},
   "outputs": [],
   "source": [
    "cont"
   ]
  },
  {
   "cell_type": "markdown",
   "metadata": {},
   "source": [
    "# Pandas Functions\n",
    "\n",
    "* DataFrame\n",
    "* head, tail, describe, summary \n",
    "* unique\n",
    "* from csv, dictionary \n",
    "* loc, slices\n",
    "* create_index, reset_index \n",
    "* MultiIndex \n",
    "* loc, slices and xs\n",
    "* query \n",
    "* pivot, stack and unstack\n",
    "* melt\n",
    "* **concat**, append, keys \n",
    "* pivot_table (crosstab)\n",
    "* **merge** (indicator) and join\n",
    "* groupby (.groups, .get_group, as_index)\n",
    "* sum, mean, std etc. \n",
    "* aggregate\n",
    "* transform (same size as input whiten)\n",
    "* apply\n",
    "* plot\n",
    "\n",
    "## Not covered but check out on your own\n",
    "* map (series), applymap (dataframes) \n",
    "* evaluate \n",
    "* str\n",
    "* dt\n",
    "* style\n",
    "\n",
    "\n",
    "# Seaborn Plotting \n"
   ]
  },
  {
   "cell_type": "code",
   "execution_count": null,
   "metadata": {},
   "outputs": [],
   "source": [
    "x = np.random.randn(5,5); x"
   ]
  },
  {
   "cell_type": "code",
   "execution_count": null,
   "metadata": {},
   "outputs": [],
   "source": [
    "df0 = pd.DataFrame(x)\n",
    "df0"
   ]
  },
  {
   "cell_type": "code",
   "execution_count": null,
   "metadata": {},
   "outputs": [],
   "source": [
    "df0.columns = list('abcde')"
   ]
  },
  {
   "cell_type": "code",
   "execution_count": null,
   "metadata": {},
   "outputs": [],
   "source": [
    "df0['class'] = list('wxxxy')\n",
    "df0"
   ]
  },
  {
   "cell_type": "code",
   "execution_count": null,
   "metadata": {},
   "outputs": [],
   "source": [
    "df0.index.name = 'id'\n",
    "df0.columns.name = 'var'\n",
    "df0"
   ]
  },
  {
   "cell_type": "code",
   "execution_count": null,
   "metadata": {},
   "outputs": [],
   "source": [
    "df = pd.DataFrame({'class': list('vwxxy'), 'subclass': list('aaabb'), 'a': np.random.randn(5), 'c': np.arange(5, dtype=np.float)}, index=pd.Index(range(5), name='idx'))"
   ]
  },
  {
   "cell_type": "code",
   "execution_count": null,
   "metadata": {},
   "outputs": [],
   "source": [
    "df"
   ]
  },
  {
   "cell_type": "code",
   "execution_count": null,
   "metadata": {},
   "outputs": [],
   "source": [
    "pd.concat( (df0, df), sort=True) "
   ]
  },
  {
   "cell_type": "code",
   "execution_count": null,
   "metadata": {},
   "outputs": [],
   "source": [
    "df0.select_dtypes(np.number) / df.select_dtypes(np.number)"
   ]
  },
  {
   "cell_type": "code",
   "execution_count": null,
   "metadata": {},
   "outputs": [],
   "source": [
    "df.dtypes"
   ]
  },
  {
   "cell_type": "code",
   "execution_count": null,
   "metadata": {},
   "outputs": [],
   "source": [
    "df['sinb'] = np.sin(df.b)"
   ]
  },
  {
   "cell_type": "code",
   "execution_count": null,
   "metadata": {},
   "outputs": [],
   "source": [
    "df.head()"
   ]
  },
  {
   "cell_type": "code",
   "execution_count": null,
   "metadata": {},
   "outputs": [],
   "source": [
    "df1 = df.set_index('x')\n",
    "df1.columns.name = 'variable'\n",
    "df1.head()"
   ]
  },
  {
   "cell_type": "code",
   "execution_count": null,
   "metadata": {},
   "outputs": [],
   "source": [
    "df1.corr()"
   ]
  },
  {
   "cell_type": "code",
   "execution_count": null,
   "metadata": {},
   "outputs": [],
   "source": [
    "df1.dtypes"
   ]
  },
  {
   "cell_type": "code",
   "execution_count": null,
   "metadata": {},
   "outputs": [],
   "source": [
    "df1.select_dtypes(object)"
   ]
  },
  {
   "cell_type": "code",
   "execution_count": null,
   "metadata": {},
   "outputs": [],
   "source": [
    "df1.append(df1)"
   ]
  },
  {
   "cell_type": "code",
   "execution_count": null,
   "metadata": {},
   "outputs": [],
   "source": [
    "df2 = pd.DataFrame({'y': list('lmnop'), 'a': np.random.randn(5), 'b': np.arange(5, dtype=np.float)}, index=pd.Index(list('abcjk'), name='x'))\n",
    "df2"
   ]
  },
  {
   "cell_type": "code",
   "execution_count": null,
   "metadata": {},
   "outputs": [],
   "source": [
    "pd.concat((df1,df2), sort=True)"
   ]
  },
  {
   "cell_type": "code",
   "execution_count": null,
   "metadata": {},
   "outputs": [],
   "source": [
    "df3 = pd.concat((df1,df2), sort=True, keys=['df1', 'df2'], names=['src'])\n",
    "df3"
   ]
  },
  {
   "cell_type": "code",
   "execution_count": null,
   "metadata": {},
   "outputs": [],
   "source": [
    "df3.b"
   ]
  },
  {
   "cell_type": "code",
   "execution_count": null,
   "metadata": {},
   "outputs": [],
   "source": [
    "df3['b']"
   ]
  },
  {
   "cell_type": "code",
   "execution_count": null,
   "metadata": {},
   "outputs": [],
   "source": [
    "df3.b.unique()"
   ]
  },
  {
   "cell_type": "code",
   "execution_count": null,
   "metadata": {},
   "outputs": [],
   "source": [
    "df3.index"
   ]
  },
  {
   "cell_type": "code",
   "execution_count": null,
   "metadata": {},
   "outputs": [],
   "source": [
    "df3.index.get_level_values(1).unique()"
   ]
  },
  {
   "cell_type": "code",
   "execution_count": null,
   "metadata": {},
   "outputs": [],
   "source": [
    "df3.loc['df1']"
   ]
  },
  {
   "cell_type": "code",
   "execution_count": null,
   "metadata": {},
   "outputs": [],
   "source": [
    "df3.loc[:, 'a']"
   ]
  },
  {
   "cell_type": "code",
   "execution_count": null,
   "metadata": {},
   "outputs": [],
   "source": [
    "df3.loc[:, 'a':'b']"
   ]
  },
  {
   "cell_type": "code",
   "execution_count": null,
   "metadata": {},
   "outputs": [],
   "source": [
    "df3[['a']]"
   ]
  },
  {
   "cell_type": "code",
   "execution_count": null,
   "metadata": {},
   "outputs": [],
   "source": [
    "df3.unstack()"
   ]
  },
  {
   "cell_type": "code",
   "execution_count": null,
   "metadata": {},
   "outputs": [],
   "source": [
    "df3.unstack(0)"
   ]
  },
  {
   "cell_type": "code",
   "execution_count": null,
   "metadata": {},
   "outputs": [],
   "source": [
    "df3"
   ]
  },
  {
   "cell_type": "code",
   "execution_count": null,
   "metadata": {},
   "outputs": [],
   "source": [
    "df3[df3.a < 0]"
   ]
  },
  {
   "cell_type": "code",
   "execution_count": null,
   "metadata": {},
   "outputs": [],
   "source": [
    "df3.loc[df3.a < 0]"
   ]
  },
  {
   "cell_type": "code",
   "execution_count": null,
   "metadata": {},
   "outputs": [],
   "source": [
    "df3.loc[df3.a < 0, :]"
   ]
  },
  {
   "cell_type": "code",
   "execution_count": null,
   "metadata": {},
   "outputs": [],
   "source": [
    "df3.query(' a < 0 ')"
   ]
  },
  {
   "cell_type": "code",
   "execution_count": null,
   "metadata": {},
   "outputs": [],
   "source": [
    "df3.loc['df1']"
   ]
  },
  {
   "cell_type": "code",
   "execution_count": null,
   "metadata": {},
   "outputs": [],
   "source": [
    "df3.loc['b']"
   ]
  },
  {
   "cell_type": "code",
   "execution_count": null,
   "metadata": {},
   "outputs": [],
   "source": [
    "df3"
   ]
  },
  {
   "cell_type": "code",
   "execution_count": null,
   "metadata": {},
   "outputs": [],
   "source": [
    "df3.loc[(slice(None), 'b'), :]"
   ]
  },
  {
   "cell_type": "code",
   "execution_count": null,
   "metadata": {},
   "outputs": [],
   "source": [
    "df3.loc[(slice(None), slice('b','d')), :]"
   ]
  },
  {
   "cell_type": "code",
   "execution_count": null,
   "metadata": {},
   "outputs": [],
   "source": [
    "df3.loc[(slice(None), 'b')], df3.loc[:, 'b']"
   ]
  },
  {
   "cell_type": "code",
   "execution_count": null,
   "metadata": {},
   "outputs": [],
   "source": [
    "df3.xs('b', level=1)"
   ]
  },
  {
   "cell_type": "code",
   "execution_count": null,
   "metadata": {},
   "outputs": [],
   "source": [
    "df3.xs('b', axis=1)"
   ]
  },
  {
   "cell_type": "code",
   "execution_count": null,
   "metadata": {},
   "outputs": [],
   "source": [
    "df3"
   ]
  },
  {
   "cell_type": "code",
   "execution_count": null,
   "metadata": {},
   "outputs": [],
   "source": [
    "df4 = df3.reset_index()\n",
    "df4"
   ]
  },
  {
   "cell_type": "code",
   "execution_count": null,
   "metadata": {},
   "outputs": [],
   "source": [
    "df4.pivot(index='src', columns='b', values='a')"
   ]
  },
  {
   "cell_type": "code",
   "execution_count": null,
   "metadata": {},
   "outputs": [],
   "source": [
    "df4.pivot(index='src', columns='b', values=['a', 'sinb'])"
   ]
  },
  {
   "cell_type": "code",
   "execution_count": null,
   "metadata": {},
   "outputs": [],
   "source": [
    "df4.pivot_table(index=['src', 'x'], columns='b', values=['a', 'sinb'])"
   ]
  },
  {
   "cell_type": "code",
   "execution_count": null,
   "metadata": {},
   "outputs": [],
   "source": [
    "g3 = df3.groupby(level='x') "
   ]
  },
  {
   "cell_type": "code",
   "execution_count": null,
   "metadata": {},
   "outputs": [],
   "source": [
    "g3.groups "
   ]
  },
  {
   "cell_type": "code",
   "execution_count": null,
   "metadata": {},
   "outputs": [],
   "source": [
    "g3.get_group('a')"
   ]
  },
  {
   "cell_type": "code",
   "execution_count": null,
   "metadata": {},
   "outputs": [],
   "source": [
    "g4 = df4.groupby('x')\n",
    "g4.groups"
   ]
  },
  {
   "cell_type": "code",
   "execution_count": null,
   "metadata": {},
   "outputs": [],
   "source": [
    "g4.get_group('a')"
   ]
  },
  {
   "cell_type": "code",
   "execution_count": null,
   "metadata": {},
   "outputs": [],
   "source": [
    "g3.sum()"
   ]
  },
  {
   "cell_type": "code",
   "execution_count": null,
   "metadata": {},
   "outputs": [],
   "source": [
    "g3.aggregate(sum)"
   ]
  },
  {
   "cell_type": "code",
   "execution_count": null,
   "metadata": {},
   "outputs": [],
   "source": [
    "g3.agg(sum)"
   ]
  },
  {
   "cell_type": "code",
   "execution_count": null,
   "metadata": {},
   "outputs": [],
   "source": [
    "g3.agg([sum, np.std, np.min, np.max, np.size])"
   ]
  },
  {
   "cell_type": "code",
   "execution_count": null,
   "metadata": {},
   "outputs": [],
   "source": [
    "g3.agg({'a' : [sum, np.std, np.min, np.max, np.size], 'b': [sum, np.std] })"
   ]
  },
  {
   "cell_type": "code",
   "execution_count": null,
   "metadata": {},
   "outputs": [],
   "source": [
    "g3.apply(lambda x : display(x))"
   ]
  },
  {
   "cell_type": "code",
   "execution_count": null,
   "metadata": {},
   "outputs": [],
   "source": [
    "g3.apply(lambda x : print(x.a * x.b))"
   ]
  },
  {
   "cell_type": "code",
   "execution_count": null,
   "metadata": {},
   "outputs": [],
   "source": [
    "y = g3.get_group('c')\n",
    "y"
   ]
  },
  {
   "cell_type": "code",
   "execution_count": null,
   "metadata": {},
   "outputs": [],
   "source": [
    "pd.Series( (y.a * y.b).values, name='ab', index=[1,2])"
   ]
  },
  {
   "cell_type": "code",
   "execution_count": null,
   "metadata": {},
   "outputs": [],
   "source": [
    "g3.apply( lambda y : pd.Series((y.a * y.b).values))"
   ]
  },
  {
   "cell_type": "code",
   "execution_count": null,
   "metadata": {},
   "outputs": [],
   "source": [
    "g3.apply( lambda y : pd.DataFrame((y.a * y.b).values, index=pd.Index(range(10, 10+len(y)), name='idx'), columns=['ab']))  "
   ]
  },
  {
   "cell_type": "code",
   "execution_count": null,
   "metadata": {},
   "outputs": [],
   "source": [
    "np.vstack((np.array([1,2,3]),np.array([1,2,3])))"
   ]
  },
  {
   "cell_type": "code",
   "execution_count": null,
   "metadata": {},
   "outputs": [],
   "source": [
    "g3.get_group('a')"
   ]
  },
  {
   "cell_type": "code",
   "execution_count": null,
   "metadata": {},
   "outputs": [],
   "source": [
    "g3.apply( lambda y : pd.DataFrame(np.hstack([y.a, y.b, (y.a * y.b).values]) ).T)"
   ]
  },
  {
   "cell_type": "code",
   "execution_count": null,
   "metadata": {},
   "outputs": [],
   "source": [
    "df3"
   ]
  },
  {
   "cell_type": "code",
   "execution_count": null,
   "metadata": {},
   "outputs": [],
   "source": []
  },
  {
   "cell_type": "code",
   "execution_count": null,
   "metadata": {},
   "outputs": [],
   "source": []
  }
 ],
 "metadata": {
  "celltoolbar": "Slideshow",
  "hide_input": false,
  "kernelspec": {
   "display_name": "Python 3",
   "language": "python",
   "name": "python3"
  },
  "language_info": {
   "codemirror_mode": {
    "name": "ipython",
    "version": 3
   },
   "file_extension": ".py",
   "mimetype": "text/x-python",
   "name": "python",
   "nbconvert_exporter": "python",
   "pygments_lexer": "ipython3",
   "version": "3.6.3"
  },
  "toc": {
   "base_numbering": 1,
   "nav_menu": {},
   "number_sections": true,
   "sideBar": true,
   "skip_h1_title": false,
   "title_cell": "Table of Contents",
   "title_sidebar": "Contents",
   "toc_cell": false,
   "toc_position": {},
   "toc_section_display": true,
   "toc_window_display": false
  },
  "varInspector": {
   "cols": {
    "lenName": 16,
    "lenType": 16,
    "lenVar": 40
   },
   "kernels_config": {
    "python": {
     "delete_cmd_postfix": "",
     "delete_cmd_prefix": "del ",
     "library": "var_list.py",
     "varRefreshCmd": "print(var_dic_list())"
    },
    "r": {
     "delete_cmd_postfix": ") ",
     "delete_cmd_prefix": "rm(",
     "library": "var_list.r",
     "varRefreshCmd": "cat(var_dic_list()) "
    }
   },
   "types_to_exclude": [
    "module",
    "function",
    "builtin_function_or_method",
    "instance",
    "_Feature"
   ],
   "window_display": false
  }
 },
 "nbformat": 4,
 "nbformat_minor": 2
}
