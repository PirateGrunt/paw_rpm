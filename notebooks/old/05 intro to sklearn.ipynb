{
 "cells": [
  {
   "cell_type": "code",
   "execution_count": 1,
   "metadata": {},
   "outputs": [],
   "source": [
    "import pandas as pd\n",
    "import numpy as np"
   ]
  },
  {
   "cell_type": "markdown",
   "metadata": {},
   "source": [
    "### Data Prep\n",
    "**  THIS DATA PREP IS USED FOR THE MACHINE LEARNING EXERCISE, BUT IS PANDAS INTENSIVE.  MAYBE THE DATA PREP GOES IN THE PANDAS SESSION (OR NUMPY SESSION SINCE SIMILAR TRANSFORMATIONS HAPPEN THERE) **"
   ]
  },
  {
   "cell_type": "code",
   "execution_count": 2,
   "metadata": {},
   "outputs": [
    {
     "data": {
      "text/html": [
       "<div>\n",
       "<style scoped>\n",
       "    .dataframe tbody tr th:only-of-type {\n",
       "        vertical-align: middle;\n",
       "    }\n",
       "\n",
       "    .dataframe tbody tr th {\n",
       "        vertical-align: top;\n",
       "    }\n",
       "\n",
       "    .dataframe thead th {\n",
       "        text-align: right;\n",
       "    }\n",
       "</style>\n",
       "<table border=\"1\" class=\"dataframe\">\n",
       "  <thead>\n",
       "    <tr style=\"text-align: right;\">\n",
       "      <th></th>\n",
       "      <th></th>\n",
       "      <th>DevelopmentLag</th>\n",
       "      <th>1</th>\n",
       "      <th>2</th>\n",
       "      <th>3</th>\n",
       "      <th>4</th>\n",
       "      <th>5</th>\n",
       "      <th>6</th>\n",
       "      <th>7</th>\n",
       "      <th>8</th>\n",
       "      <th>9</th>\n",
       "      <th>10</th>\n",
       "    </tr>\n",
       "    <tr>\n",
       "      <th>GRNAME</th>\n",
       "      <th>LOB</th>\n",
       "      <th>AccidentYear</th>\n",
       "      <th></th>\n",
       "      <th></th>\n",
       "      <th></th>\n",
       "      <th></th>\n",
       "      <th></th>\n",
       "      <th></th>\n",
       "      <th></th>\n",
       "      <th></th>\n",
       "      <th></th>\n",
       "      <th></th>\n",
       "    </tr>\n",
       "  </thead>\n",
       "  <tbody>\n",
       "    <tr>\n",
       "      <th rowspan=\"10\" valign=\"top\">Alaska Nat Ins Co</th>\n",
       "      <th rowspan=\"10\" valign=\"top\">wkcomp</th>\n",
       "      <th>1988</th>\n",
       "      <td>4386.0</td>\n",
       "      <td>7912.0</td>\n",
       "      <td>9668.0</td>\n",
       "      <td>10502.0</td>\n",
       "      <td>10891.0</td>\n",
       "      <td>11181.0</td>\n",
       "      <td>11339.0</td>\n",
       "      <td>11422.0</td>\n",
       "      <td>11493.0</td>\n",
       "      <td>11513.0</td>\n",
       "    </tr>\n",
       "    <tr>\n",
       "      <th>1989</th>\n",
       "      <td>5321.0</td>\n",
       "      <td>10223.0</td>\n",
       "      <td>12162.0</td>\n",
       "      <td>13051.0</td>\n",
       "      <td>13535.0</td>\n",
       "      <td>13734.0</td>\n",
       "      <td>13928.0</td>\n",
       "      <td>14022.0</td>\n",
       "      <td>14108.0</td>\n",
       "      <td>NaN</td>\n",
       "    </tr>\n",
       "    <tr>\n",
       "      <th>1990</th>\n",
       "      <td>4775.0</td>\n",
       "      <td>10594.0</td>\n",
       "      <td>13524.0</td>\n",
       "      <td>14837.0</td>\n",
       "      <td>15353.0</td>\n",
       "      <td>15557.0</td>\n",
       "      <td>15741.0</td>\n",
       "      <td>15882.0</td>\n",
       "      <td>NaN</td>\n",
       "      <td>NaN</td>\n",
       "    </tr>\n",
       "    <tr>\n",
       "      <th>1991</th>\n",
       "      <td>6731.0</td>\n",
       "      <td>15173.0</td>\n",
       "      <td>18551.0</td>\n",
       "      <td>20392.0</td>\n",
       "      <td>21268.0</td>\n",
       "      <td>21878.0</td>\n",
       "      <td>22225.0</td>\n",
       "      <td>NaN</td>\n",
       "      <td>NaN</td>\n",
       "      <td>NaN</td>\n",
       "    </tr>\n",
       "    <tr>\n",
       "      <th>1992</th>\n",
       "      <td>9166.0</td>\n",
       "      <td>18877.0</td>\n",
       "      <td>22168.0</td>\n",
       "      <td>23259.0</td>\n",
       "      <td>23949.0</td>\n",
       "      <td>24299.0</td>\n",
       "      <td>NaN</td>\n",
       "      <td>NaN</td>\n",
       "      <td>NaN</td>\n",
       "      <td>NaN</td>\n",
       "    </tr>\n",
       "    <tr>\n",
       "      <th>1993</th>\n",
       "      <td>8321.0</td>\n",
       "      <td>16556.0</td>\n",
       "      <td>19539.0</td>\n",
       "      <td>21018.0</td>\n",
       "      <td>22158.0</td>\n",
       "      <td>NaN</td>\n",
       "      <td>NaN</td>\n",
       "      <td>NaN</td>\n",
       "      <td>NaN</td>\n",
       "      <td>NaN</td>\n",
       "    </tr>\n",
       "    <tr>\n",
       "      <th>1994</th>\n",
       "      <td>7045.0</td>\n",
       "      <td>14434.0</td>\n",
       "      <td>17173.0</td>\n",
       "      <td>18631.0</td>\n",
       "      <td>NaN</td>\n",
       "      <td>NaN</td>\n",
       "      <td>NaN</td>\n",
       "      <td>NaN</td>\n",
       "      <td>NaN</td>\n",
       "      <td>NaN</td>\n",
       "    </tr>\n",
       "    <tr>\n",
       "      <th>1995</th>\n",
       "      <td>7332.0</td>\n",
       "      <td>15222.0</td>\n",
       "      <td>18450.0</td>\n",
       "      <td>NaN</td>\n",
       "      <td>NaN</td>\n",
       "      <td>NaN</td>\n",
       "      <td>NaN</td>\n",
       "      <td>NaN</td>\n",
       "      <td>NaN</td>\n",
       "      <td>NaN</td>\n",
       "    </tr>\n",
       "    <tr>\n",
       "      <th>1996</th>\n",
       "      <td>6599.0</td>\n",
       "      <td>12870.0</td>\n",
       "      <td>NaN</td>\n",
       "      <td>NaN</td>\n",
       "      <td>NaN</td>\n",
       "      <td>NaN</td>\n",
       "      <td>NaN</td>\n",
       "      <td>NaN</td>\n",
       "      <td>NaN</td>\n",
       "      <td>NaN</td>\n",
       "    </tr>\n",
       "    <tr>\n",
       "      <th>1997</th>\n",
       "      <td>7048.0</td>\n",
       "      <td>NaN</td>\n",
       "      <td>NaN</td>\n",
       "      <td>NaN</td>\n",
       "      <td>NaN</td>\n",
       "      <td>NaN</td>\n",
       "      <td>NaN</td>\n",
       "      <td>NaN</td>\n",
       "      <td>NaN</td>\n",
       "      <td>NaN</td>\n",
       "    </tr>\n",
       "    <tr>\n",
       "      <th rowspan=\"10\" valign=\"top\">Allstate Ins Co Grp</th>\n",
       "      <th rowspan=\"10\" valign=\"top\">wkcomp</th>\n",
       "      <th>1988</th>\n",
       "      <td>70571.0</td>\n",
       "      <td>155905.0</td>\n",
       "      <td>220744.0</td>\n",
       "      <td>251595.0</td>\n",
       "      <td>274156.0</td>\n",
       "      <td>287676.0</td>\n",
       "      <td>298499.0</td>\n",
       "      <td>304873.0</td>\n",
       "      <td>321808.0</td>\n",
       "      <td>325322.0</td>\n",
       "    </tr>\n",
       "    <tr>\n",
       "      <th>1989</th>\n",
       "      <td>66547.0</td>\n",
       "      <td>136447.0</td>\n",
       "      <td>179142.0</td>\n",
       "      <td>211343.0</td>\n",
       "      <td>231430.0</td>\n",
       "      <td>244750.0</td>\n",
       "      <td>254557.0</td>\n",
       "      <td>270059.0</td>\n",
       "      <td>273873.0</td>\n",
       "      <td>NaN</td>\n",
       "    </tr>\n",
       "    <tr>\n",
       "      <th>1990</th>\n",
       "      <td>52233.0</td>\n",
       "      <td>133370.0</td>\n",
       "      <td>178444.0</td>\n",
       "      <td>204442.0</td>\n",
       "      <td>222193.0</td>\n",
       "      <td>232940.0</td>\n",
       "      <td>253337.0</td>\n",
       "      <td>256788.0</td>\n",
       "      <td>NaN</td>\n",
       "      <td>NaN</td>\n",
       "    </tr>\n",
       "    <tr>\n",
       "      <th>1991</th>\n",
       "      <td>59315.0</td>\n",
       "      <td>128051.0</td>\n",
       "      <td>169793.0</td>\n",
       "      <td>196685.0</td>\n",
       "      <td>213165.0</td>\n",
       "      <td>234676.0</td>\n",
       "      <td>239195.0</td>\n",
       "      <td>NaN</td>\n",
       "      <td>NaN</td>\n",
       "      <td>NaN</td>\n",
       "    </tr>\n",
       "    <tr>\n",
       "      <th>1992</th>\n",
       "      <td>39991.0</td>\n",
       "      <td>89873.0</td>\n",
       "      <td>114117.0</td>\n",
       "      <td>133003.0</td>\n",
       "      <td>154362.0</td>\n",
       "      <td>159496.0</td>\n",
       "      <td>NaN</td>\n",
       "      <td>NaN</td>\n",
       "      <td>NaN</td>\n",
       "      <td>NaN</td>\n",
       "    </tr>\n",
       "    <tr>\n",
       "      <th>1993</th>\n",
       "      <td>19744.0</td>\n",
       "      <td>47229.0</td>\n",
       "      <td>61909.0</td>\n",
       "      <td>85099.0</td>\n",
       "      <td>87215.0</td>\n",
       "      <td>NaN</td>\n",
       "      <td>NaN</td>\n",
       "      <td>NaN</td>\n",
       "      <td>NaN</td>\n",
       "      <td>NaN</td>\n",
       "    </tr>\n",
       "    <tr>\n",
       "      <th>1994</th>\n",
       "      <td>20379.0</td>\n",
       "      <td>46773.0</td>\n",
       "      <td>88636.0</td>\n",
       "      <td>91077.0</td>\n",
       "      <td>NaN</td>\n",
       "      <td>NaN</td>\n",
       "      <td>NaN</td>\n",
       "      <td>NaN</td>\n",
       "      <td>NaN</td>\n",
       "      <td>NaN</td>\n",
       "    </tr>\n",
       "    <tr>\n",
       "      <th>1995</th>\n",
       "      <td>18756.0</td>\n",
       "      <td>84712.0</td>\n",
       "      <td>87311.0</td>\n",
       "      <td>NaN</td>\n",
       "      <td>NaN</td>\n",
       "      <td>NaN</td>\n",
       "      <td>NaN</td>\n",
       "      <td>NaN</td>\n",
       "      <td>NaN</td>\n",
       "      <td>NaN</td>\n",
       "    </tr>\n",
       "    <tr>\n",
       "      <th>1996</th>\n",
       "      <td>42609.0</td>\n",
       "      <td>44916.0</td>\n",
       "      <td>NaN</td>\n",
       "      <td>NaN</td>\n",
       "      <td>NaN</td>\n",
       "      <td>NaN</td>\n",
       "      <td>NaN</td>\n",
       "      <td>NaN</td>\n",
       "      <td>NaN</td>\n",
       "      <td>NaN</td>\n",
       "    </tr>\n",
       "    <tr>\n",
       "      <th>1997</th>\n",
       "      <td>691.0</td>\n",
       "      <td>NaN</td>\n",
       "      <td>NaN</td>\n",
       "      <td>NaN</td>\n",
       "      <td>NaN</td>\n",
       "      <td>NaN</td>\n",
       "      <td>NaN</td>\n",
       "      <td>NaN</td>\n",
       "      <td>NaN</td>\n",
       "      <td>NaN</td>\n",
       "    </tr>\n",
       "  </tbody>\n",
       "</table>\n",
       "</div>"
      ],
      "text/plain": [
       "DevelopmentLag                                1         2         3   \\\n",
       "GRNAME              LOB    AccidentYear                                \n",
       "Alaska Nat Ins Co   wkcomp 1988           4386.0    7912.0    9668.0   \n",
       "                           1989           5321.0   10223.0   12162.0   \n",
       "                           1990           4775.0   10594.0   13524.0   \n",
       "                           1991           6731.0   15173.0   18551.0   \n",
       "                           1992           9166.0   18877.0   22168.0   \n",
       "                           1993           8321.0   16556.0   19539.0   \n",
       "                           1994           7045.0   14434.0   17173.0   \n",
       "                           1995           7332.0   15222.0   18450.0   \n",
       "                           1996           6599.0   12870.0       NaN   \n",
       "                           1997           7048.0       NaN       NaN   \n",
       "Allstate Ins Co Grp wkcomp 1988          70571.0  155905.0  220744.0   \n",
       "                           1989          66547.0  136447.0  179142.0   \n",
       "                           1990          52233.0  133370.0  178444.0   \n",
       "                           1991          59315.0  128051.0  169793.0   \n",
       "                           1992          39991.0   89873.0  114117.0   \n",
       "                           1993          19744.0   47229.0   61909.0   \n",
       "                           1994          20379.0   46773.0   88636.0   \n",
       "                           1995          18756.0   84712.0   87311.0   \n",
       "                           1996          42609.0   44916.0       NaN   \n",
       "                           1997            691.0       NaN       NaN   \n",
       "\n",
       "DevelopmentLag                                 4         5         6   \\\n",
       "GRNAME              LOB    AccidentYear                                 \n",
       "Alaska Nat Ins Co   wkcomp 1988           10502.0   10891.0   11181.0   \n",
       "                           1989           13051.0   13535.0   13734.0   \n",
       "                           1990           14837.0   15353.0   15557.0   \n",
       "                           1991           20392.0   21268.0   21878.0   \n",
       "                           1992           23259.0   23949.0   24299.0   \n",
       "                           1993           21018.0   22158.0       NaN   \n",
       "                           1994           18631.0       NaN       NaN   \n",
       "                           1995               NaN       NaN       NaN   \n",
       "                           1996               NaN       NaN       NaN   \n",
       "                           1997               NaN       NaN       NaN   \n",
       "Allstate Ins Co Grp wkcomp 1988          251595.0  274156.0  287676.0   \n",
       "                           1989          211343.0  231430.0  244750.0   \n",
       "                           1990          204442.0  222193.0  232940.0   \n",
       "                           1991          196685.0  213165.0  234676.0   \n",
       "                           1992          133003.0  154362.0  159496.0   \n",
       "                           1993           85099.0   87215.0       NaN   \n",
       "                           1994           91077.0       NaN       NaN   \n",
       "                           1995               NaN       NaN       NaN   \n",
       "                           1996               NaN       NaN       NaN   \n",
       "                           1997               NaN       NaN       NaN   \n",
       "\n",
       "DevelopmentLag                                 7         8         9   \\\n",
       "GRNAME              LOB    AccidentYear                                 \n",
       "Alaska Nat Ins Co   wkcomp 1988           11339.0   11422.0   11493.0   \n",
       "                           1989           13928.0   14022.0   14108.0   \n",
       "                           1990           15741.0   15882.0       NaN   \n",
       "                           1991           22225.0       NaN       NaN   \n",
       "                           1992               NaN       NaN       NaN   \n",
       "                           1993               NaN       NaN       NaN   \n",
       "                           1994               NaN       NaN       NaN   \n",
       "                           1995               NaN       NaN       NaN   \n",
       "                           1996               NaN       NaN       NaN   \n",
       "                           1997               NaN       NaN       NaN   \n",
       "Allstate Ins Co Grp wkcomp 1988          298499.0  304873.0  321808.0   \n",
       "                           1989          254557.0  270059.0  273873.0   \n",
       "                           1990          253337.0  256788.0       NaN   \n",
       "                           1991          239195.0       NaN       NaN   \n",
       "                           1992               NaN       NaN       NaN   \n",
       "                           1993               NaN       NaN       NaN   \n",
       "                           1994               NaN       NaN       NaN   \n",
       "                           1995               NaN       NaN       NaN   \n",
       "                           1996               NaN       NaN       NaN   \n",
       "                           1997               NaN       NaN       NaN   \n",
       "\n",
       "DevelopmentLag                                 10  \n",
       "GRNAME              LOB    AccidentYear            \n",
       "Alaska Nat Ins Co   wkcomp 1988           11513.0  \n",
       "                           1989               NaN  \n",
       "                           1990               NaN  \n",
       "                           1991               NaN  \n",
       "                           1992               NaN  \n",
       "                           1993               NaN  \n",
       "                           1994               NaN  \n",
       "                           1995               NaN  \n",
       "                           1996               NaN  \n",
       "                           1997               NaN  \n",
       "Allstate Ins Co Grp wkcomp 1988          325322.0  \n",
       "                           1989               NaN  \n",
       "                           1990               NaN  \n",
       "                           1991               NaN  \n",
       "                           1992               NaN  \n",
       "                           1993               NaN  \n",
       "                           1994               NaN  \n",
       "                           1995               NaN  \n",
       "                           1996               NaN  \n",
       "                           1997               NaN  "
      ]
     },
     "execution_count": 2,
     "metadata": {},
     "output_type": "execute_result"
    }
   ],
   "source": [
    "# Read in the data\n",
    "lobs = ['medmal','ppauto','wkcomp']\n",
    "data = pd.DataFrame()\n",
    "columns = ['GRCODE','GRNAME','AccidentYear','DevelopmentYear','DevelopmentLag','IncurLoss',\n",
    "           'CumPaidLoss','BulkLoss','EarnedPremDIR','EarnedPremCeded','EarnedPremNet',\n",
    "           'Single','PostedReserve97']\n",
    "for lob in lobs:\n",
    "    subset = pd.read_csv(f'https://www.casact.org/research/reserve_data/{lob}_pos.csv', names=columns, skiprows=1)\n",
    "    subset['LOB'] = lob\n",
    "    data = data.append(subset, sort=True)\n",
    "data = data[data['DevelopmentYear']<=1997].reset_index()\n",
    "data['CaseIncur'] = data['IncurLoss']-data['BulkLoss']\n",
    "\n",
    "\n",
    "# Find largest 20 companies by premium size for each LOB\n",
    "aggregates = (data[data['DevelopmentYear']==1997].groupby(['LOB','GRNAME']).sum()['IncurLoss']).reset_index()\n",
    "top_20_by_lob = aggregates.iloc[aggregates.groupby('LOB')['IncurLoss'].nlargest(19).index.levels[1]]\n",
    "data = data.merge(top_20_by_lob, how='left', on=['LOB','GRNAME'])\n",
    "data.loc[data.iloc[:,-1].isna(),'GRNAME'] = 'Other'\n",
    "\n",
    "# Create Triangles\n",
    "triangles = pd.pivot_table(data, index=['GRNAME','LOB','AccidentYear'], columns='DevelopmentLag', values='CumPaidLoss', aggfunc='sum')\n",
    "triangles.head(20)"
   ]
  },
  {
   "cell_type": "code",
   "execution_count": 3,
   "metadata": {},
   "outputs": [
    {
     "data": {
      "text/html": [
       "<div>\n",
       "<style scoped>\n",
       "    .dataframe tbody tr th:only-of-type {\n",
       "        vertical-align: middle;\n",
       "    }\n",
       "\n",
       "    .dataframe tbody tr th {\n",
       "        vertical-align: top;\n",
       "    }\n",
       "\n",
       "    .dataframe thead th {\n",
       "        text-align: right;\n",
       "    }\n",
       "</style>\n",
       "<table border=\"1\" class=\"dataframe\">\n",
       "  <thead>\n",
       "    <tr style=\"text-align: right;\">\n",
       "      <th></th>\n",
       "      <th></th>\n",
       "      <th>1-2</th>\n",
       "      <th>2-3</th>\n",
       "      <th>3-4</th>\n",
       "      <th>4-5</th>\n",
       "      <th>5-6</th>\n",
       "      <th>6-7</th>\n",
       "      <th>7-8</th>\n",
       "      <th>8-9</th>\n",
       "      <th>9-10</th>\n",
       "    </tr>\n",
       "    <tr>\n",
       "      <th>GRNAME</th>\n",
       "      <th>LOB</th>\n",
       "      <th></th>\n",
       "      <th></th>\n",
       "      <th></th>\n",
       "      <th></th>\n",
       "      <th></th>\n",
       "      <th></th>\n",
       "      <th></th>\n",
       "      <th></th>\n",
       "      <th></th>\n",
       "    </tr>\n",
       "  </thead>\n",
       "  <tbody>\n",
       "    <tr>\n",
       "      <th>Alaska Nat Ins Co</th>\n",
       "      <th>wkcomp</th>\n",
       "      <td>2.042044</td>\n",
       "      <td>1.204090</td>\n",
       "      <td>1.078956</td>\n",
       "      <td>1.039735</td>\n",
       "      <td>1.019448</td>\n",
       "      <td>1.014162</td>\n",
       "      <td>1.007755</td>\n",
       "      <td>1.006170</td>\n",
       "      <td>1.001740</td>\n",
       "    </tr>\n",
       "    <tr>\n",
       "      <th>Allstate Ins Co Grp</th>\n",
       "      <th>wkcomp</th>\n",
       "      <td>2.222958</td>\n",
       "      <td>1.337730</td>\n",
       "      <td>1.158433</td>\n",
       "      <td>1.092734</td>\n",
       "      <td>1.058643</td>\n",
       "      <td>1.045544</td>\n",
       "      <td>1.031408</td>\n",
       "      <td>1.036089</td>\n",
       "      <td>1.010920</td>\n",
       "    </tr>\n",
       "    <tr>\n",
       "      <th>Amerisafe Grp</th>\n",
       "      <th>wkcomp</th>\n",
       "      <td>2.083829</td>\n",
       "      <td>1.230349</td>\n",
       "      <td>1.049066</td>\n",
       "      <td>1.015398</td>\n",
       "      <td>1.011420</td>\n",
       "      <td>1.006666</td>\n",
       "      <td>1.007410</td>\n",
       "      <td>1.011116</td>\n",
       "      <td>1.013069</td>\n",
       "    </tr>\n",
       "    <tr>\n",
       "      <th>Associated Industries Ins Co</th>\n",
       "      <th>wkcomp</th>\n",
       "      <td>2.108629</td>\n",
       "      <td>1.353189</td>\n",
       "      <td>1.184505</td>\n",
       "      <td>1.078169</td>\n",
       "      <td>0.974303</td>\n",
       "      <td>1.034001</td>\n",
       "      <td>1.042462</td>\n",
       "      <td>1.042313</td>\n",
       "      <td>1.012176</td>\n",
       "    </tr>\n",
       "    <tr>\n",
       "      <th>Beacon Mut Ins Co</th>\n",
       "      <th>wkcomp</th>\n",
       "      <td>2.245266</td>\n",
       "      <td>1.342916</td>\n",
       "      <td>1.156806</td>\n",
       "      <td>1.089594</td>\n",
       "      <td>1.000000</td>\n",
       "      <td>1.000000</td>\n",
       "      <td>1.000000</td>\n",
       "      <td>1.000000</td>\n",
       "      <td>1.000000</td>\n",
       "    </tr>\n",
       "    <tr>\n",
       "      <th>California Cas Grp</th>\n",
       "      <th>wkcomp</th>\n",
       "      <td>2.465336</td>\n",
       "      <td>1.439107</td>\n",
       "      <td>1.211535</td>\n",
       "      <td>1.103328</td>\n",
       "      <td>1.057443</td>\n",
       "      <td>1.032072</td>\n",
       "      <td>1.020914</td>\n",
       "      <td>1.016032</td>\n",
       "      <td>1.002451</td>\n",
       "    </tr>\n",
       "    <tr>\n",
       "      <th>California Healthcare Ins Co Inc</th>\n",
       "      <th>medmal</th>\n",
       "      <td>6.509554</td>\n",
       "      <td>2.273835</td>\n",
       "      <td>1.709652</td>\n",
       "      <td>1.102301</td>\n",
       "      <td>1.327577</td>\n",
       "      <td>0.971001</td>\n",
       "      <td>1.128342</td>\n",
       "      <td>1.049808</td>\n",
       "      <td>1.000000</td>\n",
       "    </tr>\n",
       "    <tr>\n",
       "      <th>Church Mut Ins Co</th>\n",
       "      <th>wkcomp</th>\n",
       "      <td>2.150521</td>\n",
       "      <td>1.264346</td>\n",
       "      <td>1.109760</td>\n",
       "      <td>1.059074</td>\n",
       "      <td>1.030563</td>\n",
       "      <td>1.017617</td>\n",
       "      <td>1.009547</td>\n",
       "      <td>1.006784</td>\n",
       "      <td>1.010023</td>\n",
       "    </tr>\n",
       "    <tr>\n",
       "      <th>Clinic Mut Ins Co RRG</th>\n",
       "      <th>medmal</th>\n",
       "      <td>3.072100</td>\n",
       "      <td>1.548494</td>\n",
       "      <td>1.178165</td>\n",
       "      <td>1.112438</td>\n",
       "      <td>1.194979</td>\n",
       "      <td>0.979522</td>\n",
       "      <td>0.999304</td>\n",
       "      <td>1.000000</td>\n",
       "      <td>1.000000</td>\n",
       "    </tr>\n",
       "    <tr>\n",
       "      <th>Controlled Risk Ins Co Of VT Inc</th>\n",
       "      <th>medmal</th>\n",
       "      <td>3.513072</td>\n",
       "      <td>2.412322</td>\n",
       "      <td>1.000000</td>\n",
       "      <td>1.000000</td>\n",
       "      <td>1.000000</td>\n",
       "      <td>1.000000</td>\n",
       "      <td>1.000000</td>\n",
       "      <td>1.000000</td>\n",
       "      <td>1.000000</td>\n",
       "    </tr>\n",
       "  </tbody>\n",
       "</table>\n",
       "</div>"
      ],
      "text/plain": [
       "                                              1-2       2-3       3-4  \\\n",
       "GRNAME                           LOB                                    \n",
       "Alaska Nat Ins Co                wkcomp  2.042044  1.204090  1.078956   \n",
       "Allstate Ins Co Grp              wkcomp  2.222958  1.337730  1.158433   \n",
       "Amerisafe Grp                    wkcomp  2.083829  1.230349  1.049066   \n",
       "Associated Industries Ins Co     wkcomp  2.108629  1.353189  1.184505   \n",
       "Beacon Mut Ins Co                wkcomp  2.245266  1.342916  1.156806   \n",
       "California Cas Grp               wkcomp  2.465336  1.439107  1.211535   \n",
       "California Healthcare Ins Co Inc medmal  6.509554  2.273835  1.709652   \n",
       "Church Mut Ins Co                wkcomp  2.150521  1.264346  1.109760   \n",
       "Clinic Mut Ins Co RRG            medmal  3.072100  1.548494  1.178165   \n",
       "Controlled Risk Ins Co Of VT Inc medmal  3.513072  2.412322  1.000000   \n",
       "\n",
       "                                              4-5       5-6       6-7  \\\n",
       "GRNAME                           LOB                                    \n",
       "Alaska Nat Ins Co                wkcomp  1.039735  1.019448  1.014162   \n",
       "Allstate Ins Co Grp              wkcomp  1.092734  1.058643  1.045544   \n",
       "Amerisafe Grp                    wkcomp  1.015398  1.011420  1.006666   \n",
       "Associated Industries Ins Co     wkcomp  1.078169  0.974303  1.034001   \n",
       "Beacon Mut Ins Co                wkcomp  1.089594  1.000000  1.000000   \n",
       "California Cas Grp               wkcomp  1.103328  1.057443  1.032072   \n",
       "California Healthcare Ins Co Inc medmal  1.102301  1.327577  0.971001   \n",
       "Church Mut Ins Co                wkcomp  1.059074  1.030563  1.017617   \n",
       "Clinic Mut Ins Co RRG            medmal  1.112438  1.194979  0.979522   \n",
       "Controlled Risk Ins Co Of VT Inc medmal  1.000000  1.000000  1.000000   \n",
       "\n",
       "                                              7-8       8-9      9-10  \n",
       "GRNAME                           LOB                                   \n",
       "Alaska Nat Ins Co                wkcomp  1.007755  1.006170  1.001740  \n",
       "Allstate Ins Co Grp              wkcomp  1.031408  1.036089  1.010920  \n",
       "Amerisafe Grp                    wkcomp  1.007410  1.011116  1.013069  \n",
       "Associated Industries Ins Co     wkcomp  1.042462  1.042313  1.012176  \n",
       "Beacon Mut Ins Co                wkcomp  1.000000  1.000000  1.000000  \n",
       "California Cas Grp               wkcomp  1.020914  1.016032  1.002451  \n",
       "California Healthcare Ins Co Inc medmal  1.128342  1.049808  1.000000  \n",
       "Church Mut Ins Co                wkcomp  1.009547  1.006784  1.010023  \n",
       "Clinic Mut Ins Co RRG            medmal  0.999304  1.000000  1.000000  \n",
       "Controlled Risk Ins Co Of VT Inc medmal  1.000000  1.000000  1.000000  "
      ]
     },
     "execution_count": 3,
     "metadata": {},
     "output_type": "execute_result"
    }
   ],
   "source": [
    "# Determine LDF Weights\n",
    "weight = np.array(~triangles.iloc[:,1:].isna())\n",
    "columns = [f'{triangles.columns[num]}-{triangles.columns[num+1]}' for num, item in enumerate(triangles.columns[:-1])]\n",
    "\n",
    "# Volume-weighted numerator and demoninator\n",
    "numerator = ((weight*triangles.iloc[:,1:]).reset_index().drop('AccidentYear',axis=1).groupby(['GRNAME','LOB']).sum(axis=0))\n",
    "denominator = ((weight*triangles.iloc[:,:-1]).reset_index().drop('AccidentYear',axis=1).groupby(['GRNAME','LOB']).sum(axis=0))\n",
    "numerator.columns = denominator.columns = columns\n",
    "\n",
    "# Development Patterns\n",
    "ldf = (numerator/denominator).fillna(1.0)\n",
    "ldf.head(10)"
   ]
  },
  {
   "cell_type": "markdown",
   "metadata": {},
   "source": [
    "# What is Scikit-Learn?\n",
    "\n",
    "**Machine Learning in Python**\n",
    "\n",
    "* Simple and efficient tools for data mining and data analysis\n",
    "* Accessible to everybody, and reusable in various contexts\n",
    "* Built on NumPy, SciPy, and matplotlib\n",
    "* Open source, commercially usable - BSD license\n"
   ]
  },
  {
   "cell_type": "markdown",
   "metadata": {},
   "source": [
    "### scikit-learn covers the majority of supervised and unsupervised ML techniques available today and  is continually expanding\n",
    "![](https://scikit-learn.org/stable/_static/ml_map.png)"
   ]
  },
  {
   "cell_type": "markdown",
   "metadata": {},
   "source": [
    "#### Scikit-learn is a consistent API for all Machine Learning Algorithms\n",
    "\n",
    "Estimators are the building block of scikit-learn.  Almost everything is an estimator.  All estimators have `fit()` methods. Most have either a `predict()` or `transform()` method. Supervised techniques generally have a `score()` method as well.\n",
    "\n",
    "The basic ML workflow looks like this:\n",
    "```python\n",
    "from sklearn.EstimatorFamily import Estimator\n",
    "est = Estimator(hyperparameter_1, ... ,hyperparameter_n) # Create a model\n",
    "est.fit(X_train, y_train) # Fit the model\n",
    "est.score(X_test, y_test) # Evaluate model efficacy\n",
    "est.predict(X_test) # Create predictions\n",
    "```"
   ]
  },
  {
   "cell_type": "markdown",
   "metadata": {},
   "source": [
    "#### Importing your estimators\n",
    "`from sklearn.EstimatorFamily import Estimator` is typically how you'd import an estimator.  Some examples are:\n",
    "``` python\n",
    "from sklearn.linear_model import RidgeRegression\n",
    "from sklearn.ensemble import RandomForestRegressor, GradientBoostingClassifier\n",
    "from sklearn.naive_bayes import GaussianNB\n",
    "from sklearn.cluster import KMeans\n",
    "```"
   ]
  },
  {
   "cell_type": "code",
   "execution_count": 4,
   "metadata": {},
   "outputs": [],
   "source": [
    "# Exercise - Import the support vector classifier and a k-neighbors classifier from sklearn\n",
    "from sklearn.svm import SVC\n",
    "from sklearn.neighbors import KNeighborsClassifier"
   ]
  },
  {
   "cell_type": "markdown",
   "metadata": {},
   "source": [
    "#### Hyperparameters of your estimarors (Controlling how your estimator fits)\n",
    "Instantiating an estimator typically looks like `est = Estimator(hyperparameter_1, ... ,hyperparameter_n)`.\n",
    "Upon instantition you have the *option* of setting hyperparameters (i.e. parameters whose values are set before the learning process).  All hyperparameters have defaults that may or may not be satisfactory for your particular problem.\n",
    "\n",
    "Exmaples of setting initial hyperparameters on an estimator:\n",
    "```python\n",
    "rr = RidgeRegression(alpha=0.5, fit_intercept=False, normalize=True)\n",
    "knc = KNeighborsClassifier(n_neighbors=10)\n",
    "gbc = GradientBoostingClassifier()\n",
    "```"
   ]
  },
  {
   "cell_type": "code",
   "execution_count": 5,
   "metadata": {},
   "outputs": [
    {
     "data": {
      "text/plain": [
       "SVC(C=1.0, cache_size=200, class_weight=None, coef0=0.0,\n",
       "  decision_function_shape='ovr', degree=2, gamma='auto', kernel='poly',\n",
       "  max_iter=-1, probability=False, random_state=None, shrinking=True,\n",
       "  tol=0.001, verbose=False)"
      ]
     },
     "execution_count": 5,
     "metadata": {},
     "output_type": "execute_result"
    }
   ],
   "source": [
    "# Exercise - Override the SVC hyperparameters such that it uses a kernel type of a second degree polynomial\n",
    "SVC(kernel='poly', degree=2)"
   ]
  },
  {
   "cell_type": "markdown",
   "metadata": {},
   "source": [
    "#### Transformers - an  interim step to a final model\n",
    "Several `sklearn` estimators implement a `transform()` method.  Transformers are typically used to 'transform' your featureset in a way that will improve another algorithms (e.g. regressor, classifier) performance.\n",
    "\n",
    "Typical examples include:\n",
    "```python\n",
    "sklearn.preprocessing.PCA # Principle Components transformation\n",
    "sklearn.preprocessing.OneHotEncoder # Categorical to dummy transformation\n",
    "sklearn.preprocessing.StandardScaler # Removing the mean and scaling to unit variance for each feature\n",
    "sklearn.preprocessing.LabelEncoder # Single-column label to integer tranformation\n",
    "```"
   ]
  },
  {
   "cell_type": "code",
   "execution_count": 6,
   "metadata": {},
   "outputs": [],
   "source": [
    "# Exercise - Import and create a labelEncoder transformer named 'le'\n",
    "from sklearn.preprocessing import LabelEncoder\n",
    "le = LabelEncoder()"
   ]
  },
  {
   "cell_type": "markdown",
   "metadata": {},
   "source": [
    "#### Fitting an estimator\n",
    "To fit an estimator we require data - in most cases the data must be `numpy` arrays that are numeric in nature. However, many of the preprocessing transformers are helpers designed to meet this requirement."
   ]
  },
  {
   "cell_type": "code",
   "execution_count": 7,
   "metadata": {},
   "outputs": [
    {
     "data": {
      "text/plain": [
       "LabelEncoder()"
      ]
     },
     "execution_count": 7,
     "metadata": {},
     "output_type": "execute_result"
    }
   ],
   "source": [
    "response = ldf.reset_index()['LOB']\n",
    "# Exercise - Pass 'response'to the fit method of your LabelEncoder() instance you created in the previous exercise.\n",
    "le.fit(response)"
   ]
  },
  {
   "cell_type": "markdown",
   "metadata": {},
   "source": [
    "#### Mutating the Estimator with fit()\n",
    "Though it looks like nothing happened, a lot happened under the hood.  Our estimator has seen data can now be applied to new datasets.  Once an estimator is fit, it spin off useful metadata that describes the fit model.  `sklearn` uses a trailing underscore in property names to help users distinguish between hyperparameters and the new metadata.\n",
    "```python\n",
    "from sklearn.linear_model import LinearRegression\n",
    "lr = LinearRegression(fit_intercept=False)\n",
    "lr.fit(X, y)\n",
    "print(lr.fit_intercept) # A hyperparameter.  Returns False.\n",
    "print(lr.coef_) # Trailing underscore denotes the property comes from a 'fit'.  Returns model coefficients.\n",
    "```"
   ]
  },
  {
   "cell_type": "code",
   "execution_count": 8,
   "metadata": {},
   "outputs": [
    {
     "data": {
      "text/plain": [
       "array(['medmal', 'ppauto', 'wkcomp'], dtype=object)"
      ]
     },
     "execution_count": 8,
     "metadata": {},
     "output_type": "execute_result"
    }
   ],
   "source": [
    "# Exercise - access the 'classes_' property of our label encoder.\n",
    "le.classes_"
   ]
  },
  {
   "cell_type": "markdown",
   "metadata": {},
   "source": [
    "#### Predicting/Transforming a dataset\n",
    "With a fit estimator we can create predictions or transformations on any new dataset that has the same number of features as our original data."
   ]
  },
  {
   "cell_type": "code",
   "execution_count": 9,
   "metadata": {},
   "outputs": [
    {
     "data": {
      "text/plain": [
       "array([2, 2, 2, 2, 2, 2, 0, 2, 0, 0, 0, 1, 2, 2, 1, 1, 1, 1, 2, 2, 0, 1,\n",
       "       1, 1, 1, 0, 2, 0, 0, 0, 0, 1, 1, 0, 1, 2, 1, 0, 1, 2, 2, 0, 0, 2,\n",
       "       0, 0, 1, 0, 1, 2, 2, 0, 1, 0, 1, 0, 2, 1, 1, 2], dtype=int64)"
      ]
     },
     "execution_count": 9,
     "metadata": {},
     "output_type": "execute_result"
    }
   ],
   "source": [
    "# Exercise -  create an array called 'y' that uses your LabelEncoder transform() method on 'response'\n",
    "y = le.transform(response)\n",
    "y"
   ]
  },
  {
   "cell_type": "markdown",
   "metadata": {},
   "source": [
    "### Supervised Learning Example - Identifying the line of business of an unlabeled triangle\n",
    "We've computed the development patterns of twenty companies for `wkcomp`, `comauto`, and `ppauto`.\n",
    "The LDFs are our featureset **X**, and the known line of business is our response, **y**.\n",
    "\n",
    "Train Model > Validate performance on Test > Make Preditions"
   ]
  },
  {
   "cell_type": "markdown",
   "metadata": {},
   "source": [
    "#### Train/Test Split"
   ]
  },
  {
   "cell_type": "code",
   "execution_count": 10,
   "metadata": {},
   "outputs": [],
   "source": [
    "from sklearn.model_selection import train_test_split\n",
    "X = ldf.values\n",
    "X_train, X_test, y_train, y_test = train_test_split(X, y, test_size=0.33, random_state=42)"
   ]
  },
  {
   "cell_type": "markdown",
   "metadata": {},
   "source": [
    "#### Fitting our classifier"
   ]
  },
  {
   "cell_type": "code",
   "execution_count": 11,
   "metadata": {},
   "outputs": [
    {
     "data": {
      "text/plain": [
       "KNeighborsClassifier(algorithm='auto', leaf_size=30, metric='minkowski',\n",
       "           metric_params=None, n_jobs=1, n_neighbors=5, p=2,\n",
       "           weights='uniform')"
      ]
     },
     "execution_count": 11,
     "metadata": {},
     "output_type": "execute_result"
    }
   ],
   "source": [
    "# Exercise - Create a KNeighborsClassifier and fit it to our training data\n",
    "knn = KNeighborsClassifier()\n",
    "knn.fit(X_train, y_train)"
   ]
  },
  {
   "cell_type": "markdown",
   "metadata": {},
   "source": [
    "#### Evaluating our classifier\n",
    "The `score()` method of all classifiers defaults to an accuracy measure.  "
   ]
  },
  {
   "cell_type": "code",
   "execution_count": 12,
   "metadata": {},
   "outputs": [
    {
     "data": {
      "text/plain": [
       "0.85"
      ]
     },
     "execution_count": 12,
     "metadata": {},
     "output_type": "execute_result"
    }
   ],
   "source": [
    "# Exercise - Use score() to evaluate the accuracy of our KNeighborsClassifier on our test set.\n",
    "knn.score(X_test,y_test)"
   ]
  },
  {
   "cell_type": "markdown",
   "metadata": {},
   "source": [
    "##### Classifier Confusion Matrix"
   ]
  },
  {
   "cell_type": "code",
   "execution_count": 13,
   "metadata": {},
   "outputs": [
    {
     "data": {
      "text/html": [
       "<div>\n",
       "<style scoped>\n",
       "    .dataframe tbody tr th:only-of-type {\n",
       "        vertical-align: middle;\n",
       "    }\n",
       "\n",
       "    .dataframe tbody tr th {\n",
       "        vertical-align: top;\n",
       "    }\n",
       "\n",
       "    .dataframe thead th {\n",
       "        text-align: right;\n",
       "    }\n",
       "</style>\n",
       "<table border=\"1\" class=\"dataframe\">\n",
       "  <thead>\n",
       "    <tr style=\"text-align: right;\">\n",
       "      <th></th>\n",
       "      <th>medmal</th>\n",
       "      <th>ppauto</th>\n",
       "      <th>wkcomp</th>\n",
       "    </tr>\n",
       "  </thead>\n",
       "  <tbody>\n",
       "    <tr>\n",
       "      <th>medmal</th>\n",
       "      <td>3</td>\n",
       "      <td>0</td>\n",
       "      <td>1</td>\n",
       "    </tr>\n",
       "    <tr>\n",
       "      <th>ppauto</th>\n",
       "      <td>0</td>\n",
       "      <td>6</td>\n",
       "      <td>2</td>\n",
       "    </tr>\n",
       "    <tr>\n",
       "      <th>wkcomp</th>\n",
       "      <td>0</td>\n",
       "      <td>0</td>\n",
       "      <td>8</td>\n",
       "    </tr>\n",
       "  </tbody>\n",
       "</table>\n",
       "</div>"
      ],
      "text/plain": [
       "        medmal  ppauto  wkcomp\n",
       "medmal       3       0       1\n",
       "ppauto       0       6       2\n",
       "wkcomp       0       0       8"
      ]
     },
     "execution_count": 13,
     "metadata": {},
     "output_type": "execute_result"
    }
   ],
   "source": [
    "from sklearn.metrics import confusion_matrix\n",
    "pd.DataFrame(confusion_matrix(y_test, knn.predict(X_test)), index=le.classes_, columns=le.classes_)"
   ]
  },
  {
   "cell_type": "markdown",
   "metadata": {},
   "source": [
    "##### Visual representation of first three Development Factors\n",
    "By inspection (at least across the first three development ages), it is difficult to distinguish between `wkcomp` and `ppauto` in line with where our `KNeighborsClassifier` was least accurate."
   ]
  },
  {
   "cell_type": "code",
   "execution_count": 14,
   "metadata": {},
   "outputs": [
    {
     "name": "stderr",
     "output_type": "stream",
     "text": [
      "C:\\Users\\jbogaard\\AppData\\Local\\Continuum\\anaconda3\\lib\\site-packages\\scipy\\stats\\stats.py:1713: FutureWarning: Using a non-tuple sequence for multidimensional indexing is deprecated; use `arr[tuple(seq)]` instead of `arr[seq]`. In the future this will be interpreted as an array index, `arr[np.array(seq)]`, which will result either in an error or a different result.\n",
      "  return np.add.reduce(sorted[indexer] * weights, axis=axis) / sumval\n"
     ]
    },
    {
     "data": {
      "image/png": "[encoded data removed]",
      "text/plain": [
       "<Figure size 617.25x540 with 12 Axes>"
      ]
     },
     "metadata": {},
     "output_type": "display_data"
    }
   ],
   "source": [
    "import seaborn as sns\n",
    "%matplotlib inline\n",
    "g = sns.pairplot(ldf.reset_index()[['LOB','1-2','2-3','3-4']], hue=\"LOB\")"
   ]
  },
  {
   "cell_type": "code",
   "execution_count": 15,
   "metadata": {},
   "outputs": [
    {
     "data": {
      "text/plain": [
       "0.65"
      ]
     },
     "execution_count": 15,
     "metadata": {},
     "output_type": "execute_result"
    }
   ],
   "source": [
    "X_train, X_test, y_train, y_test = train_test_split(X, y, test_size=0.33, random_state=41)\n",
    "# Exercise - What is our accuracy when we change our train_test_split random_state to 41?\n",
    "knn = KNeighborsClassifier()\n",
    "knn.fit(X_train, y_train)\n",
    "knn.score(X_test,y_test)"
   ]
  },
  {
   "cell_type": "markdown",
   "metadata": {},
   "source": [
    "##### Cross-validation\n",
    "`sklearn` provides a `cross_val_score` to test the robustness of an estimator across multiple folds painting a truer picture of an estimators' efficacy than a simple train/test split."
   ]
  },
  {
   "cell_type": "code",
   "execution_count": 16,
   "metadata": {},
   "outputs": [
    {
     "data": {
      "text/plain": [
       "0.8359788359788359"
      ]
     },
     "execution_count": 16,
     "metadata": {},
     "output_type": "execute_result"
    }
   ],
   "source": [
    "from sklearn.model_selection import cross_val_score\n",
    "np.mean(cross_val_score(knn, X, y))"
   ]
  },
  {
   "cell_type": "markdown",
   "metadata": {},
   "source": [
    "#### Improving model accuracy with GridSearchCV\n",
    "\n",
    "With `GridSearchCV`, we can feed a hyperparameter grid into our estimator to determine an 'optimal' set of hyperparameters to use for our particular business problem.  `GridSearchCV` itself is an estimator and so it has the usual `'fit()` and `predict()` methods any other classifier would.\n",
    "\n",
    "At a minimum, parameterizing the GridSearchCV estimator we need to specify:\n",
    "1. The estimator we want to use\n",
    "2. The hyperparameter searchspace as a dictionary"
   ]
  },
  {
   "cell_type": "code",
   "execution_count": 17,
   "metadata": {},
   "outputs": [
    {
     "name": "stdout",
     "output_type": "stream",
     "text": [
      "Best Score: 0.8333333333333334\n"
     ]
    },
    {
     "data": {
      "text/plain": [
       "KNeighborsClassifier(algorithm='auto', leaf_size=30, metric='minkowski',\n",
       "           metric_params=None, n_jobs=1, n_neighbors=5, p=2,\n",
       "           weights='uniform')"
      ]
     },
     "execution_count": 17,
     "metadata": {},
     "output_type": "execute_result"
    }
   ],
   "source": [
    "from sklearn.model_selection import GridSearchCV\n",
    "\n",
    "param_grid={'n_neighbors':[1,3,5,7,9,11]}\n",
    "grid = GridSearchCV(knn, param_grid, return_train_score=True)\n",
    "grid.fit(X, y)\n",
    "print(f'Best Score: {grid.best_score_}')\n",
    "grid.best_estimator_"
   ]
  },
  {
   "cell_type": "markdown",
   "metadata": {},
   "source": [
    "A Visual inspection of the cross-validated scores shows strong support for `n_neighbors=5`"
   ]
  },
  {
   "cell_type": "code",
   "execution_count": 18,
   "metadata": {},
   "outputs": [
    {
     "data": {
      "image/png": "[encoded data removed]",
      "text/plain": [
       "<Figure size 432x288 with 1 Axes>"
      ]
     },
     "metadata": {},
     "output_type": "display_data"
    }
   ],
   "source": [
    "g = sns.pointplot(x='param_n_neighbors', y='mean_test_score', data=pd.DataFrame(grid.cv_results_))"
   ]
  },
  {
   "cell_type": "code",
   "execution_count": 19,
   "metadata": {},
   "outputs": [
    {
     "name": "stdout",
     "output_type": "stream",
     "text": [
      "Best Score: 0.8666666666666667\n"
     ]
    },
    {
     "data": {
      "text/plain": [
       "KNeighborsClassifier(algorithm='auto', leaf_size=30, metric='minkowski',\n",
       "           metric_params=None, n_jobs=1, n_neighbors=5, p=5,\n",
       "           weights='uniform')"
      ]
     },
     "execution_count": 19,
     "metadata": {},
     "output_type": "execute_result"
    }
   ],
   "source": [
    "# Exercise - Explore values of KNeighborsClassifier hyperparameter, p to improve the cross-validated score of our estimator\n",
    "param_grid=dict(n_neighbors=[1,3,5,7,9,11], p=[1,2,3,4,5,6])\n",
    "grid = GridSearchCV(knn, param_grid, return_train_score=True)\n",
    "grid.fit(X, y)\n",
    "print(f'Best Score: {grid.best_score_}')\n",
    "grid.best_estimator_"
   ]
  },
  {
   "cell_type": "code",
   "execution_count": 20,
   "metadata": {},
   "outputs": [
    {
     "data": {
      "text/html": [
       "<div>\n",
       "<style scoped>\n",
       "    .dataframe tbody tr th:only-of-type {\n",
       "        vertical-align: middle;\n",
       "    }\n",
       "\n",
       "    .dataframe tbody tr th {\n",
       "        vertical-align: top;\n",
       "    }\n",
       "\n",
       "    .dataframe thead th {\n",
       "        text-align: right;\n",
       "    }\n",
       "</style>\n",
       "<table border=\"1\" class=\"dataframe\">\n",
       "  <thead>\n",
       "    <tr style=\"text-align: right;\">\n",
       "      <th></th>\n",
       "      <th>medmal</th>\n",
       "      <th>ppauto</th>\n",
       "      <th>wkcomp</th>\n",
       "    </tr>\n",
       "  </thead>\n",
       "  <tbody>\n",
       "    <tr>\n",
       "      <th>medmal</th>\n",
       "      <td>19</td>\n",
       "      <td>1</td>\n",
       "      <td>0</td>\n",
       "    </tr>\n",
       "    <tr>\n",
       "      <th>ppauto</th>\n",
       "      <td>0</td>\n",
       "      <td>16</td>\n",
       "      <td>4</td>\n",
       "    </tr>\n",
       "    <tr>\n",
       "      <th>wkcomp</th>\n",
       "      <td>0</td>\n",
       "      <td>2</td>\n",
       "      <td>18</td>\n",
       "    </tr>\n",
       "  </tbody>\n",
       "</table>\n",
       "</div>"
      ],
      "text/plain": [
       "        medmal  ppauto  wkcomp\n",
       "medmal      19       1       0\n",
       "ppauto       0      16       4\n",
       "wkcomp       0       2      18"
      ]
     },
     "execution_count": 20,
     "metadata": {},
     "output_type": "execute_result"
    }
   ],
   "source": [
    "# Exercise - Display the confusion matrix of your best estimator from the previous exercise on the entire dataset\n",
    "pd.DataFrame(confusion_matrix(y, grid.best_estimator_.predict(X)), index=le.classes_, columns=le.classes_)"
   ]
  },
  {
   "cell_type": "markdown",
   "metadata": {},
   "source": [
    "### Further Reading - Pipelines\n",
    "Pipelines are useful for chaining one or more transformers together with an estimator (e.g. regressor, classifier) as the final step.  Pipelines themselves are estimators and have `fit()`, `predict()`, and `score()` function."
   ]
  },
  {
   "cell_type": "code",
   "execution_count": 29,
   "metadata": {},
   "outputs": [
    {
     "data": {
      "text/plain": [
       "0.8085432444660042"
      ]
     },
     "execution_count": 29,
     "metadata": {},
     "output_type": "execute_result"
    }
   ],
   "source": [
    "from sklearn.model_selection import GridSearchCV\n",
    "from sklearn.tree import DecisionTreeRegressor\n",
    "from sklearn.pipeline import Pipeline\n",
    "from sklearn.preprocessing import PolynomialFeatures\n",
    "from sklearn.datasets import load_boston\n",
    "\n",
    "# Regression Dataset\n",
    "boston = load_boston()\n",
    "\n",
    "X_train, X_test, y_train, y_test = \\\n",
    "    train_test_split(boston['data'], boston['target'], \n",
    "                     test_size=0.33, random_state=42)\n",
    "    \n",
    "\n",
    "poly = PolynomialFeatures(degree=4) # Transformer\n",
    "dtree = DecisionTreeRegressor(random_state=42) # Regressor\n",
    "pipe = Pipeline(steps=[('poly', poly), ('dtree', dtree)]) # Pipeline chains the steps together\n",
    "\n",
    "# Usual fit/score routines \n",
    "pipe.fit(X_train,y_train)\n",
    "pipe.score(X_test, y_test)"
   ]
  },
  {
   "cell_type": "markdown",
   "metadata": {},
   "source": [
    "The real power in pipelines is that the hyperparameter space of all estimators in the pipeline can be gridsearched.  To avoid hyperparameter name clashes between one estimator and another, sklearn uses an {estimator_name}__hyperparameter notation for the keys of its parameter grid.\n",
    "\n",
    "See Example:"
   ]
  },
  {
   "cell_type": "code",
   "execution_count": 31,
   "metadata": {},
   "outputs": [
    {
     "name": "stdout",
     "output_type": "stream",
     "text": [
      "Optimal parameter set produces a holdout score of 0.8198128089350925\n"
     ]
    },
    {
     "data": {
      "text/plain": [
       "Pipeline(memory=None,\n",
       "     steps=[('poly', PolynomialFeatures(degree=2, include_bias=True, interaction_only=False)), ('dtree', DecisionTreeRegressor(criterion='mse', max_depth=25, max_features=None,\n",
       "           max_leaf_nodes=None, min_impurity_decrease=0.0,\n",
       "           min_impurity_split=None, min_samples_leaf=3,\n",
       "           min_samples_split=20, min_weight_fraction_leaf=0.0,\n",
       "           presort=False, random_state=42, splitter='best'))])"
      ]
     },
     "execution_count": 31,
     "metadata": {},
     "output_type": "execute_result"
    }
   ],
   "source": [
    "param_grid = dict(dtree__criterion =['mse','friedman_mse'],\n",
    "                  dtree__max_depth = [25, 50, 75, 100],\n",
    "                  dtree__min_samples_leaf =[2, 3, 5, 10],\n",
    "                  dtree__min_samples_split = [5,10,20],\n",
    "                  poly__degree=[1,2])\n",
    "\n",
    "optimized_pipeline = GridSearchCV(pipe, param_grid, cv=5, refit=True)\n",
    "optimized_pipeline.fit(X_train, y_train)\n",
    "\n",
    "print(f'Optimal parameter set produces a holdout score of {optimized_pipeline.score(X_test,y_test)}')\n",
    "optimized_pipeline.best_estimator_"
   ]
  }
 ],
 "metadata": {
  "hide_input": false,
  "kernelspec": {
   "display_name": "Python 3",
   "language": "python",
   "name": "python3"
  },
  "language_info": {
   "codemirror_mode": {
    "name": "ipython",
    "version": 3
   },
   "file_extension": ".py",
   "mimetype": "text/x-python",
   "name": "python",
   "nbconvert_exporter": "python",
   "pygments_lexer": "ipython3",
   "version": "3.6.3"
  },
  "toc": {
   "base_numbering": 1,
   "nav_menu": {},
   "number_sections": true,
   "sideBar": true,
   "skip_h1_title": false,
   "title_cell": "Table of Contents",
   "title_sidebar": "Contents",
   "toc_cell": false,
   "toc_position": {},
   "toc_section_display": true,
   "toc_window_display": false
  },
  "varInspector": {
   "cols": {
    "lenName": 16,
    "lenType": 16,
    "lenVar": 40
   },
   "kernels_config": {
    "python": {
     "delete_cmd_postfix": "",
     "delete_cmd_prefix": "del ",
     "library": "var_list.py",
     "varRefreshCmd": "print(var_dic_list())"
    },
    "r": {
     "delete_cmd_postfix": ") ",
     "delete_cmd_prefix": "rm(",
     "library": "var_list.r",
     "varRefreshCmd": "cat(var_dic_list()) "
    }
   },
   "types_to_exclude": [
    "module",
    "function",
    "builtin_function_or_method",
    "instance",
    "_Feature"
   ],
   "window_display": false
  }
 },
 "nbformat": 4,
 "nbformat_minor": 2
}
