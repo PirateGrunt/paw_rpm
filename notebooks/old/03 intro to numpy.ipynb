{
 "cells": [
  {
   "cell_type": "code",
   "execution_count": null,
   "metadata": {
    "slideshow": {
     "slide_type": "skip"
    }
   },
   "outputs": [],
   "source": [
    "import numpy as np"
   ]
  },
  {
   "cell_type": "markdown",
   "metadata": {
    "slideshow": {
     "slide_type": "slide"
    }
   },
   "source": [
    "![](https://upload.wikimedia.org/wikipedia/commons/thumb/1/1a/NumPy_logo.svg/775px-NumPy_logo.svg.png)"
   ]
  },
  {
   "cell_type": "markdown",
   "metadata": {
    "slideshow": {
     "slide_type": "slide"
    }
   },
   "source": [
    "## The Scientific Python ecosystem is built on Numpy\n",
    "![](https://gcpy.readthedocs.io/en/latest/_images/state_of_the_stack_2015.png)"
   ]
  },
  {
   "cell_type": "markdown",
   "metadata": {
    "slideshow": {
     "slide_type": "slide"
    }
   },
   "source": [
    "## Arrays\n",
    "\n",
    "The basic object of numpy is the ndarray\n",
    "\n",
    "An ndarray is a multidimensional container of items of the same type and size. The number of dimensions and items in an array is defined by its shape"
   ]
  },
  {
   "cell_type": "code",
   "execution_count": null,
   "metadata": {
    "slideshow": {
     "slide_type": "slide"
    }
   },
   "outputs": [],
   "source": [
    "x = np.array([1,2,3,4])\n",
    "print(x)\n",
    "print(f'Shape:{x.shape}')"
   ]
  },
  {
   "cell_type": "code",
   "execution_count": null,
   "metadata": {
    "slideshow": {
     "slide_type": "slide"
    }
   },
   "outputs": [],
   "source": [
    "# Mixed type arrays are coerced to the more general type or throws an error\n",
    "x = np.array([1,2,3,'oops'])\n",
    "print(x)"
   ]
  },
  {
   "cell_type": "code",
   "execution_count": null,
   "metadata": {
    "slideshow": {
     "slide_type": "slide"
    }
   },
   "outputs": [],
   "source": [
    "x = np.array([[1,1],[2,2]])\n",
    "print('A 2-D array:')\n",
    "print(x)\n",
    "print(f'Shape:{x.shape}')"
   ]
  },
  {
   "cell_type": "code",
   "execution_count": null,
   "metadata": {
    "slideshow": {
     "slide_type": "slide"
    }
   },
   "outputs": [],
   "source": [
    "x = np.array([[[1,1],[2,2]],[[3,3],[4,4]]])\n",
    "print('A 3-D array:')\n",
    "print(x)\n",
    "print(f'Shape:{x.shape}')"
   ]
  },
  {
   "cell_type": "markdown",
   "metadata": {
    "slideshow": {
     "slide_type": "slide"
    }
   },
   "source": [
    "## Vectorization\n",
    "Arrays are important because they enable you to express batch operations on data without writing any for loops. This is usually called vectorization. Any arithmetic operations between equal-size arrays applies the operation elementwise.\n",
    "\n",
    "Vectorization is more than just a concise way of writing computations, it is **fast**.\n",
    "\n",
    "For loops are generally executed in Python while numpy vectorized calculations are offloaded to compiled C or Fortran code.  This has two benefits:\n",
    "1. compiled C and Fortan are just faster than Python as an interpreted language\n",
    "2. Frees up the Python GIL to do other work"
   ]
  },
  {
   "cell_type": "code",
   "execution_count": null,
   "metadata": {
    "slideshow": {
     "slide_type": "slide"
    }
   },
   "outputs": [],
   "source": [
    "# Initialize two 1-D arrays of length 1,000\n",
    "a = np.random.rand(1000)\n",
    "b = np.random.rand(1000)"
   ]
  },
  {
   "cell_type": "code",
   "execution_count": null,
   "metadata": {
    "slideshow": {
     "slide_type": "slide"
    }
   },
   "outputs": [],
   "source": [
    "%%timeit \n",
    "a*b"
   ]
  },
  {
   "cell_type": "code",
   "execution_count": null,
   "metadata": {
    "slideshow": {
     "slide_type": "slide"
    }
   },
   "outputs": [],
   "source": [
    "%%timeit \n",
    "for i in range(1000):\n",
    "    a[i]*b[i]"
   ]
  },
  {
   "cell_type": "markdown",
   "metadata": {
    "slideshow": {
     "slide_type": "slide"
    }
   },
   "source": [
    "The vectorized calculation in this example is 100s of times faster than the non-vectorized calculation.\n",
    "\n",
    "**When working with numerical computation on an array, you should always look for a vectorized way of executing.**"
   ]
  },
  {
   "cell_type": "markdown",
   "metadata": {
    "slideshow": {
     "slide_type": "slide"
    }
   },
   "source": [
    "## Universal Functions (ufunc)\n",
    "\n",
    "Numpy refers to its vectorized calculations as universal functions. From the docs: a ufunc is a “vectorized” wrapper for a function that takes a fixed number of specific inputs and produces a fixed number of specific outputs.  There are a [ton of them](https://docs.scipy.org/doc/numpy-1.15.1/reference/ufuncs.html) many of which have short-hand arithmetic notation.  Many of the ufuncs are also callable as a method (see sum)"
   ]
  },
  {
   "cell_type": "code",
   "execution_count": null,
   "metadata": {
    "slideshow": {
     "slide_type": "slide"
    }
   },
   "outputs": [],
   "source": [
    "x = np.random.rand(1000,1000)\n",
    "# How many vectorized/ufunc calclations are embedded in this line of code?\n",
    "np.logical_or(x<.025, x>.975).sum()/(1000**2)"
   ]
  },
  {
   "cell_type": "code",
   "execution_count": null,
   "metadata": {
    "slideshow": {
     "slide_type": "slide"
    }
   },
   "outputs": [],
   "source": [
    "np.divide(np.sum(np.logical_or(np.less(x,.025), np.greater(x,.975))),(1000**2))"
   ]
  },
  {
   "cell_type": "markdown",
   "metadata": {},
   "source": [
    "#### Exercise 3.1: What is the coefficient of variation of x (standard deviation/mean) of x?:"
   ]
  },
  {
   "cell_type": "code",
   "execution_count": null,
   "metadata": {
    "slideshow": {
     "slide_type": "slide"
    }
   },
   "outputs": [],
   "source": [
    "x = np.arange(100)"
   ]
  },
  {
   "cell_type": "code",
   "execution_count": null,
   "metadata": {},
   "outputs": [],
   "source": [
    "# Your answer here:\n",
    "\n",
    "#%load ./answers/03.1.py"
   ]
  },
  {
   "cell_type": "markdown",
   "metadata": {
    "slideshow": {
     "slide_type": "slide"
    }
   },
   "source": [
    "## Slicing\n",
    "Often you will want to hone into certain data in the array.  If you know the position of the elements in the array, you can use slicing notation which uses brackets of the form `[start:stop:step]` for every dimension of the array.  Each paramater of the slicer is optional.\n",
    "1. If you omit start, it will start from the first element\n",
    "2. If you omit stop, it will end at the last element\n",
    "3. If you omit step, it will grab every element between start and stop\n",
    "4. If you set step to -1, it will reverse the order of elements\n",
    "\n",
    "** Slicing is a Python construct not unique to numpy. These rules are useful for pandas, lists in addition to numpy arrays **"
   ]
  },
  {
   "cell_type": "code",
   "execution_count": null,
   "metadata": {
    "slideshow": {
     "slide_type": "slide"
    }
   },
   "outputs": [],
   "source": [
    "x = np.array([1,2,3,4,5,6,7,8,9,10])\n",
    "print(x[3:6])\n",
    "print(x[:])\n",
    "print(x[1::2])\n",
    "print(x[::-2])"
   ]
  },
  {
   "cell_type": "code",
   "execution_count": null,
   "metadata": {
    "slideshow": {
     "slide_type": "slide"
    }
   },
   "outputs": [],
   "source": [
    "x = np.array([[(y+1)*(x+1) for y in range(10)] for x in range(10)])\n",
    "print(x)\n",
    "print(x[5:8,0:3])\n",
    "print(x[::-1,::-1])"
   ]
  },
  {
   "cell_type": "markdown",
   "metadata": {},
   "source": [
    "#### Exercise 3.2: Extract the values in the 3rd through 6th index of x in reverse order?"
   ]
  },
  {
   "cell_type": "code",
   "execution_count": null,
   "metadata": {
    "slideshow": {
     "slide_type": "slide"
    }
   },
   "outputs": [],
   "source": [
    "x = np.arange(10)"
   ]
  },
  {
   "cell_type": "code",
   "execution_count": null,
   "metadata": {},
   "outputs": [],
   "source": [
    "# Your answer here:\n",
    "\n",
    "#%load ./answers/03.2.py"
   ]
  },
  {
   "cell_type": "markdown",
   "metadata": {
    "slideshow": {
     "slide_type": "slide"
    }
   },
   "source": [
    "## Filtering with boolean arrays\n",
    "A boolean array is an array where the elements take on True of False values.  You can filter a multidimensional array by boolean arrays.  You can also create boolean arrays by applying boolean expressions against non-boolean arrays.  To filter by boolean arrays, the boolean array must have the same shape as the array to be filtered."
   ]
  },
  {
   "cell_type": "code",
   "execution_count": null,
   "metadata": {
    "slideshow": {
     "slide_type": "slide"
    }
   },
   "outputs": [],
   "source": [
    "x = np.array([1,2,3,4,5,6])\n",
    "y = np.array([True,False,False,True,True,False])\n",
    "x[y]"
   ]
  },
  {
   "cell_type": "code",
   "execution_count": null,
   "metadata": {
    "slideshow": {
     "slide_type": "slide"
    }
   },
   "outputs": [],
   "source": [
    "x[x>3]"
   ]
  },
  {
   "cell_type": "markdown",
   "metadata": {},
   "source": [
    "#### Exercise 3.3: Create an array of values 1 to 100 and filter out all elements that are divisible by 4 using the np.mod ufunc."
   ]
  },
  {
   "cell_type": "code",
   "execution_count": null,
   "metadata": {
    "slideshow": {
     "slide_type": "slide"
    }
   },
   "outputs": [],
   "source": [
    "x = np.arange(100)+1"
   ]
  },
  {
   "cell_type": "code",
   "execution_count": null,
   "metadata": {},
   "outputs": [],
   "source": [
    "# Your answer here:\n",
    "\n",
    "#%load ./answers/03.3.py"
   ]
  },
  {
   "cell_type": "markdown",
   "metadata": {
    "slideshow": {
     "slide_type": "slide"
    }
   },
   "source": [
    "## Aggregates along an Axis (dimension)\n",
    "There are a variety of aggregate functions you can apply to a dimension\n",
    "sum, min, max, count, cumsum, var, prod, percentile are all valid aggregate functions.\n",
    "To aggregate over a specific axis, use the axis argument.  There are versions of all of these functions \n",
    "that are designed to ignore invalid elements.\n"
   ]
  },
  {
   "cell_type": "code",
   "execution_count": null,
   "metadata": {
    "slideshow": {
     "slide_type": "slide"
    }
   },
   "outputs": [],
   "source": [
    "x = np.array([1,2,3,4,5,6])\n",
    "print(np.sum(x))\n",
    "x = np.array([1,2,np.nan,4,5,6])\n",
    "print(np.sum(x))"
   ]
  },
  {
   "cell_type": "code",
   "execution_count": null,
   "metadata": {
    "slideshow": {
     "slide_type": "slide"
    }
   },
   "outputs": [],
   "source": [
    "x = np.array([1,2,np.nan,4,5,6])\n",
    "print(np.nansum(x))"
   ]
  },
  {
   "cell_type": "code",
   "execution_count": null,
   "metadata": {
    "slideshow": {
     "slide_type": "slide"
    }
   },
   "outputs": [],
   "source": [
    "x = np.array([[(y+1)*(x+1) for y in range(10)] for x in range(10)])\n",
    "print(x)\n",
    "print(np.sum(x,axis=1))\n",
    "print(np.sum(x))"
   ]
  },
  {
   "cell_type": "markdown",
   "metadata": {},
   "source": [
    "##### Exercise 3.4: What is the mean of the sum of each column in x?"
   ]
  },
  {
   "cell_type": "code",
   "execution_count": null,
   "metadata": {
    "slideshow": {
     "slide_type": "slide"
    }
   },
   "outputs": [],
   "source": [
    "x = np.array([[(y+1)*(x+1) for y in range(-5,5)] for x in range(10)])"
   ]
  },
  {
   "cell_type": "code",
   "execution_count": null,
   "metadata": {},
   "outputs": [],
   "source": [
    "# Your answer here:\n",
    "\n",
    "#%load ./answers/03.4.py"
   ]
  },
  {
   "cell_type": "markdown",
   "metadata": {
    "slideshow": {
     "slide_type": "slide"
    }
   },
   "source": [
    "## Modifying shape\n",
    "You will often need to append additional dimensions, elements within dimensions, or generally change the shape of a multi-dimensional array.\n",
    "\n",
    "reshape, expand_dims, and concatenate are your friends for this."
   ]
  },
  {
   "cell_type": "code",
   "execution_count": null,
   "metadata": {
    "slideshow": {
     "slide_type": "slide"
    }
   },
   "outputs": [],
   "source": [
    "x = np.arange(12)+1\n",
    "print(x)\n",
    "print(np.reshape(x, (4,3)))\n",
    "print(np.reshape(x, (3,2,2)))"
   ]
  },
  {
   "cell_type": "code",
   "execution_count": null,
   "metadata": {
    "slideshow": {
     "slide_type": "slide"
    }
   },
   "outputs": [],
   "source": [
    "x = np.arange(10)\n",
    "print(x)\n",
    "x = np.expand_dims(x, axis=1)\n",
    "print(x)\n",
    "y = 2*x\n",
    "np.concatenate((x,y),axis=1)"
   ]
  },
  {
   "cell_type": "markdown",
   "metadata": {},
   "source": [
    "#### Exercise3.5: Transpose x to a 100 x 1 matrix using reshape."
   ]
  },
  {
   "cell_type": "code",
   "execution_count": null,
   "metadata": {
    "slideshow": {
     "slide_type": "slide"
    }
   },
   "outputs": [],
   "source": [
    "x = np.arange(100)"
   ]
  },
  {
   "cell_type": "code",
   "execution_count": null,
   "metadata": {},
   "outputs": [],
   "source": [
    "# Your answer here:\n",
    "\n",
    "#%load ./answers/03.5.py"
   ]
  },
  {
   "cell_type": "markdown",
   "metadata": {
    "slideshow": {
     "slide_type": "slide"
    }
   },
   "source": [
    "## Real world example\n",
    "\n",
    "Building a multi-dimensional IBNR model in numpy"
   ]
  },
  {
   "cell_type": "markdown",
   "metadata": {
    "slideshow": {
     "slide_type": "slide"
    }
   },
   "source": [
    "### Create Initial multi-dimensional array"
   ]
  },
  {
   "cell_type": "code",
   "execution_count": null,
   "metadata": {
    "slideshow": {
     "slide_type": "slide"
    }
   },
   "outputs": [],
   "source": [
    "import pandas as pd\n",
    "cas = pd.read_csv(r'http://www.casact.org/research/reserve_data/wkcomp_pos.csv')\n",
    "# Let's make the pandas dataframe look more triangle like\n",
    "triangle_frame = pd.pivot_table(cas[cas['DevelopmentYear']<=1997], \n",
    "                                values='CumPaidLoss_D', \n",
    "                                index=['GRNAME','AccidentYear'], \n",
    "                                columns='DevelopmentLag')\n",
    "# Let's use the reshape method to create a 3-D Matrix of triangles\n",
    "triangle_array = np.array(triangle_frame).reshape(len(cas['GRNAME'].unique()),\n",
    "                                                  len(cas['AccidentYear'].unique()),\n",
    "                                                  len(cas['DevelopmentLag'].unique()))"
   ]
  },
  {
   "cell_type": "code",
   "execution_count": null,
   "metadata": {},
   "outputs": [],
   "source": [
    "# triangle array is a set 10x10 triangles for more than 100 companies.\n",
    "triangle_array.shape"
   ]
  },
  {
   "cell_type": "markdown",
   "metadata": {
    "slideshow": {
     "slide_type": "slide"
    }
   },
   "source": [
    "### Clean up missing and zero values"
   ]
  },
  {
   "cell_type": "code",
   "execution_count": null,
   "metadata": {},
   "outputs": [],
   "source": [
    "# This is not a very good triangle to have in our model.\n",
    "triangle_array[-1]"
   ]
  },
  {
   "cell_type": "code",
   "execution_count": null,
   "metadata": {
    "slideshow": {
     "slide_type": "slide"
    }
   },
   "outputs": [],
   "source": [
    "# Let's get rid of completely empty triangles\n",
    "triangle_sum = np.nansum(np.nansum(triangle_array, axis=1),axis=1)\n",
    "triangle_array = triangle_array[triangle_sum!=0,:,:]\n",
    "# let's turn 0's to nan - this will alleviate issues around dividing by zero\n",
    "triangle_array[triangle_array==0]=np.nan"
   ]
  },
  {
   "cell_type": "markdown",
   "metadata": {
    "slideshow": {
     "slide_type": "slide"
    }
   },
   "source": [
    "### Age-to-age factors"
   ]
  },
  {
   "cell_type": "code",
   "execution_count": null,
   "metadata": {
    "slideshow": {
     "slide_type": "slide"
    }
   },
   "outputs": [],
   "source": [
    "# Let's use slicing to create age-to-age factors\n",
    "ata_array = triangle_array[:,:-1,1:]/triangle_array[:,:-1,:-1]\n",
    "# Let's default the completely blank age-to-age columns with 1.0\n",
    "accident_periods = len(cas['DevelopmentLag'].unique())\n",
    "ata_array_defaults = np.expand_dims(np.all(np.isnan(ata_array),axis=1),axis=1)\n",
    "ata_array[np.repeat(ata_array_defaults,accident_periods-1,axis=1)]=1.0"
   ]
  },
  {
   "cell_type": "markdown",
   "metadata": {
    "slideshow": {
     "slide_type": "slide"
    }
   },
   "source": [
    "### LDFs and CDFs"
   ]
  },
  {
   "cell_type": "code",
   "execution_count": null,
   "metadata": {
    "slideshow": {
     "slide_type": "slide"
    }
   },
   "outputs": [],
   "source": [
    "# Let's create an array of LDFs, by taking simple averages of the age-to-age factors.\n",
    "ldf_array = np.nanmean(ata_array, axis=1)\n",
    "ldf_array[np.isnan(ldf_array)]=1.0\n",
    "# Let's create an array of CDFs with a tail factor from our LDFs\n",
    "cdf_array = ldf_array[:,::-1].cumprod(axis=1)[:,::-1]\n",
    "tail_factor = 1.0\n",
    "cdf_array = np.append(cdf_array,np.expand_dims(np.repeat(tail_factor,cdf_array.shape[0]),1),axis=1)"
   ]
  },
  {
   "cell_type": "markdown",
   "metadata": {
    "slideshow": {
     "slide_type": "slide"
    }
   },
   "source": [
    "### Ultimates and IBNR"
   ]
  },
  {
   "cell_type": "code",
   "execution_count": null,
   "metadata": {
    "slideshow": {
     "slide_type": "slide"
    }
   },
   "outputs": [],
   "source": [
    "latest_diagonal = np.nan_to_num(np.diagonal(triangle_array[:,::-1,],axis1=1,axis2=2)[:,::-1])\n",
    "ultimate = latest_diagonal * cdf_array[:,::-1]\n",
    "ibnr = ultimate - latest_diagonal"
   ]
  },
  {
   "cell_type": "markdown",
   "metadata": {},
   "source": [
    "### The business questions answered by our model"
   ]
  },
  {
   "cell_type": "code",
   "execution_count": null,
   "metadata": {
    "slideshow": {
     "slide_type": "slide"
    }
   },
   "outputs": [],
   "source": [
    "companies = np.array(triangle_frame.index.levels[0])[triangle_sum!=0]\n",
    "print('How much IBNR does the entire industry need according to this model?')\n",
    "print(np.sum(ibnr).round(0))\n",
    "print()\n",
    "print('What is the average ultimate to paid ratio across the industry?')\n",
    "print((np.sum(ultimate)/np.sum(latest_diagonal)).round(3))\n",
    "print()\n",
    "print('Which company has the highest 12-Ultimate CDF?')\n",
    "print(companies[np.argmax(cdf_array[:,0])])\n",
    "print()\n",
    "print('Which company has the lowest 12-24 LDF?')\n",
    "print(companies[np.argmin(ldf_array[:,1])])\n",
    "print()\n",
    "print('What is the 95% confidence interval on the estimate of 12-Ultimate CDF?')\n",
    "print((np.sort(cdf_array[:,1])[int(.025*len(cdf_array[:,1]))],cdf_array[:,1][int(.975*len(cdf_array[:,1]))]))"
   ]
  },
  {
   "cell_type": "markdown",
   "metadata": {},
   "source": [
    "Performance test of the above code "
   ]
  },
  {
   "cell_type": "code",
   "execution_count": null,
   "metadata": {
    "slideshow": {
     "slide_type": "slide"
    }
   },
   "outputs": [],
   "source": [
    "%%timeit\n",
    "triangle_array = np.array(triangle_frame).reshape(len(cas['GRNAME'].unique()),len(cas['AccidentYear'].unique()),len(cas['DevelopmentLag'].unique()))\n",
    "triangle_sum = np.nansum(np.nansum(triangle_array, axis=1),axis=1)\n",
    "triangle_array = triangle_array[triangle_sum!=0,:,:]\n",
    "triangle_array[triangle_array==0]=np.nan\n",
    "ata_array = triangle_array[:,:-1,1:]/triangle_array[:,:-1,:-1]\n",
    "accident_periods = len(cas['DevelopmentLag'].unique())\n",
    "ata_array_defaults = np.expand_dims(np.all(np.isnan(ata_array),axis=1),axis=1)\n",
    "ata_array[np.repeat(ata_array_defaults,accident_periods-1,axis=1)]=1.0\n",
    "ldf_array = np.nanmean(ata_array, axis=1)\n",
    "ldf_array[np.isnan(ldf_array)]=1.0\n",
    "cdf_array = ldf_array[:,::-1].cumprod(axis=1)[:,::-1]\n",
    "tail_factor = 1.0\n",
    "cdf_array = np.append(cdf_array,np.expand_dims(np.repeat(tail_factor,cdf_array.shape[0]),1),axis=1)\n",
    "latest_diagonal = np.nan_to_num(np.diagonal(triangle_array[:,::-1,],axis1=1,axis2=2)[:,::-1])\n",
    "ultimate = latest_diagonal * cdf_array[:,::-1]\n",
    "ibnr = ultimate - latest_diagonal"
   ]
  }
 ],
 "metadata": {
  "celltoolbar": "Slideshow",
  "hide_input": false,
  "kernelspec": {
   "display_name": "Python 3",
   "language": "python",
   "name": "python3"
  },
  "language_info": {
   "codemirror_mode": {
    "name": "ipython",
    "version": 3
   },
   "file_extension": ".py",
   "mimetype": "text/x-python",
   "name": "python",
   "nbconvert_exporter": "python",
   "pygments_lexer": "ipython3",
   "version": "3.6.3"
  },
  "toc": {
   "base_numbering": 1,
   "nav_menu": {},
   "number_sections": true,
   "sideBar": true,
   "skip_h1_title": false,
   "title_cell": "Table of Contents",
   "title_sidebar": "Contents",
   "toc_cell": false,
   "toc_position": {},
   "toc_section_display": true,
   "toc_window_display": false
  },
  "varInspector": {
   "cols": {
    "lenName": 16,
    "lenType": 16,
    "lenVar": 40
   },
   "kernels_config": {
    "python": {
     "delete_cmd_postfix": "",
     "delete_cmd_prefix": "del ",
     "library": "var_list.py",
     "varRefreshCmd": "print(var_dic_list())"
    },
    "r": {
     "delete_cmd_postfix": ") ",
     "delete_cmd_prefix": "rm(",
     "library": "var_list.r",
     "varRefreshCmd": "cat(var_dic_list()) "
    }
   },
   "types_to_exclude": [
    "module",
    "function",
    "builtin_function_or_method",
    "instance",
    "_Feature"
   ],
   "window_display": false
  }
 },
 "nbformat": 4,
 "nbformat_minor": 2
}
