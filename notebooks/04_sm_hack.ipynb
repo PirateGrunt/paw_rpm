{
 "cells": [
  {
   "cell_type": "markdown",
   "metadata": {
    "slideshow": {
     "slide_type": "slide"
    }
   },
   "source": [
    "# Using Scikit-Learn to identify the line of business of a loss triangle\n",
    "We would like to know whether we can use Machine Learning to predict the line of business of a triangle from just the triangle itself.  We will download the *CAS loss reserve database* for Medical Malpractice, Private Passenger Auto, and Workers' Compensation. \n",
    "\n",
    "In this notebook we will explore some of the tooling available in scikit-learn to do this, and as we learn about `sklearn` we will simultanously answer this question.\n",
    "\n",
    "But first, let's use `pandas` to grab the data of the 19 largest carriers for each line of business, and group the remaining carriers as 'Other'."
   ]
  },
  {
   "cell_type": "code",
   "execution_count": 3,
   "metadata": {
    "slideshow": {
     "slide_type": "slide"
    }
   },
   "outputs": [],
   "source": [
    "import pandas as pd\n",
    "import numpy as np"
   ]
  },
  {
   "cell_type": "markdown",
   "metadata": {},
   "source": [
    "## Original"
   ]
  },
  {
   "cell_type": "code",
   "execution_count": 4,
   "metadata": {},
   "outputs": [
    {
     "data": {
      "text/html": [
       "<div>\n",
       "<style scoped>\n",
       "    .dataframe tbody tr th:only-of-type {\n",
       "        vertical-align: middle;\n",
       "    }\n",
       "\n",
       "    .dataframe tbody tr th {\n",
       "        vertical-align: top;\n",
       "    }\n",
       "\n",
       "    .dataframe thead th {\n",
       "        text-align: right;\n",
       "    }\n",
       "</style>\n",
       "<table border=\"1\" class=\"dataframe\">\n",
       "  <thead>\n",
       "    <tr style=\"text-align: right;\">\n",
       "      <th></th>\n",
       "      <th>index</th>\n",
       "      <th>AccidentYear</th>\n",
       "      <th>BulkLoss</th>\n",
       "      <th>CumPaidLoss</th>\n",
       "      <th>DevelopmentLag</th>\n",
       "      <th>DevelopmentYear</th>\n",
       "      <th>EarnedPremCeded</th>\n",
       "      <th>EarnedPremDIR</th>\n",
       "      <th>EarnedPremNet</th>\n",
       "      <th>GRCODE</th>\n",
       "      <th>GRNAME</th>\n",
       "      <th>IncurLoss</th>\n",
       "      <th>LOB</th>\n",
       "      <th>PostedReserve97</th>\n",
       "      <th>Single</th>\n",
       "    </tr>\n",
       "  </thead>\n",
       "  <tbody>\n",
       "    <tr>\n",
       "      <th>0</th>\n",
       "      <td>0</td>\n",
       "      <td>1988</td>\n",
       "      <td>97966</td>\n",
       "      <td>2716</td>\n",
       "      <td>1</td>\n",
       "      <td>1988</td>\n",
       "      <td>-6214</td>\n",
       "      <td>129104</td>\n",
       "      <td>135318</td>\n",
       "      <td>669</td>\n",
       "      <td>Scpie Indemnity Co</td>\n",
       "      <td>121905</td>\n",
       "      <td>medmal</td>\n",
       "      <td>344558</td>\n",
       "      <td>0</td>\n",
       "    </tr>\n",
       "    <tr>\n",
       "      <th>1</th>\n",
       "      <td>1</td>\n",
       "      <td>1988</td>\n",
       "      <td>64117</td>\n",
       "      <td>24576</td>\n",
       "      <td>2</td>\n",
       "      <td>1989</td>\n",
       "      <td>-6214</td>\n",
       "      <td>129104</td>\n",
       "      <td>135318</td>\n",
       "      <td>669</td>\n",
       "      <td>Scpie Indemnity Co</td>\n",
       "      <td>112211</td>\n",
       "      <td>medmal</td>\n",
       "      <td>344558</td>\n",
       "      <td>0</td>\n",
       "    </tr>\n",
       "    <tr>\n",
       "      <th>2</th>\n",
       "      <td>2</td>\n",
       "      <td>1988</td>\n",
       "      <td>39008</td>\n",
       "      <td>43990</td>\n",
       "      <td>3</td>\n",
       "      <td>1990</td>\n",
       "      <td>-6214</td>\n",
       "      <td>129104</td>\n",
       "      <td>135318</td>\n",
       "      <td>669</td>\n",
       "      <td>Scpie Indemnity Co</td>\n",
       "      <td>103226</td>\n",
       "      <td>medmal</td>\n",
       "      <td>344558</td>\n",
       "      <td>0</td>\n",
       "    </tr>\n",
       "    <tr>\n",
       "      <th>3</th>\n",
       "      <td>3</td>\n",
       "      <td>1988</td>\n",
       "      <td>20736</td>\n",
       "      <td>59722</td>\n",
       "      <td>4</td>\n",
       "      <td>1991</td>\n",
       "      <td>-6214</td>\n",
       "      <td>129104</td>\n",
       "      <td>135318</td>\n",
       "      <td>669</td>\n",
       "      <td>Scpie Indemnity Co</td>\n",
       "      <td>99599</td>\n",
       "      <td>medmal</td>\n",
       "      <td>344558</td>\n",
       "      <td>0</td>\n",
       "    </tr>\n",
       "    <tr>\n",
       "      <th>4</th>\n",
       "      <td>4</td>\n",
       "      <td>1988</td>\n",
       "      <td>13599</td>\n",
       "      <td>71019</td>\n",
       "      <td>5</td>\n",
       "      <td>1992</td>\n",
       "      <td>-6214</td>\n",
       "      <td>129104</td>\n",
       "      <td>135318</td>\n",
       "      <td>669</td>\n",
       "      <td>Scpie Indemnity Co</td>\n",
       "      <td>96006</td>\n",
       "      <td>medmal</td>\n",
       "      <td>344558</td>\n",
       "      <td>0</td>\n",
       "    </tr>\n",
       "  </tbody>\n",
       "</table>\n",
       "</div>"
      ],
      "text/plain": [
       "   index  AccidentYear  BulkLoss  CumPaidLoss  DevelopmentLag  \\\n",
       "0      0          1988     97966         2716               1   \n",
       "1      1          1988     64117        24576               2   \n",
       "2      2          1988     39008        43990               3   \n",
       "3      3          1988     20736        59722               4   \n",
       "4      4          1988     13599        71019               5   \n",
       "\n",
       "   DevelopmentYear  EarnedPremCeded  EarnedPremDIR  EarnedPremNet  GRCODE  \\\n",
       "0             1988            -6214         129104         135318     669   \n",
       "1             1989            -6214         129104         135318     669   \n",
       "2             1990            -6214         129104         135318     669   \n",
       "3             1991            -6214         129104         135318     669   \n",
       "4             1992            -6214         129104         135318     669   \n",
       "\n",
       "               GRNAME  IncurLoss     LOB  PostedReserve97  Single  \n",
       "0  Scpie Indemnity Co     121905  medmal           344558       0  \n",
       "1  Scpie Indemnity Co     112211  medmal           344558       0  \n",
       "2  Scpie Indemnity Co     103226  medmal           344558       0  \n",
       "3  Scpie Indemnity Co      99599  medmal           344558       0  \n",
       "4  Scpie Indemnity Co      96006  medmal           344558       0  "
      ]
     },
     "execution_count": 4,
     "metadata": {},
     "output_type": "execute_result"
    }
   ],
   "source": [
    "data_url = 'https://www.casact.org/research/reserve_data'\n",
    "# Read in the data\n",
    "lobs = ['medmal','ppauto','wkcomp']\n",
    "data = pd.DataFrame()\n",
    "columns = ['GRCODE','GRNAME','AccidentYear','DevelopmentYear','DevelopmentLag'\n",
    "           ,'IncurLoss', 'CumPaidLoss','BulkLoss','EarnedPremDIR'\n",
    "           ,'EarnedPremCeded','EarnedPremNet', 'Single','PostedReserve97']\n",
    "for lob in lobs:\n",
    "    file_url = f'{data_url}/{lob}_pos.csv'\n",
    "    subset = pd.read_csv(file_url, names=columns, skiprows=1)\n",
    "    subset['LOB'] = lob\n",
    "    data = data.append(subset, sort=True)\n",
    "data = data[data['DevelopmentYear']<=1997].reset_index()\n",
    "data.head()"
   ]
  },
  {
   "cell_type": "code",
   "execution_count": null,
   "metadata": {},
   "outputs": [],
   "source": [
    "# Find largest 20 companies by premium size for each LOB\n",
    "aggregates = (data[data['DevelopmentYear']==1997].groupby(['LOB','GRNAME']) \\\n",
    "                                                 .sum()['IncurLoss']) \\\n",
    "                                                 .reset_index()\n",
    "top_20_by_lob = aggregates.iloc[aggregates.groupby('LOB')['IncurLoss'] \\\n",
    "                          .nlargest(5).index.levels[1]]\n",
    "data = data.merge(top_20_by_lob, how='left', on=['LOB','GRNAME'])\n",
    "data.loc[data.iloc[:,-1].isna(),'GRNAME'] = 'Other'\n",
    "data.head(20)"
   ]
  },
  {
   "cell_type": "code",
   "execution_count": null,
   "metadata": {},
   "outputs": [],
   "source": [
    "top_20_by_lob.head(20)"
   ]
  },
  {
   "cell_type": "code",
   "execution_count": null,
   "metadata": {},
   "outputs": [],
   "source": [
    "# Create Triangles\n",
    "triangles = pd.pivot_table(data, index=['GRNAME','LOB','AccidentYear'],\n",
    "                           columns='DevelopmentLag', values='CumPaidLoss',\n",
    "                           aggfunc='sum')\n",
    "triangles.head(20)"
   ]
  },
  {
   "cell_type": "code",
   "execution_count": null,
   "metadata": {},
   "outputs": [],
   "source": [
    "# Determine LDF Weights\n",
    "weight = np.array(~triangles.iloc[:,1:].isna())\n",
    "columns = [f'{triangles.columns[num]}-{triangles.columns[num+1]}'\n",
    "           for num, item in enumerate(triangles.columns[:-1])]\n",
    "\n",
    "# Volume-weighted numerator and demoninator\n",
    "numerator = (\n",
    "    (weight*triangles.iloc[:,1:]).reset_index() \n",
    "                                 .drop('AccidentYear',axis=1)\n",
    "                                 .groupby(['GRNAME','LOB'])\n",
    "                                 .sum(axis=0))\n",
    "denominator = (\n",
    "    (weight*triangles.iloc[:,:-1]).reset_index()\n",
    "                                  .drop('AccidentYear',axis=1)\n",
    "                                  .groupby(['GRNAME','LOB'])\n",
    "                                  .sum(axis=0))\n",
    "numerator.columns = denominator.columns = columns\n",
    "\n",
    "# Development Patterns\n",
    "ldf = (numerator/denominator).fillna(1.0)\n",
    "ldf.head(10)"
   ]
  },
  {
   "cell_type": "code",
   "execution_count": null,
   "metadata": {},
   "outputs": [],
   "source": [
    "# original \n",
    "data_url = 'https://www.casact.org/research/reserve_data'\n",
    "# Read in the data\n",
    "lobs = ['medmal','ppauto','wkcomp']\n",
    "data = pd.DataFrame()\n",
    "columns = ['GRCODE','GRNAME','AccidentYear','DevelopmentYear','DevelopmentLag'\n",
    "           ,'IncurLoss', 'CumPaidLoss','BulkLoss','EarnedPremDIR'\n",
    "           ,'EarnedPremCeded','EarnedPremNet', 'Single','PostedReserve97']\n",
    "for lob in lobs:\n",
    "    file_url = f'{data_url}/{lob}_pos.csv'\n",
    "    subset = pd.read_csv(file_url, names=columns, skiprows=1)\n",
    "    subset['LOB'] = lob\n",
    "    data = data.append(subset, sort=True)\n",
    "data = data[data['DevelopmentYear']<=1997].reset_index()\n"
   ]
  },
  {
   "cell_type": "code",
   "execution_count": null,
   "metadata": {},
   "outputs": [],
   "source": [
    "# alternative\n",
    "data_url = 'https://www.casact.org/research/reserve_data'\n",
    "# Read in the data\n",
    "lobs = ['medmal','ppauto','wkcomp']\n",
    "data = pd.DataFrame()\n",
    "data = []\n",
    "columns = ['GRCODE','GRNAME','AccidentYear','DevelopmentYear','DevelopmentLag'\n",
    "           ,'IncurLoss', 'CumPaidLoss','BulkLoss','EarnedPremDIR'\n",
    "           ,'EarnedPremCeded','EarnedPremNet', 'Single','PostedReserve97']\n",
    "for lob in lobs:\n",
    "    file_url = f'{data_url}/{lob}_pos.csv'\n",
    "    subset = pd.read_csv(file_url, names=columns, skiprows=1)\n",
    "    subset['LOB'] = lob\n",
    "    data.append(subset)\n",
    "data = pd.concat(data)\n",
    "data_alt = data.query( 'DevelopmentYear <= 1997 ')\n",
    "data = data_alt.reset_index()\n"
   ]
  },
  {
   "cell_type": "code",
   "execution_count": 5,
   "metadata": {},
   "outputs": [],
   "source": [
    "# original\n",
    "def make_trg(data):\n",
    "    \n",
    "    aggregates = (data[data['DevelopmentYear']==1997].groupby(['LOB','GRNAME']) \\\n",
    "                                                 .sum()['IncurLoss']) \\\n",
    "                                                 .reset_index()\n",
    "    top_20_by_lob = aggregates.iloc[aggregates.groupby('LOB')['IncurLoss'] \\\n",
    "                              .nlargest(19).index.levels[1]]\n",
    "    data2 = data.merge(top_20_by_lob, how='left', on=['LOB','GRNAME'])\n",
    "    data2.loc[data2.iloc[:,-1].isna(),'GRNAME'] = 'Other'\n",
    "    \n",
    "    # Create Triangles\n",
    "    triangles = pd.pivot_table(data2, index=['GRNAME','LOB','AccidentYear'],\n",
    "                               columns='DevelopmentLag', values='CumPaidLoss',\n",
    "                               aggfunc='sum')\n",
    "    \n",
    "    # Determine LDF Weights\n",
    "    weight = np.array(~triangles.iloc[:,1:].isna())\n",
    "    columns = [f'{triangles.columns[num]}-{triangles.columns[num+1]}'\n",
    "               for num, item in enumerate(triangles.columns[:-1])]\n",
    "\n",
    "    # Volume-weighted numerator and demoninator\n",
    "    numerator = (\n",
    "        (triangles.iloc[:,1:]).reset_index() \n",
    "                                     .drop('AccidentYear',axis=1)\n",
    "                                     .groupby(['GRNAME','LOB'])\n",
    "                                     .sum(axis=0))\n",
    "    denominator = (\n",
    "        (weight*triangles.iloc[:,:-1]).reset_index()\n",
    "                                      .drop('AccidentYear',axis=1)\n",
    "                                      .groupby(['GRNAME','LOB'])\n",
    "                                      .sum(axis=0))\n",
    "    numerator.columns = denominator.columns = columns\n",
    "\n",
    "    # Development Patterns\n",
    "    ldf = (numerator/denominator).fillna(1.0)\n",
    "    \n",
    "    return ldf\n",
    "    "
   ]
  },
  {
   "cell_type": "code",
   "execution_count": 6,
   "metadata": {},
   "outputs": [
    {
     "name": "stdout",
     "output_type": "stream",
     "text": [
      "117 ms ± 3.91 ms per loop (mean ± std. dev. of 7 runs, 1 loop each)\n"
     ]
    }
   ],
   "source": [
    "%timeit ldf3 = make_trg(data)"
   ]
  },
  {
   "cell_type": "code",
   "execution_count": 263,
   "metadata": {},
   "outputs": [],
   "source": [
    "# alternatives, including original\n",
    "def make_trg_alt(data, method):\n",
    "        \n",
    "    aggregates2 = data.query(' DevelopmentYear ==  1997 ').groupby(['LOB','GRNAME'])['IncurLoss'].sum() \n",
    "    top_20_by_lob = aggregates2.groupby(level='LOB').apply(lambda x : x.nlargest(19).reset_index(level=0, drop=True))\n",
    "    \n",
    "    data_alt2 = data.merge(top_20_by_lob.to_frame(), how='left', left_on=['LOB','GRNAME'], right_index=True)\n",
    "    data_alt2.loc[data_alt2.loc[:,'IncurLoss_y'].isna(), 'GRNAME'] = 'Other'\n",
    "    \n",
    "    # create triangles \n",
    "    triangles = pd.pivot_table(data_alt2, index=['GRNAME','LOB','AccidentYear'],\n",
    "                           columns='DevelopmentLag', values='CumPaidLoss')\n",
    "    \n",
    "    # Determine LDF Weights ORIG\n",
    "#     weight = np.array(~triangles.iloc[:,1:].isna())\n",
    "    w = pd.DataFrame(np.array([[1 if i+j<9 else 0 for i in range(9)] for j in range(10)]))\n",
    "    weight = np.tile(w, (int(triangles.shape[0]/10), 1))\n",
    "    columns = [f'{triangles.columns[num]}-{triangles.columns[num+1]}'\n",
    "               for num, item in enumerate(triangles.columns[:-1])]\n",
    "\n",
    "    # Volume-weighted numerator and demoninator; do not need mask here... \n",
    "    if method=='original':\n",
    "        numerator = (\n",
    "            (triangles.iloc[:,1:]).reset_index() \n",
    "                                         .drop('AccidentYear',axis=1)\n",
    "                                         .groupby(['GRNAME','LOB'])\n",
    "                                         .sum(axis=0))\n",
    "        denominator = (\n",
    "            (weight*triangles.iloc[:,:-1]).reset_index()\n",
    "                                          .drop('AccidentYear',axis=1)\n",
    "                                          .groupby(['GRNAME','LOB'])\n",
    "                                          .sum(axis=0))\n",
    "    if method=='original_noax':\n",
    "        numerator = (\n",
    "            (triangles.iloc[:,1:]).reset_index() \n",
    "                                         .drop('AccidentYear',axis=1)\n",
    "                                         .groupby(['GRNAME','LOB'])\n",
    "                                         .sum())\n",
    "        denominator = (\n",
    "            (weight*triangles.iloc[:,:-1]).reset_index()\n",
    "                                          .drop('AccidentYear',axis=1)\n",
    "                                          .groupby(['GRNAME','LOB'])\n",
    "                                          .sum())\n",
    "    if method=='original2':\n",
    "        numerator = (\n",
    "            (triangles.iloc[:,1:]).reset_index() \n",
    "                                         .drop('AccidentYear',axis=1)\n",
    "                                         .groupby(['GRNAME','LOB'])\n",
    "                                         .apply(lambda x: np.sum(x.iloc[:, 2:], axis=0)))\n",
    "        denominator = (\n",
    "            (weight*triangles.iloc[:,:-1]).reset_index()\n",
    "                                          .drop('AccidentYear',axis=1)\n",
    "                                          .groupby(['GRNAME','LOB'])\n",
    "                                          .apply(lambda x: np.sum(x.iloc[:, 2:], axis=0)))\n",
    "    if method=='alt1':\n",
    "        numerator = triangles.iloc[:,1:].groupby(level=['GRNAME','LOB']).sum()\n",
    "        denominator = (weight*triangles.iloc[:,:-1]).groupby(level=['GRNAME','LOB']).sum()\n",
    "    if method=='alt2':    \n",
    "        numerator = triangles.iloc[:,1:].groupby(level=['GRNAME','LOB']).apply(sum)\n",
    "        denominator = (weight*triangles.iloc[:,:-1]).groupby(level=['GRNAME','LOB']).apply(sum)\n",
    "\n",
    "#     print(numerator.shape, denominator.shape, len(columns))\n",
    "    numerator.columns = denominator.columns = columns\n",
    "\n",
    "    # Development Patterns\n",
    "    ldf = (numerator/denominator).fillna(1.0) \n",
    "    return ldf"
   ]
  },
  {
   "cell_type": "code",
   "execution_count": 226,
   "metadata": {},
   "outputs": [],
   "source": [
    "a1s = make_trg_alt(data, 'original2')\n"
   ]
  },
  {
   "cell_type": "code",
   "execution_count": 261,
   "metadata": {},
   "outputs": [
    {
     "data": {
      "text/plain": [
       "(True, True, True, True)"
      ]
     },
     "execution_count": 261,
     "metadata": {},
     "output_type": "execute_result"
    }
   ],
   "source": [
    "a0 = make_trg(data)\n",
    "a1 = make_trg_alt(data, 'original')\n",
    "a1x = make_trg_alt(data, 'original_noax')\n",
    "a1s = make_trg_alt(data, 'original2')\n",
    "a2 = make_trg_alt(data, 'alt1')\n",
    "a3 = make_trg_alt(data, 'alt2')\n",
    "np.allclose(a0, a1), np.allclose(a0, a1x),  np.allclose(a0, a2), np.allclose(a0, a3) "
   ]
  },
  {
   "cell_type": "code",
   "execution_count": 199,
   "metadata": {},
   "outputs": [
    {
     "name": "stdout",
     "output_type": "stream",
     "text": [
      "120 ms ± 6.65 ms per loop (mean ± std. dev. of 7 runs, 10 loops each)\n"
     ]
    }
   ],
   "source": [
    "%timeit a0 = make_trg(data)"
   ]
  },
  {
   "cell_type": "code",
   "execution_count": 200,
   "metadata": {},
   "outputs": [
    {
     "name": "stdout",
     "output_type": "stream",
     "text": [
      "111 ms ± 4.12 ms per loop (mean ± std. dev. of 7 runs, 10 loops each)\n"
     ]
    }
   ],
   "source": [
    "%timeit a1 = make_trg_alt(data, 'original')"
   ]
  },
  {
   "cell_type": "code",
   "execution_count": 259,
   "metadata": {},
   "outputs": [
    {
     "name": "stdout",
     "output_type": "stream",
     "text": [
      "39.2 ms ± 1.39 ms per loop (mean ± std. dev. of 7 runs, 10 loops each)\n"
     ]
    }
   ],
   "source": [
    "%timeit a1 = make_trg_alt(data, 'original_noax')"
   ]
  },
  {
   "cell_type": "code",
   "execution_count": 266,
   "metadata": {},
   "outputs": [
    {
     "name": "stdout",
     "output_type": "stream",
     "text": [
      "33.8 ms ± 3.09 ms per loop (mean ± std. dev. of 7 runs, 10 loops each)\n"
     ]
    }
   ],
   "source": [
    "%timeit a1 = make_trg_alt(data, 'alt1')"
   ]
  },
  {
   "cell_type": "code",
   "execution_count": 267,
   "metadata": {},
   "outputs": [
    {
     "name": "stdout",
     "output_type": "stream",
     "text": [
      "67.2 ms ± 954 µs per loop (mean ± std. dev. of 7 runs, 10 loops each)\n"
     ]
    }
   ],
   "source": [
    "%timeit a1 = make_trg_alt(data, 'alt2')"
   ]
  },
  {
   "cell_type": "code",
   "execution_count": 229,
   "metadata": {},
   "outputs": [
    {
     "name": "stdout",
     "output_type": "stream",
     "text": [
      "74.6 ms ± 2.03 ms per loop (mean ± std. dev. of 7 runs, 10 loops each)\n"
     ]
    }
   ],
   "source": [
    "%timeit a1 = make_trg_alt(data, 'original2')"
   ]
  },
  {
   "cell_type": "markdown",
   "metadata": {},
   "source": [
    "# Contrived example"
   ]
  },
  {
   "cell_type": "code",
   "execution_count": 233,
   "metadata": {},
   "outputs": [
    {
     "data": {
      "text/html": [
       "<div>\n",
       "<style scoped>\n",
       "    .dataframe tbody tr th:only-of-type {\n",
       "        vertical-align: middle;\n",
       "    }\n",
       "\n",
       "    .dataframe tbody tr th {\n",
       "        vertical-align: top;\n",
       "    }\n",
       "\n",
       "    .dataframe thead th {\n",
       "        text-align: right;\n",
       "    }\n",
       "</style>\n",
       "<table border=\"1\" class=\"dataframe\">\n",
       "  <thead>\n",
       "    <tr style=\"text-align: right;\">\n",
       "      <th></th>\n",
       "      <th>0</th>\n",
       "      <th>1</th>\n",
       "      <th>2</th>\n",
       "      <th>3</th>\n",
       "      <th>4</th>\n",
       "      <th>5</th>\n",
       "      <th>6</th>\n",
       "      <th>7</th>\n",
       "      <th>8</th>\n",
       "      <th>9</th>\n",
       "      <th>10</th>\n",
       "      <th>11</th>\n",
       "      <th>12</th>\n",
       "      <th>13</th>\n",
       "      <th>14</th>\n",
       "      <th>15</th>\n",
       "      <th>16</th>\n",
       "      <th>17</th>\n",
       "      <th>18</th>\n",
       "      <th>19</th>\n",
       "    </tr>\n",
       "  </thead>\n",
       "  <tbody>\n",
       "    <tr>\n",
       "      <th>0</th>\n",
       "      <td>0.044641</td>\n",
       "      <td>-1.861556</td>\n",
       "      <td>0.154289</td>\n",
       "      <td>0.734230</td>\n",
       "      <td>-0.121804</td>\n",
       "      <td>-0.858611</td>\n",
       "      <td>-0.994487</td>\n",
       "      <td>0.514125</td>\n",
       "      <td>0.139380</td>\n",
       "      <td>1.474485</td>\n",
       "      <td>-1.302966</td>\n",
       "      <td>0.220192</td>\n",
       "      <td>1.518264</td>\n",
       "      <td>-1.606529</td>\n",
       "      <td>0.060077</td>\n",
       "      <td>1.334684</td>\n",
       "      <td>-1.225861</td>\n",
       "      <td>-1.269766</td>\n",
       "      <td>1.805141</td>\n",
       "      <td>-1.389428</td>\n",
       "    </tr>\n",
       "    <tr>\n",
       "      <th>1</th>\n",
       "      <td>0.704885</td>\n",
       "      <td>0.368236</td>\n",
       "      <td>0.267557</td>\n",
       "      <td>-0.543286</td>\n",
       "      <td>-1.975218</td>\n",
       "      <td>-0.899030</td>\n",
       "      <td>0.750031</td>\n",
       "      <td>-1.076517</td>\n",
       "      <td>0.936736</td>\n",
       "      <td>1.023217</td>\n",
       "      <td>-1.226885</td>\n",
       "      <td>-0.780559</td>\n",
       "      <td>0.835721</td>\n",
       "      <td>-0.692895</td>\n",
       "      <td>1.667972</td>\n",
       "      <td>-1.127136</td>\n",
       "      <td>-1.078269</td>\n",
       "      <td>0.433289</td>\n",
       "      <td>0.969922</td>\n",
       "      <td>0.642502</td>\n",
       "    </tr>\n",
       "    <tr>\n",
       "      <th>2</th>\n",
       "      <td>0.491901</td>\n",
       "      <td>-0.613748</td>\n",
       "      <td>1.146698</td>\n",
       "      <td>-2.368205</td>\n",
       "      <td>0.728579</td>\n",
       "      <td>0.582821</td>\n",
       "      <td>-0.064466</td>\n",
       "      <td>0.157668</td>\n",
       "      <td>0.466640</td>\n",
       "      <td>-0.842637</td>\n",
       "      <td>0.025723</td>\n",
       "      <td>-0.070316</td>\n",
       "      <td>-0.334057</td>\n",
       "      <td>0.891501</td>\n",
       "      <td>-0.482568</td>\n",
       "      <td>-0.496080</td>\n",
       "      <td>-1.104176</td>\n",
       "      <td>0.111122</td>\n",
       "      <td>-0.607320</td>\n",
       "      <td>0.355094</td>\n",
       "    </tr>\n",
       "    <tr>\n",
       "      <th>3</th>\n",
       "      <td>0.107274</td>\n",
       "      <td>-1.188165</td>\n",
       "      <td>-1.989023</td>\n",
       "      <td>-0.142443</td>\n",
       "      <td>1.435918</td>\n",
       "      <td>-0.310147</td>\n",
       "      <td>0.115509</td>\n",
       "      <td>-0.461146</td>\n",
       "      <td>0.238802</td>\n",
       "      <td>-0.155618</td>\n",
       "      <td>0.417391</td>\n",
       "      <td>-0.863026</td>\n",
       "      <td>1.615979</td>\n",
       "      <td>0.726841</td>\n",
       "      <td>-0.155802</td>\n",
       "      <td>-1.020085</td>\n",
       "      <td>0.556616</td>\n",
       "      <td>-0.224338</td>\n",
       "      <td>0.870439</td>\n",
       "      <td>-0.179172</td>\n",
       "    </tr>\n",
       "    <tr>\n",
       "      <th>4</th>\n",
       "      <td>-1.417577</td>\n",
       "      <td>-0.439185</td>\n",
       "      <td>0.415300</td>\n",
       "      <td>1.063533</td>\n",
       "      <td>-1.202576</td>\n",
       "      <td>-1.244624</td>\n",
       "      <td>0.169284</td>\n",
       "      <td>0.501772</td>\n",
       "      <td>1.239939</td>\n",
       "      <td>1.053755</td>\n",
       "      <td>-0.844831</td>\n",
       "      <td>-0.195532</td>\n",
       "      <td>0.614166</td>\n",
       "      <td>0.386381</td>\n",
       "      <td>0.128483</td>\n",
       "      <td>-0.407536</td>\n",
       "      <td>0.911988</td>\n",
       "      <td>-0.430962</td>\n",
       "      <td>1.155784</td>\n",
       "      <td>1.295233</td>\n",
       "    </tr>\n",
       "  </tbody>\n",
       "</table>\n",
       "</div>"
      ],
      "text/plain": [
       "         0         1         2         3         4         5         6   \\\n",
       "0  0.044641 -1.861556  0.154289  0.734230 -0.121804 -0.858611 -0.994487   \n",
       "1  0.704885  0.368236  0.267557 -0.543286 -1.975218 -0.899030  0.750031   \n",
       "2  0.491901 -0.613748  1.146698 -2.368205  0.728579  0.582821 -0.064466   \n",
       "3  0.107274 -1.188165 -1.989023 -0.142443  1.435918 -0.310147  0.115509   \n",
       "4 -1.417577 -0.439185  0.415300  1.063533 -1.202576 -1.244624  0.169284   \n",
       "\n",
       "         7         8         9         10        11        12        13  \\\n",
       "0  0.514125  0.139380  1.474485 -1.302966  0.220192  1.518264 -1.606529   \n",
       "1 -1.076517  0.936736  1.023217 -1.226885 -0.780559  0.835721 -0.692895   \n",
       "2  0.157668  0.466640 -0.842637  0.025723 -0.070316 -0.334057  0.891501   \n",
       "3 -0.461146  0.238802 -0.155618  0.417391 -0.863026  1.615979  0.726841   \n",
       "4  0.501772  1.239939  1.053755 -0.844831 -0.195532  0.614166  0.386381   \n",
       "\n",
       "         14        15        16        17        18        19  \n",
       "0  0.060077  1.334684 -1.225861 -1.269766  1.805141 -1.389428  \n",
       "1  1.667972 -1.127136 -1.078269  0.433289  0.969922  0.642502  \n",
       "2 -0.482568 -0.496080 -1.104176  0.111122 -0.607320  0.355094  \n",
       "3 -0.155802 -1.020085  0.556616 -0.224338  0.870439 -0.179172  \n",
       "4  0.128483 -0.407536  0.911988 -0.430962  1.155784  1.295233  "
      ]
     },
     "execution_count": 233,
     "metadata": {},
     "output_type": "execute_result"
    }
   ],
   "source": [
    "tdf = pd.DataFrame(np.random.normal(size=(20000,20)))\n",
    "tdf.head()"
   ]
  },
  {
   "cell_type": "code",
   "execution_count": 254,
   "metadata": {},
   "outputs": [
    {
     "data": {
      "text/html": [
       "<div>\n",
       "<style scoped>\n",
       "    .dataframe tbody tr th:only-of-type {\n",
       "        vertical-align: middle;\n",
       "    }\n",
       "\n",
       "    .dataframe tbody tr th {\n",
       "        vertical-align: top;\n",
       "    }\n",
       "\n",
       "    .dataframe thead th {\n",
       "        text-align: right;\n",
       "    }\n",
       "</style>\n",
       "<table border=\"1\" class=\"dataframe\">\n",
       "  <thead>\n",
       "    <tr style=\"text-align: right;\">\n",
       "      <th></th>\n",
       "      <th>0</th>\n",
       "      <th>1</th>\n",
       "      <th>2</th>\n",
       "      <th>3</th>\n",
       "      <th>4</th>\n",
       "      <th>5</th>\n",
       "      <th>6</th>\n",
       "      <th>7</th>\n",
       "      <th>8</th>\n",
       "      <th>9</th>\n",
       "      <th>10</th>\n",
       "      <th>11</th>\n",
       "      <th>12</th>\n",
       "      <th>13</th>\n",
       "      <th>14</th>\n",
       "      <th>15</th>\n",
       "      <th>16</th>\n",
       "      <th>17</th>\n",
       "      <th>18</th>\n",
       "      <th>19</th>\n",
       "    </tr>\n",
       "  </thead>\n",
       "  <tbody>\n",
       "    <tr>\n",
       "      <th>0</th>\n",
       "      <td>-40.019894</td>\n",
       "      <td>45.306465</td>\n",
       "      <td>41.299712</td>\n",
       "      <td>-44.439307</td>\n",
       "      <td>-91.862407</td>\n",
       "      <td>-12.059336</td>\n",
       "      <td>83.422256</td>\n",
       "      <td>-92.041818</td>\n",
       "      <td>-15.428933</td>\n",
       "      <td>-89.408032</td>\n",
       "      <td>-8.450851</td>\n",
       "      <td>58.319082</td>\n",
       "      <td>-85.174539</td>\n",
       "      <td>-90.796866</td>\n",
       "      <td>-80.391073</td>\n",
       "      <td>-126.065750</td>\n",
       "      <td>-66.990522</td>\n",
       "      <td>1.276396</td>\n",
       "      <td>-48.194837</td>\n",
       "      <td>-15.514274</td>\n",
       "    </tr>\n",
       "    <tr>\n",
       "      <th>1</th>\n",
       "      <td>58.014092</td>\n",
       "      <td>36.567835</td>\n",
       "      <td>115.370675</td>\n",
       "      <td>104.988688</td>\n",
       "      <td>-67.267367</td>\n",
       "      <td>41.212016</td>\n",
       "      <td>-14.259444</td>\n",
       "      <td>-50.349404</td>\n",
       "      <td>20.248783</td>\n",
       "      <td>-79.468923</td>\n",
       "      <td>87.359973</td>\n",
       "      <td>-37.764596</td>\n",
       "      <td>-109.260686</td>\n",
       "      <td>-73.038678</td>\n",
       "      <td>18.337360</td>\n",
       "      <td>59.230712</td>\n",
       "      <td>-2.645149</td>\n",
       "      <td>-42.181439</td>\n",
       "      <td>-16.819316</td>\n",
       "      <td>25.644850</td>\n",
       "    </tr>\n",
       "    <tr>\n",
       "      <th>2</th>\n",
       "      <td>-5.276376</td>\n",
       "      <td>95.537132</td>\n",
       "      <td>9.191745</td>\n",
       "      <td>-72.480925</td>\n",
       "      <td>-146.836173</td>\n",
       "      <td>-24.954901</td>\n",
       "      <td>-54.401078</td>\n",
       "      <td>-7.357467</td>\n",
       "      <td>-41.349085</td>\n",
       "      <td>-64.408162</td>\n",
       "      <td>89.241868</td>\n",
       "      <td>149.924569</td>\n",
       "      <td>82.867789</td>\n",
       "      <td>-6.452139</td>\n",
       "      <td>-130.059873</td>\n",
       "      <td>104.642944</td>\n",
       "      <td>-40.786172</td>\n",
       "      <td>32.204882</td>\n",
       "      <td>-67.415346</td>\n",
       "      <td>35.555225</td>\n",
       "    </tr>\n",
       "    <tr>\n",
       "      <th>3</th>\n",
       "      <td>10.978097</td>\n",
       "      <td>9.177143</td>\n",
       "      <td>-84.621803</td>\n",
       "      <td>-51.098350</td>\n",
       "      <td>-37.122939</td>\n",
       "      <td>-48.311680</td>\n",
       "      <td>-102.400236</td>\n",
       "      <td>-2.380243</td>\n",
       "      <td>113.186549</td>\n",
       "      <td>-9.954179</td>\n",
       "      <td>63.630886</td>\n",
       "      <td>42.259868</td>\n",
       "      <td>125.939568</td>\n",
       "      <td>-91.791542</td>\n",
       "      <td>87.734044</td>\n",
       "      <td>-67.617648</td>\n",
       "      <td>64.227399</td>\n",
       "      <td>-44.060448</td>\n",
       "      <td>72.804182</td>\n",
       "      <td>10.701977</td>\n",
       "    </tr>\n",
       "  </tbody>\n",
       "</table>\n",
       "</div>"
      ],
      "text/plain": [
       "          0          1           2           3           4          5   \\\n",
       "0 -40.019894  45.306465   41.299712  -44.439307  -91.862407 -12.059336   \n",
       "1  58.014092  36.567835  115.370675  104.988688  -67.267367  41.212016   \n",
       "2  -5.276376  95.537132    9.191745  -72.480925 -146.836173 -24.954901   \n",
       "3  10.978097   9.177143  -84.621803  -51.098350  -37.122939 -48.311680   \n",
       "\n",
       "           6          7           8          9          10          11  \\\n",
       "0   83.422256 -92.041818  -15.428933 -89.408032  -8.450851   58.319082   \n",
       "1  -14.259444 -50.349404   20.248783 -79.468923  87.359973  -37.764596   \n",
       "2  -54.401078  -7.357467  -41.349085 -64.408162  89.241868  149.924569   \n",
       "3 -102.400236  -2.380243  113.186549  -9.954179  63.630886   42.259868   \n",
       "\n",
       "           12         13          14          15         16         17  \\\n",
       "0  -85.174539 -90.796866  -80.391073 -126.065750 -66.990522   1.276396   \n",
       "1 -109.260686 -73.038678   18.337360   59.230712  -2.645149 -42.181439   \n",
       "2   82.867789  -6.452139 -130.059873  104.642944 -40.786172  32.204882   \n",
       "3  125.939568 -91.791542   87.734044  -67.617648  64.227399 -44.060448   \n",
       "\n",
       "          18         19  \n",
       "0 -48.194837 -15.514274  \n",
       "1 -16.819316  25.644850  \n",
       "2 -67.415346  35.555225  \n",
       "3  72.804182  10.701977  "
      ]
     },
     "execution_count": 254,
     "metadata": {},
     "output_type": "execute_result"
    }
   ],
   "source": [
    "tdf.groupby(lambda x: x // 5000).sum(axis=0)"
   ]
  },
  {
   "cell_type": "code",
   "execution_count": 270,
   "metadata": {},
   "outputs": [
    {
     "name": "stdout",
     "output_type": "stream",
     "text": [
      "69.7 ms ± 6.84 ms per loop (mean ± std. dev. of 7 runs, 10 loops each)\n"
     ]
    }
   ],
   "source": [
    "%timeit tdf.groupby(lambda x: x // 5000).sum(axis=0)"
   ]
  },
  {
   "cell_type": "code",
   "execution_count": 271,
   "metadata": {},
   "outputs": [
    {
     "name": "stdout",
     "output_type": "stream",
     "text": [
      "9.45 ms ± 1.24 ms per loop (mean ± std. dev. of 7 runs, 100 loops each)\n"
     ]
    }
   ],
   "source": [
    "%timeit tdf.groupby(lambda x: x // 5000).sum()"
   ]
  },
  {
   "cell_type": "code",
   "execution_count": 272,
   "metadata": {},
   "outputs": [
    {
     "name": "stdout",
     "output_type": "stream",
     "text": [
      "15.4 ms ± 691 µs per loop (mean ± std. dev. of 7 runs, 10 loops each)\n"
     ]
    }
   ],
   "source": [
    "%timeit tdf.groupby(lambda x: x // 5000).apply(sum, axis=0)"
   ]
  },
  {
   "cell_type": "code",
   "execution_count": 273,
   "metadata": {},
   "outputs": [
    {
     "name": "stdout",
     "output_type": "stream",
     "text": [
      "17 ms ± 1.76 ms per loop (mean ± std. dev. of 7 runs, 100 loops each)\n"
     ]
    }
   ],
   "source": [
    "%timeit tdf.groupby(lambda x: x // 5000).apply(sum)"
   ]
  },
  {
   "cell_type": "code",
   "execution_count": 274,
   "metadata": {},
   "outputs": [
    {
     "data": {
      "text/plain": [
       "True"
      ]
     },
     "execution_count": 274,
     "metadata": {},
     "output_type": "execute_result"
    }
   ],
   "source": [
    "a1 = tdf.groupby(lambda x: x // 5000).sum(axis=0)\n",
    "a2 = tdf.groupby(lambda x: x // 5000).apply(sum, axis=0)\n",
    "np.allclose(a1, a2)"
   ]
  },
  {
   "cell_type": "markdown",
   "metadata": {
    "slideshow": {
     "slide_type": "slide"
    }
   },
   "source": [
    "# Creating Loss Development Factors to be used as features in our Machine Learning Model(s).\n",
    "\n",
    "Let's write a function that allows us to generate volume-weighted development patterns for each of company/LOB above. "
   ]
  },
  {
   "cell_type": "code",
   "execution_count": null,
   "metadata": {
    "slideshow": {
     "slide_type": "slide"
    }
   },
   "outputs": [],
   "source": [
    "# Determine LDF Weights\n",
    "weight = np.array(~triangles.iloc[:,1:].isna())\n",
    "columns = [f'{triangles.columns[num]}-{triangles.columns[num+1]}'\n",
    "           for num, item in enumerate(triangles.columns[:-1])]\n",
    "\n",
    "# Volume-weighted numerator and demoninator\n",
    "numerator = (\n",
    "    (weight*triangles.iloc[:,1:]).reset_index() \n",
    "                                 .drop('AccidentYear',axis=1)\n",
    "                                 .groupby(['GRNAME','LOB'])\n",
    "                                 .sum(axis=0))\n",
    "denominator = (\n",
    "    (weight*triangles.iloc[:,:-1]).reset_index()\n",
    "                                  .drop('AccidentYear',axis=1)\n",
    "                                  .groupby(['GRNAME','LOB'])\n",
    "                                  .sum(axis=0))\n",
    "numerator.columns = denominator.columns = columns\n",
    "\n",
    "# Development Patterns\n",
    "ldf = (numerator/denominator).fillna(1.0)\n",
    "ldf.head(10)"
   ]
  },
  {
   "cell_type": "markdown",
   "metadata": {
    "slideshow": {
     "slide_type": "slide"
    }
   },
   "source": [
    "# What is Scikit-Learn?\n",
    "\n",
    "**Machine Learning in Python**\n",
    "\n",
    "* Simple and efficient tools for data mining and data analysis\n",
    "* Accessible to everybody, and reusable in various contexts\n",
    "* Built on NumPy, SciPy, and matplotlib\n",
    "* Open source, commercially usable - BSD license\n"
   ]
  },
  {
   "cell_type": "markdown",
   "metadata": {
    "slideshow": {
     "slide_type": "slide"
    }
   },
   "source": [
    "#### scikit-learn covers the majority of supervised and unsupervised ML techniques available today and  is continually expanding\n",
    "![](https://scikit-learn.org/stable/_static/ml_map.png)"
   ]
  },
  {
   "cell_type": "markdown",
   "metadata": {
    "slideshow": {
     "slide_type": "slide"
    }
   },
   "source": [
    "`sklearn` is the defacto standard Machine Learning API for Python.  Other libraries yield to the simplicity of its API. \n",
    "\n",
    "![](https://github.com/PirateGrunt/paw_rpm/blob/master/notebooks/assets/one_api.png?raw=true)\n",
    "\n",
    "* Want to do some Keras Deep learning?  No problem, just use `keras.wrappers.scikit_learn`\n",
    "* XGBoost anyone?  Use: `xgboost.sklearn`\n",
    "* Don't want to learn the syntax for the Light GBM? `lightgbm.sklearn` to the rescue.\n",
    "* Natural langauge processing requires unique functionality, right? Nope, `nltk.classify.scikitlearn`\n"
   ]
  },
  {
   "cell_type": "markdown",
   "metadata": {
    "slideshow": {
     "slide_type": "slide"
    }
   },
   "source": [
    "##### Scikit-learn is a consistent API for all Machine Learning Algorithms\n",
    "\n",
    "Estimators are the building block of scikit-learn.  Almost everything is an estimator.  All estimators have `fit()` methods. Most have either a `predict()` or `transform()` method. Supervised techniques generally have a `score()` method as well.\n",
    "\n",
    "The basic ML workflow looks like this:\n",
    "```python\n",
    "from sklearn.EstimatorFamily import Estimator\n",
    "est = Estimator(hyperparameter_1, ... ,hyperparameter_n) # Create a model\n",
    "est.fit(X_train, y_train) # Fit the model\n",
    "est.score(X_test, y_test) # Evaluate model efficacy\n",
    "est.predict(X_test) # Create predictions\n",
    "```"
   ]
  },
  {
   "cell_type": "markdown",
   "metadata": {
    "slideshow": {
     "slide_type": "slide"
    }
   },
   "source": [
    "##### Importing your estimators\n",
    "`from sklearn.EstimatorFamily import Estimator` is typically how you'd import an estimator.  Some examples are:\n",
    "``` python\n",
    "from sklearn.linear_model import RidgeRegression\n",
    "from sklearn.ensemble import RandomForestRegressor, GradientBoostingClassifier\n",
    "from sklearn.naive_bayes import GaussianNB\n",
    "from sklearn.cluster import KMeans\n",
    "```"
   ]
  },
  {
   "cell_type": "code",
   "execution_count": null,
   "metadata": {
    "slideshow": {
     "slide_type": "slide"
    }
   },
   "outputs": [],
   "source": [
    "# Exercise - Import the support vector classifier and a k-neighbors classifier\n",
    "# from sklearn\n",
    "from sklearn.svm import SVC\n",
    "from sklearn.neighbors import KNeighborsClassifier"
   ]
  },
  {
   "cell_type": "markdown",
   "metadata": {
    "slideshow": {
     "slide_type": "slide"
    }
   },
   "source": [
    "##### Hyperparameters of your estimarors (Controlling how your estimator fits)\n",
    "Instantiating an estimator typically looks like `est = Estimator(hyperparameter_1, ... ,hyperparameter_n)`.\n",
    "Upon instantition you have the *option* of setting hyperparameters (i.e. parameters whose values are set before the learning process).  All hyperparameters have defaults that may or may not be satisfactory for your particular problem.\n",
    "\n",
    "Exmaples of setting initial hyperparameters on an estimator:\n",
    "```python\n",
    "rr = RidgeRegression(alpha=0.5, fit_intercept=False, normalize=True)\n",
    "knc = KNeighborsClassifier(n_neighbors=10)\n",
    "gbc = GradientBoostingClassifier()\n",
    "```"
   ]
  },
  {
   "cell_type": "code",
   "execution_count": null,
   "metadata": {
    "slideshow": {
     "slide_type": "slide"
    }
   },
   "outputs": [],
   "source": [
    "# Exercise - Override the SVC hyperparameters such that it uses a kernel type\n",
    "# of a second degree polynomial\n",
    "SVC(kernel='poly', degree=2)"
   ]
  },
  {
   "cell_type": "markdown",
   "metadata": {
    "slideshow": {
     "slide_type": "slide"
    }
   },
   "source": [
    "##### Transformers - a special kind of estimator\n",
    "Several `sklearn` estimators implement a `transform()` method.  Transformers are typically used to 'transform' your featureset in a way that will improve another algorithms (e.g. regressor, classifier) performance.\n",
    "\n",
    "Typical examples include:\n",
    "```python\n",
    "sklearn.preprocessing.PCA # Principle Components transformation\n",
    "sklearn.preprocessing.OneHotEncoder # Categorical to dummy transformation\n",
    "sklearn.preprocessing.StandardScaler # Removing the mean and scaling to unit variance for each feature\n",
    "sklearn.preprocessing.LabelEncoder # Single-column label to integer tranformation\n",
    "```"
   ]
  },
  {
   "cell_type": "code",
   "execution_count": null,
   "metadata": {
    "slideshow": {
     "slide_type": "slide"
    }
   },
   "outputs": [],
   "source": [
    "# Exercise - Import and create a labelEncoder transformer named 'le'\n",
    "from sklearn.preprocessing import LabelEncoder\n",
    "le = LabelEncoder()"
   ]
  },
  {
   "cell_type": "markdown",
   "metadata": {
    "slideshow": {
     "slide_type": "slide"
    }
   },
   "source": [
    "##### Fitting an estimator\n",
    "To fit an estimator we require data - in most cases the data must be `numpy` arrays that are numeric in nature. However, many of the preprocessing transformers are helpers designed to meet this requirement."
   ]
  },
  {
   "cell_type": "code",
   "execution_count": null,
   "metadata": {
    "slideshow": {
     "slide_type": "slide"
    }
   },
   "outputs": [],
   "source": [
    "response = ldf.reset_index()['LOB']\n",
    "# Exercise - Pass 'response'to the fit method of your LabelEncoder() instance\n",
    "# you created in the previous exercise.\n",
    "le.fit(response)"
   ]
  },
  {
   "cell_type": "markdown",
   "metadata": {
    "slideshow": {
     "slide_type": "slide"
    }
   },
   "source": [
    "##### Mutating the Estimator with fit()\n",
    "Though it looks like nothing happened, a lot happened under the hood.  Our estimator has seen data can now be applied to new datasets.  Once an estimator is fit, it spin off useful metadata that describes the fit model.  `sklearn` uses a trailing underscore in property names to help users distinguish between hyperparameters and the new metadata.\n",
    "```python\n",
    "from sklearn.linear_model import LinearRegression\n",
    "lr = LinearRegression(fit_intercept=False)\n",
    "lr.fit(X, y)\n",
    "print(lr.fit_intercept) # A hyperparameter.  Returns False.\n",
    "print(lr.coef_) # Trailing underscore denotes the property comes from a 'fit'.  Returns model coefficients.\n",
    "```\n",
    "\n",
    "Additionally the predict, transform, and score methods (if applicable) become available."
   ]
  },
  {
   "cell_type": "code",
   "execution_count": null,
   "metadata": {
    "slideshow": {
     "slide_type": "slide"
    }
   },
   "outputs": [],
   "source": [
    "# Exercise - access the 'classes_' property of our label encoder.\n",
    "le.classes_"
   ]
  },
  {
   "cell_type": "markdown",
   "metadata": {
    "slideshow": {
     "slide_type": "slide"
    }
   },
   "source": [
    "##### Transforming  a simple dataset\n",
    "With a fit estimator we can create predictions or transformations on any new dataset that has the same number of features as our original data."
   ]
  },
  {
   "cell_type": "code",
   "execution_count": null,
   "metadata": {
    "slideshow": {
     "slide_type": "slide"
    }
   },
   "outputs": [],
   "source": [
    "# Exercise -  create an array called 'y' that uses your LabelEncoder\n",
    "# transform() method on 'response'.  Display y.\n",
    "y = le.transform(response)\n",
    "y"
   ]
  },
  {
   "cell_type": "markdown",
   "metadata": {
    "slideshow": {
     "slide_type": "slide"
    }
   },
   "source": [
    "### Supervised Learning Example - Identifying the line of business of an unlabeled triangle\n",
    "We've computed the volume weighted development patterns of twenty companies for each line of business, `wkcomp`, `comauto`, and `ppauto` and want to use them to train a Machine Learning model that can identify the appropriate line of business.\n",
    "\n",
    "Defining this problem more concretely:<br>\n",
    "The LDFs are our featureset, **X**, and the known line of business is our response, **y**.\n",
    "\n",
    "`sklearn` generally likes to consume `numpy` arrays.  It does not like mixed datatypes like a `pandas.DataFrame`.  The supervised learning estimators particularly like `numpy` arrays to be strictly numeric.  We've already created a `numpy` array for **y** using `LabelEncoder`.\n",
    "\n",
    "Fortunately, our LDFs are already numeric, but we just need to convert them to a `numpy` array.  This is done esiest using the `values` attribute of our `DataFrame`."
   ]
  },
  {
   "cell_type": "code",
   "execution_count": null,
   "metadata": {
    "slideshow": {
     "slide_type": "slide"
    }
   },
   "outputs": [],
   "source": [
    "# Exercise - create a matrix called X that isequal to ldf.values\n",
    "X = ldf.values"
   ]
  },
  {
   "cell_type": "markdown",
   "metadata": {
    "slideshow": {
     "slide_type": "slide"
    }
   },
   "source": [
    "##### Train/Test Split\n",
    "It is best practice in machine learning to evaluate models on a test set of data.  Since this is covered substantially in other literature, we will not go into the details of why here.  `sklearn` comes with several utilities to split data, but we will explore the simplest one.\n",
    "\n",
    "```python\n",
    "from sklearn.model_selection import train_test_split\n",
    "\n",
    "X_train, X_test, y_train, y_test = \\\n",
    "    train_test_split(X, y, test_size=0.33, random_state=42)\n",
    "```\n",
    "\n",
    "`train_test_split` returns a tuple of our features/response split into training and test sets. The `random_state` argument shows up in a lot of places in `sklearn`.  Generally, when there is a stochastic component to the `sklearn` component you are using, `random_state` is there to allow you to set a seed so that your work can be replicated."
   ]
  },
  {
   "cell_type": "code",
   "execution_count": null,
   "metadata": {
    "slideshow": {
     "slide_type": "slide"
    }
   },
   "outputs": [],
   "source": [
    "# Exercise - using the sample code in the previos cell, split the loss\n",
    "# reserving data into training and test sets.\n",
    "from sklearn.model_selection import train_test_split\n",
    "\n",
    "X_train, X_test, y_train, y_test = \\\n",
    "    train_test_split(X, y, test_size=0.33, random_state=42)"
   ]
  },
  {
   "cell_type": "markdown",
   "metadata": {
    "slideshow": {
     "slide_type": "slide"
    }
   },
   "source": [
    "##### Fitting our classifier\n",
    "Our data is in a numerical format, its been split, and now we are ready to do some Machine Learning.  \n",
    "\n",
    "Don't forget, when fitting any supervised learning technique, you must specify both your featureset and your response in the `fit` method."
   ]
  },
  {
   "cell_type": "code",
   "execution_count": null,
   "metadata": {
    "slideshow": {
     "slide_type": "slide"
    }
   },
   "outputs": [],
   "source": [
    "# Exercise - Create a KNeighborsClassifier and fit it to our training data\n",
    "knn = KNeighborsClassifier()\n",
    "knn.fit(X_train, y_train)"
   ]
  },
  {
   "cell_type": "markdown",
   "metadata": {
    "slideshow": {
     "slide_type": "slide"
    }
   },
   "source": [
    "##### Evaluating our classifier\n",
    "The `score()` method of all classifiers defaults to an accuracy measure.  For regressors, it will return an R-squared figure."
   ]
  },
  {
   "cell_type": "code",
   "execution_count": null,
   "metadata": {
    "slideshow": {
     "slide_type": "slide"
    }
   },
   "outputs": [],
   "source": [
    "# Exercise - Use score() to evaluate the accuracy of our KNeighborsClassifier\n",
    "# on our test set.\n",
    "knn.score(X_test,y_test)"
   ]
  },
  {
   "cell_type": "markdown",
   "metadata": {
    "slideshow": {
     "slide_type": "slide"
    }
   },
   "source": [
    "##### Classifier Confusion Matrix\n",
    "Another way of looking at a classifier's performance is by way of its `confusion_matrix` which gives a bit more information than our accuracy score.  Specifically, it tells us our false positive and false negative rate."
   ]
  },
  {
   "cell_type": "code",
   "execution_count": null,
   "metadata": {
    "slideshow": {
     "slide_type": "slide"
    }
   },
   "outputs": [],
   "source": [
    "from sklearn.metrics import confusion_matrix\n",
    "\n",
    "pd.DataFrame(confusion_matrix(y_test, knn.predict(X_test)),\n",
    "             index=le.classes_, columns=le.classes_)"
   ]
  },
  {
   "cell_type": "markdown",
   "metadata": {},
   "source": [
    "##### Try another classifier\n",
    "Remember the `sklearn` API was designed to make using different algorithms as consistent as possible. "
   ]
  },
  {
   "cell_type": "code",
   "execution_count": null,
   "metadata": {},
   "outputs": [],
   "source": [
    "# Exercise - Fit a LogisticRegression and evaluate its accuracy on the test data.\n",
    "from sklearn.linear_model import LogisticRegression\n",
    "model = LogisticRegression() # Swap in the another estimator\n",
    "model.fit(X_train, y_train) # No changes\n",
    "print(model.score(X_test,y_test)) # No changes\n",
    "pd.DataFrame(confusion_matrix(y_test, model.predict(X_test)),\n",
    "             index=le.classes_, columns=le.classes_)"
   ]
  },
  {
   "cell_type": "markdown",
   "metadata": {},
   "source": [
    "##### Visual representation of first three Development Factors\n",
    "By inspection (at least across the first three development ages), it is more difficult to distinguish between `wkcomp` and `ppauto` in line with where our classifiers are least accurate."
   ]
  },
  {
   "cell_type": "code",
   "execution_count": null,
   "metadata": {},
   "outputs": [],
   "source": [
    "import seaborn as sns\n",
    "%matplotlib inline\n",
    "g = sns.pairplot(ldf.reset_index()[['LOB','1-2','2-3','3-4']], hue=\"LOB\")"
   ]
  },
  {
   "cell_type": "markdown",
   "metadata": {
    "slideshow": {
     "slide_type": "slide"
    }
   },
   "source": [
    "##### Robustness of train_test_split\n",
    "Let's test the performance of our `KNeighborsClassifier` using a different random state."
   ]
  },
  {
   "cell_type": "code",
   "execution_count": null,
   "metadata": {
    "slideshow": {
     "slide_type": "fragment"
    }
   },
   "outputs": [],
   "source": [
    "X_train, X_test, y_train, y_test = \\\n",
    "    train_test_split(X, y, test_size=0.33, random_state=41)\n",
    "# Exercise - What is our accuracy when we change our train_test_split\n",
    "# random_state to 41?\n",
    "knn = KNeighborsClassifier()\n",
    "knn.fit(X_train, y_train)\n",
    "knn.score(X_test,y_test)"
   ]
  },
  {
   "cell_type": "markdown",
   "metadata": {
    "slideshow": {
     "slide_type": "slide"
    }
   },
   "source": [
    "##### Cross-validation\n",
    "* `sklearn` provides a `cross_val_score` to test the accuracy of an estimator across multiple folds painting a truer picture of an estimators' efficacy than a simple train/test split.\n",
    "* With `cross_val_score`, we don't really need to provide separate train and test sets.  Though, with enough data, it is sometimes instructive to have train/test and holdout "
   ]
  },
  {
   "cell_type": "code",
   "execution_count": null,
   "metadata": {
    "slideshow": {
     "slide_type": "slide"
    }
   },
   "outputs": [],
   "source": [
    "from sklearn.model_selection import cross_val_score\n",
    "np.mean(cross_val_score(knn, X, y, cv=5))"
   ]
  },
  {
   "cell_type": "markdown",
   "metadata": {
    "slideshow": {
     "slide_type": "slide"
    }
   },
   "source": [
    "##### Improving model accuracy with GridSearchCV\n",
    "\n",
    "With `GridSearchCV`, we can feed a hyperparameter grid into our estimator to determine an 'optimal' set of hyperparameters to use for our particular business problem.  `GridSearchCV` itself is an estimator and so it has the usual `'fit()` and `predict()` methods any other classifier would.\n",
    "\n",
    "At a minimum, parameterizing the GridSearchCV estimator we need to specify:\n",
    "1. The estimator we want to use\n",
    "2. The hyperparameter searchspace as a dictionary\n",
    "\n",
    "Optionally, we can also specify:\n",
    "1. The number of folds to use"
   ]
  },
  {
   "cell_type": "code",
   "execution_count": null,
   "metadata": {
    "slideshow": {
     "slide_type": "slide"
    }
   },
   "outputs": [],
   "source": [
    "from sklearn.model_selection import GridSearchCV\n",
    "\n",
    "param_grid={'n_neighbors':[1,3,5,7,9,11]}\n",
    "grid = GridSearchCV(knn, param_grid, cv=5, refit=True)\n",
    "grid.fit(X, y)\n",
    "print(f'Best Accuracy Score: {grid.best_score_}')\n",
    "grid.best_estimator_"
   ]
  },
  {
   "cell_type": "markdown",
   "metadata": {
    "slideshow": {
     "slide_type": "slide"
    }
   },
   "source": [
    "A Visual inspection of the cross-validated scores shows support for `n_neighbors=5`"
   ]
  },
  {
   "cell_type": "code",
   "execution_count": null,
   "metadata": {
    "slideshow": {
     "slide_type": "fragment"
    }
   },
   "outputs": [],
   "source": [
    "g = sns.pointplot(x=grid.cv_results_['param_n_neighbors'],\n",
    "                  y=grid.cv_results_['mean_test_score']) \\\n",
    "       .set(xlabel='n_neighbors', ylabel='Accuracy', title='Gridsearch Results')"
   ]
  },
  {
   "cell_type": "code",
   "execution_count": null,
   "metadata": {
    "slideshow": {
     "slide_type": "slide"
    }
   },
   "outputs": [],
   "source": [
    "# Exercise - Explore values of KNeighborsClassifier hyperparameter, p to\n",
    "# improve the cross-validated score of our estimator\n",
    "param_grid=dict(n_neighbors=[1,3,5,7,9,11], p=[1,2,3,4,5,6])\n",
    "grid = GridSearchCV(knn, param_grid, cv=5)\n",
    "grid.fit(X, y)\n",
    "print(f'Best Score: {grid.best_score_}')\n",
    "grid.best_estimator_"
   ]
  },
  {
   "cell_type": "code",
   "execution_count": null,
   "metadata": {
    "slideshow": {
     "slide_type": "slide"
    }
   },
   "outputs": [],
   "source": [
    "# Exercise - Display the confusion matrix of your best estimator from the\n",
    "# previous exercise on the entire dataset\n",
    "pd.DataFrame(confusion_matrix(y, grid.best_estimator_.predict(X)),\n",
    "             index=le.classes_, columns=le.classes_)"
   ]
  },
  {
   "cell_type": "markdown",
   "metadata": {
    "slideshow": {
     "slide_type": "slide"
    }
   },
   "source": [
    "### More complex workflows with Pipeline\n",
    "\n",
    "The authors of `sklearn` recognize that composability of multiple estimators will be necessary to build the best models.  For example, you may want to cluster a feature before feeding it into a Regressor.\n",
    "\n",
    "The `Pipeline` is useful for chaining one or more transformers together.  Pipelines themselves are estimators and have `fit()`, `predict()`, and `score()` function and can be used with all of the `sklearn` funcitons used for regular estimators including but not limited to: `cross_val_score`, `confusion_martix`"
   ]
  },
  {
   "cell_type": "code",
   "execution_count": null,
   "metadata": {
    "slideshow": {
     "slide_type": "slide"
    }
   },
   "outputs": [],
   "source": [
    "from sklearn.preprocessing import PolynomialFeatures\n",
    "from sklearn.ensemble import RandomForestRegressor\n",
    "from sklearn.pipeline import Pipeline\n",
    "from sklearn.linear_model import Ridge\n",
    "\n",
    "from sklearn.datasets import load_boston\n",
    "\n",
    "# Regression Dataset\n",
    "boston = load_boston()\n",
    "    \n",
    "# Polynomial Transformer\n",
    "poly = PolynomialFeatures(degree=2) \n",
    "\n",
    "# Regressor\n",
    "rf = RandomForestRegressor(n_estimators=10, random_state=42)\n",
    "\n",
    "# Set up Steps\n",
    "steps=[('poly', poly), ('rf', rf)]\n",
    "\n",
    "# Build a Pipeline\n",
    "pipe = Pipeline(steps=steps) \n",
    "\n",
    "# Cross-Validation R-square\n",
    "np.mean(cross_val_score(pipe, boston['data'], boston['target'], cv=5))"
   ]
  },
  {
   "cell_type": "code",
   "execution_count": null,
   "metadata": {
    "slideshow": {
     "slide_type": "slide"
    }
   },
   "outputs": [],
   "source": [
    "# Exercise - Create a Pipeline with Principle Components Analysis (PCA) as a\n",
    "# first step and the optimal KNeighbors hyperparameters (n_neighbors=3 and p=3)\n",
    "from sklearn.decomposition import PCA\n",
    "\n",
    "steps=[('pca', PCA()),\n",
    "       ('knn',KNeighborsClassifier(n_neighbors=3, p=3))]\n",
    "\n",
    "pipe = Pipeline(steps=steps)\n",
    "np.mean(cross_val_score(pipe, X, y,cv=5))"
   ]
  },
  {
   "cell_type": "markdown",
   "metadata": {
    "slideshow": {
     "slide_type": "slide"
    }
   },
   "source": [
    "#### Pipelines and GridSearchCV\n",
    "Since a `Pipeline` is just another estimator `GridSearchCV` allows the hyperparameter space of all estimators in the pipeline to be gridsearched in one go.  \n",
    "\n",
    "To avoid hyperparameter name clashes between one estimator and another within a pipeline, `sklearn` uses a double underscore naming convention of the form {estimator_name}__{hyperparameter} for the keys of its parameter grid.\n"
   ]
  },
  {
   "cell_type": "code",
   "execution_count": null,
   "metadata": {
    "slideshow": {
     "slide_type": "slide"
    }
   },
   "outputs": [],
   "source": [
    "param_grid = dict(rf__n_estimators=[10, 25],\n",
    "                  rf__max_depth=[10, 15, 20],\n",
    "                  rf__min_samples_split=[5, 10, 15],\n",
    "                  poly__degree=[1, 2])\n",
    "\n",
    "# Set up Steps\n",
    "steps=[('poly', PolynomialFeatures()), ('rf', RandomForestRegressor())]\n",
    "\n",
    "# Build a Pipeline\n",
    "pipe = Pipeline(steps=steps) \n",
    "\n",
    "# Hyperparameter grid\n",
    "param_grid = dict(rf__n_estimators=[10, 25],\n",
    "                  rf__max_depth=[10, 15, 20],\n",
    "                  rf__min_samples_split=[5, 10, 15],\n",
    "                  poly__degree=[1, 2])\n",
    "\n",
    "#Grid Search\n",
    "grid = GridSearchCV(pipe, param_grid, cv=5, iid=True)\n",
    "grid.fit(boston['data'], boston['target'])\n",
    "\n",
    "print(f'Best R-square: {grid.best_score_}')\n",
    "grid.best_estimator_"
   ]
  },
  {
   "cell_type": "code",
   "execution_count": null,
   "metadata": {
    "slideshow": {
     "slide_type": "slide"
    }
   },
   "outputs": [],
   "source": [
    "# Exercise - Use Pipeline and GridsearchCV to determine whether we achieve a\n",
    "# better cross-validated accuracy using PCA and KNeighborsClassifier combined\n",
    "\n",
    "param_grid=dict(knn__n_neighbors=[1,3,5,7,9,11],\n",
    "                knn__p=[1,2,3,4,5,6],\n",
    "                pca__n_components=[3, 5, 7, 9])\n",
    "\n",
    "pipe = Pipeline(steps=[('pca', PCA()),\n",
    "                       ('knn',KNeighborsClassifier())])\n",
    "\n",
    "grid = GridSearchCV(pipe, param_grid, cv=5, refit=True)\n",
    "grid.fit(X, y)\n",
    "\n",
    "print(f'Best Score: {grid.best_score_}')\n",
    "grid.best_estimator_"
   ]
  },
  {
   "cell_type": "markdown",
   "metadata": {
    "slideshow": {
     "slide_type": "slide"
    }
   },
   "source": [
    "### Scikit-Learn Recap\n",
    "\n",
    "* Almost everything is an Estimator.  They all have a `fit` method and depending on the nature of the estimator may also have a `predict`, `score` or `transform` method.\n",
    "* The API is standardized across estimator\n",
    "* A transformer is a special type of estimator that trasnforms data for another Estimator\n",
    "* Cross-validation with Grid Search helps in hyperparameter selection\n",
    "* Pipelines are useful for composing a chain of Estimators.\n",
    "* The documentation is a goldmine of information"
   ]
  }
 ],
 "metadata": {
  "celltoolbar": "Slideshow",
  "hide_input": false,
  "kernelspec": {
   "display_name": "Python 3",
   "language": "python",
   "name": "python3"
  },
  "language_info": {
   "codemirror_mode": {
    "name": "ipython",
    "version": 3
   },
   "file_extension": ".py",
   "mimetype": "text/x-python",
   "name": "python",
   "nbconvert_exporter": "python",
   "pygments_lexer": "ipython3",
   "version": "3.6.3"
  },
  "toc": {
   "base_numbering": 1,
   "nav_menu": {},
   "number_sections": true,
   "sideBar": true,
   "skip_h1_title": false,
   "title_cell": "Table of Contents",
   "title_sidebar": "Contents",
   "toc_cell": false,
   "toc_position": {},
   "toc_section_display": true,
   "toc_window_display": false
  },
  "varInspector": {
   "cols": {
    "lenName": 16,
    "lenType": 16,
    "lenVar": 40
   },
   "kernels_config": {
    "python": {
     "delete_cmd_postfix": "",
     "delete_cmd_prefix": "del ",
     "library": "var_list.py",
     "varRefreshCmd": "print(var_dic_list())"
    },
    "r": {
     "delete_cmd_postfix": ") ",
     "delete_cmd_prefix": "rm(",
     "library": "var_list.r",
     "varRefreshCmd": "cat(var_dic_list()) "
    }
   },
   "types_to_exclude": [
    "module",
    "function",
    "builtin_function_or_method",
    "instance",
    "_Feature"
   ],
   "window_display": false
  }
 },
 "nbformat": 4,
 "nbformat_minor": 2
}
