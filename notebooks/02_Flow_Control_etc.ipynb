{
 "cells": [
  {
   "cell_type": "markdown",
   "metadata": {},
   "source": [
    "# Flow Control, Data Types and IO"
   ]
  },
  {
   "cell_type": "markdown",
   "metadata": {},
   "source": [
    "Python is a small base language with lots of module (package) extensions. Many of the keywords you can guess; some not so much."
   ]
  },
  {
   "cell_type": "markdown",
   "metadata": {},
   "source": [
    "## The Zen of Python\n",
    "\n",
    "\n",
    "    The Zen of Python, by Tim Peters\n",
    "\n",
    "    Beautiful is better than ugly.\n",
    "    Explicit is better than implicit.\n",
    "    Simple is better than complex.\n",
    "    Complex is better than complicated.\n",
    "    Flat is better than nested.\n",
    "    Sparse is better than dense.\n",
    "    Readability counts.\n",
    "    Special cases aren't special enough to break the rules.\n",
    "    Although practicality beats purity.\n",
    "    Errors should never pass silently.\n",
    "    Unless explicitly silenced.\n",
    "    In the face of ambiguity, refuse the temptation to guess.\n",
    "    There should be one-- and preferably only one --obvious way to do it.\n",
    "    Although that way may not be obvious at first unless you're Dutch.\n",
    "    Now is better than never.\n",
    "    Although never is often better than *right* now.\n",
    "    If the implementation is hard to explain, it's a bad idea.\n",
    "    If the implementation is easy to explain, it may be a good idea.\n",
    "    Namespaces are one honking great idea -- let's do more of those!\n",
    "    \n",
    "    import this"
   ]
  },
  {
   "cell_type": "markdown",
   "metadata": {},
   "source": [
    "## Python Language Keywords\n",
    "\n",
    "\n",
    "### Logical\n",
    "* ```False```    \n",
    "* ```None```     \n",
    "* ```True```     \n",
    "* ```and```      \n",
    "* ```is```\n",
    "* ```not```      \n",
    "* ```or```       \n",
    "\n",
    "### Importing \n",
    "* ```import```   \n",
    "* ```from```     \n",
    "\n",
    "### Conditions, looping and structure\n",
    "* ```if```       \n",
    "* ```else```     \n",
    "* ```elif```     \n",
    "* ```for```      \n",
    "* ```break```    \n",
    "* ```in```       \n",
    "* ```pass```     \n",
    "* ```return```   \n",
    "* ```while```    \n",
    "* ```with...as```\n",
    "* ```yield```    \n",
    "\n",
    "### Error handling \n",
    "* ```assert```   \n",
    "* ```continue``` \n",
    "* ```except```   \n",
    "* ```finally```  \n",
    "* ```raise```    \n",
    "* ```try```      \n",
    "\n",
    "### Function and class definition \n",
    "* ```def```      \n",
    "* ```lambda```   \n",
    "* ```class```    \n",
    "\n",
    "### Other \n",
    "* ```del```      \n",
    "* ```global```   \n",
    "* ```nonlocal``` \n",
    "\n",
    "In typical Python fashion you can obtain a list of the keywords using the keywords module.\n",
    "\n",
    "    import keyword\n",
    "    keyword.kwlist"
   ]
  },
  {
   "cell_type": "markdown",
   "metadata": {},
   "source": [
    "## Python Built In Functions\n",
    "\n",
    "Surprisingly few built in functions. Many things delegated to modules, e.g. all math functions. "
   ]
  },
  {
   "cell_type": "markdown",
   "metadata": {},
   "source": [
    "### Python special types \n",
    "\n",
    "* ```dict()```\n",
    "* ```dir()```\n",
    "* ```len()```\n",
    "* ```list()```\n",
    "* ```range()```\n",
    "* ```reversed()```\n",
    "* ```set()```\n",
    "* ```slice()```\n",
    "* ```sorted()```\n",
    "* ```tuple()```"
   ]
  },
  {
   "cell_type": "markdown",
   "metadata": {},
   "source": [
    "### Types and type conversion \n",
    "* ```ascii()```\n",
    "* ```bin()```\n",
    "* ```bytearray()```\n",
    "* ```bytes()```\n",
    "* ```chr()```\n",
    "* ```complex()```\n",
    "* ```float()```\n",
    "* ```format()```\n",
    "* ```hex()```\n",
    "* ```int()```\n",
    "* ```oct()```\n",
    "* ```ord()```\n",
    "* ```str()```"
   ]
  },
  {
   "cell_type": "markdown",
   "metadata": {},
   "source": [
    "### Who knows? \n",
    "* ```enumerate()```\n",
    "* ```getattr()```\n",
    "* ```globals()```\n",
    "* ```hasattr()```\n",
    "* ```iter()```\n",
    "* ```locals()```\n",
    "* ```next()```\n",
    "* ```open()```\n",
    "* ```print()```\n",
    "* ```repr()```\n",
    "* ```setattr()```\n",
    "* ```type()```\n",
    "* ```zip()```\n"
   ]
  },
  {
   "cell_type": "markdown",
   "metadata": {},
   "source": [
    "## Modules"
   ]
  },
  {
   "cell_type": "markdown",
   "metadata": {},
   "source": [
    "### Built-In Modules\n",
    "\n",
    "There are over 200 modules part of the base Python distribution. Where these modules exist they should be used. Browse documentation to understand the types of problems they solve. Look for a standard module if you feel you are doing something standard. Do not try to go through them all---wait until you have a problem to solve for motivation. \n",
    "\n",
    "https://docs.python.org/3/py-modindex.html\n",
    "\n",
    "| Module       | Description                                                                             |\n",
    "|:--------------|:----------------------------------------------------------------------------------------|\n",
    "| \\_\\_future\\_\\_    | Future statement definitions                                                            |\n",
    "| \\_\\_main\\_\\_      | The environment where the top-level script is run.                                      |\n",
    "| \\_dummy\\_thread | Drop-in replacement for the \\_thread module.                                             |\n",
    "| \\_thread       | Low-level threading API.                                                                |\n",
    "| abc                          | Abstract base classes according to PEP 3119.                                                                         |\n",
    "| aifc                         | Read and write audio files in AIFF or AIFC format.                                                                   |\n",
    "| argparse                     | Command-line option and argument parsing library.                                                                    |\n",
    "| array                        | Space efficient arrays of uniformly typed numeric values.                                                            |\n",
    "| ast                          | Abstract Syntax Tree classes and manipulation.                                                                       |\n",
    "| asynchat                     | Support for asynchronous command/response protocols.                                                                 |\n",
    "| asyncio                      | Asynchronous I/O.                                                                                                    |\n",
    "| asyncore                     | A base class for developing asynchronous socket handling services.                                                   |\n",
    "| atexit                       | Register and execute cleanup functions.                                                                              |\n",
    "| audioop                      | Manipulate raw audio data.                                                                                           |\n",
    "| base64                       | RFC 3548: Base16, Base32, Base64 Data Encodings; Base85 and Ascii85                                                  |\n",
    "| bdb                          | Debugger framework.                                                                                                  |\n",
    "| binascii                     | Tools for converting between binary and various ASCII-encoded binary representations.                                |\n",
    "| binhex                       | Encode and decode files in binhex4 format.                                                                           |\n",
    "| bisect                       | Array bisection algorithms for binary searching.                                                                     |\n",
    "| builtins                     | The module that provides the built-in namespace.                                                                     |\n",
    "| bz2                          | Interfaces for bzip2 compression and decompression.                                                                  |\n",
    "| calendar                     | Functions for working with calendars, including some emulation of the Unix cal program.                              |\n",
    "| cgi                          | Helpers for running Python scripts via the Common Gateway Interface.                                                 |\n",
    "| cgitb                        | Configurable traceback handler for CGI scripts.                                                                      |\n",
    "| chunk                        | Module to read IFF chunks.                                                                                           |\n",
    "| cmath                        | Mathematical functions for complex numbers.                                                                          |\n",
    "| cmd                          | Build line-oriented command interpreters.                                                                            |\n",
    "| code                         | Facilities to implement read-eval-print loops.                                                                       |\n",
    "| codecs                       | Encode and decode data and streams.                                                                                  |\n",
    "| codeop                       | Compile (possibly incomplete) Python code.                                                                           |\n",
    "| collections                  | Container datatypes                                                                                                  |\n",
    "| colorsys                     | Conversion functions between RGB and other color systems.                                                            |\n",
    "| compileall                   | Tools for byte-compiling all Python source files in a directory tree.                                                |\n",
    "| concurrent                   | Execute computations concurrently using threads or processes.                                                        |\n",
    "| configparser                 | Configuration file parser.                                                                                           |\n",
    "| contextlib                   | Utilities for with-statement contexts.                                                                               |\n",
    "| contextvars                  | Context Variables                                                                                                    |\n",
    "| copy                         | Shallow and deep copy operations.                                                                                    |\n",
    "| copyreg                      | Register pickle support functions.                                                                                   |\n",
    "| cProfile                     |                                                                                                                      |\n",
    "| crypt (Unix)                 | The crypt() function used to check Unix passwords.                                                                   |\n",
    "| csv                          | Write and read tabular data to and from delimited files.                                                             |\n",
    "| ctypes                       | A foreign function library for Python.                                                                               |\n",
    "| dataclasses                  | Generate special methods on user-defined classes.                                                                    |\n",
    "| datetime                     | Basic date and time types.                                                                                           |\n",
    "| dbm                          | Interfaces to various Unix \"database\" formats.                                                                       |\n",
    "| decimal                      | Implementation of the General Decimal Arithmetic Specification.                                                      |\n",
    "| difflib                      | Helpers for computing differences between objects.                                                                   |\n",
    "| dis                          | Disassembler for Python bytecode.                                                                                    |\n",
    "| distutils                    | Support for building and installing Python modules into an existing Python installation.                             |\n",
    "| doctest                      | Test pieces of code within docstrings.                                                                               |\n",
    "| dummy_threading              | Drop-in replacement for the threading module.                                                                        |\n",
    "| email                        | Package supporting the parsing, manipulating, and generating email messages.                                         |\n",
    "| encodings                    |                                                                                                                      |\n",
    "| ensurepip                    | Bootstrapping the \"pip\" installer into an existing Python installation or virtual environment.                       |\n",
    "| enum                         | Implementation of an enumeration class.                                                                              |\n",
    "| errno                        | Standard errno system symbols.                                                                                       |\n",
    "| faulthandler                 | Dump the Python traceback.                                                                                           |\n",
    "| fcntl (Unix)                 | The fcntl() and ioctl() system calls.                                                                                |\n",
    "| filecmp                      | Compare files efficiently.                                                                                           |\n",
    "| fileinput                    | Loop over standard input or a list of files.                                                                         |\n",
    "| fnmatch                      | Unix shell style filename pattern matching.                                                                          |\n",
    "| formatter                    | Deprecated: Generic output formatter and device interface.                                                           |\n",
    "| fractions                    | Rational numbers.                                                                                                    |\n",
    "| ftplib                       | FTP protocol client (requires sockets).                                                                              |\n",
    "| functools                    | Higher-order functions and operations on callable objects.                                                           |\n",
    "| gc                           | Interface to the cycle-detecting garbage collector.                                                                  |\n",
    "| getopt                       | Portable parser for command line options; support both short and long option names.                                  |\n",
    "| getpass                      | Portable reading of passwords and retrieval of the userid.                                                           |\n",
    "| gettext                      | Multilingual internationalization services.                                                                          |\n",
    "| glob                         | Unix shell style pathname pattern expansion.                                                                         |\n",
    "| grp (Unix)                   | The group database (getgrnam() and friends).                                                                         |\n",
    "| gzip                         | Interfaces for gzip compression and decompression using file objects.                                                |\n",
    "| hashlib                      | Secure hash and message digest algorithms.                                                                           |\n",
    "| heapq                        | Heap queue algorithm (a.k.a. priority queue).                                                                        |\n",
    "| hmac                         | Keyed-Hashing for Message Authentication (HMAC) implementation                                                       |\n",
    "| html                         | Helpers for manipulating HTML.                                                                                       |\n",
    "| http                         | HTTP status codes and messages                                                                                       |\n",
    "| imaplib                      | IMAP4 protocol client (requires sockets).                                                                            |\n",
    "| imghdr                       | Determine the type of image contained in a file or byte stream.                                                      |\n",
    "| imp                          | Deprecated: Access the implementation of the import statement.                                                       |\n",
    "| importlib                    | The implementation of the import machinery.                                                                          |\n",
    "| inspect                      | Extract information and source code from live objects.                                                               |\n",
    "| io                           | Core tools for working with streams.                                                                                 |\n",
    "| ipaddress                    | IPv4/IPv6 manipulation library.                                                                                      |\n",
    "| itertools                    | Functions creating iterators for efficient looping.                                                                  |\n",
    "| json                         | Encode and decode the JSON format.                                                                                   |\n",
    "| keyword                      | Test whether a string is a keyword in Python.                                                                        |\n",
    "| lib2to3                      | the 2to3 library                                                                                                     |\n",
    "| linecache                    | This module provides random access to individual lines from text files.                                              |\n",
    "| locale                       | Internationalization services.                                                                                       |\n",
    "| logging                      | Flexible event logging system for applications.                                                                      |\n",
    "| lzma                         | A Python wrapper for the liblzma compression library.                                                                |\n",
    "| macpath                      | Mac OS 9 path manipulation functions.                                                                                |\n",
    "| mailbox                      | Manipulate mailboxes in various formats                                                                              |\n",
    "| mailcap                      | Mailcap file handling.                                                                                               |\n",
    "| marshal                      | Convert Python objects to streams of bytes and back (with different constraints).                                    |\n",
    "| math                         | Mathematical functions (sin() etc.).                                                                                 |\n",
    "| mimetypes                    | Mapping of filename extensions to MIME types.                                                                        |\n",
    "| mmap                         | Interface to memory-mapped files for Unix and Windows.                                                               |\n",
    "| modulefinder                 | Find modules used by a script.                                                                                       |\n",
    "| msilib (Windows)             | Creation of Microsoft Installer files, and CAB files.                                                                |\n",
    "| msvcrt (Windows)             | Miscellaneous useful routines from the MS VC++ runtime.                                                              |\n",
    "| multiprocessing              | Process-based parallelism.                                                                                           |\n",
    "| netrc                        | Loading of .netrc files.                                                                                             |\n",
    "| nis (Unix)                   | Interface to Sun's NIS (Yellow Pages) library.                                                                       |\n",
    "| nntplib                      | NNTP protocol client (requires sockets).                                                                             |\n",
    "| numbers                      | Numeric abstract base classes (Complex, Real, Integral, etc.).                                                       |\n",
    "| operator                     | Functions corresponding to the standard operators.                                                                   |\n",
    "| optparse                     | Deprecated: Command-line option parsing library.                                                                     |\n",
    "| os                           | Miscellaneous operating system interfaces.                                                                           |\n",
    "| ossaudiodev (Linux, FreeBSD) | Access to OSS-compatible audio devices.                                                                              |\n",
    "| parser                       | Access parse trees for Python source code.                                                                           |\n",
    "| pathlib                      | Object-oriented filesystem paths                                                                                     |\n",
    "| pdb                          | The Python debugger for interactive interpreters.                                                                    |\n",
    "| pickle                       | Convert Python objects to streams of bytes and back.                                                                 |\n",
    "| pickletools                  | Contains extensive comments about the pickle protocols and pickle-machine opcodes, as well as some useful functions. |\n",
    "| pipes (Unix)                 | A Python interface to Unix shell pipelines.                                                                          |\n",
    "| pkgutil                      | Utilities for the import system.                                                                                     |\n",
    "| platform                     | Retrieves as much platform identifying data as possible.                                                             |\n",
    "| plistlib                     | Generate and parse Mac OS X plist files.                                                                             |\n",
    "| poplib                       | POP3 protocol client (requires sockets).                                                                             |\n",
    "| posix (Unix)                 | The most common POSIX system calls (normally used via module os).                                                    |\n",
    "| pprint                       | Data pretty printer.                                                                                                 |\n",
    "| profile                      | Python source profiler.                                                                                              |\n",
    "| pstats                       | Statistics object for use with the profiler.                                                                         |\n",
    "| pty (Linux)                  | Pseudo-Terminal Handling for Linux.                                                                                  |\n",
    "| pwd (Unix)                   | The password database (getpwnam() and friends).                                                                      |\n",
    "| py_compile                   | Generate byte-code files from Python source files.                                                                   |\n",
    "| pyclbr                       | Supports information extraction for a Python class browser.                                                          |\n",
    "| pydoc                        | Documentation generator and online help system.                                                                      |\n",
    "| queue                        | A synchronized queue class.                                                                                          |\n",
    "| quopri                       | Encode and decode files using the MIME quoted-printable encoding.                                                    |\n",
    "| random                       | Generate pseudo-random numbers with various common distributions.                                                    |\n",
    "| re                           | Regular expression operations.                                                                                       |\n",
    "| readline (Unix)              | GNU readline support for Python.                                                                                     |\n",
    "| reprlib                      | Alternate repr() implementation with size limits.                                                                    |\n",
    "| resource (Unix)              | An interface to provide resource usage information on the current process.                                           |\n",
    "| rlcompleter                  | Python identifier completion, suitable for the GNU readline library.                                                 |\n",
    "| runpy                        | Locate and run Python modules without importing them first.                                                          |\n",
    "| sched                        | General purpose event scheduler.                                                                                     |\n",
    "| secrets                      | Generate secure random numbers for managing secrets.                                                                 |\n",
    "| select                       | Wait for I/O completion on multiple streams.                                                                         |\n",
    "| selectors                    | High-level I/O multiplexing.                                                                                         |\n",
    "| shelve                       | Python object persistence.                                                                                           |\n",
    "| shlex                        | Simple lexical analysis for Unix shell-like languages.                                                               |\n",
    "| shutil                       | High-level file operations, including copying.                                                                       |\n",
    "| signal                       | Set handlers for asynchronous events.                                                                                |\n",
    "| site                         | Module responsible for site-specific configuration.                                                                  |\n",
    "| smtpd                        | A SMTP server implementation in Python.                                                                              |\n",
    "| smtplib                      | SMTP protocol client (requires sockets).                                                                             |\n",
    "| sndhdr                       | Determine type of a sound file.                                                                                      |\n",
    "| socket                       | Low-level networking interface.                                                                                      |\n",
    "| socketserver                 | A framework for network servers.                                                                                     |\n",
    "| spwd (Unix)                  | The shadow password database (getspnam() and friends).                                                               |\n",
    "| sqlite3                      | A DB-API 2.0 implementation using SQLite 3.x.                                                                        |\n",
    "| ssl                          | TLS/SSL wrapper for socket objects                                                                                   |\n",
    "| stat                         | Utilities for interpreting the results of os.stat(), os.lstat() and os.fstat().                                      |\n",
    "| statistics                   | mathematical statistics functions                                                                                    |\n",
    "| string                       | Common string operations.                                                                                            |\n",
    "| stringprep                   | String preparation, as per RFC 3453                                                                                  |\n",
    "| struct                       | Interpret bytes as packed binary data.                                                                               |\n",
    "| subprocess                   | Subprocess management.                                                                                               |\n",
    "| sunau                        | Provide an interface to the Sun AU sound format.                                                                     |\n",
    "| symbol                       | Constants representing internal nodes of the parse tree.                                                             |\n",
    "| symtable                     | Interface to the compiler's internal symbol tables.                                                                  |\n",
    "| sys                          | Access system-specific parameters and functions.                                                                     |\n",
    "| sysconfig                    | Python's configuration information                                                                                   |\n",
    "| syslog (Unix)                | An interface to the Unix syslog library routines.                                                                    |\n",
    "| tabnanny                     | Tool for detecting white space related problems in Python source files in a directory tree.                          |\n",
    "| tarfile                      | Read and write tar-format archive files.                                                                             |\n",
    "| telnetlib                    | Telnet client class.                                                                                                 |\n",
    "| tempfile                     | Generate temporary files and directories.                                                                            |\n",
    "| termios (Unix)               | POSIX style tty control.                                                                                             |\n",
    "| test                         | Regression tests package containing the testing suite for Python.                                                    |\n",
    "| textwrap                     | Text wrapping and filling                                                                                            |\n",
    "| threading                    | Thread-based parallelism.                                                                                            |\n",
    "| time                         | Time access and conversions.                                                                                         |\n",
    "| timeit                       | Measure the execution time of small code snippets.                                                                   |\n",
    "| tkinter                      | Interface to Tcl/Tk for graphical user interfaces                                                                    |\n",
    "| token                        | Constants representing terminal nodes of the parse tree.                                                             |\n",
    "| tokenize                     | Lexical scanner for Python source code.                                                                              |\n",
    "| trace                        | Trace or track Python statement execution.                                                                           |\n",
    "| traceback                    | Print or retrieve a stack traceback.                                                                                 |\n",
    "| tracemalloc                  | Trace memory allocations.                                                                                            |\n",
    "| tty (Unix)                   | Utility functions that perform common terminal control operations.                                                   |\n",
    "| turtle                       | An educational framework for simple graphics applications                                                            |\n",
    "| turtledemo                   | A viewer for example turtle scripts                                                                                  |\n",
    "| types                        | Names for built-in types.                                                                                            |\n",
    "| typing                       | Support for type hints (see PEP 484).                                                                                |\n",
    "| unicodedata                  | Access the Unicode Database.                                                                                         |\n",
    "| unittest                     | Unit testing framework for Python.                                                                                   |\n",
    "| urllib                       |                                                                                                                      |\n",
    "| uu                           | Encode and decode files in uuencode format.                                                                          |\n",
    "| uuid                         | UUID objects (universally unique identifiers) according to RFC 4122                                                  |\n",
    "| venv                         | Creation of virtual environments.                                                                                    |\n",
    "| warnings                     | Issue warning messages and control their disposition.                                                                |\n",
    "| wave                         | Provide an interface to the WAV sound format.                                                                        |\n",
    "| weakref                      | Support for weak references and weak dictionaries.                                                                   |\n",
    "| webbrowser                   | Easy-to-use controller for Web browsers.                                                                             |\n",
    "| winreg (Windows)             | Routines and objects for manipulating the Windows registry.                                                          |\n",
    "| winsound (Windows)           | Access to the sound-playing machinery for Windows.                                                                   |\n",
    "| wsgiref                      | WSGI Utilities and Reference Implementation.                                                                         |\n",
    "| xdrlib                       | Encoders and decoders for the External Data Representation (XDR).                                                    |\n",
    "| xml                          | Package containing XML processing modules                                                                            |\n",
    "| xmlrpc                       |                                                                                                                      |\n",
    "| zipapp                       | Manage executable Python zip archives                                                                                |\n",
    "| zipfile                      | Read and write ZIP-format archive files.                                                                             |\n",
    "| zipimport                    | support for importing Python modules from ZIP archives.                                                              |\n",
    "| zlib                         | Low-level interface to compression and decompression routines compatible with gzip                                   |"
   ]
  },
  {
   "cell_type": "markdown",
   "metadata": {},
   "source": [
    "### First-Tier Modules \n",
    "\n",
    "Used all the time. Major modules, often with commerical support. Massive functionality. Definitive in their field. \n",
    "\n",
    "* numpy\n",
    "* scipy\n",
    "* scikit-learn\n",
    "* matplotlib\n",
    "* pandas\n",
    "\n",
    "### Second Tier\n",
    "\n",
    "Use often. Great funcationality. Serious modules. Not quite definitive in their field. Highly subjective!\n",
    "\n",
    "* seaborn\n",
    "* requests\n",
    "* bs4\n",
    "* lxml\n",
    "* IPython\n",
    "* pathlib\n",
    "* fuzzywuzzy\n",
    "\n",
    "### Third Tier\n",
    "* aggregate\n",
    "* thousands of roll-your-own solutions on github"
   ]
  },
  {
   "cell_type": "markdown",
   "metadata": {},
   "source": [
    "## My Module Use\n",
    "\n",
    "Top 25 out of nearly 2000 import statements. Mostly built-in plus first tier.\n",
    "\n",
    "| Package |\tn\t| pct | \n",
    "|:--|:--|:--| \n",
    "| sys | 103 | 0.051811 |\n",
    "os | 99 | 0.049799\n",
    "numpy | 94 | 0.047284\n",
    "logging | 79 | 0.039738\n",
    "re | 78 | 0.039235\n",
    "pandas | 72 | 0.036217\n",
    "matplotlib.pyplot | 62 | 0.031187\n",
    "io | 43 | 0.021630\n",
    "collections | 40 | 0.020121\n",
    "warnings | 35 | 0.017606\n",
    "scipy.stats | 34 | 0.017103\n",
    "time | 33 | 0.016600\n",
    "datetime | 32 | 0.016097\n",
    "hashlib | 26 | 0.013078\n",
    "IPython.core.display | 25 | 0.012575\n",
    "json | 25 | 0.012575\n",
    "itertools | 21 | 0.010563\n",
    "great | 18 | 0.009054\n",
    "codecs | 18 | 0.009054\n",
    "vispy | 18 | 0.009054"
   ]
  },
  {
   "cell_type": "markdown",
   "metadata": {},
   "source": [
    "## Strings"
   ]
  },
  {
   "cell_type": "code",
   "execution_count": null,
   "metadata": {},
   "outputs": [],
   "source": [
    "x = 'Stephen Mildenhall'"
   ]
  },
  {
   "cell_type": "code",
   "execution_count": null,
   "metadata": {},
   "outputs": [],
   "source": [
    "x"
   ]
  },
  {
   "cell_type": "code",
   "execution_count": null,
   "metadata": {},
   "outputs": [],
   "source": [
    "x[0:7]"
   ]
  },
  {
   "cell_type": "code",
   "execution_count": null,
   "metadata": {},
   "outputs": [],
   "source": [
    "x[:7]"
   ]
  },
  {
   "cell_type": "code",
   "execution_count": null,
   "metadata": {},
   "outputs": [],
   "source": [
    "x[8:]"
   ]
  },
  {
   "cell_type": "code",
   "execution_count": null,
   "metadata": {},
   "outputs": [],
   "source": [
    "x[8:-4]"
   ]
  },
  {
   "cell_type": "code",
   "execution_count": null,
   "metadata": {},
   "outputs": [],
   "source": [
    "x[slice(8,-4)]"
   ]
  },
  {
   "cell_type": "code",
   "execution_count": null,
   "metadata": {},
   "outputs": [],
   "source": [
    "x[:]"
   ]
  },
  {
   "cell_type": "code",
   "execution_count": null,
   "metadata": {},
   "outputs": [],
   "source": [
    "x[::2]"
   ]
  },
  {
   "cell_type": "code",
   "execution_count": null,
   "metadata": {},
   "outputs": [],
   "source": [
    "x[::-1]"
   ]
  },
  {
   "cell_type": "code",
   "execution_count": null,
   "metadata": {},
   "outputs": [],
   "source": [
    "y = x + \", St. John's University\"\n",
    "y"
   ]
  },
  {
   "cell_type": "code",
   "execution_count": null,
   "metadata": {},
   "outputs": [],
   "source": [
    "type(x)"
   ]
  },
  {
   "cell_type": "code",
   "execution_count": null,
   "metadata": {},
   "outputs": [],
   "source": [
    "dir(x)"
   ]
  },
  {
   "cell_type": "code",
   "execution_count": null,
   "metadata": {},
   "outputs": [],
   "source": [
    "?y.upper"
   ]
  },
  {
   "cell_type": "code",
   "execution_count": null,
   "metadata": {},
   "outputs": [],
   "source": [
    "y.upper()"
   ]
  },
  {
   "cell_type": "markdown",
   "metadata": {},
   "source": [
    "# Exercise \n",
    "\n",
    "1. Extract every third element of the string y.\n",
    "\n",
    "2. Extract every third element of the string y and return those characters in reverse order.\n",
    "\n",
    "3. Look  ```dir(y)``` and use ```?y.xxx``` to figure out the purpose of another function on the list. Pick something starting with a-z, not __"
   ]
  },
  {
   "cell_type": "markdown",
   "metadata": {},
   "source": [
    "## Lists"
   ]
  },
  {
   "cell_type": "code",
   "execution_count": null,
   "metadata": {},
   "outputs": [],
   "source": [
    "s = y.split()\n",
    "s"
   ]
  },
  {
   "cell_type": "code",
   "execution_count": null,
   "metadata": {},
   "outputs": [],
   "source": [
    "type(s)"
   ]
  },
  {
   "cell_type": "code",
   "execution_count": null,
   "metadata": {},
   "outputs": [],
   "source": [
    "s[0]"
   ]
  },
  {
   "cell_type": "code",
   "execution_count": null,
   "metadata": {},
   "outputs": [],
   "source": [
    "s[-1]"
   ]
  },
  {
   "cell_type": "code",
   "execution_count": null,
   "metadata": {},
   "outputs": [],
   "source": [
    "# strings morph into lists\n",
    "s2 = list(x)\n",
    "print(s2)"
   ]
  },
  {
   "cell_type": "code",
   "execution_count": null,
   "metadata": {},
   "outputs": [],
   "source": [
    "m = [123]\n",
    "m"
   ]
  },
  {
   "cell_type": "code",
   "execution_count": null,
   "metadata": {},
   "outputs": [],
   "source": [
    "m + [345]"
   ]
  },
  {
   "cell_type": "code",
   "execution_count": null,
   "metadata": {},
   "outputs": [],
   "source": [
    "m"
   ]
  },
  {
   "cell_type": "code",
   "execution_count": null,
   "metadata": {},
   "outputs": [],
   "source": [
    "m + 345"
   ]
  },
  {
   "cell_type": "code",
   "execution_count": null,
   "metadata": {},
   "outputs": [],
   "source": [
    "m.append(346)\n",
    "m"
   ]
  },
  {
   "cell_type": "code",
   "execution_count": null,
   "metadata": {},
   "outputs": [],
   "source": [
    "m = m + [234]\n",
    "m"
   ]
  },
  {
   "cell_type": "code",
   "execution_count": null,
   "metadata": {},
   "outputs": [],
   "source": [
    "m = m + [435, 67]\n",
    "m"
   ]
  },
  {
   "cell_type": "code",
   "execution_count": null,
   "metadata": {},
   "outputs": [],
   "source": [
    "m[4] = 'some'\n",
    "m"
   ]
  },
  {
   "cell_type": "code",
   "execution_count": null,
   "metadata": {},
   "outputs": [],
   "source": [
    "m.append('thing')\n",
    "m"
   ]
  },
  {
   "cell_type": "code",
   "execution_count": null,
   "metadata": {},
   "outputs": [],
   "source": [
    "# length of a list\n",
    "len(m)"
   ]
  },
  {
   "cell_type": "code",
   "execution_count": null,
   "metadata": {},
   "outputs": [],
   "source": [
    "# alters m in place\n",
    "m.pop(), m"
   ]
  },
  {
   "cell_type": "code",
   "execution_count": null,
   "metadata": {},
   "outputs": [],
   "source": [
    "m.pop(2), m"
   ]
  },
  {
   "cell_type": "code",
   "execution_count": null,
   "metadata": {},
   "outputs": [],
   "source": [
    "m.index('some'), m.index(346)"
   ]
  },
  {
   "cell_type": "code",
   "execution_count": null,
   "metadata": {},
   "outputs": [],
   "source": [
    "m.index('346')"
   ]
  },
  {
   "cell_type": "code",
   "execution_count": null,
   "metadata": {},
   "outputs": [],
   "source": [
    "# iterate over a list \n",
    "for i in m:\n",
    "    print(i, type(i))"
   ]
  },
  {
   "cell_type": "markdown",
   "metadata": {},
   "source": [
    "# Exercise\n",
    "\n",
    "If ```m = [10, 20, 30, 40]``` what is the result of\n",
    "\n",
    "* ```m[2]```\n",
    "* ```m.pop(2)```\n",
    "* What is the value of ```m``` after the  pop operation?\n",
    "\n"
   ]
  },
  {
   "cell_type": "markdown",
   "metadata": {},
   "source": [
    "## List Comprehensions"
   ]
  },
  {
   "cell_type": "code",
   "execution_count": null,
   "metadata": {},
   "outputs": [],
   "source": [
    "[i*i for i in range(10)]"
   ]
  },
  {
   "cell_type": "code",
   "execution_count": null,
   "metadata": {},
   "outputs": [],
   "source": [
    "[i*i for i in range(10) if i % 3 == 0]"
   ]
  },
  {
   "cell_type": "code",
   "execution_count": null,
   "metadata": {},
   "outputs": [],
   "source": [
    "[[i*j for i in range(5)] for j in range(5)]"
   ]
  },
  {
   "cell_type": "markdown",
   "metadata": {},
   "source": [
    "# Exercise \n",
    "\n",
    "Write a function to return just the vowels in a string. It should be case insensitive. For example if ```fun``` is your function then: \n",
    "\n",
    "    fun('abracadabra')\n",
    "        >>> ['a', 'a', 'a', 'a', 'a']\n",
    "        \n",
    "    fun('Casualty Actuarial Society')\n",
    "        >>> ['a', 'u', 'a', 'u', 'a', 'i', 'a', 'o', 'i', 'e']\n",
    "        \n",
    "    fun('n vwls') \n",
    "        >>> []\n",
    "\n",
    "What happens if you run ```fun(123)```?"
   ]
  },
  {
   "cell_type": "markdown",
   "metadata": {},
   "source": [
    "## Dictionaries "
   ]
  },
  {
   "cell_type": "code",
   "execution_count": null,
   "metadata": {},
   "outputs": [],
   "source": [
    "d = {'first': 'Stephen', 'middle': 'John'}"
   ]
  },
  {
   "cell_type": "code",
   "execution_count": null,
   "metadata": {},
   "outputs": [],
   "source": [
    "d"
   ]
  },
  {
   "cell_type": "code",
   "execution_count": null,
   "metadata": {},
   "outputs": [],
   "source": [
    "d['first']"
   ]
  },
  {
   "cell_type": "code",
   "execution_count": null,
   "metadata": {},
   "outputs": [],
   "source": [
    "d['last'] = 'Mildenhall'\n",
    "d"
   ]
  },
  {
   "cell_type": "code",
   "execution_count": null,
   "metadata": {},
   "outputs": [],
   "source": [
    "d = dict(first='Stephen', middle='John', last='Mildenhall')\n",
    "d"
   ]
  },
  {
   "cell_type": "code",
   "execution_count": null,
   "metadata": {},
   "outputs": [],
   "source": [
    "d['age'] = 55\n",
    "d['hair'] = 'brown'\n",
    "d['books'] = ['Thinking Fast and Slow', 'Girl on the Train', 'Probability']"
   ]
  },
  {
   "cell_type": "code",
   "execution_count": null,
   "metadata": {},
   "outputs": [],
   "source": [
    "d"
   ]
  },
  {
   "cell_type": "code",
   "execution_count": null,
   "metadata": {},
   "outputs": [],
   "source": [
    "# iterate over a dictionary \n",
    "for k, v in d.items():\n",
    "    print(k, v)"
   ]
  },
  {
   "cell_type": "code",
   "execution_count": null,
   "metadata": {},
   "outputs": [],
   "source": [
    "# access keys and values\n",
    "d.keys(), d.values()"
   ]
  },
  {
   "cell_type": "code",
   "execution_count": null,
   "metadata": {},
   "outputs": [],
   "source": [
    "# dictionary comprehensions\n",
    "d = {i: i*i for i in range(10)}\n",
    "d"
   ]
  },
  {
   "cell_type": "code",
   "execution_count": null,
   "metadata": {},
   "outputs": [],
   "source": [
    "d[5]"
   ]
  },
  {
   "cell_type": "code",
   "execution_count": null,
   "metadata": {},
   "outputs": [],
   "source": [
    "# In and Out are a built in list and dictionary...very handy \n",
    "In[-5:]\n",
    "# type(Out), type(In)"
   ]
  },
  {
   "cell_type": "code",
   "execution_count": null,
   "metadata": {},
   "outputs": [],
   "source": [
    "for i in In[-5:]:\n",
    "    print(i, '\\n')"
   ]
  },
  {
   "cell_type": "code",
   "execution_count": null,
   "metadata": {},
   "outputs": [],
   "source": [
    "Out[127]\n",
    "# Out[137]  # careful with what has output"
   ]
  },
  {
   "cell_type": "markdown",
   "metadata": {},
   "source": [
    "## Tuples and Sets and Functions"
   ]
  },
  {
   "cell_type": "code",
   "execution_count": null,
   "metadata": {},
   "outputs": [],
   "source": [
    "t = (2, 4)"
   ]
  },
  {
   "cell_type": "code",
   "execution_count": null,
   "metadata": {},
   "outputs": [],
   "source": [
    "t"
   ]
  },
  {
   "cell_type": "code",
   "execution_count": null,
   "metadata": {},
   "outputs": [],
   "source": [
    "t[1]"
   ]
  },
  {
   "cell_type": "code",
   "execution_count": null,
   "metadata": {},
   "outputs": [],
   "source": [
    "t[1] = 5"
   ]
  },
  {
   "cell_type": "code",
   "execution_count": null,
   "metadata": {},
   "outputs": [],
   "source": [
    "dir(t)"
   ]
  },
  {
   "cell_type": "code",
   "execution_count": null,
   "metadata": {},
   "outputs": [],
   "source": [
    "# just the non-built in methods\n",
    "print([i for i in dir(t) if i[0] != '_'])"
   ]
  },
  {
   "cell_type": "code",
   "execution_count": null,
   "metadata": {},
   "outputs": [],
   "source": [
    "# make a function of same for future use \n",
    "def wdid(ob):\n",
    "    print([i for i in dir(ob) if i[0] != '_'])"
   ]
  },
  {
   "cell_type": "code",
   "execution_count": null,
   "metadata": {},
   "outputs": [],
   "source": [
    "# apply to list \n",
    "wdid(list)"
   ]
  },
  {
   "cell_type": "code",
   "execution_count": null,
   "metadata": {},
   "outputs": [],
   "source": [
    "# better function with documentation \n",
    "def wdid(ob):\n",
    "    '''\n",
    "    wdid(ob)\n",
    "    \n",
    "    What does it do? Prints the\"normal\" methods of an object.\n",
    "    Arguments:\n",
    "    ob:    object to query \n",
    "    '''\n",
    "    print([i for i in dir(ob) if i[0] != '_'])"
   ]
  },
  {
   "cell_type": "code",
   "execution_count": null,
   "metadata": {},
   "outputs": [],
   "source": [
    "?wdid"
   ]
  },
  {
   "cell_type": "code",
   "execution_count": null,
   "metadata": {},
   "outputs": [],
   "source": [
    "# aka\n",
    "help(wdid)"
   ]
  },
  {
   "cell_type": "code",
   "execution_count": null,
   "metadata": {},
   "outputs": [],
   "source": [
    "wdid(tuple)"
   ]
  },
  {
   "cell_type": "code",
   "execution_count": null,
   "metadata": {},
   "outputs": [],
   "source": [
    "wdid(dict)"
   ]
  },
  {
   "cell_type": "code",
   "execution_count": null,
   "metadata": {},
   "outputs": [],
   "source": [
    "wdid(wdid)"
   ]
  },
  {
   "cell_type": "code",
   "execution_count": null,
   "metadata": {},
   "outputs": [],
   "source": [
    "dir(wdid)"
   ]
  },
  {
   "cell_type": "code",
   "execution_count": null,
   "metadata": {},
   "outputs": [],
   "source": [
    "s = list('Stephen Mildenhall')\n",
    "s"
   ]
  },
  {
   "cell_type": "code",
   "execution_count": null,
   "metadata": {},
   "outputs": [],
   "source": [
    "# sorted unique elements in the list \n",
    "set(s)"
   ]
  },
  {
   "cell_type": "code",
   "execution_count": null,
   "metadata": {},
   "outputs": [],
   "source": [
    "# count characters in a string with a dictionary \n",
    "d = dict()\n",
    "for c in s:\n",
    "    if c in d:\n",
    "        d[c] += 1\n",
    "    else:\n",
    "        d[c] = 1\n",
    "d"
   ]
  },
  {
   "cell_type": "code",
   "execution_count": null,
   "metadata": {},
   "outputs": [],
   "source": [
    "def counter(s):\n",
    "    '''\n",
    "    count elements of iteratble s\n",
    "    '''\n",
    "    d = dict()\n",
    "    for c in s:\n",
    "        if c in d:\n",
    "            d[c] += 1\n",
    "        else:\n",
    "            d[c] = 1\n",
    "    return d"
   ]
  },
  {
   "cell_type": "code",
   "execution_count": null,
   "metadata": {},
   "outputs": [],
   "source": [
    "?counter"
   ]
  },
  {
   "cell_type": "code",
   "execution_count": null,
   "metadata": {},
   "outputs": [],
   "source": [
    "s = 'count characters in a string with a dictionary'\n",
    "counter(s)"
   ]
  },
  {
   "cell_type": "code",
   "execution_count": null,
   "metadata": {},
   "outputs": [],
   "source": [
    "s.split()"
   ]
  },
  {
   "cell_type": "code",
   "execution_count": null,
   "metadata": {},
   "outputs": [],
   "source": [
    "# same function counts words \n",
    "counter(s.split())"
   ]
  },
  {
   "cell_type": "markdown",
   "metadata": {},
   "source": [
    "# Exercise\n",
    "\n",
    "Write a function to return the number of different characters in a string.  It should be case sensitive. For example if ```fun``` is your function then: \n",
    "\n",
    "    fun('abracadabra')\n",
    "        >>> 5\n",
    "        \n",
    "    fun('Casualty Actuarial Society')\n",
    "        >>> 15\n",
    "        \n",
    "    fun('n vwls') \n",
    "        >>> 6\n",
    "\n",
    "## Extra Credit\n",
    "\n",
    "Don't count spaces. Test not equals a space with ```i != ' '```\n",
    "\n",
    "What happens if you run ```fun(123)```?"
   ]
  },
  {
   "cell_type": "code",
   "execution_count": null,
   "metadata": {},
   "outputs": [],
   "source": [
    "def fun(x):\n",
    "    return len([i for i in set(x) if i!=' '])"
   ]
  },
  {
   "cell_type": "markdown",
   "metadata": {},
   "source": [
    "# Let's do something interesting... \n",
    "\n",
    "## Word count for web pages\n",
    "* Retrieve web page\n",
    "* Extract text\n",
    "* Break into words\n",
    "* Count "
   ]
  },
  {
   "cell_type": "code",
   "execution_count": null,
   "metadata": {},
   "outputs": [],
   "source": [
    "# need some dark arts...\n",
    "import requests\n",
    "import bs4"
   ]
  },
  {
   "cell_type": "code",
   "execution_count": null,
   "metadata": {},
   "outputs": [],
   "source": [
    "wdid(requests)"
   ]
  },
  {
   "cell_type": "code",
   "execution_count": null,
   "metadata": {},
   "outputs": [],
   "source": [
    "?requests.get"
   ]
  },
  {
   "cell_type": "code",
   "execution_count": null,
   "metadata": {},
   "outputs": [],
   "source": [
    "# optional pause for something more advanced... \n",
    "for m in [ i for i in dir(requests) if i[0] != '_']:\n",
    "    print(f'\\n\\n{m}\\n{\"=\"*len(m)}\\n')\n",
    "    print(requests.__getattribute__(m).__doc__)"
   ]
  },
  {
   "cell_type": "code",
   "execution_count": null,
   "metadata": {},
   "outputs": [],
   "source": [
    "# pip install if not available "
   ]
  },
  {
   "cell_type": "code",
   "execution_count": null,
   "metadata": {},
   "outputs": [],
   "source": [
    "url = 'https://en.wikipedia.org/wiki/Actuary'"
   ]
  },
  {
   "cell_type": "code",
   "execution_count": null,
   "metadata": {},
   "outputs": [],
   "source": [
    "r = requests.get(url)"
   ]
  },
  {
   "cell_type": "code",
   "execution_count": null,
   "metadata": {},
   "outputs": [],
   "source": [
    "wdid(r)"
   ]
  },
  {
   "cell_type": "code",
   "execution_count": null,
   "metadata": {},
   "outputs": [],
   "source": [
    "?r.content"
   ]
  },
  {
   "cell_type": "code",
   "execution_count": null,
   "metadata": {},
   "outputs": [],
   "source": [
    "?r.text"
   ]
  },
  {
   "cell_type": "code",
   "execution_count": null,
   "metadata": {},
   "outputs": [],
   "source": [
    "r.encoding"
   ]
  },
  {
   "cell_type": "code",
   "execution_count": null,
   "metadata": {},
   "outputs": [],
   "source": [
    "txt = r.text"
   ]
  },
  {
   "cell_type": "code",
   "execution_count": null,
   "metadata": {},
   "outputs": [],
   "source": [
    "len(txt)"
   ]
  },
  {
   "cell_type": "code",
   "execution_count": null,
   "metadata": {},
   "outputs": [],
   "source": [
    "len(txt.split())"
   ]
  },
  {
   "cell_type": "code",
   "execution_count": null,
   "metadata": {},
   "outputs": [],
   "source": [
    "counter(txt.split())"
   ]
  },
  {
   "cell_type": "code",
   "execution_count": null,
   "metadata": {},
   "outputs": [],
   "source": [
    "# need to tidy up and just get text \n",
    "soup = bs4.BeautifulSoup(txt, 'lxml')"
   ]
  },
  {
   "cell_type": "code",
   "execution_count": null,
   "metadata": {},
   "outputs": [],
   "source": [
    "ctxt = soup.text\n",
    "ctxt[:1000]"
   ]
  },
  {
   "cell_type": "code",
   "execution_count": null,
   "metadata": {},
   "outputs": [],
   "source": [
    "text[:1000]"
   ]
  },
  {
   "cell_type": "code",
   "execution_count": null,
   "metadata": {},
   "outputs": [],
   "source": [
    "counter(text.split())\n",
    "# contains a lot of garbage"
   ]
  },
  {
   "cell_type": "code",
   "execution_count": null,
   "metadata": {},
   "outputs": [],
   "source": [
    "def get_text_req(r):\n",
    "    '''\n",
    "    Tidy up URL response using beautiful soup ... Google for help ... helpful to know something about HTML \n",
    "    '''\n",
    "    \n",
    "    tree = bs4.BeautifulSoup(r.text, 'lxml')\n",
    "\n",
    "    body = tree.body\n",
    "    if body is None:\n",
    "        return None\n",
    "\n",
    "    # two biggest casues of mess are script and style tag elements \n",
    "    # delete them \n",
    "    for tag in body.select('script'):\n",
    "        # remove script elements \n",
    "        tag.decompose()\n",
    "        \n",
    "    for tag in body.select('style'):\n",
    "        tag.decompose()\n",
    "\n",
    "    text = body.get_text(separator='\\n')\n",
    "    return text"
   ]
  },
  {
   "cell_type": "code",
   "execution_count": null,
   "metadata": {},
   "outputs": [],
   "source": [
    "text = get_text_req(r)"
   ]
  },
  {
   "cell_type": "code",
   "execution_count": null,
   "metadata": {},
   "outputs": [],
   "source": [
    "text[:1000]"
   ]
  },
  {
   "cell_type": "code",
   "execution_count": null,
   "metadata": {},
   "outputs": [],
   "source": [
    "print(text[:1000])"
   ]
  },
  {
   "cell_type": "code",
   "execution_count": null,
   "metadata": {},
   "outputs": [],
   "source": [
    "counter(text.split())"
   ]
  },
  {
   "cell_type": "code",
   "execution_count": null,
   "metadata": {},
   "outputs": [],
   "source": [
    "# more common words from a comprehension \n",
    "[(k, v) for k, v in counter(text.split()).items() if v > 25]"
   ]
  },
  {
   "cell_type": "code",
   "execution_count": null,
   "metadata": {},
   "outputs": [],
   "source": [
    "# strip out garbage\n",
    "wdid(str)"
   ]
  },
  {
   "cell_type": "code",
   "execution_count": null,
   "metadata": {},
   "outputs": [],
   "source": [
    "# what does isalpha give us? \n",
    "''.join(sorted([i  for i in set(text.lower()) if i.isalpha()]))"
   ]
  },
  {
   "cell_type": "code",
   "execution_count": null,
   "metadata": {},
   "outputs": [],
   "source": [
    "# what is it omitting? \n",
    "''.join(sorted(set([i for i in text.lower() if not i.isalpha()])))"
   ]
  },
  {
   "cell_type": "code",
   "execution_count": null,
   "metadata": {},
   "outputs": [],
   "source": [
    "def super_counter(str_in, min_length=4):\n",
    "    '''\n",
    "    super_counter: \n",
    "        split str_in into words and count\n",
    "        only count words >= min_length\n",
    "        case insensitive \n",
    "        strip out unicode characters \n",
    "    '''\n",
    "    # lower case\n",
    "    str_in = str_in.lower()\n",
    "    \n",
    "    # advanced: strip out unicode characters and constrain to letters a-z\n",
    "    str_in = ''.join([i if i == ' ' or i.isalpha() else ' ' for i in str_in])\n",
    "    \n",
    "    # strip to list of words of length >= min_length\n",
    "    low = [w for w in str_in.split(' ') if len(w) >= min_length]\n",
    "    \n",
    "    # count, as before \n",
    "    dow = dict()\n",
    "    for w in low:\n",
    "        if w in dow:\n",
    "            dow[w] += + 1\n",
    "        else:\n",
    "            dow[w] = 1\n",
    "            \n",
    "    # return \n",
    "    return dow"
   ]
  },
  {
   "cell_type": "code",
   "execution_count": null,
   "metadata": {},
   "outputs": [],
   "source": [
    "d = super_counter(text)"
   ]
  },
  {
   "cell_type": "code",
   "execution_count": null,
   "metadata": {},
   "outputs": [],
   "source": [
    "# try to make sorted list of most frequent words\n",
    "fw = [(k, v) for k, v in d.items() if v > 10]\n",
    "fw"
   ]
  },
  {
   "cell_type": "code",
   "execution_count": null,
   "metadata": {},
   "outputs": [],
   "source": [
    "sorted(fw)"
   ]
  },
  {
   "cell_type": "code",
   "execution_count": null,
   "metadata": {},
   "outputs": [],
   "source": [
    "?sorted"
   ]
  },
  {
   "cell_type": "code",
   "execution_count": null,
   "metadata": {},
   "outputs": [],
   "source": [
    "# lambda functions: on-the-fly functions \n",
    "f = lambda x : x * x\n",
    "f(3)"
   ]
  },
  {
   "cell_type": "markdown",
   "metadata": {},
   "source": [
    "# Quiz\n",
    "\n",
    "What does the following lambda function calculate when given an integer argument? Why? "
   ]
  },
  {
   "cell_type": "code",
   "execution_count": null,
   "metadata": {},
   "outputs": [],
   "source": [
    "f = lambda x : x * f(x-1) if x else 1\n",
    "f(6)"
   ]
  },
  {
   "cell_type": "code",
   "execution_count": null,
   "metadata": {},
   "outputs": [],
   "source": [
    "# BTW\n",
    "f(100)"
   ]
  },
  {
   "cell_type": "code",
   "execution_count": null,
   "metadata": {},
   "outputs": [],
   "source": [
    "# want to sort on the second element of each tuple: \n",
    "sorted(fw, key=lambda x : x[1], reverse=True )"
   ]
  },
  {
   "cell_type": "code",
   "execution_count": null,
   "metadata": {},
   "outputs": [],
   "source": [
    "?fw.sort"
   ]
  },
  {
   "cell_type": "code",
   "execution_count": null,
   "metadata": {},
   "outputs": [],
   "source": [
    "# enhance original function \n",
    "def super_counter(str_in, min_length=4, top=10):\n",
    "    '''\n",
    "    super_counter: \n",
    "        split str_in into words and count\n",
    "        only count words >= min_length\n",
    "        return top words in desc order of frequency \n",
    "        case insensitive \n",
    "        strip out unicode characters \n",
    "    '''\n",
    "    # lower case\n",
    "    str_in = str_in.lower()\n",
    "    \n",
    "    # advanced: strip out unicode characters and constrain to letters a-z\n",
    "    str_in = ''.join([i if i == ' ' or i.isalpha() else ' ' for i in str_in])\n",
    "    \n",
    "    # strip to list of words\n",
    "    low = [w for w in str_in.split(' ') if len(w) >= min_length]\n",
    "    \n",
    "    # count, as before \n",
    "    dow = dict()\n",
    "    for w in low:\n",
    "        if w in dow:\n",
    "            dow[w] += + 1\n",
    "        else:\n",
    "            dow[w] = 1\n",
    "            \n",
    "    # convert to list for sorting \n",
    "    wl =  [(k, v) for k, v in dow.items()]\n",
    "    \n",
    "    # sort in place \n",
    "    wl.sort(key=lambda x: x[1], reverse=True)\n",
    "    \n",
    "    return wl[:top]"
   ]
  },
  {
   "cell_type": "code",
   "execution_count": null,
   "metadata": {},
   "outputs": [],
   "source": [
    "super_counter(text, top=50)"
   ]
  },
  {
   "cell_type": "code",
   "execution_count": null,
   "metadata": {},
   "outputs": [],
   "source": [
    "# uber function \n",
    "def word_count_from_url(url, min_length=4, top=50):\n",
    "    r = requests.get(url)\n",
    "    text = get_text_req(r)\n",
    "    return super_counter(text, min_length, top)"
   ]
  },
  {
   "cell_type": "code",
   "execution_count": null,
   "metadata": {},
   "outputs": [],
   "source": [
    "word_count_from_url('https://en.wikipedia.org/wiki/New_York_City')"
   ]
  },
  {
   "cell_type": "code",
   "execution_count": null,
   "metadata": {},
   "outputs": [],
   "source": [
    "# uber function \n",
    "def wiki_word_count(page_name, min_length=4, top=50):\n",
    "    r = requests.get('https://en.wikipedia.org/wiki/' + page_name)\n",
    "    text = get_text_req(r)\n",
    "    return super_counter(text, min_length, top)"
   ]
  },
  {
   "cell_type": "code",
   "execution_count": null,
   "metadata": {},
   "outputs": [],
   "source": [
    "wiki_word_count('Probability')"
   ]
  },
  {
   "cell_type": "code",
   "execution_count": null,
   "metadata": {},
   "outputs": [],
   "source": [
    "# what words come after actuary? \n",
    "tls = [i for i in text.lower().split() if i.isalpha()]\n",
    "next_word = []\n",
    "for w, nw in zip(tls[:-1], tls[1:]):\n",
    "    if w[0:6] == 'actuar':\n",
    "        print(f'{w:<10s}\\t{nw}')\n",
    "        next_word.append(nw)\n",
    "len(next_word)"
   ]
  },
  {
   "cell_type": "code",
   "execution_count": null,
   "metadata": {},
   "outputs": [],
   "source": []
  }
 ],
 "metadata": {
  "kernelspec": {
   "display_name": "Python 3",
   "language": "python",
   "name": "python3"
  },
  "language_info": {
   "codemirror_mode": {
    "name": "ipython",
    "version": 3
   },
   "file_extension": ".py",
   "mimetype": "text/x-python",
   "name": "python",
   "nbconvert_exporter": "python",
   "pygments_lexer": "ipython3",
   "version": "3.6.3"
  }
 },
 "nbformat": 4,
 "nbformat_minor": 2
}
